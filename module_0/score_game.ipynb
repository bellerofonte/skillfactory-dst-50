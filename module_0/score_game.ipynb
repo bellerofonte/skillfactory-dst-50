{
 "cells": [
  {
   "cell_type": "code",
   "execution_count": 1,
   "metadata": {},
   "outputs": [
    {
     "name": "stdout",
     "output_type": "stream",
     "text": [
      "Ваш алгоритм угадывает число в среднем за 5 попыток\n"
     ]
    },
    {
     "data": {
      "text/plain": [
       "5"
      ]
     },
     "execution_count": 1,
     "metadata": {},
     "output_type": "execute_result"
    }
   ],
   "source": [
    "import numpy as np\n",
    "\n",
    "def game_core_binary(number, min, max):\n",
    "    '''\n",
    "    Функция принимает загаданное число, нижнюю и верхнюю границы угадывания \n",
    "    Функия возвращает число попыток\n",
    "    Используем бинарный поиск (метод деления пополам) для оптимизации угадывания.\n",
    "    '''\n",
    "    count = 0\n",
    "    ''' \n",
    "    инициализируем границы диапазона поиска\n",
    "    нижняя граница должна быть на 1 меньше, а верхняя граница должна быть на 1 больше, \n",
    "    т.к. данная реализация бинарного поиска ищет заданное число в диапазоне (min, max)\n",
    "    т.е. начальные границы не входят в зону поиска\n",
    "    '''\n",
    "    min -= 1\n",
    "    max += 1\n",
    "    while True:\n",
    "        count += 1\n",
    "        predict = int(0.5 * (min+max)) # предполагаемое число - среднее текущих границ\n",
    "        if number > predict:\n",
    "            min = predict # сужаем границу поиска снизу\n",
    "        elif number < predict:\n",
    "            max = predict # сужаем границу поиска сверху\n",
    "        else:\n",
    "            return count # выход из цикла, если угадали\n",
    "        \n",
    "        \n",
    "def score_game(game_core, min=1, max=100, size=1000):\n",
    "    '''Запускаем игру 1000 раз, чтобы узнать, как быстро игра угадывает число'''\n",
    "    count_ls = []\n",
    "    np.random.seed(1)  # фиксируем RANDOM SEED, чтобы ваш эксперимент был воспроизводим!\n",
    "    random_array = np.random.randint(min, max+1, size) \n",
    "    for number in random_array:\n",
    "        count_ls.append(game_core(number, min, max))\n",
    "    score = int(np.mean(count_ls))\n",
    "    print(f\"Ваш алгоритм угадывает число в среднем за {score} попыток\")\n",
    "    return(score)\n",
    "\n",
    "\n",
    "# запускаем\n",
    "score_game(game_core_binary)"
   ]
  },
  {
   "cell_type": "code",
   "execution_count": null,
   "metadata": {},
   "outputs": [],
   "source": []
  }
 ],
 "metadata": {
  "kernelspec": {
   "display_name": "Python 3",
   "language": "python",
   "name": "python3"
  },
  "language_info": {
   "codemirror_mode": {
    "name": "ipython",
    "version": 3
   },
   "file_extension": ".py",
   "mimetype": "text/x-python",
   "name": "python",
   "nbconvert_exporter": "python",
   "pygments_lexer": "ipython3",
   "version": "3.8.5"
  }
 },
 "nbformat": 4,
 "nbformat_minor": 4
}
