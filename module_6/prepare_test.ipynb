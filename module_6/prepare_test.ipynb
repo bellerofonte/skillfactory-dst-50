{
 "cells": [
  {
   "cell_type": "markdown",
   "metadata": {},
   "source": [
    "# Project 5\n",
    "# Car price prediction model"
   ]
  },
  {
   "cell_type": "markdown",
   "metadata": {},
   "source": [
    "## Подготовка\n",
    "\n",
    "Загружаем необходимые библиотеки, настраиваем отображение, инициализируем глобальные переменные"
   ]
  },
  {
   "cell_type": "code",
   "execution_count": 1,
   "metadata": {},
   "outputs": [],
   "source": [
    "# imports\n",
    "import pandas as pd\n",
    "import numpy as np\n",
    "import re\n",
    "import requests\n",
    "from bs4 import BeautifulSoup\n",
    "from pprint import pprint\n",
    "import json\n",
    "# options\n",
    "pd.set_option('display.max_rows', 500)\n",
    "pd.set_option('display.max_columns', 500)\n",
    "pd.set_option('display.width', 1000)\n",
    "# global definitions\n",
    "RANDOM_STATE = 73"
   ]
  },
  {
   "cell_type": "markdown",
   "metadata": {},
   "source": [
    "## 1. Анализ данных, которые необходимо получить\n",
    "\n",
    "Прежде, чем начать мучить сайт auto.ru запросами, необходимо понять, какие данные и в каком виде необходимо получить.\n",
    "Для этого загрузим тестовый датасет (по которому надо будет делать сабмишн) и немного поработаем с ним."
   ]
  },
  {
   "cell_type": "code",
   "execution_count": 2,
   "metadata": {},
   "outputs": [],
   "source": [
    "df_test = pd.read_csv('test.csv')"
   ]
  },
  {
   "cell_type": "markdown",
   "metadata": {},
   "source": [
    "Сразу заменим имена столбцов на PEP-friendly"
   ]
  },
  {
   "cell_type": "code",
   "execution_count": 3,
   "metadata": {},
   "outputs": [],
   "source": [
    "df_test.columns = ['body_type', 'brand', 'car_url', 'color', 'complectation',\n",
    "              'description', 'engine_vol', 'engine_power', 'equipment',\n",
    "              'fuel_type', 'image', 'mileage', 'model_date', 'model_info', 'model_name',\n",
    "              'name', 'doors_num', 'parsing_unixtime', 'price_currency',\n",
    "              'production_date', 'sell_id', 'super_gen', 'configuration',\n",
    "              'transmission', 'vendor', 'num_owners', 'ownership', 'docs',\n",
    "              'drive', 'steering', 'state', 'customs']"
   ]
  },
  {
   "cell_type": "markdown",
   "metadata": {},
   "source": [
    "И посмотрим на сам дата-сет"
   ]
  },
  {
   "cell_type": "code",
   "execution_count": 4,
   "metadata": {},
   "outputs": [
    {
     "data": {
      "text/html": [
       "<div>\n",
       "<style scoped>\n",
       "    .dataframe tbody tr th:only-of-type {\n",
       "        vertical-align: middle;\n",
       "    }\n",
       "\n",
       "    .dataframe tbody tr th {\n",
       "        vertical-align: top;\n",
       "    }\n",
       "\n",
       "    .dataframe thead th {\n",
       "        text-align: right;\n",
       "    }\n",
       "</style>\n",
       "<table border=\"1\" class=\"dataframe\">\n",
       "  <thead>\n",
       "    <tr style=\"text-align: right;\">\n",
       "      <th></th>\n",
       "      <th>body_type</th>\n",
       "      <th>brand</th>\n",
       "      <th>car_url</th>\n",
       "      <th>color</th>\n",
       "      <th>complectation</th>\n",
       "      <th>description</th>\n",
       "      <th>engine_vol</th>\n",
       "      <th>engine_power</th>\n",
       "      <th>equipment</th>\n",
       "      <th>fuel_type</th>\n",
       "      <th>image</th>\n",
       "      <th>mileage</th>\n",
       "      <th>model_date</th>\n",
       "      <th>model_info</th>\n",
       "      <th>model_name</th>\n",
       "      <th>name</th>\n",
       "      <th>doors_num</th>\n",
       "      <th>parsing_unixtime</th>\n",
       "      <th>price_currency</th>\n",
       "      <th>production_date</th>\n",
       "      <th>sell_id</th>\n",
       "      <th>super_gen</th>\n",
       "      <th>configuration</th>\n",
       "      <th>transmission</th>\n",
       "      <th>vendor</th>\n",
       "      <th>num_owners</th>\n",
       "      <th>ownership</th>\n",
       "      <th>docs</th>\n",
       "      <th>drive</th>\n",
       "      <th>steering</th>\n",
       "      <th>state</th>\n",
       "      <th>customs</th>\n",
       "    </tr>\n",
       "  </thead>\n",
       "  <tbody>\n",
       "    <tr>\n",
       "      <th>30866</th>\n",
       "      <td>пикап двойная кабина</td>\n",
       "      <td>VOLKSWAGEN</td>\n",
       "      <td>https://auto.ru/cars/used/sale/volkswagen/amar...</td>\n",
       "      <td>чёрный</td>\n",
       "      <td>NaN</td>\n",
       "      <td>Авто в отличном состоянии. Причина продажи мех...</td>\n",
       "      <td>2.0 LTR</td>\n",
       "      <td>180 N12</td>\n",
       "      <td>{\"engine-proof\":true,\"cruise-control\":true,\"as...</td>\n",
       "      <td>дизель</td>\n",
       "      <td>https://autoru.naydex.net/cSRr96A18/708ec0RhY5...</td>\n",
       "      <td>265000</td>\n",
       "      <td>2010</td>\n",
       "      <td>{\"code\":\"AMAROK\",\"name\":\"Amarok\",\"ru_name\":\"Ам...</td>\n",
       "      <td>AMAROK</td>\n",
       "      <td>full-time 2.0d MT (180 л.с.) 4WD</td>\n",
       "      <td>4</td>\n",
       "      <td>1603578589</td>\n",
       "      <td>RUB</td>\n",
       "      <td>2013</td>\n",
       "      <td>1095340742</td>\n",
       "      <td>{\"id\":\"9263549\",\"nameplate\":\"full-time\",\"displ...</td>\n",
       "      <td>PICKUP_TWO MECHANICAL 2.0</td>\n",
       "      <td>механическая</td>\n",
       "      <td>EUROPEAN</td>\n",
       "      <td>2 владельца</td>\n",
       "      <td>6 месяцев</td>\n",
       "      <td>Оригинал</td>\n",
       "      <td>полный</td>\n",
       "      <td>Левый</td>\n",
       "      <td>Не требует ремонта</td>\n",
       "      <td>Растаможен</td>\n",
       "    </tr>\n",
       "    <tr>\n",
       "      <th>10382</th>\n",
       "      <td>внедорожник 5 дв.</td>\n",
       "      <td>BMW</td>\n",
       "      <td>https://auto.ru/cars/used/sale/bmw/x1/11009238...</td>\n",
       "      <td>оранжевый</td>\n",
       "      <td>NaN</td>\n",
       "      <td>Недостатков нет.</td>\n",
       "      <td>2.0 LTR</td>\n",
       "      <td>184 N12</td>\n",
       "      <td>NaN</td>\n",
       "      <td>бензин</td>\n",
       "      <td>https://avatars.mds.yandex.net/get-autoru-vos/...</td>\n",
       "      <td>87000</td>\n",
       "      <td>2012</td>\n",
       "      <td>{\"code\":\"X1\",\"name\":\"X1\",\"ru_name\":\"Х1\",\"morph...</td>\n",
       "      <td>X1</td>\n",
       "      <td>20i 2.0 AT (184 л.с.) 4WD</td>\n",
       "      <td>5</td>\n",
       "      <td>1603118838</td>\n",
       "      <td>RUB</td>\n",
       "      <td>2013</td>\n",
       "      <td>1100923838</td>\n",
       "      <td>{\"id\":\"8247044\",\"name\":\"20i\",\"nameplate\":\"20i\"...</td>\n",
       "      <td>ALLROAD_5_DOORS AUTOMATIC 2.0</td>\n",
       "      <td>автоматическая</td>\n",
       "      <td>EUROPEAN</td>\n",
       "      <td>1 владелец</td>\n",
       "      <td>NaN</td>\n",
       "      <td>Оригинал</td>\n",
       "      <td>полный</td>\n",
       "      <td>Левый</td>\n",
       "      <td>Не требует ремонта</td>\n",
       "      <td>Растаможен</td>\n",
       "    </tr>\n",
       "    <tr>\n",
       "      <th>17703</th>\n",
       "      <td>седан</td>\n",
       "      <td>MERCEDES</td>\n",
       "      <td>https://auto.ru/cars/used/sale/mercedes/cls_kl...</td>\n",
       "      <td>бежевый</td>\n",
       "      <td>{\"id\":\"2442610\",\"name\":\"350\",\"available_option...</td>\n",
       "      <td>Автомобиль в наличии. \\nДва ключа.\\nОригинальн...</td>\n",
       "      <td>3.5 LTR</td>\n",
       "      <td>272 N12</td>\n",
       "      <td>{\"cruise-control\":true,\"esp\":true,\"airbag-driv...</td>\n",
       "      <td>бензин</td>\n",
       "      <td>https://autoru.naydex.net/ESooa9149/468b9eoMem...</td>\n",
       "      <td>167000</td>\n",
       "      <td>2004</td>\n",
       "      <td>{\"code\":\"CLS_KLASSE\",\"name\":\"CLS\",\"ru_name\":\"Ц...</td>\n",
       "      <td>CLS_KLASSE</td>\n",
       "      <td>350 3.5 AT (272 л.с.)</td>\n",
       "      <td>4</td>\n",
       "      <td>1603248832</td>\n",
       "      <td>RUB</td>\n",
       "      <td>2007</td>\n",
       "      <td>1101266967</td>\n",
       "      <td>{\"id\":\"2307782\",\"name\":\"350\",\"nameplate\":\"350\"...</td>\n",
       "      <td>SEDAN AUTOMATIC 3.5</td>\n",
       "      <td>автоматическая</td>\n",
       "      <td>EUROPEAN</td>\n",
       "      <td>3 или более</td>\n",
       "      <td>NaN</td>\n",
       "      <td>Оригинал</td>\n",
       "      <td>задний</td>\n",
       "      <td>Левый</td>\n",
       "      <td>Не требует ремонта</td>\n",
       "      <td>Растаможен</td>\n",
       "    </tr>\n",
       "    <tr>\n",
       "      <th>29280</th>\n",
       "      <td>внедорожник 5 дв.</td>\n",
       "      <td>BMW</td>\n",
       "      <td>https://auto.ru/cars/used/sale/bmw/x6/11013407...</td>\n",
       "      <td>красный</td>\n",
       "      <td>{\"id\":\"20593773\",\"name\":\"xDrive30d Luxury\",\"av...</td>\n",
       "      <td>Автомобиль продаётся официальным дилером BMW -...</td>\n",
       "      <td>3.0 LTR</td>\n",
       "      <td>249 N12</td>\n",
       "      <td>{\"cruise-control\":true,\"esp\":true,\"adaptive-li...</td>\n",
       "      <td>дизель</td>\n",
       "      <td>https://avatars.mds.yandex.net/get-autoru-vos/...</td>\n",
       "      <td>71481</td>\n",
       "      <td>2014</td>\n",
       "      <td>{\"code\":\"X6\",\"name\":\"X6\",\"ru_name\":\"Х6\",\"morph...</td>\n",
       "      <td>X6</td>\n",
       "      <td>30d 3.0d AT (249 л.с.) 4WD</td>\n",
       "      <td>5</td>\n",
       "      <td>1603559474</td>\n",
       "      <td>RUB</td>\n",
       "      <td>2014</td>\n",
       "      <td>1101340773</td>\n",
       "      <td>{\"id\":\"20158772\",\"name\":\"30d\",\"nameplate\":\"30d...</td>\n",
       "      <td>ALLROAD_5_DOORS AUTOMATIC 3.0</td>\n",
       "      <td>автоматическая</td>\n",
       "      <td>EUROPEAN</td>\n",
       "      <td>1 владелец</td>\n",
       "      <td>NaN</td>\n",
       "      <td>Оригинал</td>\n",
       "      <td>полный</td>\n",
       "      <td>Левый</td>\n",
       "      <td>Не требует ремонта</td>\n",
       "      <td>Растаможен</td>\n",
       "    </tr>\n",
       "    <tr>\n",
       "      <th>29370</th>\n",
       "      <td>внедорожник 5 дв.</td>\n",
       "      <td>BMW</td>\n",
       "      <td>https://auto.ru/cars/used/sale/bmw/x3/11013032...</td>\n",
       "      <td>синий</td>\n",
       "      <td>NaN</td>\n",
       "      <td>РОЛЬФ Премиум – крупнейший официальный дилер М...</td>\n",
       "      <td>2.0 LTR</td>\n",
       "      <td>245 N12</td>\n",
       "      <td>{\"asr\":true,\"airbag-driver\":true,\"aux\":true,\"u...</td>\n",
       "      <td>бензин</td>\n",
       "      <td>https://autoru.naydex.net/f1bm7A798/f15c727Yw/...</td>\n",
       "      <td>48814</td>\n",
       "      <td>2014</td>\n",
       "      <td>{\"code\":\"X3\",\"name\":\"X3\",\"ru_name\":\"Х3\",\"morph...</td>\n",
       "      <td>X3</td>\n",
       "      <td>28i xDrive 2.0 AT (245 л.с.) 4WD</td>\n",
       "      <td>5</td>\n",
       "      <td>1603559951</td>\n",
       "      <td>RUB</td>\n",
       "      <td>2017</td>\n",
       "      <td>1101303242</td>\n",
       "      <td>{\"id\":\"20156808\",\"name\":\"28i\",\"nameplate\":\"28i...</td>\n",
       "      <td>ALLROAD_5_DOORS AUTOMATIC 2.0</td>\n",
       "      <td>автоматическая</td>\n",
       "      <td>EUROPEAN</td>\n",
       "      <td>1 владелец</td>\n",
       "      <td>NaN</td>\n",
       "      <td>Оригинал</td>\n",
       "      <td>полный</td>\n",
       "      <td>Левый</td>\n",
       "      <td>Не требует ремонта</td>\n",
       "      <td>Растаможен</td>\n",
       "    </tr>\n",
       "    <tr>\n",
       "      <th>11692</th>\n",
       "      <td>внедорожник 5 дв.</td>\n",
       "      <td>NISSAN</td>\n",
       "      <td>https://auto.ru/cars/used/sale/nissan/pathfind...</td>\n",
       "      <td>чёрный</td>\n",
       "      <td>NaN</td>\n",
       "      <td>Штраф оплачен, юр ограничения будут сняты в бл...</td>\n",
       "      <td>2.5 LTR</td>\n",
       "      <td>174 N12</td>\n",
       "      <td>{\"electro-window-back\":true,\"esp\":true,\"airbag...</td>\n",
       "      <td>дизель</td>\n",
       "      <td>https://avatars.mds.yandex.net/get-autoru-vos/...</td>\n",
       "      <td>197000</td>\n",
       "      <td>2004</td>\n",
       "      <td>{\"code\":\"PATHFINDER\",\"name\":\"Pathfinder\",\"ru_n...</td>\n",
       "      <td>PATHFINDER</td>\n",
       "      <td>2.5d MT (174 л.с.) 4WD</td>\n",
       "      <td>5</td>\n",
       "      <td>1603271807</td>\n",
       "      <td>RUB</td>\n",
       "      <td>2005</td>\n",
       "      <td>1101303595</td>\n",
       "      <td>{\"id\":\"2308185\",\"displacement\":2488,\"engine_ty...</td>\n",
       "      <td>ALLROAD_5_DOORS MECHANICAL 2.5</td>\n",
       "      <td>механическая</td>\n",
       "      <td>JAPANESE</td>\n",
       "      <td>2 владельца</td>\n",
       "      <td>NaN</td>\n",
       "      <td>Оригинал</td>\n",
       "      <td>полный</td>\n",
       "      <td>Левый</td>\n",
       "      <td>Не требует ремонта</td>\n",
       "      <td>Растаможен</td>\n",
       "    </tr>\n",
       "    <tr>\n",
       "      <th>28863</th>\n",
       "      <td>внедорожник 5 дв.</td>\n",
       "      <td>MITSUBISHI</td>\n",
       "      <td>https://auto.ru/cars/used/sale/mitsubishi/paje...</td>\n",
       "      <td>серебристый</td>\n",
       "      <td>NaN</td>\n",
       "      <td>За 3 года владения вылечены многие болячки, пр...</td>\n",
       "      <td>3.0 LTR</td>\n",
       "      <td>170 N12</td>\n",
       "      <td>{\"engine-proof\":true,\"tinted-glass\":true,\"audi...</td>\n",
       "      <td>бензин</td>\n",
       "      <td>https://autoru.naydex.net/mcQh17801/f1b5751dCi...</td>\n",
       "      <td>198000</td>\n",
       "      <td>2004</td>\n",
       "      <td>{\"code\":\"PAJERO_SPORT\",\"name\":\"Pajero Sport\",\"...</td>\n",
       "      <td>PAJERO_SPORT</td>\n",
       "      <td>3.0 AT (170 л.с.) 4WD</td>\n",
       "      <td>5</td>\n",
       "      <td>1603268098</td>\n",
       "      <td>RUB</td>\n",
       "      <td>2004</td>\n",
       "      <td>1100595126</td>\n",
       "      <td>{\"id\":\"2308050\",\"displacement\":2972,\"engine_ty...</td>\n",
       "      <td>ALLROAD_5_DOORS AUTOMATIC 3.0</td>\n",
       "      <td>автоматическая</td>\n",
       "      <td>JAPANESE</td>\n",
       "      <td>3 или более</td>\n",
       "      <td>3 года и 2 месяца</td>\n",
       "      <td>Оригинал</td>\n",
       "      <td>полный</td>\n",
       "      <td>Левый</td>\n",
       "      <td>Не требует ремонта</td>\n",
       "      <td>Растаможен</td>\n",
       "    </tr>\n",
       "    <tr>\n",
       "      <th>19035</th>\n",
       "      <td>внедорожник 5 дв.</td>\n",
       "      <td>TOYOTA</td>\n",
       "      <td>https://auto.ru/cars/used/sale/toyota/rav_4/11...</td>\n",
       "      <td>серебристый</td>\n",
       "      <td>NaN</td>\n",
       "      <td>Год выпуска: 2002. Пробег: 139 000 км. Кузов: ...</td>\n",
       "      <td>2.0 LTR</td>\n",
       "      <td>150 N12</td>\n",
       "      <td>NaN</td>\n",
       "      <td>бензин</td>\n",
       "      <td>https://avatars.mds.yandex.net/get-autoru-vos/...</td>\n",
       "      <td>139000</td>\n",
       "      <td>2000</td>\n",
       "      <td>{\"code\":\"RAV_4\",\"name\":\"RAV4\",\"ru_name\":\"Рав4\"...</td>\n",
       "      <td>RAV_4</td>\n",
       "      <td>2.0 MT (150 л.с.) 4WD</td>\n",
       "      <td>5</td>\n",
       "      <td>1603286318</td>\n",
       "      <td>RUB</td>\n",
       "      <td>2002</td>\n",
       "      <td>1101324119</td>\n",
       "      <td>{\"id\":\"6503033\",\"displacement\":1998,\"engine_ty...</td>\n",
       "      <td>ALLROAD_5_DOORS MECHANICAL 2.0</td>\n",
       "      <td>механическая</td>\n",
       "      <td>JAPANESE</td>\n",
       "      <td>2 владельца</td>\n",
       "      <td>NaN</td>\n",
       "      <td>Оригинал</td>\n",
       "      <td>полный</td>\n",
       "      <td>Левый</td>\n",
       "      <td>Не требует ремонта</td>\n",
       "      <td>Растаможен</td>\n",
       "    </tr>\n",
       "    <tr>\n",
       "      <th>1963</th>\n",
       "      <td>лифтбек</td>\n",
       "      <td>SKODA</td>\n",
       "      <td>https://auto.ru/cars/used/sale/skoda/octavia/1...</td>\n",
       "      <td>чёрный</td>\n",
       "      <td>NaN</td>\n",
       "      <td>Машина находится в хорошем техническом и внешн...</td>\n",
       "      <td>1.8 LTR</td>\n",
       "      <td>150 N12</td>\n",
       "      <td>NaN</td>\n",
       "      <td>бензин</td>\n",
       "      <td>https://autoru.naydex.net/ESooa9149/468b9eoMem...</td>\n",
       "      <td>177000</td>\n",
       "      <td>2000</td>\n",
       "      <td>{\"code\":\"OCTAVIA\",\"name\":\"Octavia\",\"ru_name\":\"...</td>\n",
       "      <td>OCTAVIA</td>\n",
       "      <td>1.8 MT (150 л.с.)</td>\n",
       "      <td>5</td>\n",
       "      <td>1603233657</td>\n",
       "      <td>RUB</td>\n",
       "      <td>2008</td>\n",
       "      <td>1101207995</td>\n",
       "      <td>{\"id\":\"2309191\",\"displacement\":1781,\"engine_ty...</td>\n",
       "      <td>LIFTBACK MECHANICAL 1.8</td>\n",
       "      <td>механическая</td>\n",
       "      <td>EUROPEAN</td>\n",
       "      <td>3 или более</td>\n",
       "      <td>NaN</td>\n",
       "      <td>Оригинал</td>\n",
       "      <td>передний</td>\n",
       "      <td>Левый</td>\n",
       "      <td>Не требует ремонта</td>\n",
       "      <td>Растаможен</td>\n",
       "    </tr>\n",
       "    <tr>\n",
       "      <th>32227</th>\n",
       "      <td>внедорожник 5 дв.</td>\n",
       "      <td>MITSUBISHI</td>\n",
       "      <td>https://auto.ru/cars/used/sale/mitsubishi/outl...</td>\n",
       "      <td>чёрный</td>\n",
       "      <td>NaN</td>\n",
       "      <td>Отличный ухоженный автомобиль без юридических ...</td>\n",
       "      <td>2.4 LTR</td>\n",
       "      <td>170 N12</td>\n",
       "      <td>NaN</td>\n",
       "      <td>бензин</td>\n",
       "      <td>https://avatars.mds.yandex.net/get-autoru-vos/...</td>\n",
       "      <td>190000</td>\n",
       "      <td>2009</td>\n",
       "      <td>{\"code\":\"OUTLANDER\",\"name\":\"Outlander\",\"ru_nam...</td>\n",
       "      <td>OUTLANDER</td>\n",
       "      <td>2.4 CVT (170 л.с.) 4WD</td>\n",
       "      <td>5</td>\n",
       "      <td>1603598748</td>\n",
       "      <td>RUB</td>\n",
       "      <td>2012</td>\n",
       "      <td>1101357956</td>\n",
       "      <td>{\"id\":\"6122099\",\"displacement\":2360,\"engine_ty...</td>\n",
       "      <td>ALLROAD_5_DOORS VARIATOR 2.4</td>\n",
       "      <td>вариатор</td>\n",
       "      <td>JAPANESE</td>\n",
       "      <td>2 владельца</td>\n",
       "      <td>NaN</td>\n",
       "      <td>Оригинал</td>\n",
       "      <td>полный</td>\n",
       "      <td>Левый</td>\n",
       "      <td>Не требует ремонта</td>\n",
       "      <td>Растаможен</td>\n",
       "    </tr>\n",
       "  </tbody>\n",
       "</table>\n",
       "</div>"
      ],
      "text/plain": [
       "                  body_type       brand                                            car_url        color                                      complectation                                        description engine_vol engine_power                                          equipment fuel_type                                              image  mileage  model_date                                         model_info    model_name                              name  doors_num  parsing_unixtime price_currency  production_date     sell_id                                          super_gen                   configuration    transmission    vendor   num_owners          ownership      docs     drive steering               state     customs\n",
       "30866  пикап двойная кабина  VOLKSWAGEN  https://auto.ru/cars/used/sale/volkswagen/amar...       чёрный                                                NaN  Авто в отличном состоянии. Причина продажи мех...    2.0 LTR      180 N12  {\"engine-proof\":true,\"cruise-control\":true,\"as...    дизель  https://autoru.naydex.net/cSRr96A18/708ec0RhY5...   265000        2010  {\"code\":\"AMAROK\",\"name\":\"Amarok\",\"ru_name\":\"Ам...        AMAROK  full-time 2.0d MT (180 л.с.) 4WD          4        1603578589            RUB             2013  1095340742  {\"id\":\"9263549\",\"nameplate\":\"full-time\",\"displ...       PICKUP_TWO MECHANICAL 2.0    механическая  EUROPEAN  2 владельца          6 месяцев  Оригинал    полный    Левый  Не требует ремонта  Растаможен\n",
       "10382     внедорожник 5 дв.         BMW  https://auto.ru/cars/used/sale/bmw/x1/11009238...    оранжевый                                                NaN                                   Недостатков нет.    2.0 LTR      184 N12                                                NaN    бензин  https://avatars.mds.yandex.net/get-autoru-vos/...    87000        2012  {\"code\":\"X1\",\"name\":\"X1\",\"ru_name\":\"Х1\",\"morph...            X1         20i 2.0 AT (184 л.с.) 4WD          5        1603118838            RUB             2013  1100923838  {\"id\":\"8247044\",\"name\":\"20i\",\"nameplate\":\"20i\"...   ALLROAD_5_DOORS AUTOMATIC 2.0  автоматическая  EUROPEAN   1 владелец                NaN  Оригинал    полный    Левый  Не требует ремонта  Растаможен\n",
       "17703                 седан    MERCEDES  https://auto.ru/cars/used/sale/mercedes/cls_kl...      бежевый  {\"id\":\"2442610\",\"name\":\"350\",\"available_option...  Автомобиль в наличии. \\nДва ключа.\\nОригинальн...    3.5 LTR      272 N12  {\"cruise-control\":true,\"esp\":true,\"airbag-driv...    бензин  https://autoru.naydex.net/ESooa9149/468b9eoMem...   167000        2004  {\"code\":\"CLS_KLASSE\",\"name\":\"CLS\",\"ru_name\":\"Ц...    CLS_KLASSE             350 3.5 AT (272 л.с.)          4        1603248832            RUB             2007  1101266967  {\"id\":\"2307782\",\"name\":\"350\",\"nameplate\":\"350\"...             SEDAN AUTOMATIC 3.5  автоматическая  EUROPEAN  3 или более                NaN  Оригинал    задний    Левый  Не требует ремонта  Растаможен\n",
       "29280     внедорожник 5 дв.         BMW  https://auto.ru/cars/used/sale/bmw/x6/11013407...      красный  {\"id\":\"20593773\",\"name\":\"xDrive30d Luxury\",\"av...  Автомобиль продаётся официальным дилером BMW -...    3.0 LTR      249 N12  {\"cruise-control\":true,\"esp\":true,\"adaptive-li...    дизель  https://avatars.mds.yandex.net/get-autoru-vos/...    71481        2014  {\"code\":\"X6\",\"name\":\"X6\",\"ru_name\":\"Х6\",\"morph...            X6        30d 3.0d AT (249 л.с.) 4WD          5        1603559474            RUB             2014  1101340773  {\"id\":\"20158772\",\"name\":\"30d\",\"nameplate\":\"30d...   ALLROAD_5_DOORS AUTOMATIC 3.0  автоматическая  EUROPEAN   1 владелец                NaN  Оригинал    полный    Левый  Не требует ремонта  Растаможен\n",
       "29370     внедорожник 5 дв.         BMW  https://auto.ru/cars/used/sale/bmw/x3/11013032...        синий                                                NaN  РОЛЬФ Премиум – крупнейший официальный дилер М...    2.0 LTR      245 N12  {\"asr\":true,\"airbag-driver\":true,\"aux\":true,\"u...    бензин  https://autoru.naydex.net/f1bm7A798/f15c727Yw/...    48814        2014  {\"code\":\"X3\",\"name\":\"X3\",\"ru_name\":\"Х3\",\"morph...            X3  28i xDrive 2.0 AT (245 л.с.) 4WD          5        1603559951            RUB             2017  1101303242  {\"id\":\"20156808\",\"name\":\"28i\",\"nameplate\":\"28i...   ALLROAD_5_DOORS AUTOMATIC 2.0  автоматическая  EUROPEAN   1 владелец                NaN  Оригинал    полный    Левый  Не требует ремонта  Растаможен\n",
       "11692     внедорожник 5 дв.      NISSAN  https://auto.ru/cars/used/sale/nissan/pathfind...       чёрный                                                NaN  Штраф оплачен, юр ограничения будут сняты в бл...    2.5 LTR      174 N12  {\"electro-window-back\":true,\"esp\":true,\"airbag...    дизель  https://avatars.mds.yandex.net/get-autoru-vos/...   197000        2004  {\"code\":\"PATHFINDER\",\"name\":\"Pathfinder\",\"ru_n...    PATHFINDER            2.5d MT (174 л.с.) 4WD          5        1603271807            RUB             2005  1101303595  {\"id\":\"2308185\",\"displacement\":2488,\"engine_ty...  ALLROAD_5_DOORS MECHANICAL 2.5    механическая  JAPANESE  2 владельца                NaN  Оригинал    полный    Левый  Не требует ремонта  Растаможен\n",
       "28863     внедорожник 5 дв.  MITSUBISHI  https://auto.ru/cars/used/sale/mitsubishi/paje...  серебристый                                                NaN  За 3 года владения вылечены многие болячки, пр...    3.0 LTR      170 N12  {\"engine-proof\":true,\"tinted-glass\":true,\"audi...    бензин  https://autoru.naydex.net/mcQh17801/f1b5751dCi...   198000        2004  {\"code\":\"PAJERO_SPORT\",\"name\":\"Pajero Sport\",\"...  PAJERO_SPORT             3.0 AT (170 л.с.) 4WD          5        1603268098            RUB             2004  1100595126  {\"id\":\"2308050\",\"displacement\":2972,\"engine_ty...   ALLROAD_5_DOORS AUTOMATIC 3.0  автоматическая  JAPANESE  3 или более  3 года и 2 месяца  Оригинал    полный    Левый  Не требует ремонта  Растаможен\n",
       "19035     внедорожник 5 дв.      TOYOTA  https://auto.ru/cars/used/sale/toyota/rav_4/11...  серебристый                                                NaN  Год выпуска: 2002. Пробег: 139 000 км. Кузов: ...    2.0 LTR      150 N12                                                NaN    бензин  https://avatars.mds.yandex.net/get-autoru-vos/...   139000        2000  {\"code\":\"RAV_4\",\"name\":\"RAV4\",\"ru_name\":\"Рав4\"...         RAV_4             2.0 MT (150 л.с.) 4WD          5        1603286318            RUB             2002  1101324119  {\"id\":\"6503033\",\"displacement\":1998,\"engine_ty...  ALLROAD_5_DOORS MECHANICAL 2.0    механическая  JAPANESE  2 владельца                NaN  Оригинал    полный    Левый  Не требует ремонта  Растаможен\n",
       "1963                лифтбек       SKODA  https://auto.ru/cars/used/sale/skoda/octavia/1...       чёрный                                                NaN  Машина находится в хорошем техническом и внешн...    1.8 LTR      150 N12                                                NaN    бензин  https://autoru.naydex.net/ESooa9149/468b9eoMem...   177000        2000  {\"code\":\"OCTAVIA\",\"name\":\"Octavia\",\"ru_name\":\"...       OCTAVIA                 1.8 MT (150 л.с.)          5        1603233657            RUB             2008  1101207995  {\"id\":\"2309191\",\"displacement\":1781,\"engine_ty...         LIFTBACK MECHANICAL 1.8    механическая  EUROPEAN  3 или более                NaN  Оригинал  передний    Левый  Не требует ремонта  Растаможен\n",
       "32227     внедорожник 5 дв.  MITSUBISHI  https://auto.ru/cars/used/sale/mitsubishi/outl...       чёрный                                                NaN  Отличный ухоженный автомобиль без юридических ...    2.4 LTR      170 N12                                                NaN    бензин  https://avatars.mds.yandex.net/get-autoru-vos/...   190000        2009  {\"code\":\"OUTLANDER\",\"name\":\"Outlander\",\"ru_nam...     OUTLANDER            2.4 CVT (170 л.с.) 4WD          5        1603598748            RUB             2012  1101357956  {\"id\":\"6122099\",\"displacement\":2360,\"engine_ty...    ALLROAD_5_DOORS VARIATOR 2.4        вариатор  JAPANESE  2 владельца                NaN  Оригинал    полный    Левый  Не требует ремонта  Растаможен"
      ]
     },
     "execution_count": 4,
     "metadata": {},
     "output_type": "execute_result"
    }
   ],
   "source": [
    "df_test.sample(10)"
   ]
  },
  {
   "cell_type": "code",
   "execution_count": 5,
   "metadata": {},
   "outputs": [
    {
     "name": "stdout",
     "output_type": "stream",
     "text": [
      "<class 'pandas.core.frame.DataFrame'>\n",
      "RangeIndex: 34686 entries, 0 to 34685\n",
      "Data columns (total 32 columns):\n",
      " #   Column            Non-Null Count  Dtype \n",
      "---  ------            --------------  ----- \n",
      " 0   body_type         34686 non-null  object\n",
      " 1   brand             34686 non-null  object\n",
      " 2   car_url           34686 non-null  object\n",
      " 3   color             34686 non-null  object\n",
      " 4   complectation     6418 non-null   object\n",
      " 5   description       34686 non-null  object\n",
      " 6   engine_vol        34686 non-null  object\n",
      " 7   engine_power      34686 non-null  object\n",
      " 8   equipment         24690 non-null  object\n",
      " 9   fuel_type         34686 non-null  object\n",
      " 10  image             34686 non-null  object\n",
      " 11  mileage           34686 non-null  int64 \n",
      " 12  model_date        34686 non-null  int64 \n",
      " 13  model_info        34686 non-null  object\n",
      " 14  model_name        34686 non-null  object\n",
      " 15  name              34686 non-null  object\n",
      " 16  doors_num         34686 non-null  int64 \n",
      " 17  parsing_unixtime  34686 non-null  int64 \n",
      " 18  price_currency    34686 non-null  object\n",
      " 19  production_date   34686 non-null  int64 \n",
      " 20  sell_id           34686 non-null  int64 \n",
      " 21  super_gen         34686 non-null  object\n",
      " 22  configuration     34686 non-null  object\n",
      " 23  transmission      34686 non-null  object\n",
      " 24  vendor            34686 non-null  object\n",
      " 25  num_owners        34686 non-null  object\n",
      " 26  ownership         11995 non-null  object\n",
      " 27  docs              34685 non-null  object\n",
      " 28  drive             34686 non-null  object\n",
      " 29  steering          34686 non-null  object\n",
      " 30  state             34686 non-null  object\n",
      " 31  customs           34686 non-null  object\n",
      "dtypes: int64(6), object(26)\n",
      "memory usage: 8.5+ MB\n"
     ]
    }
   ],
   "source": [
    "df_test.info()"
   ]
  },
  {
   "cell_type": "markdown",
   "metadata": {},
   "source": [
    "В некоторых столбцах есть пропуски (о них чуть позже), много строк, мало цифр - придется попотеть(\n",
    "\n",
    "### 1.1 Очистка от мусора\n",
    "\n",
    "Посмотрим на уникальные значения в каждом столбце:"
   ]
  },
  {
   "cell_type": "code",
   "execution_count": 6,
   "metadata": {},
   "outputs": [
    {
     "data": {
      "text/plain": [
       "customs                 1\n",
       "price_currency          1\n",
       "state                   1\n",
       "steering                2\n",
       "docs                    2\n",
       "vendor                  2\n",
       "drive                   3\n",
       "num_owners              3\n",
       "transmission            4\n",
       "fuel_type               5\n",
       "doors_num               5\n",
       "brand                  12\n",
       "color                  16\n",
       "body_type              24\n",
       "engine_vol             55\n",
       "model_date             66\n",
       "production_date        69\n",
       "ownership             275\n",
       "engine_power          315\n",
       "model_name            544\n",
       "configuration         634\n",
       "model_info            954\n",
       "complectation        2364\n",
       "name                 2780\n",
       "super_gen            5890\n",
       "mileage             11268\n",
       "equipment           23705\n",
       "description         31732\n",
       "image               34557\n",
       "parsing_unixtime    34686\n",
       "car_url             34686\n",
       "sell_id             34686\n",
       "dtype: int64"
      ]
     },
     "execution_count": 6,
     "metadata": {},
     "output_type": "execute_result"
    }
   ],
   "source": [
    "df_test.nunique().sort_values()"
   ]
  },
  {
   "cell_type": "markdown",
   "metadata": {},
   "source": [
    "3 столбца содержат всего по 1 уникальному значению, т.е. их наличие никак не влияет на модель. Взглянем на них:"
   ]
  },
  {
   "cell_type": "code",
   "execution_count": 7,
   "metadata": {},
   "outputs": [
    {
     "data": {
      "text/html": [
       "<div>\n",
       "<style scoped>\n",
       "    .dataframe tbody tr th:only-of-type {\n",
       "        vertical-align: middle;\n",
       "    }\n",
       "\n",
       "    .dataframe tbody tr th {\n",
       "        vertical-align: top;\n",
       "    }\n",
       "\n",
       "    .dataframe thead th {\n",
       "        text-align: right;\n",
       "    }\n",
       "</style>\n",
       "<table border=\"1\" class=\"dataframe\">\n",
       "  <thead>\n",
       "    <tr style=\"text-align: right;\">\n",
       "      <th></th>\n",
       "      <th>customs</th>\n",
       "      <th>price_currency</th>\n",
       "      <th>state</th>\n",
       "    </tr>\n",
       "  </thead>\n",
       "  <tbody>\n",
       "    <tr>\n",
       "      <th>0</th>\n",
       "      <td>Растаможен</td>\n",
       "      <td>RUB</td>\n",
       "      <td>Не требует ремонта</td>\n",
       "    </tr>\n",
       "  </tbody>\n",
       "</table>\n",
       "</div>"
      ],
      "text/plain": [
       "      customs price_currency               state\n",
       "0  Растаможен            RUB  Не требует ремонта"
      ]
     },
     "execution_count": 7,
     "metadata": {},
     "output_type": "execute_result"
    }
   ],
   "source": [
    "df_test.head(1)[['customs', 'price_currency', 'state']]"
   ]
  },
  {
   "cell_type": "markdown",
   "metadata": {},
   "source": [
    "Искать и парсить будем только объявления с растаможенными, не требующими ремонта автомобилями. цены будем получать в рублях.\n",
    "Эти столбцы можно удалить. Также сразу удалим отсальные столбцы, не несущие полезной для модели информации."
   ]
  },
  {
   "cell_type": "code",
   "execution_count": 8,
   "metadata": {},
   "outputs": [],
   "source": [
    "df_test.drop(columns=['customs', 'price_currency', 'state', 'sell_id', 'car_url', 'image'], inplace=True)"
   ]
  },
  {
   "cell_type": "markdown",
   "metadata": {},
   "source": [
    "### 1.2 Бинарные столбцы\n",
    "Теперь разберемся со столбцами, в которых по 2-3 уникальных значения (т.е. по сути с категоральными столбцами)"
   ]
  },
  {
   "cell_type": "code",
   "execution_count": 9,
   "metadata": {},
   "outputs": [
    {
     "data": {
      "text/plain": [
       "array(['Левый', 'Правый'], dtype=object)"
      ]
     },
     "execution_count": 9,
     "metadata": {},
     "output_type": "execute_result"
    }
   ],
   "source": [
    "df_test.steering.unique()"
   ]
  },
  {
   "cell_type": "code",
   "execution_count": 10,
   "metadata": {},
   "outputs": [],
   "source": [
    "# превратим категоральный признак в бинарный, проставив 1 везде, где руль справа\n",
    "df_test.steering = (df_test.steering == 'Правый').astype('int')"
   ]
  },
  {
   "cell_type": "code",
   "execution_count": 11,
   "metadata": {},
   "outputs": [
    {
     "data": {
      "text/plain": [
       "array(['Оригинал', 'Дубликат', nan], dtype=object)"
      ]
     },
     "execution_count": 11,
     "metadata": {},
     "output_type": "execute_result"
    }
   ],
   "source": [
    "df_test.docs.unique()"
   ]
  },
  {
   "cell_type": "code",
   "execution_count": 12,
   "metadata": {},
   "outputs": [],
   "source": [
    "# найдем наиболее частое значение\n",
    "docs_fill = df_test.docs.value_counts().index[0] \n",
    "# заполним им все пропуски\n",
    "# а затем превратим категоральный признак в бинарный, проставив 1 везде, где ПТС в виде дубликата\n",
    "df_test.docs = (df_test.docs.fillna(docs_fill) == 'Дубликат').astype('int')"
   ]
  },
  {
   "cell_type": "code",
   "execution_count": 13,
   "metadata": {},
   "outputs": [
    {
     "data": {
      "text/plain": [
       "array(['EUROPEAN', 'JAPANESE'], dtype=object)"
      ]
     },
     "execution_count": 13,
     "metadata": {},
     "output_type": "execute_result"
    }
   ],
   "source": [
    "df_test.vendor.unique()"
   ]
  },
  {
   "cell_type": "code",
   "execution_count": 14,
   "metadata": {},
   "outputs": [],
   "source": [
    "# затем превратим категоральный признак в бинарный, проставив 1 везде, где производитель из Японии\n",
    "df_test.vendor = (df_test.vendor == 'JAPANESE').astype('int')"
   ]
  },
  {
   "cell_type": "markdown",
   "metadata": {},
   "source": [
    "### 1.3 Категоральные столбцы"
   ]
  },
  {
   "cell_type": "code",
   "execution_count": 15,
   "metadata": {},
   "outputs": [
    {
     "data": {
      "text/plain": [
       "array(['передний', 'полный', 'задний'], dtype=object)"
      ]
     },
     "execution_count": 15,
     "metadata": {},
     "output_type": "execute_result"
    }
   ],
   "source": [
    "df_test.drive.unique()"
   ]
  },
  {
   "cell_type": "markdown",
   "metadata": {},
   "source": [
    "Со столбцом `drive` пока ничего не будем делать"
   ]
  },
  {
   "cell_type": "code",
   "execution_count": 16,
   "metadata": {},
   "outputs": [
    {
     "data": {
      "text/plain": [
       "array(['3 или более', '1\\xa0владелец', '2\\xa0владельца'], dtype=object)"
      ]
     },
     "execution_count": 16,
     "metadata": {},
     "output_type": "execute_result"
    }
   ],
   "source": [
    "df_test.num_owners.unique()"
   ]
  },
  {
   "cell_type": "markdown",
   "metadata": {},
   "source": [
    "По сути это числовой столбец, из которого достаточно взять исключительно первый символ"
   ]
  },
  {
   "cell_type": "code",
   "execution_count": 17,
   "metadata": {},
   "outputs": [],
   "source": [
    "df_test.num_owners = df_test.num_owners.str[0].astype('int')"
   ]
  },
  {
   "cell_type": "markdown",
   "metadata": {},
   "source": [
    "### 1.4 Составные столбцы"
   ]
  },
  {
   "cell_type": "markdown",
   "metadata": {},
   "source": [
    "Для анализа составных столбцов добавим вспомогательные функции"
   ]
  },
  {
   "cell_type": "code",
   "execution_count": 18,
   "metadata": {},
   "outputs": [],
   "source": [
    "def get_word(column, index=-1):\n",
    "    return column.apply(lambda s: s.split()[index]) if index != -1 else column\n",
    "\n",
    "def print_unique(column, index=-1):\n",
    "    col_unique = get_word(column, index).unique()\n",
    "    print(len(col_unique))\n",
    "    print(col_unique)"
   ]
  },
  {
   "cell_type": "markdown",
   "metadata": {},
   "source": [
    "Теперь разберем столбец `configuration`"
   ]
  },
  {
   "cell_type": "code",
   "execution_count": 19,
   "metadata": {},
   "outputs": [
    {
     "name": "stdout",
     "output_type": "stream",
     "text": [
      "24\n",
      "['LIFTBACK' 'ALLROAD_5_DOORS' 'HATCHBACK_5_DOORS' 'SEDAN' 'COMPACTVAN'\n",
      " 'WAGON_5_DOORS' 'PICKUP_ONE' 'HATCHBACK_3_DOORS' 'COUPE' 'CABRIO'\n",
      " 'MINIVAN' 'PICKUP_TWO' 'ALLROAD_3_DOORS' 'ROADSTER' 'MICROVAN'\n",
      " 'SEDAN_2_DOORS' 'COUPE_HARDTOP' 'FASTBACK' 'TARGA' 'ALLROAD_OPEN'\n",
      " 'LIMOUSINE' 'PICKUP_ONE_HALF' 'SEDAN_HARDTOP' 'VAN']\n"
     ]
    }
   ],
   "source": [
    "print_unique(df_test.configuration, 0)"
   ]
  },
  {
   "cell_type": "code",
   "execution_count": 20,
   "metadata": {},
   "outputs": [
    {
     "name": "stdout",
     "output_type": "stream",
     "text": [
      "24\n",
      "['лифтбек' 'внедорожник 5 дв.' 'хэтчбек 5 дв.' 'седан' 'компактвэн'\n",
      " 'универсал 5 дв.' 'пикап одинарная кабина' 'хэтчбек 3 дв.' 'купе'\n",
      " 'кабриолет' 'минивэн' 'пикап двойная кабина' 'внедорожник 3 дв.'\n",
      " 'родстер' 'микровэн' 'седан 2 дв.' 'купе-хардтоп' 'фастбек' 'тарга'\n",
      " 'внедорожник открытый' 'лимузин' 'пикап полуторная кабина'\n",
      " 'седан-хардтоп' 'фургон']\n"
     ]
    }
   ],
   "source": [
    "print_unique(df_test.body_type)"
   ]
  },
  {
   "cell_type": "code",
   "execution_count": 21,
   "metadata": {},
   "outputs": [
    {
     "name": "stdout",
     "output_type": "stream",
     "text": [
      "4\n",
      "['ROBOT' 'MECHANICAL' 'AUTOMATIC' 'VARIATOR']\n"
     ]
    }
   ],
   "source": [
    "print_unique(df_test.configuration, 1)"
   ]
  },
  {
   "cell_type": "code",
   "execution_count": 22,
   "metadata": {},
   "outputs": [
    {
     "name": "stdout",
     "output_type": "stream",
     "text": [
      "4\n",
      "['роботизированная' 'механическая' 'автоматическая' 'вариатор']\n"
     ]
    }
   ],
   "source": [
    "print_unique(df_test.transmission)"
   ]
  },
  {
   "cell_type": "code",
   "execution_count": 23,
   "metadata": {},
   "outputs": [
    {
     "name": "stdout",
     "output_type": "stream",
     "text": [
      "55\n",
      "['1.2' '1.6' '1.8' '2.0' '1.4' '1.3' '1.0' '3.6' '1.5' '1.9' '2.8' '1.1'\n",
      " '2.5' '4.2' '3.0' '4.0' '5.9' '2.7' '3.1' '2.4' '5.2' '3.2' '4.1' '6.3'\n",
      " '2.3' '6.0' '2.2' '3.7' '2.9' '5.0' '3.3' '2.1' '2.6' 'LTR' '3.5' '1.7'\n",
      " '0.7' '4.4' '4.8' '5.4' '6.6' '4.9' '3.8' '3.4' '3.9' '4.6' '5.6' '4.5'\n",
      " '5.5' '6.2' '4.7' '4.3' '5.8' '5.3' '5.7']\n"
     ]
    }
   ],
   "source": [
    "print_unique(df_test.engine_vol, 0)"
   ]
  },
  {
   "cell_type": "markdown",
   "metadata": {},
   "source": [
    "Первое слово внутри столбца полностью соответствует столбцу `body_type`, а второе - столбцу `transmission`, а третье - вроде как соответствует столбцу `engine_vol`, который, в свою очередь сам составной. такое дублирование не нужно, исправим"
   ]
  },
  {
   "cell_type": "code",
   "execution_count": 24,
   "metadata": {},
   "outputs": [],
   "source": [
    "# в столбцах body_type и transmission сохраним более привлекательные латинские значения\n",
    "df_test.body_type = get_word(df_test.configuration, 0)\n",
    "df_test.transmission = get_word(df_test.configuration, 1)\n",
    "# в столбца engine_vol избавимся от 'LTR' и превратим значение в число\n",
    "df_test.engine_vol = df_test.engine_vol.apply(lambda s: '0.0' if s == ' LTR' else s.split()[0]).astype('float')\n",
    "df_test.drop(columns='configuration', inplace=True)"
   ]
  },
  {
   "cell_type": "code",
   "execution_count": 25,
   "metadata": {},
   "outputs": [
    {
     "data": {
      "text/html": [
       "<div>\n",
       "<style scoped>\n",
       "    .dataframe tbody tr th:only-of-type {\n",
       "        vertical-align: middle;\n",
       "    }\n",
       "\n",
       "    .dataframe tbody tr th {\n",
       "        vertical-align: top;\n",
       "    }\n",
       "\n",
       "    .dataframe thead th {\n",
       "        text-align: right;\n",
       "    }\n",
       "</style>\n",
       "<table border=\"1\" class=\"dataframe\">\n",
       "  <thead>\n",
       "    <tr style=\"text-align: right;\">\n",
       "      <th></th>\n",
       "      <th>body_type</th>\n",
       "      <th>brand</th>\n",
       "      <th>color</th>\n",
       "      <th>complectation</th>\n",
       "      <th>description</th>\n",
       "      <th>engine_vol</th>\n",
       "      <th>engine_power</th>\n",
       "      <th>equipment</th>\n",
       "      <th>fuel_type</th>\n",
       "      <th>mileage</th>\n",
       "      <th>model_date</th>\n",
       "      <th>model_info</th>\n",
       "      <th>model_name</th>\n",
       "      <th>name</th>\n",
       "      <th>doors_num</th>\n",
       "      <th>parsing_unixtime</th>\n",
       "      <th>production_date</th>\n",
       "      <th>super_gen</th>\n",
       "      <th>transmission</th>\n",
       "      <th>vendor</th>\n",
       "      <th>num_owners</th>\n",
       "      <th>ownership</th>\n",
       "      <th>docs</th>\n",
       "      <th>drive</th>\n",
       "      <th>steering</th>\n",
       "    </tr>\n",
       "  </thead>\n",
       "  <tbody>\n",
       "    <tr>\n",
       "      <th>0</th>\n",
       "      <td>LIFTBACK</td>\n",
       "      <td>SKODA</td>\n",
       "      <td>синий</td>\n",
       "      <td>NaN</td>\n",
       "      <td>Все автомобили, представленные в продаже, прох...</td>\n",
       "      <td>1.2</td>\n",
       "      <td>105 N12</td>\n",
       "      <td>{\"engine-proof\":true,\"tinted-glass\":true,\"airb...</td>\n",
       "      <td>бензин</td>\n",
       "      <td>74000</td>\n",
       "      <td>2013</td>\n",
       "      <td>{\"code\":\"OCTAVIA\",\"name\":\"Octavia\",\"ru_name\":\"...</td>\n",
       "      <td>OCTAVIA</td>\n",
       "      <td>1.2 AMT (105 л.с.)</td>\n",
       "      <td>5</td>\n",
       "      <td>1603226273</td>\n",
       "      <td>2014</td>\n",
       "      <td>{\"id\":\"10373605\",\"displacement\":1197,\"engine_t...</td>\n",
       "      <td>ROBOT</td>\n",
       "      <td>0</td>\n",
       "      <td>3</td>\n",
       "      <td>NaN</td>\n",
       "      <td>0</td>\n",
       "      <td>передний</td>\n",
       "      <td>0</td>\n",
       "    </tr>\n",
       "    <tr>\n",
       "      <th>1</th>\n",
       "      <td>LIFTBACK</td>\n",
       "      <td>SKODA</td>\n",
       "      <td>чёрный</td>\n",
       "      <td>NaN</td>\n",
       "      <td>ЛОТ: 01217195\\nАвтопрага Север\\nДанный автомоб...</td>\n",
       "      <td>1.6</td>\n",
       "      <td>110 N12</td>\n",
       "      <td>{\"cruise-control\":true,\"asr\":true,\"esp\":true,\"...</td>\n",
       "      <td>бензин</td>\n",
       "      <td>60563</td>\n",
       "      <td>2017</td>\n",
       "      <td>{\"code\":\"OCTAVIA\",\"name\":\"Octavia\",\"ru_name\":\"...</td>\n",
       "      <td>OCTAVIA</td>\n",
       "      <td>1.6 MT (110 л.с.)</td>\n",
       "      <td>5</td>\n",
       "      <td>1603226277</td>\n",
       "      <td>2017</td>\n",
       "      <td>{\"id\":\"20913311\",\"displacement\":1598,\"engine_t...</td>\n",
       "      <td>MECHANICAL</td>\n",
       "      <td>0</td>\n",
       "      <td>1</td>\n",
       "      <td>NaN</td>\n",
       "      <td>0</td>\n",
       "      <td>передний</td>\n",
       "      <td>0</td>\n",
       "    </tr>\n",
       "    <tr>\n",
       "      <th>2</th>\n",
       "      <td>LIFTBACK</td>\n",
       "      <td>SKODA</td>\n",
       "      <td>серый</td>\n",
       "      <td>{\"id\":\"20026336\",\"name\":\"Ambition\",\"available_...</td>\n",
       "      <td>Все автомобили, представленные в продаже, прох...</td>\n",
       "      <td>1.8</td>\n",
       "      <td>152 N12</td>\n",
       "      <td>{\"cruise-control\":true,\"tinted-glass\":true,\"es...</td>\n",
       "      <td>бензин</td>\n",
       "      <td>88000</td>\n",
       "      <td>2013</td>\n",
       "      <td>{\"code\":\"SUPERB\",\"name\":\"Superb\",\"ru_name\":\"Су...</td>\n",
       "      <td>SUPERB</td>\n",
       "      <td>DSG 1.8 AMT (152 л.с.)</td>\n",
       "      <td>5</td>\n",
       "      <td>1603226280</td>\n",
       "      <td>2014</td>\n",
       "      <td>{\"id\":\"20026323\",\"nameplate\":\"DSG\",\"displaceme...</td>\n",
       "      <td>ROBOT</td>\n",
       "      <td>0</td>\n",
       "      <td>1</td>\n",
       "      <td>NaN</td>\n",
       "      <td>0</td>\n",
       "      <td>передний</td>\n",
       "      <td>0</td>\n",
       "    </tr>\n",
       "    <tr>\n",
       "      <th>3</th>\n",
       "      <td>LIFTBACK</td>\n",
       "      <td>SKODA</td>\n",
       "      <td>коричневый</td>\n",
       "      <td>{\"id\":\"20803582\",\"name\":\"Ambition\",\"available_...</td>\n",
       "      <td>КОМПЛЕКТ ЗИМНЕЙ (ЛЕТНЕЙ) РЕЗИНЫ ПО СЕЗОНУ В ПО...</td>\n",
       "      <td>1.6</td>\n",
       "      <td>110 N12</td>\n",
       "      <td>{\"cruise-control\":true,\"roller-blind-for-rear-...</td>\n",
       "      <td>бензин</td>\n",
       "      <td>95000</td>\n",
       "      <td>2013</td>\n",
       "      <td>{\"code\":\"OCTAVIA\",\"name\":\"Octavia\",\"ru_name\":\"...</td>\n",
       "      <td>OCTAVIA</td>\n",
       "      <td>1.6 AT (110 л.с.)</td>\n",
       "      <td>5</td>\n",
       "      <td>1603226284</td>\n",
       "      <td>2014</td>\n",
       "      <td>{\"id\":\"20105521\",\"displacement\":1598,\"engine_t...</td>\n",
       "      <td>AUTOMATIC</td>\n",
       "      <td>0</td>\n",
       "      <td>1</td>\n",
       "      <td>NaN</td>\n",
       "      <td>0</td>\n",
       "      <td>передний</td>\n",
       "      <td>0</td>\n",
       "    </tr>\n",
       "    <tr>\n",
       "      <th>4</th>\n",
       "      <td>LIFTBACK</td>\n",
       "      <td>SKODA</td>\n",
       "      <td>белый</td>\n",
       "      <td>NaN</td>\n",
       "      <td>ЛОТ: 01220889\\nАвтопрага Север\\n\\nВы можете по...</td>\n",
       "      <td>1.8</td>\n",
       "      <td>152 N12</td>\n",
       "      <td>{\"cruise-control\":true,\"asr\":true,\"esp\":true,\"...</td>\n",
       "      <td>бензин</td>\n",
       "      <td>58536</td>\n",
       "      <td>2008</td>\n",
       "      <td>{\"code\":\"OCTAVIA\",\"name\":\"Octavia\",\"ru_name\":\"...</td>\n",
       "      <td>OCTAVIA</td>\n",
       "      <td>1.8 AT (152 л.с.)</td>\n",
       "      <td>5</td>\n",
       "      <td>1603226288</td>\n",
       "      <td>2012</td>\n",
       "      <td>{\"id\":\"4561004\",\"displacement\":1798,\"engine_ty...</td>\n",
       "      <td>AUTOMATIC</td>\n",
       "      <td>0</td>\n",
       "      <td>1</td>\n",
       "      <td>NaN</td>\n",
       "      <td>0</td>\n",
       "      <td>передний</td>\n",
       "      <td>0</td>\n",
       "    </tr>\n",
       "  </tbody>\n",
       "</table>\n",
       "</div>"
      ],
      "text/plain": [
       "  body_type  brand       color                                      complectation                                        description  engine_vol engine_power                                          equipment fuel_type  mileage  model_date                                         model_info model_name                    name  doors_num  parsing_unixtime  production_date                                          super_gen transmission  vendor  num_owners ownership  docs     drive  steering\n",
       "0  LIFTBACK  SKODA       синий                                                NaN  Все автомобили, представленные в продаже, прох...         1.2      105 N12  {\"engine-proof\":true,\"tinted-glass\":true,\"airb...    бензин    74000        2013  {\"code\":\"OCTAVIA\",\"name\":\"Octavia\",\"ru_name\":\"...    OCTAVIA      1.2 AMT (105 л.с.)          5        1603226273             2014  {\"id\":\"10373605\",\"displacement\":1197,\"engine_t...        ROBOT       0           3       NaN     0  передний         0\n",
       "1  LIFTBACK  SKODA      чёрный                                                NaN  ЛОТ: 01217195\\nАвтопрага Север\\nДанный автомоб...         1.6      110 N12  {\"cruise-control\":true,\"asr\":true,\"esp\":true,\"...    бензин    60563        2017  {\"code\":\"OCTAVIA\",\"name\":\"Octavia\",\"ru_name\":\"...    OCTAVIA       1.6 MT (110 л.с.)          5        1603226277             2017  {\"id\":\"20913311\",\"displacement\":1598,\"engine_t...   MECHANICAL       0           1       NaN     0  передний         0\n",
       "2  LIFTBACK  SKODA       серый  {\"id\":\"20026336\",\"name\":\"Ambition\",\"available_...  Все автомобили, представленные в продаже, прох...         1.8      152 N12  {\"cruise-control\":true,\"tinted-glass\":true,\"es...    бензин    88000        2013  {\"code\":\"SUPERB\",\"name\":\"Superb\",\"ru_name\":\"Су...     SUPERB  DSG 1.8 AMT (152 л.с.)          5        1603226280             2014  {\"id\":\"20026323\",\"nameplate\":\"DSG\",\"displaceme...        ROBOT       0           1       NaN     0  передний         0\n",
       "3  LIFTBACK  SKODA  коричневый  {\"id\":\"20803582\",\"name\":\"Ambition\",\"available_...  КОМПЛЕКТ ЗИМНЕЙ (ЛЕТНЕЙ) РЕЗИНЫ ПО СЕЗОНУ В ПО...         1.6      110 N12  {\"cruise-control\":true,\"roller-blind-for-rear-...    бензин    95000        2013  {\"code\":\"OCTAVIA\",\"name\":\"Octavia\",\"ru_name\":\"...    OCTAVIA       1.6 AT (110 л.с.)          5        1603226284             2014  {\"id\":\"20105521\",\"displacement\":1598,\"engine_t...    AUTOMATIC       0           1       NaN     0  передний         0\n",
       "4  LIFTBACK  SKODA       белый                                                NaN  ЛОТ: 01220889\\nАвтопрага Север\\n\\nВы можете по...         1.8      152 N12  {\"cruise-control\":true,\"asr\":true,\"esp\":true,\"...    бензин    58536        2008  {\"code\":\"OCTAVIA\",\"name\":\"Octavia\",\"ru_name\":\"...    OCTAVIA       1.8 AT (152 л.с.)          5        1603226288             2012  {\"id\":\"4561004\",\"displacement\":1798,\"engine_ty...    AUTOMATIC       0           1       NaN     0  передний         0"
      ]
     },
     "execution_count": 25,
     "metadata": {},
     "output_type": "execute_result"
    }
   ],
   "source": [
    "df_test.head()"
   ]
  },
  {
   "cell_type": "markdown",
   "metadata": {},
   "source": [
    "Теперь столбец `engine_power`. Похоже, что в нем второе \"слово\" не имеет смысловой нагрузки для модели"
   ]
  },
  {
   "cell_type": "code",
   "execution_count": 26,
   "metadata": {},
   "outputs": [
    {
     "name": "stdout",
     "output_type": "stream",
     "text": [
      "1\n",
      "['N12']\n"
     ]
    }
   ],
   "source": [
    "print_unique(df_test.engine_power, 1)"
   ]
  },
  {
   "cell_type": "markdown",
   "metadata": {},
   "source": [
    "Так и есть. А первое \"слово\" также присутствует в столбце `name`, который в свою очередь, также дублирует столбцы `engine_vol` и `transmission`. Исправляем:"
   ]
  },
  {
   "cell_type": "code",
   "execution_count": 27,
   "metadata": {},
   "outputs": [],
   "source": [
    "df_test.engine_power = get_word(df_test.engine_power, 0).astype('int')\n",
    "df_test.drop(columns='name', inplace=True)"
   ]
  },
  {
   "cell_type": "markdown",
   "metadata": {},
   "source": [
    "### 1.5 Прочие столбцы\n",
    "\n",
    "Столбец `ownership` содержит срок владения. пропусков много, их оставим для следующих этапов, а имеющиеся данные распарсим и превратим в число (дробное кол-во лет)"
   ]
  },
  {
   "cell_type": "code",
   "execution_count": 28,
   "metadata": {},
   "outputs": [],
   "source": [
    "months = df_test.ownership.str.extract(r'(\\d{1,2})\\sмесяц').astype('float')\n",
    "years = df_test.ownership.str.extract(r'(\\d{1,2})\\s(?:лет|год)').astype('float')\n",
    "\n",
    "df_test.ownership = np.round(years + (months / 12), 3)"
   ]
  },
  {
   "cell_type": "markdown",
   "metadata": {},
   "source": [
    "Посмотрим на столбцы `model_info` и `super_gen`, данные в которых де-факто - словари"
   ]
  },
  {
   "cell_type": "code",
   "execution_count": 29,
   "metadata": {},
   "outputs": [
    {
     "name": "stdout",
     "output_type": "stream",
     "text": [
      "{\"code\":\"A5\",\"name\":\"A5\",\"ru_name\":\"А5\",\"morphology\":{},\"nameplate\":{\"code\":\"\",\"name\":\"\",\"semantic_url\":\"\"}}\n"
     ]
    }
   ],
   "source": [
    "print(df_test.sample().model_info.iloc[0])"
   ]
  },
  {
   "cell_type": "code",
   "execution_count": 30,
   "metadata": {},
   "outputs": [
    {
     "name": "stdout",
     "output_type": "stream",
     "text": [
      "{\"id\":\"9290826\",\"displacement\":1395,\"engine_type\":\"GASOLINE\",\"gear_type\":\"FORWARD_CONTROL\",\"transmission\":\"ROBOT\",\"power\":122,\"power_kvt\":90,\"human_name\":\"1.4 AMT (122 л.с.)\",\"acceleration\":9.3,\"clearance_min\":160,\"fuel_rate\":5}\n"
     ]
    }
   ],
   "source": [
    "print(df_test.sample().super_gen.iloc[0])"
   ]
  },
  {
   "cell_type": "markdown",
   "metadata": {},
   "source": [
    "Столбец `model_info` не несет новой информации, просто расширяет имеющийся столбец `model_name`, поэтому от него можно избавиться.\n",
    "\n",
    "Столбец `super_gen` тоже не несет особо новой информации, дублируя столбцы `engine_vol`, `engine_power` т.д., однако для столбцов `fuel_type` и `drive` мы можем извлечь наименования, которые больше походят на технические (латинница, подчеркивания вместо пробелов и т.п.). Преобразуем эти столбцы."
   ]
  },
  {
   "cell_type": "code",
   "execution_count": 31,
   "metadata": {},
   "outputs": [],
   "source": [
    "def process_super_gen(row):\n",
    "    sg = json.loads(row.super_gen)\n",
    "    return [sg['engine_type'], sg['gear_type']]\n",
    "    \n",
    "df_test[['fuel_type', 'drive']] = df_test.apply(process_super_gen, axis=1, result_type='expand')\n",
    "df_test.drop(columns=['model_info', 'super_gen'], inplace=True)"
   ]
  },
  {
   "cell_type": "markdown",
   "metadata": {},
   "source": [
    "На текущий момент я не больше не вижу возможности что-либо сделать с  дата-сетом, не видя формат данных с сайта auto.ru. \n",
    "\n",
    "Еще раз взглянем на тестовый дата-сет после всех изменений:"
   ]
  },
  {
   "cell_type": "code",
   "execution_count": 32,
   "metadata": {},
   "outputs": [
    {
     "data": {
      "text/html": [
       "<div>\n",
       "<style scoped>\n",
       "    .dataframe tbody tr th:only-of-type {\n",
       "        vertical-align: middle;\n",
       "    }\n",
       "\n",
       "    .dataframe tbody tr th {\n",
       "        vertical-align: top;\n",
       "    }\n",
       "\n",
       "    .dataframe thead th {\n",
       "        text-align: right;\n",
       "    }\n",
       "</style>\n",
       "<table border=\"1\" class=\"dataframe\">\n",
       "  <thead>\n",
       "    <tr style=\"text-align: right;\">\n",
       "      <th></th>\n",
       "      <th>body_type</th>\n",
       "      <th>brand</th>\n",
       "      <th>color</th>\n",
       "      <th>complectation</th>\n",
       "      <th>description</th>\n",
       "      <th>engine_vol</th>\n",
       "      <th>engine_power</th>\n",
       "      <th>equipment</th>\n",
       "      <th>fuel_type</th>\n",
       "      <th>mileage</th>\n",
       "      <th>model_date</th>\n",
       "      <th>model_name</th>\n",
       "      <th>doors_num</th>\n",
       "      <th>parsing_unixtime</th>\n",
       "      <th>production_date</th>\n",
       "      <th>transmission</th>\n",
       "      <th>vendor</th>\n",
       "      <th>num_owners</th>\n",
       "      <th>ownership</th>\n",
       "      <th>docs</th>\n",
       "      <th>drive</th>\n",
       "      <th>steering</th>\n",
       "    </tr>\n",
       "  </thead>\n",
       "  <tbody>\n",
       "    <tr>\n",
       "      <th>0</th>\n",
       "      <td>LIFTBACK</td>\n",
       "      <td>SKODA</td>\n",
       "      <td>синий</td>\n",
       "      <td>NaN</td>\n",
       "      <td>Все автомобили, представленные в продаже, прох...</td>\n",
       "      <td>1.2</td>\n",
       "      <td>105</td>\n",
       "      <td>{\"engine-proof\":true,\"tinted-glass\":true,\"airb...</td>\n",
       "      <td>GASOLINE</td>\n",
       "      <td>74000</td>\n",
       "      <td>2013</td>\n",
       "      <td>OCTAVIA</td>\n",
       "      <td>5</td>\n",
       "      <td>1603226273</td>\n",
       "      <td>2014</td>\n",
       "      <td>ROBOT</td>\n",
       "      <td>0</td>\n",
       "      <td>3</td>\n",
       "      <td>NaN</td>\n",
       "      <td>0</td>\n",
       "      <td>FORWARD_CONTROL</td>\n",
       "      <td>0</td>\n",
       "    </tr>\n",
       "    <tr>\n",
       "      <th>1</th>\n",
       "      <td>LIFTBACK</td>\n",
       "      <td>SKODA</td>\n",
       "      <td>чёрный</td>\n",
       "      <td>NaN</td>\n",
       "      <td>ЛОТ: 01217195\\nАвтопрага Север\\nДанный автомоб...</td>\n",
       "      <td>1.6</td>\n",
       "      <td>110</td>\n",
       "      <td>{\"cruise-control\":true,\"asr\":true,\"esp\":true,\"...</td>\n",
       "      <td>GASOLINE</td>\n",
       "      <td>60563</td>\n",
       "      <td>2017</td>\n",
       "      <td>OCTAVIA</td>\n",
       "      <td>5</td>\n",
       "      <td>1603226277</td>\n",
       "      <td>2017</td>\n",
       "      <td>MECHANICAL</td>\n",
       "      <td>0</td>\n",
       "      <td>1</td>\n",
       "      <td>NaN</td>\n",
       "      <td>0</td>\n",
       "      <td>FORWARD_CONTROL</td>\n",
       "      <td>0</td>\n",
       "    </tr>\n",
       "    <tr>\n",
       "      <th>2</th>\n",
       "      <td>LIFTBACK</td>\n",
       "      <td>SKODA</td>\n",
       "      <td>серый</td>\n",
       "      <td>{\"id\":\"20026336\",\"name\":\"Ambition\",\"available_...</td>\n",
       "      <td>Все автомобили, представленные в продаже, прох...</td>\n",
       "      <td>1.8</td>\n",
       "      <td>152</td>\n",
       "      <td>{\"cruise-control\":true,\"tinted-glass\":true,\"es...</td>\n",
       "      <td>GASOLINE</td>\n",
       "      <td>88000</td>\n",
       "      <td>2013</td>\n",
       "      <td>SUPERB</td>\n",
       "      <td>5</td>\n",
       "      <td>1603226280</td>\n",
       "      <td>2014</td>\n",
       "      <td>ROBOT</td>\n",
       "      <td>0</td>\n",
       "      <td>1</td>\n",
       "      <td>NaN</td>\n",
       "      <td>0</td>\n",
       "      <td>FORWARD_CONTROL</td>\n",
       "      <td>0</td>\n",
       "    </tr>\n",
       "    <tr>\n",
       "      <th>3</th>\n",
       "      <td>LIFTBACK</td>\n",
       "      <td>SKODA</td>\n",
       "      <td>коричневый</td>\n",
       "      <td>{\"id\":\"20803582\",\"name\":\"Ambition\",\"available_...</td>\n",
       "      <td>КОМПЛЕКТ ЗИМНЕЙ (ЛЕТНЕЙ) РЕЗИНЫ ПО СЕЗОНУ В ПО...</td>\n",
       "      <td>1.6</td>\n",
       "      <td>110</td>\n",
       "      <td>{\"cruise-control\":true,\"roller-blind-for-rear-...</td>\n",
       "      <td>GASOLINE</td>\n",
       "      <td>95000</td>\n",
       "      <td>2013</td>\n",
       "      <td>OCTAVIA</td>\n",
       "      <td>5</td>\n",
       "      <td>1603226284</td>\n",
       "      <td>2014</td>\n",
       "      <td>AUTOMATIC</td>\n",
       "      <td>0</td>\n",
       "      <td>1</td>\n",
       "      <td>NaN</td>\n",
       "      <td>0</td>\n",
       "      <td>FORWARD_CONTROL</td>\n",
       "      <td>0</td>\n",
       "    </tr>\n",
       "    <tr>\n",
       "      <th>4</th>\n",
       "      <td>LIFTBACK</td>\n",
       "      <td>SKODA</td>\n",
       "      <td>белый</td>\n",
       "      <td>NaN</td>\n",
       "      <td>ЛОТ: 01220889\\nАвтопрага Север\\n\\nВы можете по...</td>\n",
       "      <td>1.8</td>\n",
       "      <td>152</td>\n",
       "      <td>{\"cruise-control\":true,\"asr\":true,\"esp\":true,\"...</td>\n",
       "      <td>GASOLINE</td>\n",
       "      <td>58536</td>\n",
       "      <td>2008</td>\n",
       "      <td>OCTAVIA</td>\n",
       "      <td>5</td>\n",
       "      <td>1603226288</td>\n",
       "      <td>2012</td>\n",
       "      <td>AUTOMATIC</td>\n",
       "      <td>0</td>\n",
       "      <td>1</td>\n",
       "      <td>NaN</td>\n",
       "      <td>0</td>\n",
       "      <td>FORWARD_CONTROL</td>\n",
       "      <td>0</td>\n",
       "    </tr>\n",
       "  </tbody>\n",
       "</table>\n",
       "</div>"
      ],
      "text/plain": [
       "  body_type  brand       color                                      complectation                                        description  engine_vol  engine_power                                          equipment fuel_type  mileage  model_date model_name  doors_num  parsing_unixtime  production_date transmission  vendor  num_owners  ownership  docs            drive  steering\n",
       "0  LIFTBACK  SKODA       синий                                                NaN  Все автомобили, представленные в продаже, прох...         1.2           105  {\"engine-proof\":true,\"tinted-glass\":true,\"airb...  GASOLINE    74000        2013    OCTAVIA          5        1603226273             2014        ROBOT       0           3        NaN     0  FORWARD_CONTROL         0\n",
       "1  LIFTBACK  SKODA      чёрный                                                NaN  ЛОТ: 01217195\\nАвтопрага Север\\nДанный автомоб...         1.6           110  {\"cruise-control\":true,\"asr\":true,\"esp\":true,\"...  GASOLINE    60563        2017    OCTAVIA          5        1603226277             2017   MECHANICAL       0           1        NaN     0  FORWARD_CONTROL         0\n",
       "2  LIFTBACK  SKODA       серый  {\"id\":\"20026336\",\"name\":\"Ambition\",\"available_...  Все автомобили, представленные в продаже, прох...         1.8           152  {\"cruise-control\":true,\"tinted-glass\":true,\"es...  GASOLINE    88000        2013     SUPERB          5        1603226280             2014        ROBOT       0           1        NaN     0  FORWARD_CONTROL         0\n",
       "3  LIFTBACK  SKODA  коричневый  {\"id\":\"20803582\",\"name\":\"Ambition\",\"available_...  КОМПЛЕКТ ЗИМНЕЙ (ЛЕТНЕЙ) РЕЗИНЫ ПО СЕЗОНУ В ПО...         1.6           110  {\"cruise-control\":true,\"roller-blind-for-rear-...  GASOLINE    95000        2013    OCTAVIA          5        1603226284             2014    AUTOMATIC       0           1        NaN     0  FORWARD_CONTROL         0\n",
       "4  LIFTBACK  SKODA       белый                                                NaN  ЛОТ: 01220889\\nАвтопрага Север\\n\\nВы можете по...         1.8           152  {\"cruise-control\":true,\"asr\":true,\"esp\":true,\"...  GASOLINE    58536        2008    OCTAVIA          5        1603226288             2012    AUTOMATIC       0           1        NaN     0  FORWARD_CONTROL         0"
      ]
     },
     "execution_count": 32,
     "metadata": {},
     "output_type": "execute_result"
    }
   ],
   "source": [
    "df_test.head()"
   ]
  },
  {
   "cell_type": "markdown",
   "metadata": {},
   "source": [
    "И сохраним его для дальнейшей работы"
   ]
  },
  {
   "cell_type": "code",
   "execution_count": 33,
   "metadata": {},
   "outputs": [],
   "source": [
    "df_test.to_csv('test_clean.csv', index=False)"
   ]
  }
 ],
 "metadata": {
  "kernelspec": {
   "display_name": "Python 3",
   "language": "python",
   "name": "python3"
  },
  "language_info": {
   "codemirror_mode": {
    "name": "ipython",
    "version": 3
   },
   "file_extension": ".py",
   "mimetype": "text/x-python",
   "name": "python",
   "nbconvert_exporter": "python",
   "pygments_lexer": "ipython3",
   "version": "3.8.5"
  }
 },
 "nbformat": 4,
 "nbformat_minor": 4
}
