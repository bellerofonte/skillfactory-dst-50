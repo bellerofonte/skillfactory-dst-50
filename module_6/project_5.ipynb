{
 "cells": [
  {
   "cell_type": "markdown",
   "metadata": {
    "papermill": {
     "duration": 0.054716,
     "end_time": "2021-01-21T19:55:24.707851",
     "exception": false,
     "start_time": "2021-01-21T19:55:24.653135",
     "status": "completed"
    },
    "tags": []
   },
   "source": [
    "# Проект 5: \"Выбираем автомобиль правильно\"\n",
    "\n",
    "<img width=\"100%\" src=\"https://lh3.googleusercontent.com/proxy/3MrMTf65yLXZPXz_RdNKqJ9_TeHOGAWqGdiVIDvVe-IFS7tso7_QLjweR6rTo-i3uyPOwdKSsFJFwu6yzUwGAcSyrswxOGMlax09bHNb3MKDkzEG5iEWIBwzoCD-FnkQ8nw\"/>\n",
    "\n",
    "## Цель работы\n",
    "Спрогнозировать стоимость автомобиля исходя из его характеристик, размещенных в открытом доступе на сайте <a href=\"https://auto.ru/\">auto.ru</a>\n",
    "\n",
    "## Исходные данные\n",
    "1. Тестовый дата-сет предоставлен\n",
    "2. Тренировочный дата-сет необходимо самостоятельно получить с использованием API `auto.tu`"
   ]
  },
  {
   "cell_type": "markdown",
   "metadata": {},
   "source": [
    "## Подготовка\n",
    "\n",
    "1. Анализ и предобработка тестового дата-сета проведен в ноутбуке `prepare_test`. В нем тестовый дата-сет очищен от лишних и дублирующихся данных, формат остальных данных приведен к более удобному для дальнейшей обработки виду. Результатом выполнения этого ноутбука является файл очищенного тестовго дата-сета `test_clean.csv`\n",
    "\n",
    "2. Выгрузка и парсинг объявлений с сайта auto.ru проведен в ноутбуке `collect_data`. В нем описан разбор формата ответов сайта, приведены методы выгрузки и парсинга сообщений. Результат исполнения ноутбука - файл тренировочного дата-сета `train.csv`\n",
    "\n",
    "Данные ноутбуки созданы с единственной целью - разбить работу на блоки по смыслу, чтобы каждый из них было проще анализировать.\n",
    "\n",
    "Для начала проведем подготовительные мероприятия:"
   ]
  },
  {
   "cell_type": "code",
   "execution_count": 1,
   "metadata": {
    "_cell_guid": "b1076dfc-b9ad-4769-8c92-a6c4dae69d19",
    "_uuid": "8f2839f25d086af736a60e9eeb907d3b93b6e0e5",
    "execution": {
     "iopub.execute_input": "2021-01-21T19:55:24.814979Z",
     "iopub.status.busy": "2021-01-21T19:55:24.814299Z",
     "iopub.status.idle": "2021-01-21T19:55:32.548896Z",
     "shell.execute_reply": "2021-01-21T19:55:32.548194Z"
    },
    "papermill": {
     "duration": 7.789248,
     "end_time": "2021-01-21T19:55:32.549024",
     "exception": false,
     "start_time": "2021-01-21T19:55:24.759776",
     "status": "completed"
    },
    "tags": []
   },
   "outputs": [
    {
     "name": "stdout",
     "output_type": "stream",
     "text": [
      "Python       : 3.8.5 (default, Sep  4 2020, 07:30:14) \n",
      "Numpy        : 1.19.2\n"
     ]
    }
   ],
   "source": [
    "import re\n",
    "import sys\n",
    "import numpy as np\n",
    "import pandas as pd\n",
    "import pandas.api.types as at\n",
    "from tqdm import tqdm\n",
    "from datetime import timedelta, datetime, date\n",
    "import matplotlib.pyplot as plt\n",
    "import seaborn as sns\n",
    "from os import path\n",
    "import ast\n",
    "import json\n",
    "import gc\n",
    "\n",
    "import xgboost as xgb\n",
    "from sklearn.linear_model import LinearRegression\n",
    "from sklearn.preprocessing import StandardScaler\n",
    "from sklearn.model_selection import train_test_split\n",
    "from sklearn.model_selection import KFold\n",
    "from catboost import CatBoostRegressor\n",
    "from sklearn.ensemble import RandomForestRegressor\n",
    "from sklearn.ensemble import GradientBoostingRegressor\n",
    "from sklearn.ensemble import BaggingRegressor\n",
    "from sklearn.ensemble import StackingRegressor\n",
    "from sklearn.model_selection import RandomizedSearchCV\n",
    "from sklearn.preprocessing import PolynomialFeatures\n",
    "from sklearn.preprocessing import LabelEncoder\n",
    "\n",
    "pd.set_option('display.max_columns', None)\n",
    "\n",
    "plt.rcParams['figure.figsize'] = (20, 7)\n",
    "\n",
    "print('Python       :', sys.version.split('\\n')[0])\n",
    "print('Numpy        :', np.__version__)\n",
    "\n",
    "# зафиксируем версию пакетов, чтобы эксперименты были воспроизводимы:\n",
    "!pip freeze > requirements.txt\n",
    "\n",
    "# всегда фиксируйте RANDOM_SEED, чтобы ваши эксперименты были воспроизводимы!\n",
    "RANDOM_SEED = 73\n",
    "TEST_SIZE = 0.25;\n",
    "\n",
    "# определим функицю метрики, по которой будет оцениваться качество модели\n",
    "def mape(y_true, y_pred):\n",
    "    return np.mean(np.abs((y_pred-y_true)/y_true))"
   ]
  },
  {
   "cell_type": "code",
   "execution_count": 2,
   "metadata": {
    "execution": {
     "iopub.execute_input": "2021-01-21T19:55:32.777106Z",
     "iopub.status.busy": "2021-01-21T19:55:32.776371Z",
     "iopub.status.idle": "2021-01-21T19:55:32.779974Z",
     "shell.execute_reply": "2021-01-21T19:55:32.779474Z"
    },
    "papermill": {
     "duration": 0.068276,
     "end_time": "2021-01-21T19:55:32.780106",
     "exception": false,
     "start_time": "2021-01-21T19:55:32.711830",
     "status": "completed"
    },
    "tags": []
   },
   "outputs": [],
   "source": [
    "# TODO - replace in kaggle\n",
    "DIR_TRAIN  = './'\n",
    "DIR_TEST   = './'"
   ]
  },
  {
   "cell_type": "markdown",
   "metadata": {
    "papermill": {
     "duration": 0.05466,
     "end_time": "2021-01-21T19:55:32.888369",
     "exception": false,
     "start_time": "2021-01-21T19:55:32.833709",
     "status": "completed"
    },
    "tags": []
   },
   "source": [
    "## 1. Данные"
   ]
  },
  {
   "cell_type": "code",
   "execution_count": 3,
   "metadata": {
    "execution": {
     "iopub.execute_input": "2021-01-21T19:55:33.010164Z",
     "iopub.status.busy": "2021-01-21T19:55:33.004803Z",
     "iopub.status.idle": "2021-01-21T19:55:43.249978Z",
     "shell.execute_reply": "2021-01-21T19:55:43.249411Z"
    },
    "papermill": {
     "duration": 10.308238,
     "end_time": "2021-01-21T19:55:43.250136",
     "exception": false,
     "start_time": "2021-01-21T19:55:32.941898",
     "status": "completed"
    },
    "tags": []
   },
   "outputs": [
    {
     "data": {
      "text/html": [
       "<div>\n",
       "<style scoped>\n",
       "    .dataframe tbody tr th:only-of-type {\n",
       "        vertical-align: middle;\n",
       "    }\n",
       "\n",
       "    .dataframe tbody tr th {\n",
       "        vertical-align: top;\n",
       "    }\n",
       "\n",
       "    .dataframe thead th {\n",
       "        text-align: right;\n",
       "    }\n",
       "</style>\n",
       "<table border=\"1\" class=\"dataframe\">\n",
       "  <thead>\n",
       "    <tr style=\"text-align: right;\">\n",
       "      <th></th>\n",
       "      <th>body_type</th>\n",
       "      <th>brand</th>\n",
       "      <th>color</th>\n",
       "      <th>complectation</th>\n",
       "      <th>description</th>\n",
       "      <th>engine_vol</th>\n",
       "      <th>engine_power</th>\n",
       "      <th>equipment</th>\n",
       "      <th>fuel_type</th>\n",
       "      <th>mileage</th>\n",
       "      <th>model_date</th>\n",
       "      <th>model_name</th>\n",
       "      <th>doors_num</th>\n",
       "      <th>parsing_unixtime</th>\n",
       "      <th>production_date</th>\n",
       "      <th>transmission</th>\n",
       "      <th>vendor</th>\n",
       "      <th>num_owners</th>\n",
       "      <th>ownership</th>\n",
       "      <th>docs</th>\n",
       "      <th>drive</th>\n",
       "      <th>steering</th>\n",
       "      <th>price</th>\n",
       "    </tr>\n",
       "  </thead>\n",
       "  <tbody>\n",
       "    <tr>\n",
       "      <th>0</th>\n",
       "      <td>ALLROAD_5_DOORS</td>\n",
       "      <td>SKODA</td>\n",
       "      <td>C49648</td>\n",
       "      <td>{'id': '21837046', 'name': 'Active (2020-2021)...</td>\n",
       "      <td>В стоимость автомобиля включено дополнительное...</td>\n",
       "      <td>1.4</td>\n",
       "      <td>150</td>\n",
       "      <td>{'engine-proof': True, 'asr': True, 'glonass':...</td>\n",
       "      <td>GASOLINE</td>\n",
       "      <td>0</td>\n",
       "      <td>2017</td>\n",
       "      <td>KAROQ</td>\n",
       "      <td>5</td>\n",
       "      <td>NaN</td>\n",
       "      <td>2021</td>\n",
       "      <td>AUTOMATIC</td>\n",
       "      <td>0</td>\n",
       "      <td>0</td>\n",
       "      <td>NaN</td>\n",
       "      <td>0</td>\n",
       "      <td>FORWARD_CONTROL</td>\n",
       "      <td>0</td>\n",
       "      <td>1915400</td>\n",
       "    </tr>\n",
       "    <tr>\n",
       "      <th>1</th>\n",
       "      <td>LIFTBACK</td>\n",
       "      <td>SKODA</td>\n",
       "      <td>200204</td>\n",
       "      <td>{'id': '2436032', 'name': 'Elegance', 'availab...</td>\n",
       "      <td>Причина продажи — куплен новый автомобиль \\nКо...</td>\n",
       "      <td>1.8</td>\n",
       "      <td>152</td>\n",
       "      <td>{'cruise-control': True, 'asr': True, 'tinted-...</td>\n",
       "      <td>GASOLINE</td>\n",
       "      <td>179000</td>\n",
       "      <td>2008</td>\n",
       "      <td>SUPERB</td>\n",
       "      <td>5</td>\n",
       "      <td>NaN</td>\n",
       "      <td>2012</td>\n",
       "      <td>AUTOMATIC</td>\n",
       "      <td>0</td>\n",
       "      <td>2</td>\n",
       "      <td>NaN</td>\n",
       "      <td>0</td>\n",
       "      <td>FORWARD_CONTROL</td>\n",
       "      <td>0</td>\n",
       "      <td>880000</td>\n",
       "    </tr>\n",
       "  </tbody>\n",
       "</table>\n",
       "</div>"
      ],
      "text/plain": [
       "         body_type  brand   color  \\\n",
       "0  ALLROAD_5_DOORS  SKODA  C49648   \n",
       "1         LIFTBACK  SKODA  200204   \n",
       "\n",
       "                                       complectation  \\\n",
       "0  {'id': '21837046', 'name': 'Active (2020-2021)...   \n",
       "1  {'id': '2436032', 'name': 'Elegance', 'availab...   \n",
       "\n",
       "                                         description  engine_vol  \\\n",
       "0  В стоимость автомобиля включено дополнительное...         1.4   \n",
       "1  Причина продажи — куплен новый автомобиль \\nКо...         1.8   \n",
       "\n",
       "   engine_power                                          equipment fuel_type  \\\n",
       "0           150  {'engine-proof': True, 'asr': True, 'glonass':...  GASOLINE   \n",
       "1           152  {'cruise-control': True, 'asr': True, 'tinted-...  GASOLINE   \n",
       "\n",
       "   mileage  model_date model_name  doors_num  parsing_unixtime  \\\n",
       "0        0        2017      KAROQ          5               NaN   \n",
       "1   179000        2008     SUPERB          5               NaN   \n",
       "\n",
       "   production_date transmission  vendor  num_owners  ownership  docs  \\\n",
       "0             2021    AUTOMATIC       0           0        NaN     0   \n",
       "1             2012    AUTOMATIC       0           2        NaN     0   \n",
       "\n",
       "             drive  steering    price  \n",
       "0  FORWARD_CONTROL         0  1915400  \n",
       "1  FORWARD_CONTROL         0   880000  "
      ]
     },
     "metadata": {},
     "output_type": "display_data"
    },
    {
     "data": {
      "text/html": [
       "<div>\n",
       "<style scoped>\n",
       "    .dataframe tbody tr th:only-of-type {\n",
       "        vertical-align: middle;\n",
       "    }\n",
       "\n",
       "    .dataframe tbody tr th {\n",
       "        vertical-align: top;\n",
       "    }\n",
       "\n",
       "    .dataframe thead th {\n",
       "        text-align: right;\n",
       "    }\n",
       "</style>\n",
       "<table border=\"1\" class=\"dataframe\">\n",
       "  <thead>\n",
       "    <tr style=\"text-align: right;\">\n",
       "      <th></th>\n",
       "      <th>body_type</th>\n",
       "      <th>brand</th>\n",
       "      <th>color</th>\n",
       "      <th>complectation</th>\n",
       "      <th>description</th>\n",
       "      <th>engine_vol</th>\n",
       "      <th>engine_power</th>\n",
       "      <th>equipment</th>\n",
       "      <th>fuel_type</th>\n",
       "      <th>mileage</th>\n",
       "      <th>model_date</th>\n",
       "      <th>model_name</th>\n",
       "      <th>doors_num</th>\n",
       "      <th>parsing_unixtime</th>\n",
       "      <th>production_date</th>\n",
       "      <th>transmission</th>\n",
       "      <th>vendor</th>\n",
       "      <th>num_owners</th>\n",
       "      <th>ownership</th>\n",
       "      <th>docs</th>\n",
       "      <th>drive</th>\n",
       "      <th>steering</th>\n",
       "    </tr>\n",
       "  </thead>\n",
       "  <tbody>\n",
       "    <tr>\n",
       "      <th>0</th>\n",
       "      <td>LIFTBACK</td>\n",
       "      <td>SKODA</td>\n",
       "      <td>синий</td>\n",
       "      <td>NaN</td>\n",
       "      <td>Все автомобили, представленные в продаже, прох...</td>\n",
       "      <td>1.2</td>\n",
       "      <td>105</td>\n",
       "      <td>{\"engine-proof\":true,\"tinted-glass\":true,\"airb...</td>\n",
       "      <td>GASOLINE</td>\n",
       "      <td>74000</td>\n",
       "      <td>2013</td>\n",
       "      <td>OCTAVIA</td>\n",
       "      <td>5</td>\n",
       "      <td>1603226273</td>\n",
       "      <td>2014</td>\n",
       "      <td>ROBOT</td>\n",
       "      <td>0</td>\n",
       "      <td>3</td>\n",
       "      <td>NaN</td>\n",
       "      <td>0</td>\n",
       "      <td>FORWARD_CONTROL</td>\n",
       "      <td>0</td>\n",
       "    </tr>\n",
       "    <tr>\n",
       "      <th>1</th>\n",
       "      <td>LIFTBACK</td>\n",
       "      <td>SKODA</td>\n",
       "      <td>чёрный</td>\n",
       "      <td>NaN</td>\n",
       "      <td>ЛОТ: 01217195\\nАвтопрага Север\\nДанный автомоб...</td>\n",
       "      <td>1.6</td>\n",
       "      <td>110</td>\n",
       "      <td>{\"cruise-control\":true,\"asr\":true,\"esp\":true,\"...</td>\n",
       "      <td>GASOLINE</td>\n",
       "      <td>60563</td>\n",
       "      <td>2017</td>\n",
       "      <td>OCTAVIA</td>\n",
       "      <td>5</td>\n",
       "      <td>1603226277</td>\n",
       "      <td>2017</td>\n",
       "      <td>MECHANICAL</td>\n",
       "      <td>0</td>\n",
       "      <td>1</td>\n",
       "      <td>NaN</td>\n",
       "      <td>0</td>\n",
       "      <td>FORWARD_CONTROL</td>\n",
       "      <td>0</td>\n",
       "    </tr>\n",
       "  </tbody>\n",
       "</table>\n",
       "</div>"
      ],
      "text/plain": [
       "  body_type  brand   color complectation  \\\n",
       "0  LIFTBACK  SKODA   синий           NaN   \n",
       "1  LIFTBACK  SKODA  чёрный           NaN   \n",
       "\n",
       "                                         description  engine_vol  \\\n",
       "0  Все автомобили, представленные в продаже, прох...         1.2   \n",
       "1  ЛОТ: 01217195\\nАвтопрага Север\\nДанный автомоб...         1.6   \n",
       "\n",
       "   engine_power                                          equipment fuel_type  \\\n",
       "0           105  {\"engine-proof\":true,\"tinted-glass\":true,\"airb...  GASOLINE   \n",
       "1           110  {\"cruise-control\":true,\"asr\":true,\"esp\":true,\"...  GASOLINE   \n",
       "\n",
       "   mileage  model_date model_name  doors_num  parsing_unixtime  \\\n",
       "0    74000        2013    OCTAVIA          5        1603226273   \n",
       "1    60563        2017    OCTAVIA          5        1603226277   \n",
       "\n",
       "   production_date transmission  vendor  num_owners  ownership  docs  \\\n",
       "0             2014        ROBOT       0           3        NaN     0   \n",
       "1             2017   MECHANICAL       0           1        NaN     0   \n",
       "\n",
       "             drive  steering  \n",
       "0  FORWARD_CONTROL         0  \n",
       "1  FORWARD_CONTROL         0  "
      ]
     },
     "metadata": {},
     "output_type": "display_data"
    }
   ],
   "source": [
    "df_train = pd.read_csv(DIR_TRAIN + 'train.csv') # датасет для обучения модели\n",
    "df_test = pd.read_csv(DIR_TEST + 'test_clean.csv')\n",
    "\n",
    "display(df_train.head(2))\n",
    "display(df_test.head(2))"
   ]
  },
  {
   "cell_type": "markdown",
   "metadata": {},
   "source": [
    "### 1.1. price\n",
    "\n",
    "`price` - это целевая переменная. Крайне важно, чтобы в ней не было пропусков и невализных значений. Проверим."
   ]
  },
  {
   "cell_type": "code",
   "execution_count": 4,
   "metadata": {},
   "outputs": [
    {
     "name": "stdout",
     "output_type": "stream",
     "text": [
      "Всего пропусков в столбце \"price\": 0\n",
      "Всего нулевых значений в столбце \"price\": 0\n"
     ]
    },
    {
     "data": {
      "text/plain": [
       "<AxesSubplot:>"
      ]
     },
     "execution_count": 4,
     "metadata": {},
     "output_type": "execute_result"
    },
    {
     "data": {
      "image/png": "[encoded data removed]",
      "text/plain": [
       "<Figure size 1440x504 with 1 Axes>"
      ]
     },
     "metadata": {
      "needs_background": "light"
     },
     "output_type": "display_data"
    }
   ],
   "source": [
    "print('Всего пропусков в столбце \"price\":', df_train.price.isna().sum())\n",
    "print('Всего нулевых значений в столбце \"price\":', df_train.price.isnull().sum())\n",
    "df_train.price.hist(bins=50)"
   ]
  },
  {
   "cell_type": "code",
   "execution_count": 5,
   "metadata": {},
   "outputs": [
    {
     "data": {
      "text/plain": [
       "{'whiskers': [<matplotlib.lines.Line2D at 0x7fee0f8fdbb0>,\n",
       "  <matplotlib.lines.Line2D at 0x7fee0f8fde80>],\n",
       " 'caps': [<matplotlib.lines.Line2D at 0x7fee0f90c250>,\n",
       "  <matplotlib.lines.Line2D at 0x7fee0f90c5e0>],\n",
       " 'boxes': [<matplotlib.lines.Line2D at 0x7fee0f8fd760>],\n",
       " 'medians': [<matplotlib.lines.Line2D at 0x7fee0f90c970>],\n",
       " 'fliers': [<matplotlib.lines.Line2D at 0x7fee0f90cd30>],\n",
       " 'means': []}"
      ]
     },
     "execution_count": 5,
     "metadata": {},
     "output_type": "execute_result"
    },
    {
     "data": {
      "image/png": "[encoded data removed]",
      "text/plain": [
       "<Figure size 1440x504 with 1 Axes>"
      ]
     },
     "metadata": {
      "needs_background": "light"
     },
     "output_type": "display_data"
    }
   ],
   "source": [
    "plt.boxplot(df_train.price, vert=False)"
   ]
  },
  {
   "cell_type": "markdown",
   "metadata": {},
   "source": [
    "Данные распределены экспоненциально, что ожидаемо, есть выбросы, необходимо проверить их на адекватность"
   ]
  },
  {
   "cell_type": "code",
   "execution_count": 6,
   "metadata": {},
   "outputs": [
    {
     "data": {
      "text/html": [
       "<div>\n",
       "<style scoped>\n",
       "    .dataframe tbody tr th:only-of-type {\n",
       "        vertical-align: middle;\n",
       "    }\n",
       "\n",
       "    .dataframe tbody tr th {\n",
       "        vertical-align: top;\n",
       "    }\n",
       "\n",
       "    .dataframe thead th {\n",
       "        text-align: right;\n",
       "    }\n",
       "</style>\n",
       "<table border=\"1\" class=\"dataframe\">\n",
       "  <thead>\n",
       "    <tr style=\"text-align: right;\">\n",
       "      <th></th>\n",
       "      <th>body_type</th>\n",
       "      <th>brand</th>\n",
       "      <th>color</th>\n",
       "      <th>complectation</th>\n",
       "      <th>description</th>\n",
       "      <th>engine_vol</th>\n",
       "      <th>engine_power</th>\n",
       "      <th>equipment</th>\n",
       "      <th>fuel_type</th>\n",
       "      <th>mileage</th>\n",
       "      <th>model_date</th>\n",
       "      <th>model_name</th>\n",
       "      <th>doors_num</th>\n",
       "      <th>parsing_unixtime</th>\n",
       "      <th>production_date</th>\n",
       "      <th>transmission</th>\n",
       "      <th>vendor</th>\n",
       "      <th>num_owners</th>\n",
       "      <th>ownership</th>\n",
       "      <th>docs</th>\n",
       "      <th>drive</th>\n",
       "      <th>steering</th>\n",
       "      <th>price</th>\n",
       "    </tr>\n",
       "  </thead>\n",
       "  <tbody>\n",
       "    <tr>\n",
       "      <th>63067</th>\n",
       "      <td>MINIVAN</td>\n",
       "      <td>MERCEDES</td>\n",
       "      <td>040001</td>\n",
       "      <td>{'id': '0'}</td>\n",
       "      <td>Zart 89 Royal\\nПриобрести данный автомобиль мо...</td>\n",
       "      <td>2.1</td>\n",
       "      <td>190</td>\n",
       "      <td>{'navigation': True, 'front-seats-heat-vent': ...</td>\n",
       "      <td>DIESEL</td>\n",
       "      <td>1</td>\n",
       "      <td>2014</td>\n",
       "      <td>V_KLASSE</td>\n",
       "      <td>5</td>\n",
       "      <td>NaN</td>\n",
       "      <td>2020</td>\n",
       "      <td>AUTOMATIC</td>\n",
       "      <td>0</td>\n",
       "      <td>1</td>\n",
       "      <td>NaN</td>\n",
       "      <td>0</td>\n",
       "      <td>ALL_WHEEL_DRIVE</td>\n",
       "      <td>0</td>\n",
       "      <td>28700000</td>\n",
       "    </tr>\n",
       "    <tr>\n",
       "      <th>65500</th>\n",
       "      <td>COUPE</td>\n",
       "      <td>MERCEDES</td>\n",
       "      <td>97948F</td>\n",
       "      <td>{'id': '2534065', 'name': 'SLR McLaren', 'avai...</td>\n",
       "      <td>Кузов выполнен полностью из карбона, единствен...</td>\n",
       "      <td>5.4</td>\n",
       "      <td>626</td>\n",
       "      <td>{'cruise-control': True, 'asr': True, 'esp': T...</td>\n",
       "      <td>GASOLINE</td>\n",
       "      <td>15000</td>\n",
       "      <td>2003</td>\n",
       "      <td>SLR_KLASSE</td>\n",
       "      <td>2</td>\n",
       "      <td>NaN</td>\n",
       "      <td>2004</td>\n",
       "      <td>AUTOMATIC</td>\n",
       "      <td>0</td>\n",
       "      <td>4</td>\n",
       "      <td>NaN</td>\n",
       "      <td>1</td>\n",
       "      <td>REAR_DRIVE</td>\n",
       "      <td>0</td>\n",
       "      <td>22900000</td>\n",
       "    </tr>\n",
       "    <tr>\n",
       "      <th>62198</th>\n",
       "      <td>MINIVAN</td>\n",
       "      <td>MERCEDES</td>\n",
       "      <td>040001</td>\n",
       "      <td>{'id': '21363629', 'name': 'V250 d Avantgarde ...</td>\n",
       "      <td>Zart 91 Radiance\\n\\nПриобрести данный автомоби...</td>\n",
       "      <td>2.1</td>\n",
       "      <td>190</td>\n",
       "      <td>{'esp': True, 'usb': True, 'multi-wheel': True...</td>\n",
       "      <td>DIESEL</td>\n",
       "      <td>1</td>\n",
       "      <td>2014</td>\n",
       "      <td>V_KLASSE</td>\n",
       "      <td>5</td>\n",
       "      <td>NaN</td>\n",
       "      <td>2020</td>\n",
       "      <td>AUTOMATIC</td>\n",
       "      <td>0</td>\n",
       "      <td>1</td>\n",
       "      <td>NaN</td>\n",
       "      <td>0</td>\n",
       "      <td>ALL_WHEEL_DRIVE</td>\n",
       "      <td>0</td>\n",
       "      <td>24900000</td>\n",
       "    </tr>\n",
       "    <tr>\n",
       "      <th>62823</th>\n",
       "      <td>COUPE</td>\n",
       "      <td>MERCEDES</td>\n",
       "      <td>040001</td>\n",
       "      <td>{'id': '0'}</td>\n",
       "      <td>Продается SLR из частной коллекции.</td>\n",
       "      <td>5.4</td>\n",
       "      <td>626</td>\n",
       "      <td>{}</td>\n",
       "      <td>GASOLINE</td>\n",
       "      <td>28600</td>\n",
       "      <td>2003</td>\n",
       "      <td>SLR_KLASSE</td>\n",
       "      <td>2</td>\n",
       "      <td>NaN</td>\n",
       "      <td>2005</td>\n",
       "      <td>AUTOMATIC</td>\n",
       "      <td>0</td>\n",
       "      <td>4</td>\n",
       "      <td>NaN</td>\n",
       "      <td>0</td>\n",
       "      <td>REAR_DRIVE</td>\n",
       "      <td>0</td>\n",
       "      <td>50000000</td>\n",
       "    </tr>\n",
       "    <tr>\n",
       "      <th>62271</th>\n",
       "      <td>ALLROAD_5_DOORS</td>\n",
       "      <td>MERCEDES</td>\n",
       "      <td>0000CC</td>\n",
       "      <td>{'id': '21217612', 'name': 'AMG G 63', 'availa...</td>\n",
       "      <td>Аэродинамический обвес BRABUS WIDESTAR\\nВставк...</td>\n",
       "      <td>4.0</td>\n",
       "      <td>585</td>\n",
       "      <td>{'cruise-control': True, 'tinted-glass': True,...</td>\n",
       "      <td>GASOLINE</td>\n",
       "      <td>7711</td>\n",
       "      <td>2018</td>\n",
       "      <td>G_KLASSE_AMG</td>\n",
       "      <td>5</td>\n",
       "      <td>NaN</td>\n",
       "      <td>2020</td>\n",
       "      <td>AUTOMATIC</td>\n",
       "      <td>0</td>\n",
       "      <td>1</td>\n",
       "      <td>NaN</td>\n",
       "      <td>0</td>\n",
       "      <td>ALL_WHEEL_DRIVE</td>\n",
       "      <td>0</td>\n",
       "      <td>28500000</td>\n",
       "    </tr>\n",
       "  </tbody>\n",
       "</table>\n",
       "</div>"
      ],
      "text/plain": [
       "             body_type     brand   color  \\\n",
       "63067          MINIVAN  MERCEDES  040001   \n",
       "65500            COUPE  MERCEDES  97948F   \n",
       "62198          MINIVAN  MERCEDES  040001   \n",
       "62823            COUPE  MERCEDES  040001   \n",
       "62271  ALLROAD_5_DOORS  MERCEDES  0000CC   \n",
       "\n",
       "                                           complectation  \\\n",
       "63067                                        {'id': '0'}   \n",
       "65500  {'id': '2534065', 'name': 'SLR McLaren', 'avai...   \n",
       "62198  {'id': '21363629', 'name': 'V250 d Avantgarde ...   \n",
       "62823                                        {'id': '0'}   \n",
       "62271  {'id': '21217612', 'name': 'AMG G 63', 'availa...   \n",
       "\n",
       "                                             description  engine_vol  \\\n",
       "63067  Zart 89 Royal\\nПриобрести данный автомобиль мо...         2.1   \n",
       "65500  Кузов выполнен полностью из карбона, единствен...         5.4   \n",
       "62198  Zart 91 Radiance\\n\\nПриобрести данный автомоби...         2.1   \n",
       "62823                Продается SLR из частной коллекции.         5.4   \n",
       "62271  Аэродинамический обвес BRABUS WIDESTAR\\nВставк...         4.0   \n",
       "\n",
       "       engine_power                                          equipment  \\\n",
       "63067           190  {'navigation': True, 'front-seats-heat-vent': ...   \n",
       "65500           626  {'cruise-control': True, 'asr': True, 'esp': T...   \n",
       "62198           190  {'esp': True, 'usb': True, 'multi-wheel': True...   \n",
       "62823           626                                                 {}   \n",
       "62271           585  {'cruise-control': True, 'tinted-glass': True,...   \n",
       "\n",
       "      fuel_type  mileage  model_date    model_name  doors_num  \\\n",
       "63067    DIESEL        1        2014      V_KLASSE          5   \n",
       "65500  GASOLINE    15000        2003    SLR_KLASSE          2   \n",
       "62198    DIESEL        1        2014      V_KLASSE          5   \n",
       "62823  GASOLINE    28600        2003    SLR_KLASSE          2   \n",
       "62271  GASOLINE     7711        2018  G_KLASSE_AMG          5   \n",
       "\n",
       "       parsing_unixtime  production_date transmission  vendor  num_owners  \\\n",
       "63067               NaN             2020    AUTOMATIC       0           1   \n",
       "65500               NaN             2004    AUTOMATIC       0           4   \n",
       "62198               NaN             2020    AUTOMATIC       0           1   \n",
       "62823               NaN             2005    AUTOMATIC       0           4   \n",
       "62271               NaN             2020    AUTOMATIC       0           1   \n",
       "\n",
       "       ownership  docs            drive  steering     price  \n",
       "63067        NaN     0  ALL_WHEEL_DRIVE         0  28700000  \n",
       "65500        NaN     1       REAR_DRIVE         0  22900000  \n",
       "62198        NaN     0  ALL_WHEEL_DRIVE         0  24900000  \n",
       "62823        NaN     0       REAR_DRIVE         0  50000000  \n",
       "62271        NaN     0  ALL_WHEEL_DRIVE         0  28500000  "
      ]
     },
     "execution_count": 6,
     "metadata": {},
     "output_type": "execute_result"
    }
   ],
   "source": [
    "most_expensive = df_train.price.sort_values(ascending=False).head(20).index\n",
    "df_train.loc[most_expensive].sample(5)"
   ]
  },
  {
   "cell_type": "markdown",
   "metadata": {},
   "source": [
    "В общем-то нет ничего необычного, дорогие машины дорого стоят. \n",
    "\n",
    "Единственное, что следует сделать с целевой переменной - логарифмировать. а заодно сразу выделить отдельно от остального дата-сета"
   ]
  },
  {
   "cell_type": "code",
   "execution_count": 7,
   "metadata": {},
   "outputs": [],
   "source": [
    "y = np.log(1 + df_train.price) # dummy fix for zero values (safety first!!!)\n",
    "df_train.drop(columns='price', inplace=True)"
   ]
  },
  {
   "cell_type": "markdown",
   "metadata": {
    "papermill": {
     "duration": 0.057589,
     "end_time": "2021-01-21T19:55:45.306708",
     "exception": false,
     "start_time": "2021-01-21T19:55:45.249119",
     "status": "completed"
    },
    "tags": []
   },
   "source": [
    "### 1.2. color\n",
    "Приведем обозначение цвета к единой номерклотуре. В тренировочном дата-сете цвет в формате RGB, в тестовом - в виде русских наименований цвета. Поскольку столбец категоральный и будет или дропнут или заменен dummy-переменными, будем использовать русские цвета, т.к. они проще в восприятии."
   ]
  },
  {
   "cell_type": "code",
   "execution_count": 8,
   "metadata": {
    "execution": {
     "iopub.execute_input": "2021-01-21T19:55:45.443504Z",
     "iopub.status.busy": "2021-01-21T19:55:45.440439Z",
     "iopub.status.idle": "2021-01-21T19:55:45.446391Z",
     "shell.execute_reply": "2021-01-21T19:55:45.445757Z"
    },
    "papermill": {
     "duration": 0.081474,
     "end_time": "2021-01-21T19:55:45.446507",
     "exception": false,
     "start_time": "2021-01-21T19:55:45.365033",
     "status": "completed"
    },
    "tags": []
   },
   "outputs": [],
   "source": [
    "dict_color = {'040001':'чёрный', 'EE1D19':'красный', '0000CC':'синий', \n",
    "              'CACECB':'серебристый', '007F00':'зелёный', 'FAFBFB':'белый', \n",
    "              '97948F':'серый', '22A0F8':'голубой', '660099':'пурпурный', \n",
    "              '200204':'коричневый', 'C49648':'бежевый', 'DEA522':'золотистый', \n",
    "              '4A2197':'фиолетовый', 'FFD600':'жёлтый', 'FF8649':'оранжевый', \n",
    "              'FFC0CB':'розовый'}\n",
    "df_train['color'] = df_train['color'].map(dict_color)"
   ]
  },
  {
   "cell_type": "markdown",
   "metadata": {},
   "source": [
    "### 1.3. parsing_unixtime\n",
    "\n",
    "Столбец характеризует дату/время обработки объявления с сайта. В тестовом дата-сете он указан, а в тренировочном пропущен, т.к. я забыл его добавить на момент выгрузки данных. Эти данные для моделирования бесполезны, но нужны для введения поправки на валютные курсы, инфляцию и т.п. на стадии формирования сабмишна. поэтому из тестового набора их надо отложить, в из тренировочного - врять время создания файла `train.csv`."
   ]
  },
  {
   "cell_type": "code",
   "execution_count": 9,
   "metadata": {},
   "outputs": [],
   "source": [
    "# translate from unix time in seconds to pandas Timestamp\n",
    "df_test.parsing_unixtime = pd.to_datetime(df_test.parsing_unixtime, unit='s')"
   ]
  },
  {
   "cell_type": "code",
   "execution_count": 10,
   "metadata": {},
   "outputs": [
    {
     "data": {
      "text/plain": [
       "(Timestamp('2020-10-19 11:35:06'), Timestamp('2020-10-26 11:04:24'))"
      ]
     },
     "execution_count": 10,
     "metadata": {},
     "output_type": "execute_result"
    }
   ],
   "source": [
    "# copy to temporary variable\n",
    "time_test = df_test.parsing_unixtime.copy()\n",
    "(time_test.min(), time_test.max())"
   ]
  },
  {
   "cell_type": "code",
   "execution_count": 11,
   "metadata": {},
   "outputs": [],
   "source": [
    "# This is how to get this time in ideal conditions\n",
    "# time_train = pd.Timestamp(path.getmtime(DIR_TRAIN + 'train.csv'), unit='s')\n",
    "\n",
    "# This is the most safe way to get it\n",
    "time_train = pd.Timestamp('2021-07-26 18:40:10.601043463')\n",
    "df_train.parsing_unixtime = time_train"
   ]
  },
  {
   "cell_type": "markdown",
   "metadata": {},
   "source": [
    "Для упрощения дальнейшей обработки необходимо объединить тестовый и тренировочный дата-сеты в один. "
   ]
  },
  {
   "cell_type": "code",
   "execution_count": 12,
   "metadata": {},
   "outputs": [],
   "source": [
    "df_train['train'] = 1\n",
    "df_test['train'] = 0\n",
    "df = pd.concat([df_train, df_test], ignore_index=True)"
   ]
  },
  {
   "cell_type": "code",
   "execution_count": 13,
   "metadata": {},
   "outputs": [],
   "source": [
    "time_all = df.parsing_unixtime.copy()"
   ]
  },
  {
   "cell_type": "markdown",
   "metadata": {},
   "source": [
    "### 1.4. complectation\n",
    "\n",
    "Столбец `complectation` содержит описание комплектации. В них надо хорошо разбираться, чтобы использовать. \n",
    "Оставим это вне рамок текущей версии ноутбука."
   ]
  },
  {
   "cell_type": "code",
   "execution_count": 14,
   "metadata": {},
   "outputs": [],
   "source": [
    "df.drop(columns='complectation', inplace=True)"
   ]
  },
  {
   "cell_type": "markdown",
   "metadata": {},
   "source": [
    "### 1.5. description\n",
    "\n",
    "Столбцу `description` требуется семантический анализ. Отложим его пока в сторону."
   ]
  },
  {
   "cell_type": "code",
   "execution_count": 15,
   "metadata": {},
   "outputs": [],
   "source": [
    "description = df.description.copy()\n",
    "df.drop(columns='description', inplace=True)"
   ]
  },
  {
   "cell_type": "markdown",
   "metadata": {},
   "source": [
    "### 1.6. equipment\n",
    "\n",
    "Столбец `equipment` строковых, но очевидно, содержит в себе json, которй описывает комплектации автомобиля. Для начала необходимо его распарсить, а потом обработать. На первом этапе для моделирования возьмем просто количество ключей в json-объекте - по идее, чем богаче комплектация, тем опций должно быть больше, тем дороже должна быть машина. В идеале - надо делать некий рейтинг опций по дороговизне (напрмиер, климат-контроль дороже кондиционера, но вместе они не устанавливаются), но для учебного проекта хватит и количества."
   ]
  },
  {
   "cell_type": "code",
   "execution_count": 16,
   "metadata": {},
   "outputs": [
    {
     "data": {
      "text/plain": [
       "Series([], Name: equipment, dtype: object)"
      ]
     },
     "execution_count": 16,
     "metadata": {},
     "output_type": "execute_result"
    }
   ],
   "source": [
    "# try to parse string as string representation of Python's dict\n",
    "def parse_str_dict(s):\n",
    "    try:\n",
    "        obj = ast.literal_eval(s)\n",
    "        return len(obj.keys())\n",
    "    except:\n",
    "        return -1\n",
    "    \n",
    "    \n",
    "def parse_json(s):\n",
    "    try:\n",
    "        obj = json.loads(s, strict=False)\n",
    "        return len(obj.keys())\n",
    "    except:\n",
    "        return -1\n",
    "\n",
    "    \n",
    "def pasre_equipment(s):\n",
    "    # if empty, NaN or empty object - just return 0\n",
    "    if pd.isna(s) or s == '{}':\n",
    "        return 0\n",
    "    \n",
    "    # then - try to parse as string representation of Python's dict\n",
    "    res = parse_str_dict(s)\n",
    "    # in case of failure - try to parse as JSON\n",
    "    return res if res > -1 else parse_json(s)\n",
    "\n",
    "# parse equipment\n",
    "equipment = df.equipment.apply(pasre_equipment)\n",
    "# find all invalid values (neither str. rep. of dict nor JSON)\n",
    "wrong = equipment[equipment == -1].index\n",
    "# and print them\n",
    "df.equipment.loc[wrong]"
   ]
  },
  {
   "cell_type": "markdown",
   "metadata": {},
   "source": [
    "Отлично, ошибок не осталось, можно заменить столбец `equipment` в дата-сете"
   ]
  },
  {
   "cell_type": "code",
   "execution_count": 17,
   "metadata": {},
   "outputs": [],
   "source": [
    "df.equipment = equipment"
   ]
  },
  {
   "cell_type": "markdown",
   "metadata": {},
   "source": [
    "### 1.7. ownership\n",
    "\n",
    "столбец `ownership` описывает время владения в дробных годах (см ноутбук `prepare_test`). В столбце многопропусков, т.к. в тренировочной выборке он вообще не заполнялся, да и в тестовой выборке пропуски присутствовали. Исправим это самым простым путем - вычтем из `parsing_time` год выпуска `production_date`. за неимением других данных - это довольно точная оценка"
   ]
  },
  {
   "cell_type": "code",
   "execution_count": 18,
   "metadata": {},
   "outputs": [],
   "source": [
    "def fill_ownership(row):\n",
    "    if not pd.isna(row.ownership):\n",
    "        return row.ownership\n",
    "    \n",
    "    diff = (row.parsing_unixtime - pd.to_datetime(row.production_date, format='%Y')).days / 365.0\n",
    "    return diff\n",
    "\n",
    "df.ownership = df.apply(fill_ownership, axis=1)"
   ]
  },
  {
   "cell_type": "markdown",
   "metadata": {},
   "source": [
    "### 1.8. пропуски\n",
    "\n",
    "взглянем на столбцы, в которых есть пропуски или `NaN`"
   ]
  },
  {
   "cell_type": "code",
   "execution_count": 19,
   "metadata": {},
   "outputs": [
    {
     "data": {
      "text/plain": [
       "body_type           0\n",
       "brand               0\n",
       "color               0\n",
       "engine_vol          0\n",
       "engine_power        0\n",
       "equipment           0\n",
       "fuel_type           0\n",
       "mileage             0\n",
       "model_date          0\n",
       "model_name          0\n",
       "doors_num           0\n",
       "parsing_unixtime    0\n",
       "production_date     0\n",
       "transmission        0\n",
       "vendor              0\n",
       "num_owners          0\n",
       "ownership           0\n",
       "docs                0\n",
       "drive               0\n",
       "steering            0\n",
       "train               0\n",
       "dtype: int64"
      ]
     },
     "execution_count": 19,
     "metadata": {},
     "output_type": "execute_result"
    }
   ],
   "source": [
    "df.isna().sum()"
   ]
  },
  {
   "cell_type": "markdown",
   "metadata": {},
   "source": [
    "Отлично, таковых нет.\n",
    "\n",
    "### 1.9. типы данных\n",
    "\n",
    "Проверим, соответствуют ли типы даныых столбцов дата-сета фактическим данным, которые там содержатся"
   ]
  },
  {
   "cell_type": "code",
   "execution_count": 20,
   "metadata": {},
   "outputs": [
    {
     "name": "stdout",
     "output_type": "stream",
     "text": [
      "<class 'pandas.core.frame.DataFrame'>\n",
      "RangeIndex: 100920 entries, 0 to 100919\n",
      "Data columns (total 21 columns):\n",
      " #   Column            Non-Null Count   Dtype         \n",
      "---  ------            --------------   -----         \n",
      " 0   body_type         100920 non-null  object        \n",
      " 1   brand             100920 non-null  object        \n",
      " 2   color             100920 non-null  object        \n",
      " 3   engine_vol        100920 non-null  float64       \n",
      " 4   engine_power      100920 non-null  int64         \n",
      " 5   equipment         100920 non-null  int64         \n",
      " 6   fuel_type         100920 non-null  object        \n",
      " 7   mileage           100920 non-null  int64         \n",
      " 8   model_date        100920 non-null  int64         \n",
      " 9   model_name        100920 non-null  object        \n",
      " 10  doors_num         100920 non-null  int64         \n",
      " 11  parsing_unixtime  100920 non-null  datetime64[ns]\n",
      " 12  production_date   100920 non-null  int64         \n",
      " 13  transmission      100920 non-null  object        \n",
      " 14  vendor            100920 non-null  int64         \n",
      " 15  num_owners        100920 non-null  int64         \n",
      " 16  ownership         100920 non-null  float64       \n",
      " 17  docs              100920 non-null  int64         \n",
      " 18  drive             100920 non-null  object        \n",
      " 19  steering          100920 non-null  int64         \n",
      " 20  train             100920 non-null  int64         \n",
      "dtypes: datetime64[ns](1), float64(2), int64(11), object(7)\n",
      "memory usage: 16.2+ MB\n"
     ]
    }
   ],
   "source": [
    "df.info()"
   ]
  },
  {
   "cell_type": "markdown",
   "metadata": {},
   "source": [
    "Да, расхождений нет.\n",
    "\n",
    "Теперь наконец избавимся от столбца `parsing_unixtime`"
   ]
  },
  {
   "cell_type": "code",
   "execution_count": 21,
   "metadata": {},
   "outputs": [],
   "source": [
    "df.drop(columns='parsing_unixtime', inplace=True)"
   ]
  },
  {
   "cell_type": "markdown",
   "metadata": {
    "papermill": {
     "duration": 0.081961,
     "end_time": "2021-01-21T19:55:58.775405",
     "exception": false,
     "start_time": "2021-01-21T19:55:58.693444",
     "status": "completed"
    },
    "tags": []
   },
   "source": [
    "## 2. Немного EDA\n",
    "\n",
    "Поскольку большая часть данных была обработана и очищена на ранних этапах, нет смысла в глубоком EDA. Просто можно для порядка оценить наличие мультиколлинеарности в данных, чтобы попытаться уменьшить размерность дата-сета"
   ]
  },
  {
   "cell_type": "code",
   "execution_count": 22,
   "metadata": {},
   "outputs": [
    {
     "data": {
      "text/plain": [
       "<AxesSubplot:>"
      ]
     },
     "execution_count": 22,
     "metadata": {},
     "output_type": "execute_result"
    },
    {
     "data": {
      "image/png": "[encoded data removed]",
      "text/plain": [
       "<Figure size 1800x720 with 2 Axes>"
      ]
     },
     "metadata": {
      "needs_background": "light"
     },
     "output_type": "display_data"
    }
   ],
   "source": [
    "corr = df.drop(columns=['train']).corr()\n",
    "fig, axes = plt.subplots(figsize=(25,10))\n",
    "sns.heatmap(corr, ax=axes, vmin=0, vmax=1, annot = True)"
   ]
  },
  {
   "cell_type": "markdown",
   "metadata": {},
   "source": [
    "Видим наличие сильной положительной корреляции в столбцах `model_date` и `production_date` - почти 1. Избавимся от любого из них на выбор, я предпочту убрать `model_date`.\n",
    "\n",
    "Следом идут столбцы `engine_power` и `engine_vol` с корреляцией `0.81`, что тоже не удивительно - больше двигатель = больше лошадок. \n",
    "\n",
    "Также есть значительная корреляция между столбцами `mileage`, `num_owners` и `ownership`.\n",
    "Прежде чем принять решение об удалении каких-либо из этих столбцов, проведем тривиальное моделирование."
   ]
  },
  {
   "cell_type": "code",
   "execution_count": 23,
   "metadata": {},
   "outputs": [],
   "source": [
    "df.drop(columns='model_date', inplace=True)"
   ]
  },
  {
   "cell_type": "markdown",
   "metadata": {
    "papermill": {
     "duration": 0.088211,
     "end_time": "2021-01-21T19:56:03.923615",
     "exception": false,
     "start_time": "2021-01-21T19:56:03.835404",
     "status": "completed"
    },
    "tags": []
   },
   "source": [
    "## 3. Подготовка данных к моделированию\n",
    "### 3.1. Числовые признаки"
   ]
  },
  {
   "cell_type": "code",
   "execution_count": 24,
   "metadata": {
    "execution": {
     "iopub.execute_input": "2021-01-21T19:56:04.108578Z",
     "iopub.status.busy": "2021-01-21T19:56:04.106849Z",
     "iopub.status.idle": "2021-01-21T19:56:04.153232Z",
     "shell.execute_reply": "2021-01-21T19:56:04.152658Z"
    },
    "papermill": {
     "duration": 0.141822,
     "end_time": "2021-01-21T19:56:04.153345",
     "exception": false,
     "start_time": "2021-01-21T19:56:04.011523",
     "status": "completed"
    },
    "tags": []
   },
   "outputs": [
    {
     "data": {
      "text/html": [
       "<div>\n",
       "<style scoped>\n",
       "    .dataframe tbody tr th:only-of-type {\n",
       "        vertical-align: middle;\n",
       "    }\n",
       "\n",
       "    .dataframe tbody tr th {\n",
       "        vertical-align: top;\n",
       "    }\n",
       "\n",
       "    .dataframe thead th {\n",
       "        text-align: right;\n",
       "    }\n",
       "</style>\n",
       "<table border=\"1\" class=\"dataframe\">\n",
       "  <thead>\n",
       "    <tr style=\"text-align: right;\">\n",
       "      <th></th>\n",
       "      <th>body_type</th>\n",
       "      <th>brand</th>\n",
       "      <th>color</th>\n",
       "      <th>engine_vol</th>\n",
       "      <th>engine_power</th>\n",
       "      <th>equipment</th>\n",
       "      <th>fuel_type</th>\n",
       "      <th>mileage</th>\n",
       "      <th>model_name</th>\n",
       "      <th>doors_num</th>\n",
       "      <th>production_date</th>\n",
       "      <th>transmission</th>\n",
       "      <th>vendor</th>\n",
       "      <th>num_owners</th>\n",
       "      <th>ownership</th>\n",
       "      <th>docs</th>\n",
       "      <th>drive</th>\n",
       "      <th>steering</th>\n",
       "      <th>train</th>\n",
       "    </tr>\n",
       "  </thead>\n",
       "  <tbody>\n",
       "    <tr>\n",
       "      <th>0</th>\n",
       "      <td>ALLROAD_5_DOORS</td>\n",
       "      <td>SKODA</td>\n",
       "      <td>бежевый</td>\n",
       "      <td>-0.930499</td>\n",
       "      <td>-0.311996</td>\n",
       "      <td>0.527459</td>\n",
       "      <td>GASOLINE</td>\n",
       "      <td>-1.249535</td>\n",
       "      <td>KAROQ</td>\n",
       "      <td>0.687785</td>\n",
       "      <td>1.248504</td>\n",
       "      <td>AUTOMATIC</td>\n",
       "      <td>0</td>\n",
       "      <td>-1.546509</td>\n",
       "      <td>-1.162752</td>\n",
       "      <td>0</td>\n",
       "      <td>FORWARD_CONTROL</td>\n",
       "      <td>0</td>\n",
       "      <td>1</td>\n",
       "    </tr>\n",
       "  </tbody>\n",
       "</table>\n",
       "</div>"
      ],
      "text/plain": [
       "         body_type  brand    color  engine_vol  engine_power  equipment  \\\n",
       "0  ALLROAD_5_DOORS  SKODA  бежевый   -0.930499     -0.311996   0.527459   \n",
       "\n",
       "  fuel_type   mileage model_name  doors_num  production_date transmission  \\\n",
       "0  GASOLINE -1.249535      KAROQ   0.687785         1.248504    AUTOMATIC   \n",
       "\n",
       "   vendor  num_owners  ownership  docs            drive  steering  train  \n",
       "0       0   -1.546509  -1.162752     0  FORWARD_CONTROL         0      1  "
      ]
     },
     "execution_count": 24,
     "metadata": {},
     "output_type": "execute_result"
    }
   ],
   "source": [
    "num_columns = ['engine_vol', 'engine_power', 'equipment', 'mileage', 'doors_num', \n",
    "               'production_date', 'num_owners', 'ownership']\n",
    "df[num_columns] = StandardScaler().fit_transform(df[num_columns])\n",
    "df.head(1)"
   ]
  },
  {
   "cell_type": "markdown",
   "metadata": {
    "papermill": {
     "duration": 0.087693,
     "end_time": "2021-01-21T19:56:04.331838",
     "exception": false,
     "start_time": "2021-01-21T19:56:04.244145",
     "status": "completed"
    },
    "tags": []
   },
   "source": [
    "### 3.2. Категоральные признаки\n",
    "\n",
    "Псомтрим, какие из категоральных столбцов могут быть преобразованы в число, а какие в dummy-переменные"
   ]
  },
  {
   "cell_type": "code",
   "execution_count": 25,
   "metadata": {},
   "outputs": [
    {
     "data": {
      "text/plain": [
       "body_type         26\n",
       "brand             36\n",
       "color             16\n",
       "fuel_type          5\n",
       "model_name      1127\n",
       "transmission       4\n",
       "drive              3\n",
       "dtype: int64"
      ]
     },
     "execution_count": 25,
     "metadata": {},
     "output_type": "execute_result"
    }
   ],
   "source": [
    "cat_columns = ['body_type', 'brand', 'color', 'fuel_type', 'model_name', 'transmission', 'drive']\n",
    "df[cat_columns].nunique()"
   ]
  },
  {
   "cell_type": "markdown",
   "metadata": {},
   "source": [
    "В dummy-переменные я вижу смысл преобразовать столбцы `fuel_type`, `transmission` и `drive`, отсальные - преобразуем в число по категориям."
   ]
  },
  {
   "cell_type": "code",
   "execution_count": 26,
   "metadata": {
    "scrolled": true
   },
   "outputs": [],
   "source": [
    "cat_columns = ['body_type', 'brand', 'color', 'model_name']\n",
    "for col in cat_columns:\n",
    "    df[col] = df[col].astype('category').cat.codes"
   ]
  },
  {
   "cell_type": "code",
   "execution_count": 27,
   "metadata": {},
   "outputs": [],
   "source": [
    "dum_columns = ['fuel_type', 'transmission', 'drive']\n",
    "df = pd.get_dummies(df, columns=dum_columns) "
   ]
  },
  {
   "cell_type": "markdown",
   "metadata": {},
   "source": [
    "Посмотрим, что же получилось"
   ]
  },
  {
   "cell_type": "code",
   "execution_count": 28,
   "metadata": {
    "execution": {
     "iopub.execute_input": "2021-01-21T19:56:04.526534Z",
     "iopub.status.busy": "2021-01-21T19:56:04.525831Z",
     "iopub.status.idle": "2021-01-21T19:56:04.565140Z",
     "shell.execute_reply": "2021-01-21T19:56:04.564470Z"
    },
    "papermill": {
     "duration": 0.135834,
     "end_time": "2021-01-21T19:56:04.565254",
     "exception": false,
     "start_time": "2021-01-21T19:56:04.429420",
     "status": "completed"
    },
    "tags": []
   },
   "outputs": [
    {
     "data": {
      "text/html": [
       "<div>\n",
       "<style scoped>\n",
       "    .dataframe tbody tr th:only-of-type {\n",
       "        vertical-align: middle;\n",
       "    }\n",
       "\n",
       "    .dataframe tbody tr th {\n",
       "        vertical-align: top;\n",
       "    }\n",
       "\n",
       "    .dataframe thead th {\n",
       "        text-align: right;\n",
       "    }\n",
       "</style>\n",
       "<table border=\"1\" class=\"dataframe\">\n",
       "  <thead>\n",
       "    <tr style=\"text-align: right;\">\n",
       "      <th></th>\n",
       "      <th>body_type</th>\n",
       "      <th>brand</th>\n",
       "      <th>color</th>\n",
       "      <th>engine_vol</th>\n",
       "      <th>engine_power</th>\n",
       "      <th>equipment</th>\n",
       "      <th>mileage</th>\n",
       "      <th>model_name</th>\n",
       "      <th>doors_num</th>\n",
       "      <th>production_date</th>\n",
       "      <th>vendor</th>\n",
       "      <th>num_owners</th>\n",
       "      <th>ownership</th>\n",
       "      <th>docs</th>\n",
       "      <th>steering</th>\n",
       "      <th>train</th>\n",
       "      <th>fuel_type_DIESEL</th>\n",
       "      <th>fuel_type_ELECTRO</th>\n",
       "      <th>fuel_type_GASOLINE</th>\n",
       "      <th>fuel_type_HYBRID</th>\n",
       "      <th>fuel_type_LPG</th>\n",
       "      <th>transmission_AUTOMATIC</th>\n",
       "      <th>transmission_MECHANICAL</th>\n",
       "      <th>transmission_ROBOT</th>\n",
       "      <th>transmission_VARIATOR</th>\n",
       "      <th>drive_ALL_WHEEL_DRIVE</th>\n",
       "      <th>drive_FORWARD_CONTROL</th>\n",
       "      <th>drive_REAR_DRIVE</th>\n",
       "    </tr>\n",
       "  </thead>\n",
       "  <tbody>\n",
       "    <tr>\n",
       "      <th>30068</th>\n",
       "      <td>19</td>\n",
       "      <td>20</td>\n",
       "      <td>15</td>\n",
       "      <td>-0.708616</td>\n",
       "      <td>-0.836589</td>\n",
       "      <td>0.287757</td>\n",
       "      <td>0.538825</td>\n",
       "      <td>31</td>\n",
       "      <td>-0.822666</td>\n",
       "      <td>-0.513972</td>\n",
       "      <td>1</td>\n",
       "      <td>1.696479</td>\n",
       "      <td>0.661615</td>\n",
       "      <td>1</td>\n",
       "      <td>0</td>\n",
       "      <td>1</td>\n",
       "      <td>0</td>\n",
       "      <td>0</td>\n",
       "      <td>1</td>\n",
       "      <td>0</td>\n",
       "      <td>0</td>\n",
       "      <td>0</td>\n",
       "      <td>1</td>\n",
       "      <td>0</td>\n",
       "      <td>0</td>\n",
       "      <td>0</td>\n",
       "      <td>1</td>\n",
       "      <td>0</td>\n",
       "    </tr>\n",
       "    <tr>\n",
       "      <th>28924</th>\n",
       "      <td>1</td>\n",
       "      <td>20</td>\n",
       "      <td>11</td>\n",
       "      <td>-0.264850</td>\n",
       "      <td>-0.311996</td>\n",
       "      <td>-0.031846</td>\n",
       "      <td>-0.546896</td>\n",
       "      <td>314</td>\n",
       "      <td>0.687785</td>\n",
       "      <td>0.163903</td>\n",
       "      <td>1</td>\n",
       "      <td>-0.735762</td>\n",
       "      <td>-0.040242</td>\n",
       "      <td>0</td>\n",
       "      <td>0</td>\n",
       "      <td>1</td>\n",
       "      <td>0</td>\n",
       "      <td>0</td>\n",
       "      <td>1</td>\n",
       "      <td>0</td>\n",
       "      <td>0</td>\n",
       "      <td>1</td>\n",
       "      <td>0</td>\n",
       "      <td>0</td>\n",
       "      <td>0</td>\n",
       "      <td>1</td>\n",
       "      <td>0</td>\n",
       "      <td>0</td>\n",
       "    </tr>\n",
       "    <tr>\n",
       "      <th>2017</th>\n",
       "      <td>19</td>\n",
       "      <td>0</td>\n",
       "      <td>15</td>\n",
       "      <td>0.955506</td>\n",
       "      <td>0.970341</td>\n",
       "      <td>-0.311499</td>\n",
       "      <td>1.124247</td>\n",
       "      <td>99</td>\n",
       "      <td>-0.822666</td>\n",
       "      <td>-0.649547</td>\n",
       "      <td>0</td>\n",
       "      <td>1.696479</td>\n",
       "      <td>0.801833</td>\n",
       "      <td>1</td>\n",
       "      <td>0</td>\n",
       "      <td>1</td>\n",
       "      <td>0</td>\n",
       "      <td>0</td>\n",
       "      <td>1</td>\n",
       "      <td>0</td>\n",
       "      <td>0</td>\n",
       "      <td>1</td>\n",
       "      <td>0</td>\n",
       "      <td>0</td>\n",
       "      <td>0</td>\n",
       "      <td>1</td>\n",
       "      <td>0</td>\n",
       "      <td>0</td>\n",
       "    </tr>\n",
       "    <tr>\n",
       "      <th>33793</th>\n",
       "      <td>4</td>\n",
       "      <td>23</td>\n",
       "      <td>11</td>\n",
       "      <td>0.178916</td>\n",
       "      <td>-0.346969</td>\n",
       "      <td>-1.190407</td>\n",
       "      <td>0.905859</td>\n",
       "      <td>905</td>\n",
       "      <td>0.687785</td>\n",
       "      <td>-1.191848</td>\n",
       "      <td>1</td>\n",
       "      <td>1.696479</td>\n",
       "      <td>1.363088</td>\n",
       "      <td>1</td>\n",
       "      <td>0</td>\n",
       "      <td>1</td>\n",
       "      <td>0</td>\n",
       "      <td>0</td>\n",
       "      <td>1</td>\n",
       "      <td>0</td>\n",
       "      <td>0</td>\n",
       "      <td>1</td>\n",
       "      <td>0</td>\n",
       "      <td>0</td>\n",
       "      <td>0</td>\n",
       "      <td>0</td>\n",
       "      <td>1</td>\n",
       "      <td>0</td>\n",
       "    </tr>\n",
       "    <tr>\n",
       "      <th>67759</th>\n",
       "      <td>11</td>\n",
       "      <td>29</td>\n",
       "      <td>1</td>\n",
       "      <td>-0.930499</td>\n",
       "      <td>-0.428572</td>\n",
       "      <td>-0.830854</td>\n",
       "      <td>0.447937</td>\n",
       "      <td>693</td>\n",
       "      <td>0.687785</td>\n",
       "      <td>0.163903</td>\n",
       "      <td>0</td>\n",
       "      <td>0.074985</td>\n",
       "      <td>-0.295419</td>\n",
       "      <td>0</td>\n",
       "      <td>0</td>\n",
       "      <td>0</td>\n",
       "      <td>0</td>\n",
       "      <td>0</td>\n",
       "      <td>1</td>\n",
       "      <td>0</td>\n",
       "      <td>0</td>\n",
       "      <td>0</td>\n",
       "      <td>0</td>\n",
       "      <td>1</td>\n",
       "      <td>0</td>\n",
       "      <td>0</td>\n",
       "      <td>1</td>\n",
       "      <td>0</td>\n",
       "    </tr>\n",
       "    <tr>\n",
       "      <th>61634</th>\n",
       "      <td>1</td>\n",
       "      <td>18</td>\n",
       "      <td>13</td>\n",
       "      <td>-0.042967</td>\n",
       "      <td>-0.311996</td>\n",
       "      <td>0.527459</td>\n",
       "      <td>1.532898</td>\n",
       "      <td>430</td>\n",
       "      <td>0.687785</td>\n",
       "      <td>0.028328</td>\n",
       "      <td>0</td>\n",
       "      <td>0.074985</td>\n",
       "      <td>0.100360</td>\n",
       "      <td>0</td>\n",
       "      <td>0</td>\n",
       "      <td>1</td>\n",
       "      <td>1</td>\n",
       "      <td>0</td>\n",
       "      <td>0</td>\n",
       "      <td>0</td>\n",
       "      <td>0</td>\n",
       "      <td>1</td>\n",
       "      <td>0</td>\n",
       "      <td>0</td>\n",
       "      <td>0</td>\n",
       "      <td>1</td>\n",
       "      <td>0</td>\n",
       "      <td>0</td>\n",
       "    </tr>\n",
       "    <tr>\n",
       "      <th>10712</th>\n",
       "      <td>1</td>\n",
       "      <td>4</td>\n",
       "      <td>6</td>\n",
       "      <td>-0.597674</td>\n",
       "      <td>-1.128029</td>\n",
       "      <td>-0.750953</td>\n",
       "      <td>-1.059632</td>\n",
       "      <td>683</td>\n",
       "      <td>0.687785</td>\n",
       "      <td>0.706204</td>\n",
       "      <td>0</td>\n",
       "      <td>-0.735762</td>\n",
       "      <td>-0.601497</td>\n",
       "      <td>0</td>\n",
       "      <td>0</td>\n",
       "      <td>1</td>\n",
       "      <td>0</td>\n",
       "      <td>0</td>\n",
       "      <td>1</td>\n",
       "      <td>0</td>\n",
       "      <td>0</td>\n",
       "      <td>0</td>\n",
       "      <td>1</td>\n",
       "      <td>0</td>\n",
       "      <td>0</td>\n",
       "      <td>1</td>\n",
       "      <td>0</td>\n",
       "      <td>0</td>\n",
       "    </tr>\n",
       "    <tr>\n",
       "      <th>33113</th>\n",
       "      <td>19</td>\n",
       "      <td>23</td>\n",
       "      <td>1</td>\n",
       "      <td>-0.264850</td>\n",
       "      <td>-0.486860</td>\n",
       "      <td>-0.551201</td>\n",
       "      <td>0.896364</td>\n",
       "      <td>574</td>\n",
       "      <td>-0.822666</td>\n",
       "      <td>-0.785123</td>\n",
       "      <td>1</td>\n",
       "      <td>0.885732</td>\n",
       "      <td>0.942051</td>\n",
       "      <td>0</td>\n",
       "      <td>0</td>\n",
       "      <td>1</td>\n",
       "      <td>0</td>\n",
       "      <td>0</td>\n",
       "      <td>1</td>\n",
       "      <td>0</td>\n",
       "      <td>0</td>\n",
       "      <td>1</td>\n",
       "      <td>0</td>\n",
       "      <td>0</td>\n",
       "      <td>0</td>\n",
       "      <td>0</td>\n",
       "      <td>1</td>\n",
       "      <td>0</td>\n",
       "    </tr>\n",
       "    <tr>\n",
       "      <th>73778</th>\n",
       "      <td>11</td>\n",
       "      <td>1</td>\n",
       "      <td>15</td>\n",
       "      <td>-0.264850</td>\n",
       "      <td>0.842108</td>\n",
       "      <td>2.245326</td>\n",
       "      <td>-1.201347</td>\n",
       "      <td>70</td>\n",
       "      <td>0.687785</td>\n",
       "      <td>0.977354</td>\n",
       "      <td>0</td>\n",
       "      <td>-0.735762</td>\n",
       "      <td>-0.989497</td>\n",
       "      <td>0</td>\n",
       "      <td>0</td>\n",
       "      <td>0</td>\n",
       "      <td>0</td>\n",
       "      <td>0</td>\n",
       "      <td>1</td>\n",
       "      <td>0</td>\n",
       "      <td>0</td>\n",
       "      <td>1</td>\n",
       "      <td>0</td>\n",
       "      <td>0</td>\n",
       "      <td>0</td>\n",
       "      <td>0</td>\n",
       "      <td>0</td>\n",
       "      <td>1</td>\n",
       "    </tr>\n",
       "    <tr>\n",
       "      <th>81732</th>\n",
       "      <td>19</td>\n",
       "      <td>21</td>\n",
       "      <td>15</td>\n",
       "      <td>0.844564</td>\n",
       "      <td>1.821347</td>\n",
       "      <td>-1.190407</td>\n",
       "      <td>-0.043654</td>\n",
       "      <td>943</td>\n",
       "      <td>-0.822666</td>\n",
       "      <td>0.706204</td>\n",
       "      <td>0</td>\n",
       "      <td>0.885732</td>\n",
       "      <td>-0.708293</td>\n",
       "      <td>0</td>\n",
       "      <td>0</td>\n",
       "      <td>0</td>\n",
       "      <td>0</td>\n",
       "      <td>0</td>\n",
       "      <td>1</td>\n",
       "      <td>0</td>\n",
       "      <td>0</td>\n",
       "      <td>1</td>\n",
       "      <td>0</td>\n",
       "      <td>0</td>\n",
       "      <td>0</td>\n",
       "      <td>1</td>\n",
       "      <td>0</td>\n",
       "      <td>0</td>\n",
       "    </tr>\n",
       "  </tbody>\n",
       "</table>\n",
       "</div>"
      ],
      "text/plain": [
       "       body_type  brand  color  engine_vol  engine_power  equipment   mileage  \\\n",
       "30068         19     20     15   -0.708616     -0.836589   0.287757  0.538825   \n",
       "28924          1     20     11   -0.264850     -0.311996  -0.031846 -0.546896   \n",
       "2017          19      0     15    0.955506      0.970341  -0.311499  1.124247   \n",
       "33793          4     23     11    0.178916     -0.346969  -1.190407  0.905859   \n",
       "67759         11     29      1   -0.930499     -0.428572  -0.830854  0.447937   \n",
       "61634          1     18     13   -0.042967     -0.311996   0.527459  1.532898   \n",
       "10712          1      4      6   -0.597674     -1.128029  -0.750953 -1.059632   \n",
       "33113         19     23      1   -0.264850     -0.486860  -0.551201  0.896364   \n",
       "73778         11      1     15   -0.264850      0.842108   2.245326 -1.201347   \n",
       "81732         19     21     15    0.844564      1.821347  -1.190407 -0.043654   \n",
       "\n",
       "       model_name  doors_num  production_date  vendor  num_owners  ownership  \\\n",
       "30068          31  -0.822666        -0.513972       1    1.696479   0.661615   \n",
       "28924         314   0.687785         0.163903       1   -0.735762  -0.040242   \n",
       "2017           99  -0.822666        -0.649547       0    1.696479   0.801833   \n",
       "33793         905   0.687785        -1.191848       1    1.696479   1.363088   \n",
       "67759         693   0.687785         0.163903       0    0.074985  -0.295419   \n",
       "61634         430   0.687785         0.028328       0    0.074985   0.100360   \n",
       "10712         683   0.687785         0.706204       0   -0.735762  -0.601497   \n",
       "33113         574  -0.822666        -0.785123       1    0.885732   0.942051   \n",
       "73778          70   0.687785         0.977354       0   -0.735762  -0.989497   \n",
       "81732         943  -0.822666         0.706204       0    0.885732  -0.708293   \n",
       "\n",
       "       docs  steering  train  fuel_type_DIESEL  fuel_type_ELECTRO  \\\n",
       "30068     1         0      1                 0                  0   \n",
       "28924     0         0      1                 0                  0   \n",
       "2017      1         0      1                 0                  0   \n",
       "33793     1         0      1                 0                  0   \n",
       "67759     0         0      0                 0                  0   \n",
       "61634     0         0      1                 1                  0   \n",
       "10712     0         0      1                 0                  0   \n",
       "33113     0         0      1                 0                  0   \n",
       "73778     0         0      0                 0                  0   \n",
       "81732     0         0      0                 0                  0   \n",
       "\n",
       "       fuel_type_GASOLINE  fuel_type_HYBRID  fuel_type_LPG  \\\n",
       "30068                   1                 0              0   \n",
       "28924                   1                 0              0   \n",
       "2017                    1                 0              0   \n",
       "33793                   1                 0              0   \n",
       "67759                   1                 0              0   \n",
       "61634                   0                 0              0   \n",
       "10712                   1                 0              0   \n",
       "33113                   1                 0              0   \n",
       "73778                   1                 0              0   \n",
       "81732                   1                 0              0   \n",
       "\n",
       "       transmission_AUTOMATIC  transmission_MECHANICAL  transmission_ROBOT  \\\n",
       "30068                       0                        1                   0   \n",
       "28924                       1                        0                   0   \n",
       "2017                        1                        0                   0   \n",
       "33793                       1                        0                   0   \n",
       "67759                       0                        0                   1   \n",
       "61634                       1                        0                   0   \n",
       "10712                       0                        1                   0   \n",
       "33113                       1                        0                   0   \n",
       "73778                       1                        0                   0   \n",
       "81732                       1                        0                   0   \n",
       "\n",
       "       transmission_VARIATOR  drive_ALL_WHEEL_DRIVE  drive_FORWARD_CONTROL  \\\n",
       "30068                      0                      0                      1   \n",
       "28924                      0                      1                      0   \n",
       "2017                       0                      1                      0   \n",
       "33793                      0                      0                      1   \n",
       "67759                      0                      0                      1   \n",
       "61634                      0                      1                      0   \n",
       "10712                      0                      1                      0   \n",
       "33113                      0                      0                      1   \n",
       "73778                      0                      0                      0   \n",
       "81732                      0                      1                      0   \n",
       "\n",
       "       drive_REAR_DRIVE  \n",
       "30068                 0  \n",
       "28924                 0  \n",
       "2017                  0  \n",
       "33793                 0  \n",
       "67759                 0  \n",
       "61634                 0  \n",
       "10712                 0  \n",
       "33113                 0  \n",
       "73778                 1  \n",
       "81732                 0  "
      ]
     },
     "execution_count": 28,
     "metadata": {},
     "output_type": "execute_result"
    }
   ],
   "source": [
    "df.sample(10)"
   ]
  },
  {
   "cell_type": "markdown",
   "metadata": {
    "papermill": {
     "duration": 0.090834,
     "end_time": "2021-01-21T19:56:05.889421",
     "exception": false,
     "start_time": "2021-01-21T19:56:05.798587",
     "status": "completed"
    },
    "tags": []
   },
   "source": [
    "### 3.3. Разделение датасета"
   ]
  },
  {
   "cell_type": "code",
   "execution_count": 29,
   "metadata": {
    "execution": {
     "iopub.execute_input": "2021-01-21T19:56:05.675249Z",
     "iopub.status.busy": "2021-01-21T19:56:05.674523Z",
     "iopub.status.idle": "2021-01-21T19:56:05.706277Z",
     "shell.execute_reply": "2021-01-21T19:56:05.706842Z"
    },
    "papermill": {
     "duration": 0.129456,
     "end_time": "2021-01-21T19:56:05.706992",
     "exception": false,
     "start_time": "2021-01-21T19:56:05.577536",
     "status": "completed"
    },
    "tags": []
   },
   "outputs": [],
   "source": [
    "X = df[df.train == 1].drop(columns='train') # modeling and validating\n",
    "X_sub = df[df.train == 0].drop(columns='train') # submission\n",
    "X_train, X_test, y_train, y_test = train_test_split(X, y, test_size=TEST_SIZE, random_state=RANDOM_SEED)\n",
    "y_test_lin = np.exp(y_test) - 1 # convert from log-scale to linear"
   ]
  },
  {
   "cell_type": "markdown",
   "metadata": {
    "papermill": {
     "duration": 0.103831,
     "end_time": "2021-01-21T19:56:06.305171",
     "exception": false,
     "start_time": "2021-01-21T19:56:06.201340",
     "status": "completed"
    },
    "tags": []
   },
   "source": [
    "## 4. Модели"
   ]
  },
  {
   "cell_type": "markdown",
   "metadata": {
    "papermill": {
     "duration": 0.097654,
     "end_time": "2021-01-21T19:56:06.759595",
     "exception": false,
     "start_time": "2021-01-21T19:56:06.661941",
     "status": "completed"
    },
    "tags": []
   },
   "source": [
    "### 4.1. Тривиальная модель\n",
    "В качестве собственной baseline-модели возьмем простейший регрессор - `LinearRegression`"
   ]
  },
  {
   "cell_type": "code",
   "execution_count": 30,
   "metadata": {},
   "outputs": [],
   "source": [
    "def fit_predict(m):    \n",
    "    m.fit(X_train, y_train)\n",
    "    return m.predict(X_test)\n",
    "\n",
    "\n",
    "def run_model(m, run=fit_predict):\n",
    "    start = pd.Timestamp('now')\n",
    "    y_pred = run(m)\n",
    "    y_pred = np.exp(y_pred) - 1 # convert from log-scale to linear\n",
    "    end = pd.Timestamp('now')\n",
    "    score = mape(y_test_lin, y_pred)\n",
    "    exec_time = (end - start).total_seconds()\n",
    "    print(f'MAPE: {np.round(score * 100, 2)}%, done in {np.round(exec_time, 3)}s')\n",
    "    gc.collect()"
   ]
  },
  {
   "cell_type": "code",
   "execution_count": 31,
   "metadata": {},
   "outputs": [
    {
     "name": "stdout",
     "output_type": "stream",
     "text": [
      "MAPE: 27.38%, done in 0.026s\n"
     ]
    }
   ],
   "source": [
    "run_model(LinearRegression(n_jobs=-1))"
   ]
  },
  {
   "cell_type": "markdown",
   "metadata": {},
   "source": [
    "### 4.2. RandomForestRegressor\n",
    "\n",
    "Попытка 1: дефолтные параметры"
   ]
  },
  {
   "cell_type": "code",
   "execution_count": 32,
   "metadata": {},
   "outputs": [
    {
     "name": "stdout",
     "output_type": "stream",
     "text": [
      "MAPE: 12.31%, done in 1.024s\n"
     ]
    }
   ],
   "source": [
    "run_model(RandomForestRegressor(random_state=RANDOM_SEED, n_jobs=-1))\n"
   ]
  },
  {
   "cell_type": "markdown",
   "metadata": {},
   "source": [
    "Попытка 2: подбор наилучших параметров"
   ]
  },
  {
   "cell_type": "code",
   "execution_count": 33,
   "metadata": {},
   "outputs": [],
   "source": [
    "#\n",
    "# This is how to find meta features for best_rfr\n",
    "#\n",
    "# random_grid = {'n_estimators': [100, 250, 500],\n",
    "#                'max_features': ['auto', 'sqrt'],\n",
    "#                'max_depth': [int(x) for x in np.linspace(50, 150, num = 6)],\n",
    "#                'min_samples_split': [2, 5, 10],\n",
    "#                'min_samples_leaf': [1, 2, 4],\n",
    "#                'bootstrap': [True, False]}\n",
    "# rfcv = RandomizedSearchCV(estimator=RandomForestRegressor(random_state=RANDOM_SEED), \n",
    "#                           param_distributions=random_grid, \n",
    "#                           n_iter=100, \n",
    "#                           cv=3, \n",
    "#                           verbose=2, \n",
    "#                           random_state=RANDOM_SEED,\n",
    "#                           n_jobs=-1)\n",
    "# run_model(rfcv)\n",
    "# rfcv.best_params_\n",
    "\n",
    "best_rfr = RandomForestRegressor(random_state=RANDOM_SEED,\n",
    "                                 n_estimators=500,\n",
    "                                 min_samples_split=5,\n",
    "                                 min_samples_leaf=1,\n",
    "                                 max_features='sqrt',\n",
    "                                 max_depth=130,\n",
    "                                 bootstrap=False,\n",
    "                                 n_jobs=-1)"
   ]
  },
  {
   "cell_type": "code",
   "execution_count": 33,
   "metadata": {},
   "outputs": [
    {
     "name": "stdout",
     "output_type": "stream",
     "text": [
      "MAPE: 12.12%, done in 1.856s\n"
     ]
    }
   ],
   "source": [
    "run_model(best_rfr)"
   ]
  },
  {
   "cell_type": "markdown",
   "metadata": {},
   "source": [
    "Немного улучшили, двигаемся дальше\n",
    "\n",
    "### 4.3. CatBoost"
   ]
  },
  {
   "cell_type": "code",
   "execution_count": 34,
   "metadata": {
    "execution": {
     "iopub.execute_input": "2021-01-21T19:56:07.572056Z",
     "iopub.status.busy": "2021-01-21T19:56:07.557653Z",
     "iopub.status.idle": "2021-01-21T19:56:13.029396Z",
     "shell.execute_reply": "2021-01-21T19:56:13.028754Z"
    },
    "papermill": {
     "duration": 5.573597,
     "end_time": "2021-01-21T19:56:13.029528",
     "exception": false,
     "start_time": "2021-01-21T19:56:07.455931",
     "status": "completed"
    },
    "tags": []
   },
   "outputs": [
    {
     "data": {
      "application/vnd.jupyter.widget-view+json": {
       "model_id": "d0099793b9f24794b5dd2fb57be00519",
       "version_major": 2,
       "version_minor": 0
      },
      "text/plain": [
       "MetricVisualizer(layout=Layout(align_self='stretch', height='500px'))"
      ]
     },
     "metadata": {},
     "output_type": "display_data"
    },
    {
     "name": "stdout",
     "output_type": "stream",
     "text": [
      "MAPE: 12.31%, done in 10.478s\n"
     ]
    }
   ],
   "source": [
    "def fit_predict_catboost(m):\n",
    "    m.fit(X_train, y_train,\n",
    "          eval_set=(X_test, y_test),\n",
    "          use_best_model=True,\n",
    "          verbose=False,\n",
    "          plot=True)    \n",
    "    m.save_model('catboost_model.model')\n",
    "    return m.predict(X_test)\n",
    "\n",
    "\n",
    "cb = CatBoostRegressor(iterations = 1000,\n",
    "                       cat_features=cat_columns,\n",
    "                       random_seed = RANDOM_SEED,\n",
    "                       eval_metric='MAPE',\n",
    "                       custom_metric=['R2', 'MAE'],\n",
    "                       silent=True)\n",
    "\n",
    "run_model(cb, fit_predict_catboost)"
   ]
  },
  {
   "cell_type": "markdown",
   "metadata": {
    "papermill": {
     "duration": 0.114115,
     "end_time": "2021-01-21T19:56:14.191213",
     "exception": false,
     "start_time": "2021-01-21T19:56:14.077098",
     "status": "completed"
    },
    "tags": []
   },
   "source": [
    "12.31% - не лучше лучшего случайного леса, но тоже неплохо. Едем дальше.\n",
    "\n",
    "### 4.4. Gradient Boosting Regressor\n",
    "\n",
    "попытка 1: дефолтные параметры:"
   ]
  },
  {
   "cell_type": "code",
   "execution_count": 35,
   "metadata": {},
   "outputs": [
    {
     "name": "stdout",
     "output_type": "stream",
     "text": [
      "MAPE: 18.98%, done in 5.595s\n"
     ]
    }
   ],
   "source": [
    "run_model(GradientBoostingRegressor(random_state=RANDOM_SEED))"
   ]
  },
  {
   "cell_type": "markdown",
   "metadata": {},
   "source": [
    "18.98% многовато. Попробуем оптимизировать."
   ]
  },
  {
   "cell_type": "code",
   "execution_count": 31,
   "metadata": {
    "execution": {
     "iopub.execute_input": "2021-01-21T19:56:14.427016Z",
     "iopub.status.busy": "2021-01-21T19:56:14.426343Z",
     "iopub.status.idle": "2021-01-21T19:56:14.430185Z",
     "shell.execute_reply": "2021-01-21T19:56:14.429537Z"
    },
    "papermill": {
     "duration": 0.126661,
     "end_time": "2021-01-21T19:56:14.430315",
     "exception": false,
     "start_time": "2021-01-21T19:56:14.303654",
     "status": "completed"
    },
    "tags": []
   },
   "outputs": [],
   "source": [
    "# random_grid = {'n_estimators': [int(x) for x in np.linspace(start = 100, stop = 400, num = 8)],\n",
    "#                'max_features': ['auto', 'sqrt', 'log2'],\n",
    "#                'max_depth': [int(x) for x in np.linspace(5, 15, num = 6)] + [None],\n",
    "#                'min_samples_split': [2, 5, 10],\n",
    "#                'min_samples_leaf': [1, 2, 4]}\n",
    "\n",
    "# gbrcv = RandomizedSearchCV(estimator = GradientBoostingRegressor(random_state=RANDOM_SEED), \n",
    "#                            param_distributions = random_grid, \n",
    "#                            n_iter = 100, \n",
    "#                            cv = 3, \n",
    "#                            verbose=10, \n",
    "#                            random_state=RANDOM_SEED, \n",
    "#                            n_jobs = -1)\n",
    "# run_model(gbrcv)\n",
    "# gbrcv.best_params_\n",
    "\n",
    "best_gbr = GradientBoostingRegressor(random_state=RANDOM_SEED,\n",
    "                                     n_estimators=400,\n",
    "                                     min_samples_split=10,\n",
    "                                     min_samples_leaf=4,\n",
    "                                     max_features='auto',\n",
    "                                     max_depth=7)"
   ]
  },
  {
   "cell_type": "code",
   "execution_count": 36,
   "metadata": {
    "execution": {
     "iopub.execute_input": "2021-01-21T19:56:14.427016Z",
     "iopub.status.busy": "2021-01-21T19:56:14.426343Z",
     "iopub.status.idle": "2021-01-21T19:56:14.430185Z",
     "shell.execute_reply": "2021-01-21T19:56:14.429537Z"
    },
    "papermill": {
     "duration": 0.126661,
     "end_time": "2021-01-21T19:56:14.430315",
     "exception": false,
     "start_time": "2021-01-21T19:56:14.303654",
     "status": "completed"
    },
    "tags": []
   },
   "outputs": [
    {
     "name": "stdout",
     "output_type": "stream",
     "text": [
      "MAPE: 12.03%, done in 50.092s\n"
     ]
    }
   ],
   "source": [
    "run_model(best_gbr)"
   ]
  },
  {
   "cell_type": "markdown",
   "metadata": {
    "papermill": {
     "duration": 0.113019,
     "end_time": "2021-01-21T19:56:14.655701",
     "exception": false,
     "start_time": "2021-01-21T19:56:14.542682",
     "status": "completed"
    },
    "tags": []
   },
   "source": [
    "12.03% Новый рекорд. Еще немного\n",
    "\n",
    "\n",
    "### 4.5. XGB Regressor"
   ]
  },
  {
   "cell_type": "code",
   "execution_count": 37,
   "metadata": {
    "execution": {
     "iopub.execute_input": "2021-01-21T19:56:14.890101Z",
     "iopub.status.busy": "2021-01-21T19:56:14.889403Z",
     "iopub.status.idle": "2021-01-21T19:56:14.893252Z",
     "shell.execute_reply": "2021-01-21T19:56:14.892681Z"
    },
    "papermill": {
     "duration": 0.124738,
     "end_time": "2021-01-21T19:56:14.893383",
     "exception": false,
     "start_time": "2021-01-21T19:56:14.768645",
     "status": "completed"
    },
    "tags": []
   },
   "outputs": [
    {
     "name": "stdout",
     "output_type": "stream",
     "text": [
      "MAPE: 11.4%, done in 19.36s\n"
     ]
    }
   ],
   "source": [
    "run_model(xgb.XGBRegressor(objective='reg:squarederror', colsample_bytree=0.5,\n",
    "                           learning_rate=0.05, max_depth=12, alpha=1,\n",
    "                           n_estimators=1000))"
   ]
  },
  {
   "cell_type": "markdown",
   "metadata": {
    "papermill": {
     "duration": 0.113425,
     "end_time": "2021-01-21T19:56:15.119688",
     "exception": false,
     "start_time": "2021-01-21T19:56:15.006263",
     "status": "completed"
    },
    "tags": []
   },
   "source": [
    "11.4%!!! Время тяжелой артиллерии\n",
    "\n",
    "## 5. Бэггинг\n",
    "\n",
    "### 5.1. Со случайным лесом"
   ]
  },
  {
   "cell_type": "code",
   "execution_count": 34,
   "metadata": {
    "execution": {
     "iopub.execute_input": "2021-01-21T19:56:15.353502Z",
     "iopub.status.busy": "2021-01-21T19:56:15.352801Z",
     "iopub.status.idle": "2021-01-21T19:56:15.357293Z",
     "shell.execute_reply": "2021-01-21T19:56:15.356752Z"
    },
    "papermill": {
     "duration": 0.123774,
     "end_time": "2021-01-21T19:56:15.357411",
     "exception": false,
     "start_time": "2021-01-21T19:56:15.233637",
     "status": "completed"
    },
    "tags": []
   },
   "outputs": [
    {
     "name": "stdout",
     "output_type": "stream",
     "text": [
      "MAPE: 12.57%, done in 9.494s\n"
     ]
    }
   ],
   "source": [
    "run_model(BaggingRegressor(best_rfr, n_estimators=3, n_jobs=-1, random_state=RANDOM_SEED))"
   ]
  },
  {
   "cell_type": "markdown",
   "metadata": {
    "papermill": {
     "duration": 0.112759,
     "end_time": "2021-01-21T19:56:15.583474",
     "exception": false,
     "start_time": "2021-01-21T19:56:15.470715",
     "status": "completed"
    },
    "tags": []
   },
   "source": [
    "12.57% - хуже чем без бустинга\n",
    "\n",
    "### 5.2. С градиентным бустингом"
   ]
  },
  {
   "cell_type": "code",
   "execution_count": 35,
   "metadata": {
    "execution": {
     "iopub.execute_input": "2021-01-21T19:56:15.817155Z",
     "iopub.status.busy": "2021-01-21T19:56:15.816422Z",
     "iopub.status.idle": "2021-01-21T19:56:15.819816Z",
     "shell.execute_reply": "2021-01-21T19:56:15.819203Z"
    },
    "papermill": {
     "duration": 0.122358,
     "end_time": "2021-01-21T19:56:15.819937",
     "exception": false,
     "start_time": "2021-01-21T19:56:15.697579",
     "status": "completed"
    },
    "tags": []
   },
   "outputs": [
    {
     "name": "stdout",
     "output_type": "stream",
     "text": [
      "MAPE: 12.08%, done in 32.833s\n"
     ]
    }
   ],
   "source": [
    "run_model(BaggingRegressor(best_gbr, n_estimators=3, n_jobs=-1, random_state=RANDOM_SEED))"
   ]
  },
  {
   "cell_type": "markdown",
   "metadata": {
    "papermill": {
     "duration": 0.113278,
     "end_time": "2021-01-21T19:56:16.519882",
     "exception": false,
     "start_time": "2021-01-21T19:56:16.406604",
     "status": "completed"
    },
    "tags": []
   },
   "source": [
    "12.08% с бустингом по сравнению с 12.03% без. А нам точно нужен бустинг?\n",
    "\n",
    "\n",
    "## 6. Стеккинг. Ансамбли моделей"
   ]
  },
  {
   "cell_type": "code",
   "execution_count": 36,
   "metadata": {},
   "outputs": [],
   "source": [
    "estimators = [('rfr', best_rfr),\n",
    "              ('gbr', best_gbr),\n",
    "              ('xgb', xgb.XGBRegressor(objective='reg:squarederror', \n",
    "                                       colsample_bytree=0.5,\n",
    "                                       learning_rate=0.05, \n",
    "                                       max_depth=12, \n",
    "                                       alpha=1,\n",
    "                                       n_estimators=1000))]"
   ]
  },
  {
   "cell_type": "code",
   "execution_count": 37,
   "metadata": {},
   "outputs": [
    {
     "name": "stdout",
     "output_type": "stream",
     "text": [
      "MAPE: 11.33%, done in 197.992s\n"
     ]
    }
   ],
   "source": [
    "run_model(StackingRegressor(estimators=estimators, final_estimator=LinearRegression(n_jobs=8), n_jobs=8))"
   ]
  },
  {
   "cell_type": "code",
   "execution_count": 38,
   "metadata": {
    "execution": {
     "iopub.execute_input": "2021-01-21T19:56:16.759190Z",
     "iopub.status.busy": "2021-01-21T19:56:16.758464Z",
     "iopub.status.idle": "2021-01-21T20:13:02.197330Z",
     "shell.execute_reply": "2021-01-21T20:13:02.197898Z"
    },
    "papermill": {
     "duration": 1005.565114,
     "end_time": "2021-01-21T20:13:02.198085",
     "exception": false,
     "start_time": "2021-01-21T19:56:16.632971",
     "status": "completed"
    },
    "tags": []
   },
   "outputs": [
    {
     "name": "stdout",
     "output_type": "stream",
     "text": [
      "MAPE: 12.17%, done in 342.01s\n"
     ]
    }
   ],
   "source": [
    "meta_estimator = CatBoostRegressor(iterations = 5000,\n",
    "                                   random_seed = RANDOM_SEED,\n",
    "                                   eval_metric='MAPE',\n",
    "#                                    custom_metric=['R2', 'MAE'],\n",
    "                                   silent=True,\n",
    "                                   learning_rate=0.13,\n",
    "                                   depth=12,\n",
    "                                   l2_leaf_reg=8,\n",
    "                                   random_strength=0.3)\n",
    "\n",
    "run_model(StackingRegressor(estimators=estimators, final_estimator=meta_estimator, n_jobs=8))"
   ]
  },
  {
   "cell_type": "markdown",
   "metadata": {},
   "source": [
    "Пока что лучшей моделью c резуьтатом `MAPE 11.33%` является стекинг из линейной регрессии над корзиной из 3 моделей: `RandomForestREgressor`, `GradientBoostingRegressor`, `XGBRegressor`"
   ]
  },
  {
   "cell_type": "markdown",
   "metadata": {
    "papermill": {
     "duration": 0.125719,
     "end_time": "2021-01-21T20:13:02.491977",
     "exception": false,
     "start_time": "2021-01-21T20:13:02.366258",
     "status": "completed"
    },
    "tags": []
   },
   "source": [
    "## 7. Submission"
   ]
  },
  {
   "cell_type": "code",
   "execution_count": 39,
   "metadata": {
    "execution": {
     "iopub.execute_input": "2021-01-21T20:13:02.737224Z",
     "iopub.status.busy": "2021-01-21T20:13:02.736222Z",
     "iopub.status.idle": "2021-01-21T20:31:30.420142Z",
     "shell.execute_reply": "2021-01-21T20:31:30.420734Z"
    },
    "papermill": {
     "duration": 1107.81059,
     "end_time": "2021-01-21T20:31:30.420900",
     "exception": false,
     "start_time": "2021-01-21T20:13:02.610310",
     "status": "completed"
    },
    "tags": []
   },
   "outputs": [
    {
     "data": {
      "text/plain": [
       "array([ 763930., 1076864., 1133647., ...,  267264., 1418517., 1678545.])"
      ]
     },
     "execution_count": 39,
     "metadata": {},
     "output_type": "execute_result"
    }
   ],
   "source": [
    "final_model = StackingRegressor(estimators=estimators, final_estimator=LinearRegression(n_jobs=8), n_jobs=8)\n",
    "\n",
    "final_model.fit(X, y)\n",
    "\n",
    "predict_submission = np.round(np.exp(final_model.predict(X_sub)) - 1)\n",
    "predict_submission "
   ]
  },
  {
   "cell_type": "markdown",
   "metadata": {},
   "source": [
    "Делаем поправку на курс доллара. В октябре 2020 (на момент выргузки тестового дата-сета) средний курс доллара составлял `77.65` рублей, согласно данным с сайта <a href=\"https://cbr.ru/currency_base/dynamics/?UniDbQuery.Posted=True&UniDbQuery.so=1&UniDbQuery.mode=1&UniDbQuery.date_req1=&UniDbQuery.date_req2=&UniDbQuery.VAL_NM_RQ=R01235&UniDbQuery.From=01.10.2020&UniDbQuery.To=26.10.2020\">ЦБ РФ</a>, а на момент создания тренировочного дата-сета - `73.98`. Также учтем удорожание автомобилей из-за внутренних экономических факторов. Беглый анализ показал, что автомобили в первой половине 2021 года подорожали как минимум на четверть по сравенеию с концом 2020 года.\n",
    "\n",
    "А еще неплохо для улучшения оценки округлять цену до тысяч."
   ]
  },
  {
   "cell_type": "code",
   "execution_count": 52,
   "metadata": {
    "execution": {
     "iopub.execute_input": "2021-01-21T20:31:30.659650Z",
     "iopub.status.busy": "2021-01-21T20:31:30.658947Z",
     "iopub.status.idle": "2021-01-21T20:31:30.814581Z",
     "shell.execute_reply": "2021-01-21T20:31:30.813815Z"
    },
    "papermill": {
     "duration": 0.277815,
     "end_time": "2021-01-21T20:31:30.814710",
     "exception": false,
     "start_time": "2021-01-21T20:31:30.536895",
     "status": "completed"
    },
    "tags": []
   },
   "outputs": [
    {
     "data": {
      "text/html": [
       "<div>\n",
       "<style scoped>\n",
       "    .dataframe tbody tr th:only-of-type {\n",
       "        vertical-align: middle;\n",
       "    }\n",
       "\n",
       "    .dataframe tbody tr th {\n",
       "        vertical-align: top;\n",
       "    }\n",
       "\n",
       "    .dataframe thead th {\n",
       "        text-align: right;\n",
       "    }\n",
       "</style>\n",
       "<table border=\"1\" class=\"dataframe\">\n",
       "  <thead>\n",
       "    <tr style=\"text-align: right;\">\n",
       "      <th></th>\n",
       "      <th>sell_id</th>\n",
       "      <th>price</th>\n",
       "    </tr>\n",
       "  </thead>\n",
       "  <tbody>\n",
       "    <tr>\n",
       "      <th>33253</th>\n",
       "      <td>1101361417</td>\n",
       "      <td>1266000.0</td>\n",
       "    </tr>\n",
       "    <tr>\n",
       "      <th>1257</th>\n",
       "      <td>1100588382</td>\n",
       "      <td>713000.0</td>\n",
       "    </tr>\n",
       "    <tr>\n",
       "      <th>16160</th>\n",
       "      <td>1101228989</td>\n",
       "      <td>1699000.0</td>\n",
       "    </tr>\n",
       "    <tr>\n",
       "      <th>29052</th>\n",
       "      <td>1091054792</td>\n",
       "      <td>1635000.0</td>\n",
       "    </tr>\n",
       "    <tr>\n",
       "      <th>30088</th>\n",
       "      <td>1100333042</td>\n",
       "      <td>525000.0</td>\n",
       "    </tr>\n",
       "    <tr>\n",
       "      <th>28437</th>\n",
       "      <td>1099100847</td>\n",
       "      <td>252000.0</td>\n",
       "    </tr>\n",
       "    <tr>\n",
       "      <th>13499</th>\n",
       "      <td>1101315449</td>\n",
       "      <td>439000.0</td>\n",
       "    </tr>\n",
       "    <tr>\n",
       "      <th>21134</th>\n",
       "      <td>1101104445</td>\n",
       "      <td>1459000.0</td>\n",
       "    </tr>\n",
       "    <tr>\n",
       "      <th>13642</th>\n",
       "      <td>1101297143</td>\n",
       "      <td>268000.0</td>\n",
       "    </tr>\n",
       "    <tr>\n",
       "      <th>3299</th>\n",
       "      <td>1101130674</td>\n",
       "      <td>646000.0</td>\n",
       "    </tr>\n",
       "  </tbody>\n",
       "</table>\n",
       "</div>"
      ],
      "text/plain": [
       "          sell_id      price\n",
       "33253  1101361417  1266000.0\n",
       "1257   1100588382   713000.0\n",
       "16160  1101228989  1699000.0\n",
       "29052  1091054792  1635000.0\n",
       "30088  1100333042   525000.0\n",
       "28437  1099100847   252000.0\n",
       "13499  1101315449   439000.0\n",
       "21134  1101104445  1459000.0\n",
       "13642  1101297143   268000.0\n",
       "3299   1101130674   646000.0"
      ]
     },
     "execution_count": 52,
     "metadata": {},
     "output_type": "execute_result"
    }
   ],
   "source": [
    "df_test_orig = pd.read_csv('test.csv')\n",
    "koef = 77.65 / (73.98 * 1.25)\n",
    "df_test_orig['price'] = 1000.0 * np.round(predict_submission * koef / 1000.0)\n",
    "sample_submission = df_test_orig[['sell_id', 'price']]\n",
    "sample_submission.sample(10)"
   ]
  },
  {
   "cell_type": "code",
   "execution_count": 53,
   "metadata": {},
   "outputs": [],
   "source": [
    "today = pd.Timestamp('now').strftime('%Y%m%d')\n",
    "sample_submission.to_csv(f'submission_{today}.csv', index=False)"
   ]
  },
  {
   "cell_type": "markdown",
   "metadata": {},
   "source": [
    "Score данного сабмишна на kaggle: **`21.68184`**"
   ]
  },
  {
   "cell_type": "markdown",
   "metadata": {
    "papermill": {
     "duration": 0.115528,
     "end_time": "2021-01-21T20:31:31.046634",
     "exception": false,
     "start_time": "2021-01-21T20:31:30.931106",
     "status": "completed"
    },
    "tags": []
   },
   "source": [
    "# Выводы\n",
    "Что еще можно сделать, чтобы улучшить результат:\n",
    "\n",
    "* попытаться выгрузить больше данных с сайта `auto.ru` (догружать в течение некоторого времени или делать больше запросов с более узкими фильтрами)\n",
    "* **Feature ingeneering** - посмотреть, что можно извлечь из признаков или как еще можно обработать признаки\n",
    "* Попробовать другие алгоритмы и библиотеки ML\n",
    "* Использовать другие комбинации моделей для **стеккинга**\n",
    "\n",
    "Результат, несомненно, можно улучить еще, но целью работы было показать, как бэггинг и стекинг нескольких улучшают предсказательную силу каждой отдельно взятой. Собственно, это в результате работы и было показано.\n",
    "\n",
    "Baseline побит.\n",
    "В ходе работы были закреплены навыки:\n",
    "* оптимизации гиперпараметров моделей\n",
    "* работы с ансамблями моделей\n",
    "* работы с произвольным API на примере `auto.ru`\n",
    "Цели работы, я считаю, достигнуты."
   ]
  },
  {
   "cell_type": "code",
   "execution_count": null,
   "metadata": {},
   "outputs": [],
   "source": []
  }
 ],
 "metadata": {
  "kernelspec": {
   "display_name": "Python 3",
   "language": "python",
   "name": "python3"
  },
  "language_info": {
   "codemirror_mode": {
    "name": "ipython",
    "version": 3
   },
   "file_extension": ".py",
   "mimetype": "text/x-python",
   "name": "python",
   "nbconvert_exporter": "python",
   "pygments_lexer": "ipython3",
   "version": "3.8.5"
  },
  "papermill": {
   "duration": 2172.997053,
   "end_time": "2021-01-21T20:31:32.569186",
   "environment_variables": {},
   "exception": null,
   "input_path": "__notebook__.ipynb",
   "output_path": "__notebook__.ipynb",
   "parameters": {},
   "start_time": "2021-01-21T19:55:19.572133",
   "version": "2.1.0"
  },
  "widgets": {
   "application/vnd.jupyter.widget-state+json": {
    "state": {
     "290b9816c71849bcb910bcc6291538d6": {
      "model_module": "@jupyter-widgets/base",
      "model_module_version": "1.2.0",
      "model_name": "DOMWidgetModel",
      "state": {
       "_dom_classes": [],
       "_model_module": "@jupyter-widgets/base",
       "_model_module_version": "1.2.0",
       "_model_name": "DOMWidgetModel",
       "_view_count": null,
       "_view_module": "catboost_module",
       "_view_module_version": "",
       "_view_name": "CatboostIpythonWidgetView",
       "data": {
        "catboost_info": {
         "content": {
          "data": {
           "iterations": [
            {
             "iteration": 0,
             "learn": [
              1.566791008,
              1736178.256,
              0.5773459911,
              999070.0488
             ],
             "passed_time": 0.09250853939,
             "remaining_time": 4.53291843,
             "test": [
              1.550947351,
              1764894.688,
              0.5826842854,
              1010661.164
             ]
            },
            {
             "iteration": 1,
             "learn": [
              0.9734392327,
              1221675.54,
              0.7907294461,
              656998.6368
             ],
             "passed_time": 0.1245024778,
             "remaining_time": 2.988059466,
             "test": [
              0.9650773982,
              1232286.156,
              0.7965534704,
              663830.5631
             ]
            },
            {
             "iteration": 2,
             "learn": [
              0.6996745827,
              994158.8552,
              0.861417645,
              516053.2399
             ],
             "passed_time": 0.1558769848,
             "remaining_time": 2.442072762,
             "test": [
              0.6971928704,
              1013464.585,
              0.862391804,
              524519.1083
             ]
            },
            {
             "iteration": 3,
             "learn": [
              0.5490488063,
              886212.237,
              0.8898785676,
              449588.7522
             ],
             "passed_time": 0.1822604046,
             "remaining_time": 2.095994653,
             "test": [
              0.5491737235,
              895733.1075,
              0.8925059563,
              457898.1439
             ]
            },
            {
             "iteration": 4,
             "learn": [
              0.4538984512,
              839918.7974,
              0.9010829927,
              416197.3126
             ],
             "passed_time": 0.2048984012,
             "remaining_time": 1.844085611,
             "test": [
              0.455135708,
              852962.8035,
              0.9025263268,
              424641.4729
             ]
            },
            {
             "iteration": 5,
             "learn": [
              0.454524823,
              835104.4275,
              0.9022137168,
              416187.669
             ],
             "passed_time": 0.2258827525,
             "remaining_time": 1.656473518,
             "test": [
              0.4557369713,
              852960.2245,
              0.9025269162,
              424732.7947
             ]
            },
            {
             "iteration": 6,
             "learn": [
              0.3670905927,
              807458.0388,
              0.9085810367,
              394252.4907
             ],
             "passed_time": 0.2533305986,
             "remaining_time": 1.556173677,
             "test": [
              0.371634146,
              837420.1174,
              0.9060462916,
              404742.6281
             ]
            },
            {
             "iteration": 7,
             "learn": [
              0.3673249273,
              804640.3971,
              0.9092179403,
              394211.8534
             ],
             "passed_time": 0.2746980284,
             "remaining_time": 1.442164649,
             "test": [
              0.3718649305,
              837419.2332,
              0.90604649,
              404773.007
             ]
            },
            {
             "iteration": 8,
             "learn": [
              0.3453136144,
              784664.3649,
              0.9136695059,
              387251.1434
             ],
             "passed_time": 0.3084724107,
             "remaining_time": 1.405263204,
             "test": [
              0.3494037228,
              818078.9539,
              0.9103361078,
              397920.7024
             ]
            },
            {
             "iteration": 9,
             "learn": [
              0.3422189552,
              748353.5328,
              0.9214746297,
              374428.9839
             ],
             "passed_time": 0.3321571321,
             "remaining_time": 1.328628529,
             "test": [
              0.3469628053,
              771407.545,
              0.9202749295,
              385442.0318
             ]
            },
            {
             "iteration": 10,
             "learn": [
              0.3422110686,
              728139.9975,
              0.9256593862,
              361245.3557
             ],
             "passed_time": 0.3546273148,
             "remaining_time": 1.257315025,
             "test": [
              0.3469630199,
              755121.3256,
              0.9236057594,
              373177.3563
             ]
            },
            {
             "iteration": 11,
             "learn": [
              0.3421668891,
              726846.4423,
              0.9259232867,
              361178.0916
             ],
             "passed_time": 0.3705812504,
             "remaining_time": 1.173507293,
             "test": [
              0.3468968582,
              755055.1206,
              0.9236191545,
              373150.3371
             ]
            },
            {
             "iteration": 12,
             "learn": [
              0.3105577514,
              717699.7774,
              0.9277759247,
              349516.8734
             ],
             "passed_time": 0.4055154984,
             "remaining_time": 1.154159495,
             "test": [
              0.3164668307,
              749508.3321,
              0.9247372509,
              362492.2332
             ]
            },
            {
             "iteration": 13,
             "learn": [
              0.3012793374,
              711868.8416,
              0.9289447232,
              347333.3821
             ],
             "passed_time": 0.4340944628,
             "remaining_time": 1.116242904,
             "test": [
              0.3070972435,
              749805.0012,
              0.9246776584,
              360819.9596
             ]
            },
            {
             "iteration": 14,
             "learn": [
              0.3014478707,
              711422.964,
              0.929033706,
              347318.4915
             ],
             "passed_time": 0.4604527838,
             "remaining_time": 1.074389829,
             "test": [
              0.3072603606,
              749805.2293,
              0.9246776126,
              360826.9967
             ]
            },
            {
             "iteration": 15,
             "learn": [
              0.3008134863,
              687068.5953,
              0.9338093626,
              340566.8685
             ],
             "passed_time": 0.4968821304,
             "remaining_time": 1.055874527,
             "test": [
              0.3067455595,
              722379.3639,
              0.9300870208,
              353991.8589
             ]
            },
            {
             "iteration": 16,
             "learn": [
              0.300580069,
              671588.6741,
              0.9367583644,
              332051.0084
             ],
             "passed_time": 0.5202028956,
             "remaining_time": 1.009805621,
             "test": [
              0.3058929399,
              707513.7259,
              0.9329348521,
              345394.4721
             ]
            },
            {
             "iteration": 17,
             "learn": [
              0.2781755606,
              667362.0151,
              0.9375518849,
              328303.3612
             ],
             "passed_time": 0.5448590927,
             "remaining_time": 0.968638387,
             "test": [
              0.2829906653,
              706060.0302,
              0.9332101603,
              342268.804
             ]
            },
            {
             "iteration": 18,
             "learn": [
              0.2673464701,
              655770.5165,
              0.9397023842,
              314356.0157
             ],
             "passed_time": 0.5708979495,
             "remaining_time": 0.9314650755,
             "test": [
              0.2720905063,
              696401.8177,
              0.9350249026,
              328197.8649
             ]
            },
            {
             "iteration": 19,
             "learn": [
              0.2642090735,
              644176.4301,
              0.9418156714,
              309519.701
             ],
             "passed_time": 0.597607743,
             "remaining_time": 0.8964116145,
             "test": [
              0.2693360128,
              683905.0465,
              0.9373359062,
              323300.9088
             ]
            },
            {
             "iteration": 20,
             "learn": [
              0.2635604842,
              638228.476,
              0.942885192,
              305261.4724
             ],
             "passed_time": 0.6238376506,
             "remaining_time": 0.8614900889,
             "test": [
              0.2676482179,
              677218.9601,
              0.9385551676,
              318280.1937
             ]
            },
            {
             "iteration": 21,
             "learn": [
              0.2636332374,
              637988.6799,
              0.9429281024,
              305273.8868
             ],
             "passed_time": 0.6397413977,
             "remaining_time": 0.8142163243,
             "test": [
              0.2676925365,
              677217.6924,
              0.9385553976,
              318284.2752
             ]
            },
            {
             "iteration": 22,
             "learn": [
              0.2624119852,
              627967.1614,
              0.9447069898,
              302938.5007
             ],
             "passed_time": 0.6643701832,
             "remaining_time": 0.7799128238,
             "test": [
              0.2667072162,
              669889.7304,
              0.9398779491,
              316582.4166
             ]
            },
            {
             "iteration": 23,
             "learn": [
              0.2623379664,
              627518.2326,
              0.9447860186,
              302893.1893
             ],
             "passed_time": 0.6893908476,
             "remaining_time": 0.7468400849,
             "test": [
              0.2666376756,
              668567.2904,
              0.9401150906,
              316494.6061
             ]
            },
            {
             "iteration": 24,
             "learn": [
              0.2636962463,
              608151.9323,
              0.9481414286,
              299405.2196
             ],
             "passed_time": 0.7152233949,
             "remaining_time": 0.7152233949,
             "test": [
              0.2677739057,
              647835.2691,
              0.9437715227,
              312884.7098
             ]
            },
            {
             "iteration": 25,
             "learn": [
              0.2401098572,
              602244.3496,
              0.9491440426,
              292591.3238
             ],
             "passed_time": 0.738701562,
             "remaining_time": 0.6818783649,
             "test": [
              0.2439633169,
              639941.0998,
              0.945133513,
              306436.0292
             ]
            },
            {
             "iteration": 26,
             "learn": [
              0.2378348069,
              597729.5057,
              0.9499036879,
              290676.0545
             ],
             "passed_time": 0.7623720597,
             "remaining_time": 0.6494280509,
             "test": [
              0.2420831593,
              636098.4754,
              0.9457904432,
              304660.2123
             ]
            },
            {
             "iteration": 27,
             "learn": [
              0.2343683567,
              593769.0319,
              0.9505653512,
              288845.9753
             ],
             "passed_time": 0.7886466153,
             "remaining_time": 0.619650912,
             "test": [
              0.2385818191,
              634899.1278,
              0.945994672,
              303068.3386
             ]
            },
            {
             "iteration": 28,
             "learn": [
              0.2295167144,
              579894.846,
              0.9528485704,
              284351.5515
             ],
             "passed_time": 0.8142481124,
             "remaining_time": 0.5896279435,
             "test": [
              0.2330707035,
              622056.9421,
              0.9481573218,
              298829.1654
             ]
            },
            {
             "iteration": 29,
             "learn": [
              0.2306299244,
              556979.4613,
              0.9565014552,
              277222.9141
             ],
             "passed_time": 0.8386046165,
             "remaining_time": 0.5590697443,
             "test": [
              0.2334028517,
              601912.7719,
              0.9514606156,
              291020.3371
             ]
            },
            {
             "iteration": 30,
             "learn": [
              0.2305133456,
              556517.6553,
              0.9565735568,
              277177.7441
             ],
             "passed_time": 0.8712446048,
             "remaining_time": 0.5339886287,
             "test": [
              0.2333074462,
              602613.4212,
              0.9513475464,
              291123.8106
             ]
            },
            {
             "iteration": 31,
             "learn": [
              0.229361706,
              551773.9886,
              0.9573107216,
              275005.5023
             ],
             "passed_time": 0.906131987,
             "remaining_time": 0.5096992427,
             "test": [
              0.2321950206,
              595628.0946,
              0.9524689404,
              288828.8255
             ]
            },
            {
             "iteration": 32,
             "learn": [
              0.2229880744,
              547984.284,
              0.9578951065,
              269980.1211
             ],
             "passed_time": 0.9279946593,
             "remaining_time": 0.4780578548,
             "test": [
              0.2252144231,
              592451.1323,
              0.9529746307,
              283438.1129
             ]
            },
            {
             "iteration": 33,
             "learn": [
              0.2215133366,
              537429.1287,
              0.9595015157,
              263562.0148
             ],
             "passed_time": 0.9517524522,
             "remaining_time": 0.4478835069,
             "test": [
              0.2228983215,
              579800.7422,
              0.9549614209,
              275277.2059
             ]
            },
            {
             "iteration": 34,
             "learn": [
              0.2199524519,
              529493.2371,
              0.9606887185,
              259255.2066
             ],
             "passed_time": 0.9813898234,
             "remaining_time": 0.4205956386,
             "test": [
              0.2214349611,
              571882.1178,
              0.9561832481,
              270775.6816
             ]
            },
            {
             "iteration": 35,
             "learn": [
              0.2200068532,
              527838.1678,
              0.9609340897,
              258658.0676
             ],
             "passed_time": 1.007577845,
             "remaining_time": 0.3918358285,
             "test": [
              0.221412209,
              570957.3847,
              0.9563248368,
              270029.7157
             ]
            },
            {
             "iteration": 36,
             "learn": [
              0.2192328784,
              521790.2763,
              0.9618241839,
              255917.6372
             ],
             "passed_time": 1.032046505,
             "remaining_time": 0.3626109341,
             "test": [
              0.2206180721,
              565682.7158,
              0.9571280769,
              267312.9731
             ]
            },
            {
             "iteration": 37,
             "learn": [
              0.2163909417,
              517021.0021,
              0.9625188647,
              251895.0549
             ],
             "passed_time": 1.055021011,
             "remaining_time": 0.3331645298,
             "test": [
              0.2173706438,
              560747.7023,
              0.9578728429,
              263069.9483
             ]
            },
            {
             "iteration": 38,
             "learn": [
              0.21499079,
              514055.1084,
              0.9629476528,
              251111.534
             ],
             "passed_time": 1.084236152,
             "remaining_time": 0.3058101968,
             "test": [
              0.216488529,
              558505.6798,
              0.9582090412,
              262698.6012
             ]
            },
            {
             "iteration": 39,
             "learn": [
              0.2151607119,
              508285.0802,
              0.9637747751,
              249269.179
             ],
             "passed_time": 1.118765732,
             "remaining_time": 0.2796914329,
             "test": [
              0.216873407,
              553329.5183,
              0.9589800785,
              260832.7803
             ]
            },
            {
             "iteration": 40,
             "learn": [
              0.2141564519,
              501303.8906,
              0.9647630332,
              245421.0155
             ],
             "passed_time": 1.150523291,
             "remaining_time": 0.2525538932,
             "test": [
              0.2155628948,
              547009.0543,
              0.959911835,
              257233.0364
             ]
            },
            {
             "iteration": 41,
             "learn": [
              0.2096896907,
              495924.845,
              0.9655151692,
              243689.4929
             ],
             "passed_time": 1.184889291,
             "remaining_time": 0.2256931984,
             "test": [
              0.2108016522,
              543087.5858,
              0.9604845531,
              255731.6694
             ]
            },
            {
             "iteration": 42,
             "learn": [
              0.2081411485,
              493165.7247,
              0.9658978204,
              240670.2297
             ],
             "passed_time": 1.216949115,
             "remaining_time": 0.1981079954,
             "test": [
              0.2096549894,
              540921.2116,
              0.9607991782,
              253000.5205
             ]
            },
            {
             "iteration": 43,
             "learn": [
              0.2079037725,
              492612.9523,
              0.9659742255,
              240543.57
             ],
             "passed_time": 1.253601177,
             "remaining_time": 0.1709456151,
             "test": [
              0.2093054827,
              540962.2204,
              0.9607932341,
              252925.1866
             ]
            },
            {
             "iteration": 44,
             "learn": [
              0.2043193742,
              489169.3599,
              0.9664482745,
              239304.681
             ],
             "passed_time": 1.299022812,
             "remaining_time": 0.1443358681,
             "test": [
              0.2059438974,
              538563.1965,
              0.9611402063,
              251612.1405
             ]
            },
            {
             "iteration": 45,
             "learn": [
              0.2039080869,
              485976.5027,
              0.9668848361,
              237629.1234
             ],
             "passed_time": 1.329254535,
             "remaining_time": 0.1155873509,
             "test": [
              0.2053986963,
              536578.7722,
              0.9614260492,
              250061.2874
             ]
            },
            {
             "iteration": 46,
             "learn": [
              0.2038937444,
              483998.4546,
              0.9671538617,
              236662.8688
             ],
             "passed_time": 1.3509197,
             "remaining_time": 0.08622891704,
             "test": [
              0.2053036316,
              534110.2396,
              0.961780152,
              249105.2924
             ]
            },
            {
             "iteration": 47,
             "learn": [
              0.2038275827,
              482387.5642,
              0.9673721413,
              236454.2378
             ],
             "passed_time": 1.378362078,
             "remaining_time": 0.05743175325,
             "test": [
              0.205335983,
              533691.3841,
              0.9618400734,
              249215.1489
             ]
            },
            {
             "iteration": 48,
             "learn": [
              0.2041827155,
              481936.9758,
              0.9674330668,
              236386.0113
             ],
             "passed_time": 1.402641145,
             "remaining_time": 0.02862532949,
             "test": [
              0.2057304708,
              533651.0786,
              0.9618458371,
              249218.7989
             ]
            },
            {
             "iteration": 49,
             "learn": [
              0.2032038428,
              478819.8593,
              0.9678529833,
              235190.1472
             ],
             "passed_time": 1.427958481,
             "remaining_time": 0,
             "test": [
              0.2049189816,
              531331.4915,
              0.9621768007,
              247953.5237
             ]
            }
           ],
           "meta": {
            "iteration_count": 50,
            "launch_mode": "Train",
            "learn_metrics": [
             {
              "best_value": "Min",
              "name": "MAPE"
             },
             {
              "best_value": "Min",
              "name": "RMSE"
             },
             {
              "best_value": "Max",
              "name": "R2"
             },
             {
              "best_value": "Min",
              "name": "MAE"
             }
            ],
            "learn_sets": [
             "learn"
            ],
            "name": "experiment",
            "parameters": "",
            "test_metrics": [
             {
              "best_value": "Min",
              "name": "MAPE"
             },
             {
              "best_value": "Min",
              "name": "RMSE"
             },
             {
              "best_value": "Max",
              "name": "R2"
             },
             {
              "best_value": "Min",
              "name": "MAE"
             }
            ],
            "test_sets": [
             "test"
            ]
           }
          },
          "passed_iterations": 49,
          "total_iterations": 50
         },
         "name": "catboost_info",
         "path": "catboost_info"
        }
       },
       "layout": "IPY_MODEL_cbb40f3b50904ab394c9bc30baac0a9c"
      }
     },
     "cbb40f3b50904ab394c9bc30baac0a9c": {
      "model_module": "@jupyter-widgets/base",
      "model_module_version": "1.2.0",
      "model_name": "LayoutModel",
      "state": {
       "_model_module": "@jupyter-widgets/base",
       "_model_module_version": "1.2.0",
       "_model_name": "LayoutModel",
       "_view_count": null,
       "_view_module": "@jupyter-widgets/base",
       "_view_module_version": "1.2.0",
       "_view_name": "LayoutView",
       "align_content": null,
       "align_items": null,
       "align_self": "stretch",
       "border": null,
       "bottom": null,
       "display": null,
       "flex": null,
       "flex_flow": null,
       "grid_area": null,
       "grid_auto_columns": null,
       "grid_auto_flow": null,
       "grid_auto_rows": null,
       "grid_column": null,
       "grid_gap": null,
       "grid_row": null,
       "grid_template_areas": null,
       "grid_template_columns": null,
       "grid_template_rows": null,
       "height": "500px",
       "justify_content": null,
       "justify_items": null,
       "left": null,
       "margin": null,
       "max_height": null,
       "max_width": null,
       "min_height": null,
       "min_width": null,
       "object_fit": null,
       "object_position": null,
       "order": null,
       "overflow": null,
       "overflow_x": null,
       "overflow_y": null,
       "padding": null,
       "right": null,
       "top": null,
       "visibility": null,
       "width": null
      }
     }
    },
    "version_major": 2,
    "version_minor": 0
   }
  }
 },
 "nbformat": 4,
 "nbformat_minor": 4
}
