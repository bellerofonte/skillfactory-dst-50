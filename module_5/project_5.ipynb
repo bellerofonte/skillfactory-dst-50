{
 "cells": [
  {
   "cell_type": "markdown",
   "metadata": {},
   "source": [
    "# Project 5\n",
    "# Car price prediction model"
   ]
  },
  {
   "cell_type": "markdown",
   "metadata": {},
   "source": [
    "## 0. Подготовка\n",
    "\n",
    "Загружаем необходимые библиотеки, настраиваем отображение, инициализируем глобальные переменные"
   ]
  },
  {
   "cell_type": "code",
   "execution_count": 1,
   "metadata": {},
   "outputs": [],
   "source": [
    "import pandas as pd\n",
    "import numpy as np\n",
    "import re\n",
    "pd.set_option('display.max_rows', 500)\n",
    "pd.set_option('display.max_columns', 500)\n",
    "pd.set_option('display.width', 1000)\n",
    "RANDOM_STATE = 73"
   ]
  },
  {
   "cell_type": "markdown",
   "metadata": {},
   "source": [
    "## 1. Анализ данных, которые необходимо получить\n",
    "\n",
    "Прежде, чем начать мучить сайт auto.ru запросами, необходимо понять, какие данные и в каком виде необходимо получить.\n",
    "Для этого загрузим тестовый датасет (по которому надо будет делать сабмишн) и немного поработаем с ним."
   ]
  },
  {
   "cell_type": "code",
   "execution_count": 2,
   "metadata": {},
   "outputs": [],
   "source": [
    "df_test = pd.read_csv('test.csv')"
   ]
  },
  {
   "cell_type": "markdown",
   "metadata": {},
   "source": [
    "Сразу заменим имена столбцов на PEP-friendly"
   ]
  },
  {
   "cell_type": "code",
   "execution_count": 3,
   "metadata": {},
   "outputs": [],
   "source": [
    "df_test.columns = ['body_type', 'brand', 'car_url', 'color', 'complectation',\n",
    "              'description', 'engine_vol', 'engine_power', 'equipment',\n",
    "              'fuel_type', 'image', 'mileage', 'model_date', 'model_info', 'model_name',\n",
    "              'name', 'doors_num', 'parsing_unixtime', 'price_currency',\n",
    "              'production_date', 'sell_id', 'super_gen', 'configuration',\n",
    "              'transmission', 'vendor', 'num_owners', 'ownership', 'docs',\n",
    "              'drive', 'steering', 'state', 'customs']"
   ]
  },
  {
   "cell_type": "markdown",
   "metadata": {},
   "source": [
    "И посмотрим на сам дата-сет"
   ]
  },
  {
   "cell_type": "code",
   "execution_count": 4,
   "metadata": {},
   "outputs": [
    {
     "data": {
      "text/html": [
       "<div>\n",
       "<style scoped>\n",
       "    .dataframe tbody tr th:only-of-type {\n",
       "        vertical-align: middle;\n",
       "    }\n",
       "\n",
       "    .dataframe tbody tr th {\n",
       "        vertical-align: top;\n",
       "    }\n",
       "\n",
       "    .dataframe thead th {\n",
       "        text-align: right;\n",
       "    }\n",
       "</style>\n",
       "<table border=\"1\" class=\"dataframe\">\n",
       "  <thead>\n",
       "    <tr style=\"text-align: right;\">\n",
       "      <th></th>\n",
       "      <th>body_type</th>\n",
       "      <th>brand</th>\n",
       "      <th>car_url</th>\n",
       "      <th>color</th>\n",
       "      <th>complectation</th>\n",
       "      <th>description</th>\n",
       "      <th>engine_vol</th>\n",
       "      <th>engine_power</th>\n",
       "      <th>equipment</th>\n",
       "      <th>fuel_type</th>\n",
       "      <th>image</th>\n",
       "      <th>mileage</th>\n",
       "      <th>model_date</th>\n",
       "      <th>model_info</th>\n",
       "      <th>model_name</th>\n",
       "      <th>name</th>\n",
       "      <th>doors_num</th>\n",
       "      <th>parsing_unixtime</th>\n",
       "      <th>price_currency</th>\n",
       "      <th>production_date</th>\n",
       "      <th>sell_id</th>\n",
       "      <th>super_gen</th>\n",
       "      <th>configuration</th>\n",
       "      <th>transmission</th>\n",
       "      <th>vendor</th>\n",
       "      <th>num_owners</th>\n",
       "      <th>ownership</th>\n",
       "      <th>docs</th>\n",
       "      <th>drive</th>\n",
       "      <th>steering</th>\n",
       "      <th>state</th>\n",
       "      <th>customs</th>\n",
       "    </tr>\n",
       "  </thead>\n",
       "  <tbody>\n",
       "    <tr>\n",
       "      <th>8216</th>\n",
       "      <td>седан</td>\n",
       "      <td>BMW</td>\n",
       "      <td>https://auto.ru/cars/used/sale/bmw/5er/1083370...</td>\n",
       "      <td>чёрный</td>\n",
       "      <td>{\"id\":\"21054013\",\"name\":\"M550d xDrive\",\"availa...</td>\n",
       "      <td>Обслуживался в БорисХоф (заказы на руках), тех...</td>\n",
       "      <td>3.0 LTR</td>\n",
       "      <td>381 N12</td>\n",
       "      <td>{\"cruise-control\":true,\"asr\":true,\"tinted-glas...</td>\n",
       "      <td>дизель</td>\n",
       "      <td>https://autoru.naydex.net/lICN99c69/9bc7d3Rr7k...</td>\n",
       "      <td>75000</td>\n",
       "      <td>2013</td>\n",
       "      <td>{\"code\":\"5ER\",\"name\":\"5 серии\",\"ru_name\":\"5 се...</td>\n",
       "      <td>5ER</td>\n",
       "      <td>M550d xDrive 3.0d AT (381 л.с.) 4WD</td>\n",
       "      <td>4</td>\n",
       "      <td>1603110285</td>\n",
       "      <td>RUB</td>\n",
       "      <td>2015</td>\n",
       "      <td>1083370160</td>\n",
       "      <td>{\"id\":\"10436696\",\"name\":\"M550d xDrive\",\"namepl...</td>\n",
       "      <td>SEDAN AUTOMATIC 3.0</td>\n",
       "      <td>автоматическая</td>\n",
       "      <td>EUROPEAN</td>\n",
       "      <td>3 или более</td>\n",
       "      <td>5 лет и 1 месяц</td>\n",
       "      <td>Оригинал</td>\n",
       "      <td>полный</td>\n",
       "      <td>Левый</td>\n",
       "      <td>Не требует ремонта</td>\n",
       "      <td>Растаможен</td>\n",
       "    </tr>\n",
       "    <tr>\n",
       "      <th>34394</th>\n",
       "      <td>седан</td>\n",
       "      <td>NISSAN</td>\n",
       "      <td>https://auto.ru/cars/used/sale/nissan/almera_c...</td>\n",
       "      <td>серый</td>\n",
       "      <td>NaN</td>\n",
       "      <td>Собственник. Машина в хорошем состоянии, есть ...</td>\n",
       "      <td>1.6 LTR</td>\n",
       "      <td>107 N12</td>\n",
       "      <td>{\"engine-proof\":true,\"asr\":true,\"airbag-driver...</td>\n",
       "      <td>бензин</td>\n",
       "      <td>https://autoru.naydex.net/16IvE9y79/a7f8demo/N...</td>\n",
       "      <td>136000</td>\n",
       "      <td>2006</td>\n",
       "      <td>{\"code\":\"ALMERA_CLASSIC\",\"name\":\"Almera Classi...</td>\n",
       "      <td>ALMERA_CLASSIC</td>\n",
       "      <td>1.6 AT (107 л.с.)</td>\n",
       "      <td>4</td>\n",
       "      <td>1603683089</td>\n",
       "      <td>RUB</td>\n",
       "      <td>2009</td>\n",
       "      <td>1101370035</td>\n",
       "      <td>{\"id\":\"2404985\",\"displacement\":1596,\"engine_ty...</td>\n",
       "      <td>SEDAN AUTOMATIC 1.6</td>\n",
       "      <td>автоматическая</td>\n",
       "      <td>JAPANESE</td>\n",
       "      <td>3 или более</td>\n",
       "      <td>2 года и 4 месяца</td>\n",
       "      <td>Оригинал</td>\n",
       "      <td>передний</td>\n",
       "      <td>Левый</td>\n",
       "      <td>Не требует ремонта</td>\n",
       "      <td>Растаможен</td>\n",
       "    </tr>\n",
       "    <tr>\n",
       "      <th>24585</th>\n",
       "      <td>минивэн</td>\n",
       "      <td>VOLKSWAGEN</td>\n",
       "      <td>https://auto.ru/cars/used/sale/volkswagen/cara...</td>\n",
       "      <td>чёрный</td>\n",
       "      <td>{\"id\":\"20959322\",\"name\":\"Comfortline\",\"availab...</td>\n",
       "      <td>Бережная эксплуатация,на холодную не запускалс...</td>\n",
       "      <td>2.0 LTR</td>\n",
       "      <td>102 N12</td>\n",
       "      <td>{\"esp\":true,\"airbag-driver\":true,\"aux\":true,\"i...</td>\n",
       "      <td>дизель</td>\n",
       "      <td>https://autoru.naydex.net/o9DBXQ270/5ac010hAY0...</td>\n",
       "      <td>54500</td>\n",
       "      <td>2015</td>\n",
       "      <td>{\"code\":\"CARAVELLE\",\"name\":\"Caravelle\",\"ru_nam...</td>\n",
       "      <td>CARAVELLE</td>\n",
       "      <td>2.0d MT (102 л.с.)</td>\n",
       "      <td>4</td>\n",
       "      <td>1603218146</td>\n",
       "      <td>RUB</td>\n",
       "      <td>2017</td>\n",
       "      <td>1101146798</td>\n",
       "      <td>{\"id\":\"20621090\",\"displacement\":1968,\"engine_t...</td>\n",
       "      <td>MINIVAN MECHANICAL 2.0</td>\n",
       "      <td>механическая</td>\n",
       "      <td>EUROPEAN</td>\n",
       "      <td>1 владелец</td>\n",
       "      <td>2 года и 11 месяцев</td>\n",
       "      <td>Оригинал</td>\n",
       "      <td>передний</td>\n",
       "      <td>Левый</td>\n",
       "      <td>Не требует ремонта</td>\n",
       "      <td>Растаможен</td>\n",
       "    </tr>\n",
       "    <tr>\n",
       "      <th>10071</th>\n",
       "      <td>седан</td>\n",
       "      <td>BMW</td>\n",
       "      <td>https://auto.ru/cars/used/sale/bmw/7er/1099912...</td>\n",
       "      <td>чёрный</td>\n",
       "      <td>{\"id\":\"21038606\",\"name\":\"740Li xDrive\",\"availa...</td>\n",
       "      <td>В отличном состоянии, обслуживался у оф дилера...</td>\n",
       "      <td>3.0 LTR</td>\n",
       "      <td>326 N12</td>\n",
       "      <td>{\"cruise-control\":true,\"asr\":true,\"roller-blin...</td>\n",
       "      <td>бензин</td>\n",
       "      <td>https://avatars.mds.yandex.net/get-autoru-vos/...</td>\n",
       "      <td>91000</td>\n",
       "      <td>2015</td>\n",
       "      <td>{\"code\":\"7ER\",\"name\":\"7 серии\",\"ru_name\":\"7 се...</td>\n",
       "      <td>7ER</td>\n",
       "      <td>740Li xDrive 3.0 AT (326 л.с.) 4WD</td>\n",
       "      <td>4</td>\n",
       "      <td>1603117652</td>\n",
       "      <td>RUB</td>\n",
       "      <td>2017</td>\n",
       "      <td>1099912984</td>\n",
       "      <td>{\"id\":\"20765229\",\"name\":\"740L\",\"nameplate\":\"74...</td>\n",
       "      <td>SEDAN AUTOMATIC 3.0</td>\n",
       "      <td>автоматическая</td>\n",
       "      <td>EUROPEAN</td>\n",
       "      <td>1 владелец</td>\n",
       "      <td>NaN</td>\n",
       "      <td>Оригинал</td>\n",
       "      <td>полный</td>\n",
       "      <td>Левый</td>\n",
       "      <td>Не требует ремонта</td>\n",
       "      <td>Растаможен</td>\n",
       "    </tr>\n",
       "    <tr>\n",
       "      <th>13946</th>\n",
       "      <td>седан</td>\n",
       "      <td>NISSAN</td>\n",
       "      <td>https://auto.ru/cars/used/sale/nissan/teana/10...</td>\n",
       "      <td>чёрный</td>\n",
       "      <td>NaN</td>\n",
       "      <td>Авто в хорошем состоянии, сделано большое ТО в...</td>\n",
       "      <td>2.5 LTR</td>\n",
       "      <td>167 N12</td>\n",
       "      <td>NaN</td>\n",
       "      <td>бензин</td>\n",
       "      <td>https://autoru.naydex.net/G87gDZg56/28c7a8vqVE...</td>\n",
       "      <td>220000</td>\n",
       "      <td>2011</td>\n",
       "      <td>{\"code\":\"TEANA\",\"name\":\"Teana\",\"ru_name\":\"Тиан...</td>\n",
       "      <td>TEANA</td>\n",
       "      <td>2.5 CVT (167 л.с.) 4WD</td>\n",
       "      <td>4</td>\n",
       "      <td>1603280365</td>\n",
       "      <td>RUB</td>\n",
       "      <td>2011</td>\n",
       "      <td>1099950014</td>\n",
       "      <td>{\"id\":\"20194520\",\"displacement\":2488,\"engine_t...</td>\n",
       "      <td>SEDAN VARIATOR 2.5</td>\n",
       "      <td>вариатор</td>\n",
       "      <td>JAPANESE</td>\n",
       "      <td>2 владельца</td>\n",
       "      <td>NaN</td>\n",
       "      <td>Оригинал</td>\n",
       "      <td>полный</td>\n",
       "      <td>Левый</td>\n",
       "      <td>Не требует ремонта</td>\n",
       "      <td>Растаможен</td>\n",
       "    </tr>\n",
       "    <tr>\n",
       "      <th>16547</th>\n",
       "      <td>внедорожник 5 дв.</td>\n",
       "      <td>MERCEDES</td>\n",
       "      <td>https://auto.ru/cars/used/sale/mercedes/m_klas...</td>\n",
       "      <td>чёрный</td>\n",
       "      <td>NaN</td>\n",
       "      <td>Мерседес Мл 63 ( ml63 amg) , юридически чистая...</td>\n",
       "      <td>6.2 LTR</td>\n",
       "      <td>510 N12</td>\n",
       "      <td>NaN</td>\n",
       "      <td>бензин</td>\n",
       "      <td>https://autoru.naydex.net/ESooa9149/468b9eoMem...</td>\n",
       "      <td>123000</td>\n",
       "      <td>2008</td>\n",
       "      <td>{\"code\":\"M_KLASSE_AMG\",\"name\":\"M-Класс AMG\",\"r...</td>\n",
       "      <td>M_KLASSE_AMG</td>\n",
       "      <td>63 AMG 6.2 AT (510 л.с.) 4WD</td>\n",
       "      <td>5</td>\n",
       "      <td>1603244368</td>\n",
       "      <td>RUB</td>\n",
       "      <td>2010</td>\n",
       "      <td>1096753480</td>\n",
       "      <td>{\"id\":\"2307891\",\"name\":\"63 AMG\",\"nameplate\":\"6...</td>\n",
       "      <td>ALLROAD_5_DOORS AUTOMATIC 6.2</td>\n",
       "      <td>автоматическая</td>\n",
       "      <td>EUROPEAN</td>\n",
       "      <td>3 или более</td>\n",
       "      <td>NaN</td>\n",
       "      <td>Дубликат</td>\n",
       "      <td>полный</td>\n",
       "      <td>Левый</td>\n",
       "      <td>Не требует ремонта</td>\n",
       "      <td>Растаможен</td>\n",
       "    </tr>\n",
       "    <tr>\n",
       "      <th>33860</th>\n",
       "      <td>седан</td>\n",
       "      <td>AUDI</td>\n",
       "      <td>https://auto.ru/cars/used/sale/audi/a6/1101367...</td>\n",
       "      <td>чёрный</td>\n",
       "      <td>NaN</td>\n",
       "      <td>Авто в хорошем состоянии , срочная продажа , п...</td>\n",
       "      <td>2.4 LTR</td>\n",
       "      <td>177 N12</td>\n",
       "      <td>NaN</td>\n",
       "      <td>бензин</td>\n",
       "      <td>https://autoru.naydex.net/FwiuJ8975/366aceFl8F...</td>\n",
       "      <td>300000</td>\n",
       "      <td>2004</td>\n",
       "      <td>{\"code\":\"A6\",\"name\":\"A6\",\"ru_name\":\"А6\",\"morph...</td>\n",
       "      <td>A6</td>\n",
       "      <td>2.4 CVT (177 л.с.)</td>\n",
       "      <td>4</td>\n",
       "      <td>1603653712</td>\n",
       "      <td>RUB</td>\n",
       "      <td>2004</td>\n",
       "      <td>1101367972</td>\n",
       "      <td>{\"id\":\"6297759\",\"displacement\":2393,\"engine_ty...</td>\n",
       "      <td>SEDAN VARIATOR 2.4</td>\n",
       "      <td>вариатор</td>\n",
       "      <td>EUROPEAN</td>\n",
       "      <td>3 или более</td>\n",
       "      <td>NaN</td>\n",
       "      <td>Дубликат</td>\n",
       "      <td>передний</td>\n",
       "      <td>Левый</td>\n",
       "      <td>Не требует ремонта</td>\n",
       "      <td>Растаможен</td>\n",
       "    </tr>\n",
       "    <tr>\n",
       "      <th>26524</th>\n",
       "      <td>минивэн</td>\n",
       "      <td>VOLKSWAGEN</td>\n",
       "      <td>https://auto.ru/cars/used/sale/volkswagen/mult...</td>\n",
       "      <td>фиолетовый</td>\n",
       "      <td>{\"id\":\"20982241\",\"name\":\"Trendline\",\"available...</td>\n",
       "      <td>Автомобиль куплен в 2017 году в Германика Химк...</td>\n",
       "      <td>2.0 LTR</td>\n",
       "      <td>140 N12</td>\n",
       "      <td>{\"esp\":true,\"airbag-driver\":true,\"aux\":true,\"r...</td>\n",
       "      <td>дизель</td>\n",
       "      <td>https://autoru.naydex.net/o9DBXQ270/5ac010hAY0...</td>\n",
       "      <td>94936</td>\n",
       "      <td>2015</td>\n",
       "      <td>{\"code\":\"MULTIVAN\",\"name\":\"Multivan\",\"ru_name\"...</td>\n",
       "      <td>MULTIVAN</td>\n",
       "      <td>2.0d AMT (140 л.с.)</td>\n",
       "      <td>4</td>\n",
       "      <td>1603225489</td>\n",
       "      <td>RUB</td>\n",
       "      <td>2017</td>\n",
       "      <td>1101082865</td>\n",
       "      <td>{\"id\":\"20761827\",\"displacement\":1968,\"engine_t...</td>\n",
       "      <td>MINIVAN ROBOT 2.0</td>\n",
       "      <td>роботизированная</td>\n",
       "      <td>EUROPEAN</td>\n",
       "      <td>1 владелец</td>\n",
       "      <td>3 года и 4 месяца</td>\n",
       "      <td>Оригинал</td>\n",
       "      <td>передний</td>\n",
       "      <td>Левый</td>\n",
       "      <td>Не требует ремонта</td>\n",
       "      <td>Растаможен</td>\n",
       "    </tr>\n",
       "    <tr>\n",
       "      <th>12584</th>\n",
       "      <td>седан</td>\n",
       "      <td>NISSAN</td>\n",
       "      <td>https://auto.ru/cars/used/sale/nissan/skyline/...</td>\n",
       "      <td>серый</td>\n",
       "      <td>NaN</td>\n",
       "      <td>Технически все в рабочем состоянии. Минусы по ...</td>\n",
       "      <td>2.5 LTR</td>\n",
       "      <td>215 N12</td>\n",
       "      <td>{\"tinted-glass\":true,\"airbag-driver\":true,\"aux...</td>\n",
       "      <td>бензин</td>\n",
       "      <td>https://autoru.naydex.net/G87gDZg56/28c7a8vqVE...</td>\n",
       "      <td>200000</td>\n",
       "      <td>2001</td>\n",
       "      <td>{\"code\":\"SKYLINE\",\"name\":\"Skyline\",\"ru_name\":\"...</td>\n",
       "      <td>SKYLINE</td>\n",
       "      <td>2.5 AT (215 л.с.)</td>\n",
       "      <td>4</td>\n",
       "      <td>1603275269</td>\n",
       "      <td>RUB</td>\n",
       "      <td>2002</td>\n",
       "      <td>1100409280</td>\n",
       "      <td>{\"id\":\"8298788\",\"displacement\":2495,\"engine_ty...</td>\n",
       "      <td>SEDAN AUTOMATIC 2.5</td>\n",
       "      <td>автоматическая</td>\n",
       "      <td>JAPANESE</td>\n",
       "      <td>3 или более</td>\n",
       "      <td>NaN</td>\n",
       "      <td>Дубликат</td>\n",
       "      <td>задний</td>\n",
       "      <td>Правый</td>\n",
       "      <td>Не требует ремонта</td>\n",
       "      <td>Растаможен</td>\n",
       "    </tr>\n",
       "    <tr>\n",
       "      <th>17116</th>\n",
       "      <td>минивэн</td>\n",
       "      <td>MERCEDES</td>\n",
       "      <td>https://auto.ru/cars/used/sale/mercedes/v_klas...</td>\n",
       "      <td>серебристый</td>\n",
       "      <td>NaN</td>\n",
       "      <td>Продаю шикарный автомобиль в идеальном состоян...</td>\n",
       "      <td>2.1 LTR</td>\n",
       "      <td>136 N12</td>\n",
       "      <td>{\"tinted-glass\":true,\"esp\":true,\"adaptive-ligh...</td>\n",
       "      <td>дизель</td>\n",
       "      <td>https://autoru.naydex.net/ESooa9149/468b9eoMem...</td>\n",
       "      <td>60000</td>\n",
       "      <td>2014</td>\n",
       "      <td>{\"code\":\"V_KLASSE\",\"name\":\"V-Класс\",\"ru_name\":...</td>\n",
       "      <td>V_KLASSE</td>\n",
       "      <td>200 d длинный 2.1d AT (136 л.с.)</td>\n",
       "      <td>5</td>\n",
       "      <td>1603246658</td>\n",
       "      <td>RUB</td>\n",
       "      <td>2015</td>\n",
       "      <td>1097489152</td>\n",
       "      <td>{\"id\":\"20109726\",\"name\":\"200\",\"nameplate\":\"200...</td>\n",
       "      <td>MINIVAN AUTOMATIC 2.1</td>\n",
       "      <td>автоматическая</td>\n",
       "      <td>EUROPEAN</td>\n",
       "      <td>1 владелец</td>\n",
       "      <td>4 года и 6 месяцев</td>\n",
       "      <td>Оригинал</td>\n",
       "      <td>задний</td>\n",
       "      <td>Левый</td>\n",
       "      <td>Не требует ремонта</td>\n",
       "      <td>Растаможен</td>\n",
       "    </tr>\n",
       "  </tbody>\n",
       "</table>\n",
       "</div>"
      ],
      "text/plain": [
       "               body_type       brand                                            car_url        color                                      complectation                                        description engine_vol engine_power                                          equipment fuel_type                                              image  mileage  model_date                                         model_info      model_name                                 name  doors_num  parsing_unixtime price_currency  production_date     sell_id                                          super_gen                  configuration      transmission    vendor   num_owners            ownership      docs     drive steering               state     customs\n",
       "8216               седан         BMW  https://auto.ru/cars/used/sale/bmw/5er/1083370...       чёрный  {\"id\":\"21054013\",\"name\":\"M550d xDrive\",\"availa...  Обслуживался в БорисХоф (заказы на руках), тех...    3.0 LTR      381 N12  {\"cruise-control\":true,\"asr\":true,\"tinted-glas...    дизель  https://autoru.naydex.net/lICN99c69/9bc7d3Rr7k...    75000        2013  {\"code\":\"5ER\",\"name\":\"5 серии\",\"ru_name\":\"5 се...             5ER  M550d xDrive 3.0d AT (381 л.с.) 4WD          4        1603110285            RUB             2015  1083370160  {\"id\":\"10436696\",\"name\":\"M550d xDrive\",\"namepl...            SEDAN AUTOMATIC 3.0    автоматическая  EUROPEAN  3 или более      5 лет и 1 месяц  Оригинал    полный    Левый  Не требует ремонта  Растаможен\n",
       "34394              седан      NISSAN  https://auto.ru/cars/used/sale/nissan/almera_c...        серый                                                NaN  Собственник. Машина в хорошем состоянии, есть ...    1.6 LTR      107 N12  {\"engine-proof\":true,\"asr\":true,\"airbag-driver...    бензин  https://autoru.naydex.net/16IvE9y79/a7f8demo/N...   136000        2006  {\"code\":\"ALMERA_CLASSIC\",\"name\":\"Almera Classi...  ALMERA_CLASSIC                    1.6 AT (107 л.с.)          4        1603683089            RUB             2009  1101370035  {\"id\":\"2404985\",\"displacement\":1596,\"engine_ty...            SEDAN AUTOMATIC 1.6    автоматическая  JAPANESE  3 или более    2 года и 4 месяца  Оригинал  передний    Левый  Не требует ремонта  Растаможен\n",
       "24585            минивэн  VOLKSWAGEN  https://auto.ru/cars/used/sale/volkswagen/cara...       чёрный  {\"id\":\"20959322\",\"name\":\"Comfortline\",\"availab...  Бережная эксплуатация,на холодную не запускалс...    2.0 LTR      102 N12  {\"esp\":true,\"airbag-driver\":true,\"aux\":true,\"i...    дизель  https://autoru.naydex.net/o9DBXQ270/5ac010hAY0...    54500        2015  {\"code\":\"CARAVELLE\",\"name\":\"Caravelle\",\"ru_nam...       CARAVELLE                   2.0d MT (102 л.с.)          4        1603218146            RUB             2017  1101146798  {\"id\":\"20621090\",\"displacement\":1968,\"engine_t...         MINIVAN MECHANICAL 2.0      механическая  EUROPEAN   1 владелец  2 года и 11 месяцев  Оригинал  передний    Левый  Не требует ремонта  Растаможен\n",
       "10071              седан         BMW  https://auto.ru/cars/used/sale/bmw/7er/1099912...       чёрный  {\"id\":\"21038606\",\"name\":\"740Li xDrive\",\"availa...  В отличном состоянии, обслуживался у оф дилера...    3.0 LTR      326 N12  {\"cruise-control\":true,\"asr\":true,\"roller-blin...    бензин  https://avatars.mds.yandex.net/get-autoru-vos/...    91000        2015  {\"code\":\"7ER\",\"name\":\"7 серии\",\"ru_name\":\"7 се...             7ER   740Li xDrive 3.0 AT (326 л.с.) 4WD          4        1603117652            RUB             2017  1099912984  {\"id\":\"20765229\",\"name\":\"740L\",\"nameplate\":\"74...            SEDAN AUTOMATIC 3.0    автоматическая  EUROPEAN   1 владелец                  NaN  Оригинал    полный    Левый  Не требует ремонта  Растаможен\n",
       "13946              седан      NISSAN  https://auto.ru/cars/used/sale/nissan/teana/10...       чёрный                                                NaN  Авто в хорошем состоянии, сделано большое ТО в...    2.5 LTR      167 N12                                                NaN    бензин  https://autoru.naydex.net/G87gDZg56/28c7a8vqVE...   220000        2011  {\"code\":\"TEANA\",\"name\":\"Teana\",\"ru_name\":\"Тиан...           TEANA               2.5 CVT (167 л.с.) 4WD          4        1603280365            RUB             2011  1099950014  {\"id\":\"20194520\",\"displacement\":2488,\"engine_t...             SEDAN VARIATOR 2.5          вариатор  JAPANESE  2 владельца                  NaN  Оригинал    полный    Левый  Не требует ремонта  Растаможен\n",
       "16547  внедорожник 5 дв.    MERCEDES  https://auto.ru/cars/used/sale/mercedes/m_klas...       чёрный                                                NaN  Мерседес Мл 63 ( ml63 amg) , юридически чистая...    6.2 LTR      510 N12                                                NaN    бензин  https://autoru.naydex.net/ESooa9149/468b9eoMem...   123000        2008  {\"code\":\"M_KLASSE_AMG\",\"name\":\"M-Класс AMG\",\"r...    M_KLASSE_AMG         63 AMG 6.2 AT (510 л.с.) 4WD          5        1603244368            RUB             2010  1096753480  {\"id\":\"2307891\",\"name\":\"63 AMG\",\"nameplate\":\"6...  ALLROAD_5_DOORS AUTOMATIC 6.2    автоматическая  EUROPEAN  3 или более                  NaN  Дубликат    полный    Левый  Не требует ремонта  Растаможен\n",
       "33860              седан        AUDI  https://auto.ru/cars/used/sale/audi/a6/1101367...       чёрный                                                NaN  Авто в хорошем состоянии , срочная продажа , п...    2.4 LTR      177 N12                                                NaN    бензин  https://autoru.naydex.net/FwiuJ8975/366aceFl8F...   300000        2004  {\"code\":\"A6\",\"name\":\"A6\",\"ru_name\":\"А6\",\"morph...              A6                   2.4 CVT (177 л.с.)          4        1603653712            RUB             2004  1101367972  {\"id\":\"6297759\",\"displacement\":2393,\"engine_ty...             SEDAN VARIATOR 2.4          вариатор  EUROPEAN  3 или более                  NaN  Дубликат  передний    Левый  Не требует ремонта  Растаможен\n",
       "26524            минивэн  VOLKSWAGEN  https://auto.ru/cars/used/sale/volkswagen/mult...   фиолетовый  {\"id\":\"20982241\",\"name\":\"Trendline\",\"available...  Автомобиль куплен в 2017 году в Германика Химк...    2.0 LTR      140 N12  {\"esp\":true,\"airbag-driver\":true,\"aux\":true,\"r...    дизель  https://autoru.naydex.net/o9DBXQ270/5ac010hAY0...    94936        2015  {\"code\":\"MULTIVAN\",\"name\":\"Multivan\",\"ru_name\"...        MULTIVAN                  2.0d AMT (140 л.с.)          4        1603225489            RUB             2017  1101082865  {\"id\":\"20761827\",\"displacement\":1968,\"engine_t...              MINIVAN ROBOT 2.0  роботизированная  EUROPEAN   1 владелец    3 года и 4 месяца  Оригинал  передний    Левый  Не требует ремонта  Растаможен\n",
       "12584              седан      NISSAN  https://auto.ru/cars/used/sale/nissan/skyline/...        серый                                                NaN  Технически все в рабочем состоянии. Минусы по ...    2.5 LTR      215 N12  {\"tinted-glass\":true,\"airbag-driver\":true,\"aux...    бензин  https://autoru.naydex.net/G87gDZg56/28c7a8vqVE...   200000        2001  {\"code\":\"SKYLINE\",\"name\":\"Skyline\",\"ru_name\":\"...         SKYLINE                    2.5 AT (215 л.с.)          4        1603275269            RUB             2002  1100409280  {\"id\":\"8298788\",\"displacement\":2495,\"engine_ty...            SEDAN AUTOMATIC 2.5    автоматическая  JAPANESE  3 или более                  NaN  Дубликат    задний   Правый  Не требует ремонта  Растаможен\n",
       "17116            минивэн    MERCEDES  https://auto.ru/cars/used/sale/mercedes/v_klas...  серебристый                                                NaN  Продаю шикарный автомобиль в идеальном состоян...    2.1 LTR      136 N12  {\"tinted-glass\":true,\"esp\":true,\"adaptive-ligh...    дизель  https://autoru.naydex.net/ESooa9149/468b9eoMem...    60000        2014  {\"code\":\"V_KLASSE\",\"name\":\"V-Класс\",\"ru_name\":...        V_KLASSE     200 d длинный 2.1d AT (136 л.с.)          5        1603246658            RUB             2015  1097489152  {\"id\":\"20109726\",\"name\":\"200\",\"nameplate\":\"200...          MINIVAN AUTOMATIC 2.1    автоматическая  EUROPEAN   1 владелец   4 года и 6 месяцев  Оригинал    задний    Левый  Не требует ремонта  Растаможен"
      ]
     },
     "execution_count": 4,
     "metadata": {},
     "output_type": "execute_result"
    }
   ],
   "source": [
    "df_test.sample(10)"
   ]
  },
  {
   "cell_type": "code",
   "execution_count": 5,
   "metadata": {},
   "outputs": [
    {
     "name": "stdout",
     "output_type": "stream",
     "text": [
      "<class 'pandas.core.frame.DataFrame'>\n",
      "RangeIndex: 34686 entries, 0 to 34685\n",
      "Data columns (total 32 columns):\n",
      " #   Column            Non-Null Count  Dtype \n",
      "---  ------            --------------  ----- \n",
      " 0   body_type         34686 non-null  object\n",
      " 1   brand             34686 non-null  object\n",
      " 2   car_url           34686 non-null  object\n",
      " 3   color             34686 non-null  object\n",
      " 4   complectation     6418 non-null   object\n",
      " 5   description       34686 non-null  object\n",
      " 6   engine_vol        34686 non-null  object\n",
      " 7   engine_power      34686 non-null  object\n",
      " 8   equipment         24690 non-null  object\n",
      " 9   fuel_type         34686 non-null  object\n",
      " 10  image             34686 non-null  object\n",
      " 11  mileage           34686 non-null  int64 \n",
      " 12  model_date        34686 non-null  int64 \n",
      " 13  model_info        34686 non-null  object\n",
      " 14  model_name        34686 non-null  object\n",
      " 15  name              34686 non-null  object\n",
      " 16  doors_num         34686 non-null  int64 \n",
      " 17  parsing_unixtime  34686 non-null  int64 \n",
      " 18  price_currency    34686 non-null  object\n",
      " 19  production_date   34686 non-null  int64 \n",
      " 20  sell_id           34686 non-null  int64 \n",
      " 21  super_gen         34686 non-null  object\n",
      " 22  configuration     34686 non-null  object\n",
      " 23  transmission      34686 non-null  object\n",
      " 24  vendor            34686 non-null  object\n",
      " 25  num_owners        34686 non-null  object\n",
      " 26  ownership         11995 non-null  object\n",
      " 27  docs              34685 non-null  object\n",
      " 28  drive             34686 non-null  object\n",
      " 29  steering          34686 non-null  object\n",
      " 30  state             34686 non-null  object\n",
      " 31  customs           34686 non-null  object\n",
      "dtypes: int64(6), object(26)\n",
      "memory usage: 8.5+ MB\n"
     ]
    }
   ],
   "source": [
    "df_test.info()"
   ]
  },
  {
   "cell_type": "markdown",
   "metadata": {},
   "source": [
    "В некоторых столбцах есть пропуски (о них чуть позже), много строк, мало цифр - придется попотеть(\n",
    "\n",
    "### 1.1 Очистка от мусора\n",
    "\n",
    "Посмотрим на уникальные значения в каждом столбце:"
   ]
  },
  {
   "cell_type": "code",
   "execution_count": 6,
   "metadata": {},
   "outputs": [
    {
     "data": {
      "text/plain": [
       "customs                 1\n",
       "price_currency          1\n",
       "state                   1\n",
       "steering                2\n",
       "docs                    2\n",
       "vendor                  2\n",
       "drive                   3\n",
       "num_owners              3\n",
       "transmission            4\n",
       "fuel_type               5\n",
       "doors_num               5\n",
       "brand                  12\n",
       "color                  16\n",
       "body_type              24\n",
       "engine_vol             55\n",
       "model_date             66\n",
       "production_date        69\n",
       "ownership             275\n",
       "engine_power          315\n",
       "model_name            544\n",
       "configuration         634\n",
       "model_info            954\n",
       "complectation        2364\n",
       "name                 2780\n",
       "super_gen            5890\n",
       "mileage             11268\n",
       "equipment           23705\n",
       "description         31732\n",
       "image               34557\n",
       "parsing_unixtime    34686\n",
       "car_url             34686\n",
       "sell_id             34686\n",
       "dtype: int64"
      ]
     },
     "execution_count": 6,
     "metadata": {},
     "output_type": "execute_result"
    }
   ],
   "source": [
    "df_test.nunique().sort_values()"
   ]
  },
  {
   "cell_type": "markdown",
   "metadata": {},
   "source": [
    "3 столбца содержат всего по 1 уникальному значению, т.е. их наличие никак не влияет на модель. Взглянем на них:"
   ]
  },
  {
   "cell_type": "code",
   "execution_count": 7,
   "metadata": {},
   "outputs": [
    {
     "data": {
      "text/html": [
       "<div>\n",
       "<style scoped>\n",
       "    .dataframe tbody tr th:only-of-type {\n",
       "        vertical-align: middle;\n",
       "    }\n",
       "\n",
       "    .dataframe tbody tr th {\n",
       "        vertical-align: top;\n",
       "    }\n",
       "\n",
       "    .dataframe thead th {\n",
       "        text-align: right;\n",
       "    }\n",
       "</style>\n",
       "<table border=\"1\" class=\"dataframe\">\n",
       "  <thead>\n",
       "    <tr style=\"text-align: right;\">\n",
       "      <th></th>\n",
       "      <th>customs</th>\n",
       "      <th>price_currency</th>\n",
       "      <th>state</th>\n",
       "    </tr>\n",
       "  </thead>\n",
       "  <tbody>\n",
       "    <tr>\n",
       "      <th>0</th>\n",
       "      <td>Растаможен</td>\n",
       "      <td>RUB</td>\n",
       "      <td>Не требует ремонта</td>\n",
       "    </tr>\n",
       "  </tbody>\n",
       "</table>\n",
       "</div>"
      ],
      "text/plain": [
       "      customs price_currency               state\n",
       "0  Растаможен            RUB  Не требует ремонта"
      ]
     },
     "execution_count": 7,
     "metadata": {},
     "output_type": "execute_result"
    }
   ],
   "source": [
    "df_test.head(1)[['customs', 'price_currency', 'state']]"
   ]
  },
  {
   "cell_type": "markdown",
   "metadata": {},
   "source": [
    "Искать и парсить будем только объявления с растаможенными, не требующими ремонта автомобилями. цены будем получать в рублях.\n",
    "Эти столбцы можно удалить. Также сразу удалим отсальные столбцы, не несущие полезной для модели информации."
   ]
  },
  {
   "cell_type": "code",
   "execution_count": 8,
   "metadata": {},
   "outputs": [],
   "source": [
    "df_test.drop(columns=['customs', 'price_currency', 'state', 'sell_id', 'car_url', 'image'], inplace=True)"
   ]
  },
  {
   "cell_type": "markdown",
   "metadata": {},
   "source": [
    "### 1.2 Бинарные столбцы\n",
    "Теперь разберемся со столбцами, в которых по 2-3 уникальных значения (т.е. по сути с категоральными столбцами)"
   ]
  },
  {
   "cell_type": "code",
   "execution_count": 9,
   "metadata": {},
   "outputs": [
    {
     "data": {
      "text/plain": [
       "array(['Левый', 'Правый'], dtype=object)"
      ]
     },
     "execution_count": 9,
     "metadata": {},
     "output_type": "execute_result"
    }
   ],
   "source": [
    "df_test.steering.unique()"
   ]
  },
  {
   "cell_type": "code",
   "execution_count": 10,
   "metadata": {},
   "outputs": [],
   "source": [
    "# превратим категоральный признак в бинарный, проставив 1 везде, где руль справа\n",
    "df_test.steering = (df_test.steering == 'Правый').astype('int')"
   ]
  },
  {
   "cell_type": "code",
   "execution_count": 11,
   "metadata": {},
   "outputs": [
    {
     "data": {
      "text/plain": [
       "array(['Оригинал', 'Дубликат', nan], dtype=object)"
      ]
     },
     "execution_count": 11,
     "metadata": {},
     "output_type": "execute_result"
    }
   ],
   "source": [
    "df_test.docs.unique()"
   ]
  },
  {
   "cell_type": "code",
   "execution_count": 12,
   "metadata": {},
   "outputs": [],
   "source": [
    "# найдем наиболее частое значение\n",
    "docs_fill = df_test.docs.value_counts().index[0] \n",
    "# заполним им все пропуски\n",
    "# а затем превратим категоральный признак в бинарный, проставив 1 везде, где ПТС в виде дубликата\n",
    "df_test.docs = (df_test.docs.fillna(docs_fill) == 'Дубликат').astype('int')"
   ]
  },
  {
   "cell_type": "code",
   "execution_count": 13,
   "metadata": {},
   "outputs": [
    {
     "data": {
      "text/plain": [
       "array(['EUROPEAN', 'JAPANESE'], dtype=object)"
      ]
     },
     "execution_count": 13,
     "metadata": {},
     "output_type": "execute_result"
    }
   ],
   "source": [
    "df_test.vendor.unique()"
   ]
  },
  {
   "cell_type": "code",
   "execution_count": 14,
   "metadata": {},
   "outputs": [],
   "source": [
    "# затем превратим категоральный признак в бинарный, проставив 1 везде, где производитель из Японии\n",
    "df_test.vendor = (df_test.vendor == 'JAPANESE').astype('int')"
   ]
  },
  {
   "cell_type": "markdown",
   "metadata": {},
   "source": [
    "### 1.3 Категоральные столбцы"
   ]
  },
  {
   "cell_type": "code",
   "execution_count": 15,
   "metadata": {},
   "outputs": [
    {
     "data": {
      "text/plain": [
       "array(['передний', 'полный', 'задний'], dtype=object)"
      ]
     },
     "execution_count": 15,
     "metadata": {},
     "output_type": "execute_result"
    }
   ],
   "source": [
    "df_test.drive.unique()"
   ]
  },
  {
   "cell_type": "markdown",
   "metadata": {},
   "source": [
    "Со столбцом `drive` пока ничего не будем делать"
   ]
  },
  {
   "cell_type": "code",
   "execution_count": 16,
   "metadata": {},
   "outputs": [
    {
     "data": {
      "text/plain": [
       "array(['3 или более', '1\\xa0владелец', '2\\xa0владельца'], dtype=object)"
      ]
     },
     "execution_count": 16,
     "metadata": {},
     "output_type": "execute_result"
    }
   ],
   "source": [
    "df_test.num_owners.unique()"
   ]
  },
  {
   "cell_type": "markdown",
   "metadata": {},
   "source": [
    "По сути это числовой столбец, из которого достаточно взять исключительно первый символ"
   ]
  },
  {
   "cell_type": "code",
   "execution_count": 17,
   "metadata": {},
   "outputs": [],
   "source": [
    "df_test.num_owners = df_test.num_owners.str[0].astype('int')"
   ]
  },
  {
   "cell_type": "markdown",
   "metadata": {},
   "source": [
    "### 1.4 Составные столбцы"
   ]
  },
  {
   "cell_type": "markdown",
   "metadata": {},
   "source": [
    "Для анализа составных столбцов добавим вспомогательные функции"
   ]
  },
  {
   "cell_type": "code",
   "execution_count": 18,
   "metadata": {},
   "outputs": [],
   "source": [
    "def get_word(column, index=-1):\n",
    "    return column.apply(lambda s: s.split()[index]) if index != -1 else column\n",
    "\n",
    "def print_unique(column, index=-1):\n",
    "    col_unique = get_word(column, index).unique()\n",
    "    print(len(col_unique))\n",
    "    print(col_unique)"
   ]
  },
  {
   "cell_type": "markdown",
   "metadata": {},
   "source": [
    "Теперь разберем столбец `configuration`"
   ]
  },
  {
   "cell_type": "code",
   "execution_count": 19,
   "metadata": {},
   "outputs": [
    {
     "name": "stdout",
     "output_type": "stream",
     "text": [
      "24\n",
      "['LIFTBACK' 'ALLROAD_5_DOORS' 'HATCHBACK_5_DOORS' 'SEDAN' 'COMPACTVAN'\n",
      " 'WAGON_5_DOORS' 'PICKUP_ONE' 'HATCHBACK_3_DOORS' 'COUPE' 'CABRIO'\n",
      " 'MINIVAN' 'PICKUP_TWO' 'ALLROAD_3_DOORS' 'ROADSTER' 'MICROVAN'\n",
      " 'SEDAN_2_DOORS' 'COUPE_HARDTOP' 'FASTBACK' 'TARGA' 'ALLROAD_OPEN'\n",
      " 'LIMOUSINE' 'PICKUP_ONE_HALF' 'SEDAN_HARDTOP' 'VAN']\n"
     ]
    }
   ],
   "source": [
    "print_unique(df_test.configuration, 0)"
   ]
  },
  {
   "cell_type": "code",
   "execution_count": 20,
   "metadata": {},
   "outputs": [
    {
     "name": "stdout",
     "output_type": "stream",
     "text": [
      "24\n",
      "['лифтбек' 'внедорожник 5 дв.' 'хэтчбек 5 дв.' 'седан' 'компактвэн'\n",
      " 'универсал 5 дв.' 'пикап одинарная кабина' 'хэтчбек 3 дв.' 'купе'\n",
      " 'кабриолет' 'минивэн' 'пикап двойная кабина' 'внедорожник 3 дв.'\n",
      " 'родстер' 'микровэн' 'седан 2 дв.' 'купе-хардтоп' 'фастбек' 'тарга'\n",
      " 'внедорожник открытый' 'лимузин' 'пикап полуторная кабина'\n",
      " 'седан-хардтоп' 'фургон']\n"
     ]
    }
   ],
   "source": [
    "print_unique(df_test.body_type)"
   ]
  },
  {
   "cell_type": "code",
   "execution_count": 21,
   "metadata": {},
   "outputs": [
    {
     "name": "stdout",
     "output_type": "stream",
     "text": [
      "4\n",
      "['ROBOT' 'MECHANICAL' 'AUTOMATIC' 'VARIATOR']\n"
     ]
    }
   ],
   "source": [
    "print_unique(df_test.configuration, 1)"
   ]
  },
  {
   "cell_type": "code",
   "execution_count": 22,
   "metadata": {},
   "outputs": [
    {
     "name": "stdout",
     "output_type": "stream",
     "text": [
      "4\n",
      "['роботизированная' 'механическая' 'автоматическая' 'вариатор']\n"
     ]
    }
   ],
   "source": [
    "print_unique(df_test.transmission)"
   ]
  },
  {
   "cell_type": "code",
   "execution_count": 23,
   "metadata": {},
   "outputs": [
    {
     "name": "stdout",
     "output_type": "stream",
     "text": [
      "55\n",
      "['1.2' '1.6' '1.8' '2.0' '1.4' '1.3' '1.0' '3.6' '1.5' '1.9' '2.8' '1.1'\n",
      " '2.5' '4.2' '3.0' '4.0' '5.9' '2.7' '3.1' '2.4' '5.2' '3.2' '4.1' '6.3'\n",
      " '2.3' '6.0' '2.2' '3.7' '2.9' '5.0' '3.3' '2.1' '2.6' 'LTR' '3.5' '1.7'\n",
      " '0.7' '4.4' '4.8' '5.4' '6.6' '4.9' '3.8' '3.4' '3.9' '4.6' '5.6' '4.5'\n",
      " '5.5' '6.2' '4.7' '4.3' '5.8' '5.3' '5.7']\n"
     ]
    }
   ],
   "source": [
    "print_unique(df_test.engine_vol, 0)"
   ]
  },
  {
   "cell_type": "markdown",
   "metadata": {},
   "source": [
    "Первое слово внутри столбца полностью соответствует столбцу `body_type`, а второе - столбцу `transmission`, а третье - вроде как соответствует столбцу `engine_vol`, который, в свою очередь сам составной. такое дублирование не нужно, исправим"
   ]
  },
  {
   "cell_type": "code",
   "execution_count": 24,
   "metadata": {},
   "outputs": [],
   "source": [
    "# в столбцах body_type и transmission сохраним более привлекательные латинские значения\n",
    "df_test.body_type = get_word(df_test.configuration, 0)\n",
    "df_test.transmission = get_word(df_test.configuration, 1)\n",
    "# в столбца engine_vol избавимся от 'LTR' и превратим значение в число\n",
    "df_test.engine_vol = df_test.engine_vol.apply(lambda s: '0.0' if s == ' LTR' else s.split()[0]).astype('float')\n",
    "df_test.drop(columns='configuration', inplace=True)"
   ]
  },
  {
   "cell_type": "code",
   "execution_count": 25,
   "metadata": {},
   "outputs": [
    {
     "data": {
      "text/html": [
       "<div>\n",
       "<style scoped>\n",
       "    .dataframe tbody tr th:only-of-type {\n",
       "        vertical-align: middle;\n",
       "    }\n",
       "\n",
       "    .dataframe tbody tr th {\n",
       "        vertical-align: top;\n",
       "    }\n",
       "\n",
       "    .dataframe thead th {\n",
       "        text-align: right;\n",
       "    }\n",
       "</style>\n",
       "<table border=\"1\" class=\"dataframe\">\n",
       "  <thead>\n",
       "    <tr style=\"text-align: right;\">\n",
       "      <th></th>\n",
       "      <th>body_type</th>\n",
       "      <th>brand</th>\n",
       "      <th>color</th>\n",
       "      <th>complectation</th>\n",
       "      <th>description</th>\n",
       "      <th>engine_vol</th>\n",
       "      <th>engine_power</th>\n",
       "      <th>equipment</th>\n",
       "      <th>fuel_type</th>\n",
       "      <th>mileage</th>\n",
       "      <th>model_date</th>\n",
       "      <th>model_info</th>\n",
       "      <th>model_name</th>\n",
       "      <th>name</th>\n",
       "      <th>doors_num</th>\n",
       "      <th>parsing_unixtime</th>\n",
       "      <th>production_date</th>\n",
       "      <th>super_gen</th>\n",
       "      <th>transmission</th>\n",
       "      <th>vendor</th>\n",
       "      <th>num_owners</th>\n",
       "      <th>ownership</th>\n",
       "      <th>docs</th>\n",
       "      <th>drive</th>\n",
       "      <th>steering</th>\n",
       "    </tr>\n",
       "  </thead>\n",
       "  <tbody>\n",
       "    <tr>\n",
       "      <th>0</th>\n",
       "      <td>LIFTBACK</td>\n",
       "      <td>SKODA</td>\n",
       "      <td>синий</td>\n",
       "      <td>NaN</td>\n",
       "      <td>Все автомобили, представленные в продаже, прох...</td>\n",
       "      <td>1.2</td>\n",
       "      <td>105 N12</td>\n",
       "      <td>{\"engine-proof\":true,\"tinted-glass\":true,\"airb...</td>\n",
       "      <td>бензин</td>\n",
       "      <td>74000</td>\n",
       "      <td>2013</td>\n",
       "      <td>{\"code\":\"OCTAVIA\",\"name\":\"Octavia\",\"ru_name\":\"...</td>\n",
       "      <td>OCTAVIA</td>\n",
       "      <td>1.2 AMT (105 л.с.)</td>\n",
       "      <td>5</td>\n",
       "      <td>1603226273</td>\n",
       "      <td>2014</td>\n",
       "      <td>{\"id\":\"10373605\",\"displacement\":1197,\"engine_t...</td>\n",
       "      <td>ROBOT</td>\n",
       "      <td>0</td>\n",
       "      <td>3</td>\n",
       "      <td>NaN</td>\n",
       "      <td>0</td>\n",
       "      <td>передний</td>\n",
       "      <td>0</td>\n",
       "    </tr>\n",
       "    <tr>\n",
       "      <th>1</th>\n",
       "      <td>LIFTBACK</td>\n",
       "      <td>SKODA</td>\n",
       "      <td>чёрный</td>\n",
       "      <td>NaN</td>\n",
       "      <td>ЛОТ: 01217195\\nАвтопрага Север\\nДанный автомоб...</td>\n",
       "      <td>1.6</td>\n",
       "      <td>110 N12</td>\n",
       "      <td>{\"cruise-control\":true,\"asr\":true,\"esp\":true,\"...</td>\n",
       "      <td>бензин</td>\n",
       "      <td>60563</td>\n",
       "      <td>2017</td>\n",
       "      <td>{\"code\":\"OCTAVIA\",\"name\":\"Octavia\",\"ru_name\":\"...</td>\n",
       "      <td>OCTAVIA</td>\n",
       "      <td>1.6 MT (110 л.с.)</td>\n",
       "      <td>5</td>\n",
       "      <td>1603226277</td>\n",
       "      <td>2017</td>\n",
       "      <td>{\"id\":\"20913311\",\"displacement\":1598,\"engine_t...</td>\n",
       "      <td>MECHANICAL</td>\n",
       "      <td>0</td>\n",
       "      <td>1</td>\n",
       "      <td>NaN</td>\n",
       "      <td>0</td>\n",
       "      <td>передний</td>\n",
       "      <td>0</td>\n",
       "    </tr>\n",
       "    <tr>\n",
       "      <th>2</th>\n",
       "      <td>LIFTBACK</td>\n",
       "      <td>SKODA</td>\n",
       "      <td>серый</td>\n",
       "      <td>{\"id\":\"20026336\",\"name\":\"Ambition\",\"available_...</td>\n",
       "      <td>Все автомобили, представленные в продаже, прох...</td>\n",
       "      <td>1.8</td>\n",
       "      <td>152 N12</td>\n",
       "      <td>{\"cruise-control\":true,\"tinted-glass\":true,\"es...</td>\n",
       "      <td>бензин</td>\n",
       "      <td>88000</td>\n",
       "      <td>2013</td>\n",
       "      <td>{\"code\":\"SUPERB\",\"name\":\"Superb\",\"ru_name\":\"Су...</td>\n",
       "      <td>SUPERB</td>\n",
       "      <td>DSG 1.8 AMT (152 л.с.)</td>\n",
       "      <td>5</td>\n",
       "      <td>1603226280</td>\n",
       "      <td>2014</td>\n",
       "      <td>{\"id\":\"20026323\",\"nameplate\":\"DSG\",\"displaceme...</td>\n",
       "      <td>ROBOT</td>\n",
       "      <td>0</td>\n",
       "      <td>1</td>\n",
       "      <td>NaN</td>\n",
       "      <td>0</td>\n",
       "      <td>передний</td>\n",
       "      <td>0</td>\n",
       "    </tr>\n",
       "    <tr>\n",
       "      <th>3</th>\n",
       "      <td>LIFTBACK</td>\n",
       "      <td>SKODA</td>\n",
       "      <td>коричневый</td>\n",
       "      <td>{\"id\":\"20803582\",\"name\":\"Ambition\",\"available_...</td>\n",
       "      <td>КОМПЛЕКТ ЗИМНЕЙ (ЛЕТНЕЙ) РЕЗИНЫ ПО СЕЗОНУ В ПО...</td>\n",
       "      <td>1.6</td>\n",
       "      <td>110 N12</td>\n",
       "      <td>{\"cruise-control\":true,\"roller-blind-for-rear-...</td>\n",
       "      <td>бензин</td>\n",
       "      <td>95000</td>\n",
       "      <td>2013</td>\n",
       "      <td>{\"code\":\"OCTAVIA\",\"name\":\"Octavia\",\"ru_name\":\"...</td>\n",
       "      <td>OCTAVIA</td>\n",
       "      <td>1.6 AT (110 л.с.)</td>\n",
       "      <td>5</td>\n",
       "      <td>1603226284</td>\n",
       "      <td>2014</td>\n",
       "      <td>{\"id\":\"20105521\",\"displacement\":1598,\"engine_t...</td>\n",
       "      <td>AUTOMATIC</td>\n",
       "      <td>0</td>\n",
       "      <td>1</td>\n",
       "      <td>NaN</td>\n",
       "      <td>0</td>\n",
       "      <td>передний</td>\n",
       "      <td>0</td>\n",
       "    </tr>\n",
       "    <tr>\n",
       "      <th>4</th>\n",
       "      <td>LIFTBACK</td>\n",
       "      <td>SKODA</td>\n",
       "      <td>белый</td>\n",
       "      <td>NaN</td>\n",
       "      <td>ЛОТ: 01220889\\nАвтопрага Север\\n\\nВы можете по...</td>\n",
       "      <td>1.8</td>\n",
       "      <td>152 N12</td>\n",
       "      <td>{\"cruise-control\":true,\"asr\":true,\"esp\":true,\"...</td>\n",
       "      <td>бензин</td>\n",
       "      <td>58536</td>\n",
       "      <td>2008</td>\n",
       "      <td>{\"code\":\"OCTAVIA\",\"name\":\"Octavia\",\"ru_name\":\"...</td>\n",
       "      <td>OCTAVIA</td>\n",
       "      <td>1.8 AT (152 л.с.)</td>\n",
       "      <td>5</td>\n",
       "      <td>1603226288</td>\n",
       "      <td>2012</td>\n",
       "      <td>{\"id\":\"4561004\",\"displacement\":1798,\"engine_ty...</td>\n",
       "      <td>AUTOMATIC</td>\n",
       "      <td>0</td>\n",
       "      <td>1</td>\n",
       "      <td>NaN</td>\n",
       "      <td>0</td>\n",
       "      <td>передний</td>\n",
       "      <td>0</td>\n",
       "    </tr>\n",
       "  </tbody>\n",
       "</table>\n",
       "</div>"
      ],
      "text/plain": [
       "  body_type  brand       color                                      complectation                                        description  engine_vol engine_power                                          equipment fuel_type  mileage  model_date                                         model_info model_name                    name  doors_num  parsing_unixtime  production_date                                          super_gen transmission  vendor  num_owners ownership  docs     drive  steering\n",
       "0  LIFTBACK  SKODA       синий                                                NaN  Все автомобили, представленные в продаже, прох...         1.2      105 N12  {\"engine-proof\":true,\"tinted-glass\":true,\"airb...    бензин    74000        2013  {\"code\":\"OCTAVIA\",\"name\":\"Octavia\",\"ru_name\":\"...    OCTAVIA      1.2 AMT (105 л.с.)          5        1603226273             2014  {\"id\":\"10373605\",\"displacement\":1197,\"engine_t...        ROBOT       0           3       NaN     0  передний         0\n",
       "1  LIFTBACK  SKODA      чёрный                                                NaN  ЛОТ: 01217195\\nАвтопрага Север\\nДанный автомоб...         1.6      110 N12  {\"cruise-control\":true,\"asr\":true,\"esp\":true,\"...    бензин    60563        2017  {\"code\":\"OCTAVIA\",\"name\":\"Octavia\",\"ru_name\":\"...    OCTAVIA       1.6 MT (110 л.с.)          5        1603226277             2017  {\"id\":\"20913311\",\"displacement\":1598,\"engine_t...   MECHANICAL       0           1       NaN     0  передний         0\n",
       "2  LIFTBACK  SKODA       серый  {\"id\":\"20026336\",\"name\":\"Ambition\",\"available_...  Все автомобили, представленные в продаже, прох...         1.8      152 N12  {\"cruise-control\":true,\"tinted-glass\":true,\"es...    бензин    88000        2013  {\"code\":\"SUPERB\",\"name\":\"Superb\",\"ru_name\":\"Су...     SUPERB  DSG 1.8 AMT (152 л.с.)          5        1603226280             2014  {\"id\":\"20026323\",\"nameplate\":\"DSG\",\"displaceme...        ROBOT       0           1       NaN     0  передний         0\n",
       "3  LIFTBACK  SKODA  коричневый  {\"id\":\"20803582\",\"name\":\"Ambition\",\"available_...  КОМПЛЕКТ ЗИМНЕЙ (ЛЕТНЕЙ) РЕЗИНЫ ПО СЕЗОНУ В ПО...         1.6      110 N12  {\"cruise-control\":true,\"roller-blind-for-rear-...    бензин    95000        2013  {\"code\":\"OCTAVIA\",\"name\":\"Octavia\",\"ru_name\":\"...    OCTAVIA       1.6 AT (110 л.с.)          5        1603226284             2014  {\"id\":\"20105521\",\"displacement\":1598,\"engine_t...    AUTOMATIC       0           1       NaN     0  передний         0\n",
       "4  LIFTBACK  SKODA       белый                                                NaN  ЛОТ: 01220889\\nАвтопрага Север\\n\\nВы можете по...         1.8      152 N12  {\"cruise-control\":true,\"asr\":true,\"esp\":true,\"...    бензин    58536        2008  {\"code\":\"OCTAVIA\",\"name\":\"Octavia\",\"ru_name\":\"...    OCTAVIA       1.8 AT (152 л.с.)          5        1603226288             2012  {\"id\":\"4561004\",\"displacement\":1798,\"engine_ty...    AUTOMATIC       0           1       NaN     0  передний         0"
      ]
     },
     "execution_count": 25,
     "metadata": {},
     "output_type": "execute_result"
    }
   ],
   "source": [
    "df_test.head()"
   ]
  },
  {
   "cell_type": "markdown",
   "metadata": {},
   "source": [
    "Теперь столбец `engine_power`. Похоже, что в нем второе \"слово\" не имеет смысловой нагрузки для модели"
   ]
  },
  {
   "cell_type": "code",
   "execution_count": 26,
   "metadata": {},
   "outputs": [
    {
     "name": "stdout",
     "output_type": "stream",
     "text": [
      "1\n",
      "['N12']\n"
     ]
    }
   ],
   "source": [
    "print_unique(df_test.engine_power, 1)"
   ]
  },
  {
   "cell_type": "markdown",
   "metadata": {},
   "source": [
    "Так и есть. А первое \"слово\" также присутствует в столбце `name`, который в свою очередь, также дублирует столбцы `engine_vol` и `transmission`. Исправляем:"
   ]
  },
  {
   "cell_type": "code",
   "execution_count": 27,
   "metadata": {},
   "outputs": [],
   "source": [
    "df_test.engine_power = get_word(df_test.engine_power, 0).astype('int')\n",
    "df_test.drop(columns='name', inplace=True)"
   ]
  },
  {
   "cell_type": "code",
   "execution_count": 28,
   "metadata": {},
   "outputs": [
    {
     "data": {
      "text/html": [
       "<div>\n",
       "<style scoped>\n",
       "    .dataframe tbody tr th:only-of-type {\n",
       "        vertical-align: middle;\n",
       "    }\n",
       "\n",
       "    .dataframe tbody tr th {\n",
       "        vertical-align: top;\n",
       "    }\n",
       "\n",
       "    .dataframe thead th {\n",
       "        text-align: right;\n",
       "    }\n",
       "</style>\n",
       "<table border=\"1\" class=\"dataframe\">\n",
       "  <thead>\n",
       "    <tr style=\"text-align: right;\">\n",
       "      <th></th>\n",
       "      <th>body_type</th>\n",
       "      <th>brand</th>\n",
       "      <th>color</th>\n",
       "      <th>complectation</th>\n",
       "      <th>description</th>\n",
       "      <th>engine_vol</th>\n",
       "      <th>engine_power</th>\n",
       "      <th>equipment</th>\n",
       "      <th>fuel_type</th>\n",
       "      <th>mileage</th>\n",
       "      <th>model_date</th>\n",
       "      <th>model_info</th>\n",
       "      <th>model_name</th>\n",
       "      <th>doors_num</th>\n",
       "      <th>parsing_unixtime</th>\n",
       "      <th>production_date</th>\n",
       "      <th>super_gen</th>\n",
       "      <th>transmission</th>\n",
       "      <th>vendor</th>\n",
       "      <th>num_owners</th>\n",
       "      <th>ownership</th>\n",
       "      <th>docs</th>\n",
       "      <th>drive</th>\n",
       "      <th>steering</th>\n",
       "    </tr>\n",
       "  </thead>\n",
       "  <tbody>\n",
       "    <tr>\n",
       "      <th>12292</th>\n",
       "      <td>SEDAN</td>\n",
       "      <td>NISSAN</td>\n",
       "      <td>чёрный</td>\n",
       "      <td>NaN</td>\n",
       "      <td>Автомат!! Не вариатор! Ввезена из Британии в 2...</td>\n",
       "      <td>2.4</td>\n",
       "      <td>173</td>\n",
       "      <td>NaN</td>\n",
       "      <td>бензин</td>\n",
       "      <td>165000</td>\n",
       "      <td>2005</td>\n",
       "      <td>{\"code\":\"TEANA\",\"name\":\"Teana\",\"ru_name\":\"Тиан...</td>\n",
       "      <td>TEANA</td>\n",
       "      <td>4</td>\n",
       "      <td>1603274107</td>\n",
       "      <td>2007</td>\n",
       "      <td>{\"id\":\"3480707\",\"displacement\":2349,\"engine_ty...</td>\n",
       "      <td>AUTOMATIC</td>\n",
       "      <td>1</td>\n",
       "      <td>3</td>\n",
       "      <td>2 года и 5 месяцев</td>\n",
       "      <td>0</td>\n",
       "      <td>передний</td>\n",
       "      <td>0</td>\n",
       "    </tr>\n",
       "  </tbody>\n",
       "</table>\n",
       "</div>"
      ],
      "text/plain": [
       "      body_type   brand   color complectation                                        description  engine_vol  engine_power equipment fuel_type  mileage  model_date                                         model_info model_name  doors_num  parsing_unixtime  production_date                                          super_gen transmission  vendor  num_owners           ownership  docs     drive  steering\n",
       "12292     SEDAN  NISSAN  чёрный           NaN  Автомат!! Не вариатор! Ввезена из Британии в 2...         2.4           173       NaN    бензин   165000        2005  {\"code\":\"TEANA\",\"name\":\"Teana\",\"ru_name\":\"Тиан...      TEANA          4        1603274107             2007  {\"id\":\"3480707\",\"displacement\":2349,\"engine_ty...    AUTOMATIC       1           3  2 года и 5 месяцев     0  передний         0"
      ]
     },
     "execution_count": 28,
     "metadata": {},
     "output_type": "execute_result"
    }
   ],
   "source": [
    "df_test.sample()"
   ]
  },
  {
   "cell_type": "markdown",
   "metadata": {},
   "source": [
    "Столбец `parsing_time` содержит дату/время выгрузки объявления. Для обучения модели он вряд ли значим, а вот для сабмишна - да, он необходим, чтобы сделать поправку хотя бы на валютный курс. Сохраним его копию, а из дата-сета удалим"
   ]
  },
  {
   "cell_type": "code",
   "execution_count": 29,
   "metadata": {},
   "outputs": [],
   "source": [
    "parsing_time = df_test.parsing_unixtime.copy()\n",
    "df_test.drop(columns='parsing_unixtime', inplace=True)"
   ]
  },
  {
   "cell_type": "code",
   "execution_count": 30,
   "metadata": {},
   "outputs": [
    {
     "data": {
      "text/plain": [
       "0        1603226273\n",
       "1        1603226277\n",
       "2        1603226280\n",
       "3        1603226284\n",
       "4        1603226288\n",
       "            ...    \n",
       "34681    1603707643\n",
       "34682    1603707651\n",
       "34683    1603707843\n",
       "34684    1603707909\n",
       "34685    1603710264\n",
       "Name: parsing_unixtime, Length: 34686, dtype: int64"
      ]
     },
     "execution_count": 30,
     "metadata": {},
     "output_type": "execute_result"
    }
   ],
   "source": [
    "parsing_time"
   ]
  },
  {
   "cell_type": "code",
   "execution_count": null,
   "metadata": {},
   "outputs": [],
   "source": []
  }
 ],
 "metadata": {
  "kernelspec": {
   "display_name": "Python 3",
   "language": "python",
   "name": "python3"
  },
  "language_info": {
   "codemirror_mode": {
    "name": "ipython",
    "version": 3
   },
   "file_extension": ".py",
   "mimetype": "text/x-python",
   "name": "python",
   "nbconvert_exporter": "python",
   "pygments_lexer": "ipython3",
   "version": "3.8.5"
  }
 },
 "nbformat": 4,
 "nbformat_minor": 4
}
