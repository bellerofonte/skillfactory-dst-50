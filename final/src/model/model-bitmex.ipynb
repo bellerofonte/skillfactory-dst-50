{
 "cells": [
  {
   "cell_type": "code",
   "execution_count": 1,
   "metadata": {},
   "outputs": [
    {
     "name": "stderr",
     "output_type": "stream",
     "text": [
      "/opt/miniforge3/lib/python3.9/site-packages/statsmodels/compat/pandas.py:65: FutureWarning: pandas.Int64Index is deprecated and will be removed from pandas in a future version. Use pandas.Index with the appropriate dtype instead.\n",
      "  from pandas import Int64Index as NumericIndex\n"
     ]
    }
   ],
   "source": [
    "import pandas as pd\n",
    "import numpy as np\n",
    "import matplotlib.pyplot as plt\n",
    "import seaborn as sns\n",
    "from statsmodels.tsa.arima.model import ARIMA\n",
    "import pmdarima as pm\n",
    "from backtest import Strategy, InferenceStrategy, MeanReverseStrategy\n",
    "from catboost import CatBoostClassifier, CatBoostRegressor\n",
    "\n",
    "PRICE_DEC = 1\n",
    "SIZE_DEC = 3\n",
    "TEST_FRAC = 0.15\n",
    "\n",
    "PERIODS = {\n",
    "    'long': 90,\n",
    "    'short': 10\n",
    "}\n",
    "\n",
    "%matplotlib inline\n",
    "plt.rcParams['figure.figsize'] = (15, 5)"
   ]
  },
  {
   "cell_type": "code",
   "execution_count": 2,
   "metadata": {},
   "outputs": [],
   "source": [
    "def mape(y_true, y_pred):\n",
    "    return np.mean(np.abs((y_pred - y_true) / y_true))\n",
    "\n",
    "def round_pred(y_pred, minstep = 0.5):\n",
    "    return np.round(y_pred / minstep) * minstep"
   ]
  },
  {
   "cell_type": "code",
   "execution_count": 3,
   "metadata": {},
   "outputs": [],
   "source": [
    "df = pd.read_csv('../../bars/bitmex-XBTUSD-1min.csv', parse_dates=['time'])\n",
    "df.sort_values('time', ignore_index=True, inplace=True)\n",
    "df.drop_duplicates(subset='time', ignore_index=True, inplace=True)"
   ]
  },
  {
   "cell_type": "code",
   "execution_count": 4,
   "metadata": {},
   "outputs": [
    {
     "name": "stdout",
     "output_type": "stream",
     "text": [
      "<class 'pandas.core.frame.DataFrame'>\n",
      "RangeIndex: 567865 entries, 0 to 567864\n",
      "Data columns (total 18 columns):\n",
      " #   Column      Non-Null Count   Dtype         \n",
      "---  ------      --------------   -----         \n",
      " 0   time        567865 non-null  datetime64[ns]\n",
      " 1   open        567865 non-null  float64       \n",
      " 2   high        567865 non-null  float64       \n",
      " 3   low         567865 non-null  float64       \n",
      " 4   close       567865 non-null  float64       \n",
      " 5   avg         567865 non-null  float64       \n",
      " 6   wavg        567865 non-null  float64       \n",
      " 7   median      567865 non-null  float64       \n",
      " 8   sum_vol     567865 non-null  int64         \n",
      " 9   up_sum_vol  567865 non-null  int64         \n",
      " 10  md_sum_vol  567865 non-null  int64         \n",
      " 11  lo_sum_vol  567865 non-null  int64         \n",
      " 12  net_vol     567865 non-null  int64         \n",
      " 13  up_net_vol  567865 non-null  int64         \n",
      " 14  md_net_vol  567865 non-null  int64         \n",
      " 15  lo_net_vol  567865 non-null  int64         \n",
      " 16  cnt         567865 non-null  int64         \n",
      " 17  hbl         567865 non-null  bool          \n",
      "dtypes: bool(1), datetime64[ns](1), float64(7), int64(9)\n",
      "memory usage: 74.2 MB\n"
     ]
    }
   ],
   "source": [
    "df.info()"
   ]
  },
  {
   "cell_type": "markdown",
   "metadata": {},
   "source": [
    "Пропусков в самих данных также нет. \n",
    "Имеем дело со следующими столбцами:\n",
    "\n",
    "| наименование | тип | описание |\n",
    "|--------------|-------|--------|\n",
    "|`time`        | datetime   | время начала периода (бара) |\n",
    "|`open`        | float      | цена первой сделки периода   |    \n",
    "|`high`        | float      | максимальная цена сделки периода |\n",
    "|`low`         | float      | минимальная цена сделки периода   |    \n",
    "|`close`       | float      | цена последней сделки периода |\n",
    "|`avg`         | float      | средняя цена сделок периода |\n",
    "|`wavg`        | float      | средневзвешенная по объему цена сделок периода |\n",
    "|`median`      | float      | медиана цен сделок периода |\n",
    "|`sum_vol`     | float      | сумма объемов сделок периода |\n",
    "|`up_sum_vol`  | float      | сумма объемов сделок в промежутке цен от `high` до `max(open, close)`      |\n",
    "|`md_sum_vol`  | float      | сумма объемов сделок в промежутке цен от `open` до `close`         |\n",
    "|`lo_sum_vol`  | float      | сумма объемов сделок в промежутке цен от `low` до `min(open, close)` |\n",
    "|`net_vol`     | float      | нетто-объем сделок периода (сумма объемов покупок минус сумма объемов продаж) |\n",
    "|`up_net_vol`  | float      | нетто-объемо сделок в промежутке цен от `high` до `max(open, close)`        |\n",
    "|`md_net_vol`  | float      | нетто-объем сделок в промежутке цен от `open` до `close`     |\n",
    "|`lo_net_vol`  | float      | нетто-объемо сделок в промежутке цен от `low` до `min(open, close)`   |      \n",
    "|`cnt`         | int        | количество сделок за период|\n",
    "|`hbl`         | boolean    | цена `high` была достигнута раньше, чем цена `low`, "
   ]
  },
  {
   "cell_type": "markdown",
   "metadata": {},
   "source": [
    "Важный нюанс - perpetual фьючерсы `XBTUSD` и `ETHUSD` на бирже `Bitmex` являются **инверсными**, т.е. единица лота в них не сама криптовалюта, а доллар, а PnL, наоборот, рассчитывается и начисляется в криптовалюте. Это стандартная практика для криптовалютных бирж, которые не могут рассчитывать и начислять PnL в фиате или аналогичных фиату стебл-коинах. В случае `ETHUSD` все еще сложнее, ведь его лот привязан к долларовому выражению `BTC`. Поэтому пока не будем трогать `ETHUSD`, но для `XBTUSD` лоты пересчитаем в единицы криптовалюты, чтобы было: \n",
    "* единообразно по всем биржам в данном проекте\n",
    "* проще для рассчетов PnL в моделях\n",
    "* проще для восприятия"
   ]
  },
  {
   "cell_type": "code",
   "execution_count": 5,
   "metadata": {},
   "outputs": [],
   "source": [
    "for col in df.columns:\n",
    "    if col[-4:] == '_vol':\n",
    "        df[col] = np.round(df[col] / df.close, SIZE_DEC)"
   ]
  },
  {
   "cell_type": "code",
   "execution_count": 6,
   "metadata": {},
   "outputs": [
    {
     "data": {
      "text/html": [
       "<div>\n",
       "<style scoped>\n",
       "    .dataframe tbody tr th:only-of-type {\n",
       "        vertical-align: middle;\n",
       "    }\n",
       "\n",
       "    .dataframe tbody tr th {\n",
       "        vertical-align: top;\n",
       "    }\n",
       "\n",
       "    .dataframe thead th {\n",
       "        text-align: right;\n",
       "    }\n",
       "</style>\n",
       "<table border=\"1\" class=\"dataframe\">\n",
       "  <thead>\n",
       "    <tr style=\"text-align: right;\">\n",
       "      <th></th>\n",
       "      <th>time</th>\n",
       "      <th>open</th>\n",
       "      <th>high</th>\n",
       "      <th>low</th>\n",
       "      <th>close</th>\n",
       "      <th>avg</th>\n",
       "      <th>wavg</th>\n",
       "      <th>median</th>\n",
       "      <th>sum_vol</th>\n",
       "      <th>up_sum_vol</th>\n",
       "      <th>md_sum_vol</th>\n",
       "      <th>lo_sum_vol</th>\n",
       "      <th>net_vol</th>\n",
       "      <th>up_net_vol</th>\n",
       "      <th>md_net_vol</th>\n",
       "      <th>lo_net_vol</th>\n",
       "      <th>cnt</th>\n",
       "      <th>hbl</th>\n",
       "    </tr>\n",
       "  </thead>\n",
       "  <tbody>\n",
       "    <tr>\n",
       "      <th>423169</th>\n",
       "      <td>2021-10-22 06:45:00</td>\n",
       "      <td>62570.5</td>\n",
       "      <td>62698.0</td>\n",
       "      <td>62570.5</td>\n",
       "      <td>62697.5</td>\n",
       "      <td>62657.8</td>\n",
       "      <td>62662.4</td>\n",
       "      <td>62672.00</td>\n",
       "      <td>20.077</td>\n",
       "      <td>0.196</td>\n",
       "      <td>19.881</td>\n",
       "      <td>0.000</td>\n",
       "      <td>12.042</td>\n",
       "      <td>0.196</td>\n",
       "      <td>11.846</td>\n",
       "      <td>0.000</td>\n",
       "      <td>117</td>\n",
       "      <td>False</td>\n",
       "    </tr>\n",
       "    <tr>\n",
       "      <th>326373</th>\n",
       "      <td>2021-08-15 23:30:00</td>\n",
       "      <td>47145.5</td>\n",
       "      <td>47174.0</td>\n",
       "      <td>47145.5</td>\n",
       "      <td>47146.5</td>\n",
       "      <td>47160.8</td>\n",
       "      <td>47166.9</td>\n",
       "      <td>47169.00</td>\n",
       "      <td>25.455</td>\n",
       "      <td>22.364</td>\n",
       "      <td>3.090</td>\n",
       "      <td>0.000</td>\n",
       "      <td>-16.775</td>\n",
       "      <td>-17.813</td>\n",
       "      <td>1.037</td>\n",
       "      <td>0.000</td>\n",
       "      <td>96</td>\n",
       "      <td>False</td>\n",
       "    </tr>\n",
       "    <tr>\n",
       "      <th>139378</th>\n",
       "      <td>2021-04-07 19:11:00</td>\n",
       "      <td>55694.5</td>\n",
       "      <td>55695.0</td>\n",
       "      <td>55632.5</td>\n",
       "      <td>55663.5</td>\n",
       "      <td>55655.3</td>\n",
       "      <td>55656.9</td>\n",
       "      <td>55641.75</td>\n",
       "      <td>47.531</td>\n",
       "      <td>0.055</td>\n",
       "      <td>18.258</td>\n",
       "      <td>29.219</td>\n",
       "      <td>-10.168</td>\n",
       "      <td>0.055</td>\n",
       "      <td>-18.258</td>\n",
       "      <td>8.035</td>\n",
       "      <td>160</td>\n",
       "      <td>True</td>\n",
       "    </tr>\n",
       "    <tr>\n",
       "      <th>139542</th>\n",
       "      <td>2021-04-07 21:55:00</td>\n",
       "      <td>56285.0</td>\n",
       "      <td>56285.5</td>\n",
       "      <td>56249.0</td>\n",
       "      <td>56249.0</td>\n",
       "      <td>56273.7</td>\n",
       "      <td>56271.7</td>\n",
       "      <td>56278.50</td>\n",
       "      <td>19.814</td>\n",
       "      <td>0.017</td>\n",
       "      <td>19.798</td>\n",
       "      <td>0.000</td>\n",
       "      <td>-19.694</td>\n",
       "      <td>0.017</td>\n",
       "      <td>-19.711</td>\n",
       "      <td>0.000</td>\n",
       "      <td>90</td>\n",
       "      <td>True</td>\n",
       "    </tr>\n",
       "    <tr>\n",
       "      <th>228873</th>\n",
       "      <td>2021-06-08 23:57:00</td>\n",
       "      <td>33407.5</td>\n",
       "      <td>33440.0</td>\n",
       "      <td>33407.5</td>\n",
       "      <td>33433.5</td>\n",
       "      <td>33425.4</td>\n",
       "      <td>33415.6</td>\n",
       "      <td>33427.25</td>\n",
       "      <td>37.492</td>\n",
       "      <td>5.521</td>\n",
       "      <td>31.971</td>\n",
       "      <td>0.000</td>\n",
       "      <td>23.321</td>\n",
       "      <td>-3.727</td>\n",
       "      <td>27.048</td>\n",
       "      <td>0.000</td>\n",
       "      <td>74</td>\n",
       "      <td>False</td>\n",
       "    </tr>\n",
       "  </tbody>\n",
       "</table>\n",
       "</div>"
      ],
      "text/plain": [
       "                      time     open     high      low    close      avg  \\\n",
       "423169 2021-10-22 06:45:00  62570.5  62698.0  62570.5  62697.5  62657.8   \n",
       "326373 2021-08-15 23:30:00  47145.5  47174.0  47145.5  47146.5  47160.8   \n",
       "139378 2021-04-07 19:11:00  55694.5  55695.0  55632.5  55663.5  55655.3   \n",
       "139542 2021-04-07 21:55:00  56285.0  56285.5  56249.0  56249.0  56273.7   \n",
       "228873 2021-06-08 23:57:00  33407.5  33440.0  33407.5  33433.5  33425.4   \n",
       "\n",
       "           wavg    median  sum_vol  up_sum_vol  md_sum_vol  lo_sum_vol  \\\n",
       "423169  62662.4  62672.00   20.077       0.196      19.881       0.000   \n",
       "326373  47166.9  47169.00   25.455      22.364       3.090       0.000   \n",
       "139378  55656.9  55641.75   47.531       0.055      18.258      29.219   \n",
       "139542  56271.7  56278.50   19.814       0.017      19.798       0.000   \n",
       "228873  33415.6  33427.25   37.492       5.521      31.971       0.000   \n",
       "\n",
       "        net_vol  up_net_vol  md_net_vol  lo_net_vol  cnt    hbl  \n",
       "423169   12.042       0.196      11.846       0.000  117  False  \n",
       "326373  -16.775     -17.813       1.037       0.000   96  False  \n",
       "139378  -10.168       0.055     -18.258       8.035  160   True  \n",
       "139542  -19.694       0.017     -19.711       0.000   90   True  \n",
       "228873   23.321      -3.727      27.048       0.000   74  False  "
      ]
     },
     "execution_count": 6,
     "metadata": {},
     "output_type": "execute_result"
    }
   ],
   "source": [
    "df.sample(5)"
   ]
  },
  {
   "cell_type": "markdown",
   "metadata": {},
   "source": [
    "## Наивные модели\n",
    "\n",
    "В качестве самого первого приближения возьмем тривиальную модель - будем считать, что лучшее предсказание цены закрытия следующего периода - цена закрытия текущего периода.\n",
    "\n",
    "Для удобства обработки тривиальных моделей сразу разобьем целевой ряд (`close`) на тренировочную (85%) и тестовую (15%) выборки. Метрику качества возьмем `MAPE`. Все замеры метрик качества будем проводить на тестовой выборке, чтобы результат можно было сравнивать между моделями"
   ]
  },
  {
   "cell_type": "code",
   "execution_count": 7,
   "metadata": {},
   "outputs": [],
   "source": [
    "prev_close = df.close.shift(1)\n",
    "TEST_SIZE = int(TEST_FRAC * len(df.close))\n",
    "TRAIN_SIZE = len(df.close) - TEST_SIZE\n",
    "df_train = df.close[:TRAIN_SIZE]\n",
    "df_test = df.close[TRAIN_SIZE:]\n",
    "y_pred = prev_close[TRAIN_SIZE:]"
   ]
  },
  {
   "cell_type": "code",
   "execution_count": 8,
   "metadata": {},
   "outputs": [
    {
     "name": "stdout",
     "output_type": "stream",
     "text": [
      "MAPE naive: 0.062579%\n"
     ]
    }
   ],
   "source": [
    "mape0 = round(mape(df_test, y_pred) * 100, 6)\n",
    "print(f'MAPE naive: {mape0}%')"
   ]
  },
  {
   "cell_type": "markdown",
   "metadata": {},
   "source": [
    "`MAPE` чуть больше **0,06%**. Кажется неплохим результатом, но посмотрим разпределение ошибки предсказания:"
   ]
  },
  {
   "cell_type": "code",
   "execution_count": 9,
   "metadata": {},
   "outputs": [
    {
     "data": {
      "text/plain": [
       "<AxesSubplot:xlabel='close'>"
      ]
     },
     "execution_count": 9,
     "metadata": {},
     "output_type": "execute_result"
    },
    {
     "data": {
      "image/png": "[encoded data removed]",
      "text/plain": [
       "<Figure size 1080x576 with 2 Axes>"
      ]
     },
     "metadata": {
      "needs_background": "light"
     },
     "output_type": "display_data"
    }
   ],
   "source": [
    "fig, ax = plt.subplots(2, 1, figsize=(15,8))\n",
    "sns.histplot(ax=ax[0],data=(df_test-y_pred), bins=100)\n",
    "sns.boxplot(ax=ax[1], x=(df_test-y_pred))"
   ]
  },
  {
   "cell_type": "markdown",
   "metadata": {},
   "source": [
    "Из хороших новостей - ошибка не выглядит смещенной. Из плохих - у ошибки толстые хвосты распределения.\n",
    "Что, собственно, логично - такая модель предсказывает более-менее только на низкой волатльности (в отсутствии новостей)."
   ]
  },
  {
   "cell_type": "markdown",
   "metadata": {},
   "source": [
    "В качестве второй наивной модели попробуем обучить стандартную финансовую модель `ARIMA`. Из EDA секции мы знаем, что ранг интегрированности ценового ряда равен 1, а поэтому необходимо использовать модель `ARIMA(p, 1, q)`. Параметры p и q попробуем отыскать подбором."
   ]
  },
  {
   "cell_type": "code",
   "execution_count": 10,
   "metadata": {},
   "outputs": [],
   "source": [
    "# model = pm.auto_arima(df.close, start_p=1, start_q=1,\n",
    "#                       test='adf',       # use adftest to find optimal 'd'\n",
    "#                       max_p=3, max_q=3, # maximum p and q\n",
    "#                       m=1,              # frequency of series\n",
    "#                       d=1,              # let model determine 'd'\n",
    "#                       seasonal=False,   # No Seasonality\n",
    "#                       start_P=0, \n",
    "#                       D=0, \n",
    "#                       trace=True,\n",
    "#                       error_action='ignore',  \n",
    "#                       suppress_warnings=True, \n",
    "#                       stepwise=True)\n",
    "\n",
    "# print(model.summary())"
   ]
  },
  {
   "cell_type": "markdown",
   "metadata": {},
   "source": [
    "Лучший результат показывает модель `ARIMA(1,1,3)`. Проверим качество этой модели."
   ]
  },
  {
   "cell_type": "code",
   "execution_count": 11,
   "metadata": {},
   "outputs": [],
   "source": [
    "\n",
    "model = ARIMA(df_train, order=(1,1,3))"
   ]
  },
  {
   "cell_type": "code",
   "execution_count": 12,
   "metadata": {},
   "outputs": [],
   "source": [
    "ers = model.fit()\n",
    "y_pred = ers.extend(df_test).predict()"
   ]
  },
  {
   "cell_type": "code",
   "execution_count": 13,
   "metadata": {},
   "outputs": [
    {
     "name": "stdout",
     "output_type": "stream",
     "text": [
      "MAPE ARIMA: 0.06262%\n"
     ]
    }
   ],
   "source": [
    "y_pred = round_pred(y_pred)\n",
    "mape1 = round(mape(df_test, y_pred) * 100, 6)\n",
    "print(f'MAPE ARIMA: {mape1}%')"
   ]
  },
  {
   "cell_type": "code",
   "execution_count": 14,
   "metadata": {},
   "outputs": [
    {
     "data": {
      "text/plain": [
       "<AxesSubplot:>"
      ]
     },
     "execution_count": 14,
     "metadata": {},
     "output_type": "execute_result"
    },
    {
     "data": {
      "image/png": "[encoded data removed]",
      "text/plain": [
       "<Figure size 1080x576 with 2 Axes>"
      ]
     },
     "metadata": {
      "needs_background": "light"
     },
     "output_type": "display_data"
    }
   ],
   "source": [
    "fig, ax = plt.subplots(2, 1, figsize=(15,8))\n",
    "sns.histplot(ax=ax[0],data=(df_test-y_pred), bins=100)\n",
    "sns.boxplot(ax=ax[1], x=(df_test-y_pred))"
   ]
  },
  {
   "cell_type": "markdown",
   "metadata": {},
   "source": [
    "Результат даже хуже, чем у сосвсем тривиальной модели."
   ]
  },
  {
   "cell_type": "code",
   "execution_count": 15,
   "metadata": {},
   "outputs": [],
   "source": [
    "cnt_up = 0\n",
    "cnt_down = 0\n",
    "\n",
    "def count_up_bars(x):\n",
    "    global cnt_up\n",
    "    cnt_up = (cnt_up + 1) if x > 0 else 0\n",
    "    return cnt_up\n",
    "\n",
    "\n",
    "def count_down_bars(x):\n",
    "    global cnt_down\n",
    "    cnt_down = (cnt_down + 1) if x < 0 else 0\n",
    "    return cnt_down"
   ]
  },
  {
   "cell_type": "code",
   "execution_count": 16,
   "metadata": {},
   "outputs": [],
   "source": [
    "prev_close = df.close.shift(1)\n",
    "diff_close = df.close.diff()\n",
    "change_close = (df.close / prev_close) - 1\n",
    "DEFAULT_EPS = 0.002 # 0.2%\n",
    "\n",
    "df['up'] = (change_close > DEFAULT_EPS).astype('int')\n",
    "df['down'] = (change_close < -DEFAULT_EPS).astype('int')\n",
    "df['move'] = df['up'] - df['down']\n",
    "df['up_in_row'] = diff_close.apply(count_up_bars)\n",
    "df['down_in_row'] = diff_close.apply(count_down_bars)\n",
    "df['TR'] = np.maximum(df.high, prev_close) - np.minimum(df.low, prev_close)\n",
    "df.dropna(inplace=True)"
   ]
  },
  {
   "cell_type": "code",
   "execution_count": 17,
   "metadata": {},
   "outputs": [],
   "source": [
    "# for key in PERIODS.keys():\n",
    "#     roll = df.rolling(PERIODS[key], min_periods=1)\n",
    "#     df[f'avg_{key}'] = roll.close.mean()\n",
    "#     df[f'std_{key}'] = roll.close.std()\n",
    "#     df[f'ATR_{key}'] = roll.TR.mean()\n",
    "#     df[f'high_{key}'] = roll.high.max()\n",
    "#     df[f'low_{key}'] = roll.low.min()\n",
    "#     df[f'sum_vol_{key}'] = roll.sum_vol.mean()\n",
    "#     df[f'net_vol_{key}'] = roll.net_vol.mean()"
   ]
  },
  {
   "cell_type": "code",
   "execution_count": 18,
   "metadata": {},
   "outputs": [
    {
     "data": {
      "text/plain": [
       " 0    525809\n",
       " 1     21477\n",
       "-1     20578\n",
       "Name: move, dtype: int64"
      ]
     },
     "execution_count": 18,
     "metadata": {},
     "output_type": "execute_result"
    }
   ],
   "source": [
    "df.move.value_counts()"
   ]
  },
  {
   "cell_type": "code",
   "execution_count": 19,
   "metadata": {},
   "outputs": [
    {
     "data": {
      "text/html": [
       "<div>\n",
       "<style scoped>\n",
       "    .dataframe tbody tr th:only-of-type {\n",
       "        vertical-align: middle;\n",
       "    }\n",
       "\n",
       "    .dataframe tbody tr th {\n",
       "        vertical-align: top;\n",
       "    }\n",
       "\n",
       "    .dataframe thead th {\n",
       "        text-align: right;\n",
       "    }\n",
       "</style>\n",
       "<table border=\"1\" class=\"dataframe\">\n",
       "  <thead>\n",
       "    <tr style=\"text-align: right;\">\n",
       "      <th></th>\n",
       "      <th>time</th>\n",
       "      <th>open</th>\n",
       "      <th>high</th>\n",
       "      <th>low</th>\n",
       "      <th>close</th>\n",
       "      <th>avg</th>\n",
       "      <th>wavg</th>\n",
       "      <th>median</th>\n",
       "      <th>sum_vol</th>\n",
       "      <th>up_sum_vol</th>\n",
       "      <th>...</th>\n",
       "      <th>md_net_vol</th>\n",
       "      <th>lo_net_vol</th>\n",
       "      <th>cnt</th>\n",
       "      <th>hbl</th>\n",
       "      <th>up</th>\n",
       "      <th>down</th>\n",
       "      <th>move</th>\n",
       "      <th>up_in_row</th>\n",
       "      <th>down_in_row</th>\n",
       "      <th>TR</th>\n",
       "    </tr>\n",
       "  </thead>\n",
       "  <tbody>\n",
       "    <tr>\n",
       "      <th>567860</th>\n",
       "      <td>2022-01-30 23:55:00</td>\n",
       "      <td>37930.5</td>\n",
       "      <td>37930.5</td>\n",
       "      <td>37918.5</td>\n",
       "      <td>37919.0</td>\n",
       "      <td>37927.2</td>\n",
       "      <td>37927.0</td>\n",
       "      <td>37930.0</td>\n",
       "      <td>5.746</td>\n",
       "      <td>0.000</td>\n",
       "      <td>...</td>\n",
       "      <td>3.916</td>\n",
       "      <td>-0.19</td>\n",
       "      <td>34</td>\n",
       "      <td>True</td>\n",
       "      <td>0</td>\n",
       "      <td>0</td>\n",
       "      <td>0</td>\n",
       "      <td>0</td>\n",
       "      <td>1</td>\n",
       "      <td>12.0</td>\n",
       "    </tr>\n",
       "    <tr>\n",
       "      <th>567861</th>\n",
       "      <td>2022-01-30 23:56:00</td>\n",
       "      <td>37918.5</td>\n",
       "      <td>37918.5</td>\n",
       "      <td>37898.0</td>\n",
       "      <td>37898.0</td>\n",
       "      <td>37906.4</td>\n",
       "      <td>37909.3</td>\n",
       "      <td>37903.5</td>\n",
       "      <td>0.617</td>\n",
       "      <td>0.000</td>\n",
       "      <td>...</td>\n",
       "      <td>-0.480</td>\n",
       "      <td>0.00</td>\n",
       "      <td>10</td>\n",
       "      <td>True</td>\n",
       "      <td>0</td>\n",
       "      <td>0</td>\n",
       "      <td>0</td>\n",
       "      <td>0</td>\n",
       "      <td>2</td>\n",
       "      <td>21.0</td>\n",
       "    </tr>\n",
       "    <tr>\n",
       "      <th>567862</th>\n",
       "      <td>2022-01-30 23:57:00</td>\n",
       "      <td>37897.5</td>\n",
       "      <td>37897.5</td>\n",
       "      <td>37893.0</td>\n",
       "      <td>37893.0</td>\n",
       "      <td>37895.1</td>\n",
       "      <td>37894.9</td>\n",
       "      <td>37893.5</td>\n",
       "      <td>0.699</td>\n",
       "      <td>0.000</td>\n",
       "      <td>...</td>\n",
       "      <td>-0.161</td>\n",
       "      <td>0.00</td>\n",
       "      <td>17</td>\n",
       "      <td>True</td>\n",
       "      <td>0</td>\n",
       "      <td>0</td>\n",
       "      <td>0</td>\n",
       "      <td>0</td>\n",
       "      <td>3</td>\n",
       "      <td>5.0</td>\n",
       "    </tr>\n",
       "    <tr>\n",
       "      <th>567863</th>\n",
       "      <td>2022-01-30 23:58:00</td>\n",
       "      <td>37893.5</td>\n",
       "      <td>37893.5</td>\n",
       "      <td>37893.0</td>\n",
       "      <td>37893.0</td>\n",
       "      <td>37893.3</td>\n",
       "      <td>37893.3</td>\n",
       "      <td>37893.5</td>\n",
       "      <td>1.093</td>\n",
       "      <td>0.000</td>\n",
       "      <td>...</td>\n",
       "      <td>0.380</td>\n",
       "      <td>0.00</td>\n",
       "      <td>7</td>\n",
       "      <td>True</td>\n",
       "      <td>0</td>\n",
       "      <td>0</td>\n",
       "      <td>0</td>\n",
       "      <td>0</td>\n",
       "      <td>0</td>\n",
       "      <td>0.5</td>\n",
       "    </tr>\n",
       "    <tr>\n",
       "      <th>567864</th>\n",
       "      <td>2022-01-30 23:59:00</td>\n",
       "      <td>37893.5</td>\n",
       "      <td>37932.0</td>\n",
       "      <td>37893.5</td>\n",
       "      <td>37893.5</td>\n",
       "      <td>37904.5</td>\n",
       "      <td>37902.1</td>\n",
       "      <td>37893.5</td>\n",
       "      <td>7.455</td>\n",
       "      <td>3.296</td>\n",
       "      <td>...</td>\n",
       "      <td>4.154</td>\n",
       "      <td>0.00</td>\n",
       "      <td>73</td>\n",
       "      <td>False</td>\n",
       "      <td>0</td>\n",
       "      <td>0</td>\n",
       "      <td>0</td>\n",
       "      <td>1</td>\n",
       "      <td>0</td>\n",
       "      <td>39.0</td>\n",
       "    </tr>\n",
       "  </tbody>\n",
       "</table>\n",
       "<p>5 rows × 24 columns</p>\n",
       "</div>"
      ],
      "text/plain": [
       "                      time     open     high      low    close      avg  \\\n",
       "567860 2022-01-30 23:55:00  37930.5  37930.5  37918.5  37919.0  37927.2   \n",
       "567861 2022-01-30 23:56:00  37918.5  37918.5  37898.0  37898.0  37906.4   \n",
       "567862 2022-01-30 23:57:00  37897.5  37897.5  37893.0  37893.0  37895.1   \n",
       "567863 2022-01-30 23:58:00  37893.5  37893.5  37893.0  37893.0  37893.3   \n",
       "567864 2022-01-30 23:59:00  37893.5  37932.0  37893.5  37893.5  37904.5   \n",
       "\n",
       "           wavg   median  sum_vol  up_sum_vol  ...  md_net_vol  lo_net_vol  \\\n",
       "567860  37927.0  37930.0    5.746       0.000  ...       3.916       -0.19   \n",
       "567861  37909.3  37903.5    0.617       0.000  ...      -0.480        0.00   \n",
       "567862  37894.9  37893.5    0.699       0.000  ...      -0.161        0.00   \n",
       "567863  37893.3  37893.5    1.093       0.000  ...       0.380        0.00   \n",
       "567864  37902.1  37893.5    7.455       3.296  ...       4.154        0.00   \n",
       "\n",
       "        cnt    hbl  up  down  move  up_in_row  down_in_row    TR  \n",
       "567860   34   True   0     0     0          0            1  12.0  \n",
       "567861   10   True   0     0     0          0            2  21.0  \n",
       "567862   17   True   0     0     0          0            3   5.0  \n",
       "567863    7   True   0     0     0          0            0   0.5  \n",
       "567864   73  False   0     0     0          1            0  39.0  \n",
       "\n",
       "[5 rows x 24 columns]"
      ]
     },
     "execution_count": 19,
     "metadata": {},
     "output_type": "execute_result"
    }
   ],
   "source": [
    "df.tail(5)"
   ]
  },
  {
   "cell_type": "markdown",
   "metadata": {},
   "source": [
    "## ML models"
   ]
  },
  {
   "cell_type": "markdown",
   "metadata": {},
   "source": [
    "### MA cross"
   ]
  },
  {
   "cell_type": "code",
   "execution_count": 20,
   "metadata": {},
   "outputs": [],
   "source": [
    "class MACrossStrategy(Strategy):\n",
    "    def __init__(self, period_long, period_short, cross_type=1):\n",
    "        if cross_type != 1 and cross_type != -1:\n",
    "            raise Exception('`cross_type` should be either `1`(up) or `-1`(down)')\n",
    "            \n",
    "        if period_long <= 1:\n",
    "            raise Exception('`period_long` should be greater than 1')\n",
    "            \n",
    "        if period_short <= 1:\n",
    "            raise Exception('`period_short` should be greater than 1')\n",
    "        \n",
    "        self.period_long = max(period_long, period_short)\n",
    "        self.period_short = min(period_long, period_short)\n",
    "        self.cross_type = cross_type\n",
    "        self.op = self.buy if cross_type == 1 else self.sell\n",
    "        \n",
    "        \n",
    "    def prepare(self, data):\n",
    "        ma_long = data.close.rolling(self.period_long).mean()\n",
    "        ma_short = data.close.rolling(self.period_short).mean()\n",
    "        self.cross = (self.cross_type * (ma_short - ma_long)).shift(1)\n",
    "        # shift is necessary because we can only use it on the next bar\n",
    "\n",
    "    def next(self, row):\n",
    "        # if prev's bar cross value satisfies out cross_type - make trade at current bar open\n",
    "        if (self.cross[row.name] > 0):\n",
    "            self.op(row, row.open)\n",
    "        else:\n",
    "            # otherwise - close position if present\n",
    "            self.close(row, row.open)"
   ]
  },
  {
   "cell_type": "code",
   "execution_count": 21,
   "metadata": {},
   "outputs": [],
   "source": [
    "data_train = df.iloc[:TRAIN_SIZE]\n",
    "ma_cross_res = MACrossStrategy(5, 13).run(data_train)"
   ]
  },
  {
   "cell_type": "code",
   "execution_count": 22,
   "metadata": {},
   "outputs": [
    {
     "name": "stdout",
     "output_type": "stream",
     "text": [
      "Net profit:      -13649.5\n",
      "Gross profit:    1166639.0\n",
      "Gross loss:      -1180288.5\n",
      "Max drawdown:    57012.5\n",
      "Profit factor:   0.9884\n",
      "Recovery factor: -0.2394\n",
      "Sharpe ratio:    -73.852\n",
      "Trades count:    21450\n",
      "Profitale:       36.2%\n",
      "Losing:          63.8%\n"
     ]
    }
   ],
   "source": [
    "ma_cross_res.summary()"
   ]
  },
  {
   "cell_type": "code",
   "execution_count": 23,
   "metadata": {},
   "outputs": [
    {
     "data": {
      "text/plain": [
       "<AxesSubplot:xlabel='time', ylabel='pnl'>"
      ]
     },
     "execution_count": 23,
     "metadata": {},
     "output_type": "execute_result"
    },
    {
     "data": {
      "image/png": "[encoded data removed]",
      "text/plain": [
       "<Figure size 1080x360 with 1 Axes>"
      ]
     },
     "metadata": {
      "needs_background": "light"
     },
     "output_type": "display_data"
    }
   ],
   "source": [
    "sns.lineplot(y=ma_cross_res.equity.pnl, x=data_train.time)"
   ]
  },
  {
   "cell_type": "code",
   "execution_count": 24,
   "metadata": {},
   "outputs": [
    {
     "data": {
      "text/plain": [
       "<AxesSubplot:xlabel='time', ylabel='pnl_open'>"
      ]
     },
     "execution_count": 24,
     "metadata": {},
     "output_type": "execute_result"
    },
    {
     "data": {
      "image/png": "[encoded data removed]",
      "text/plain": [
       "<Figure size 1080x360 with 1 Axes>"
      ]
     },
     "metadata": {
      "needs_background": "light"
     },
     "output_type": "display_data"
    }
   ],
   "source": [
    "sns.lineplot(y=ma_cross_res.equity.pnl_open, x=data_train.time, color='r')\n",
    "sns.lineplot(y=ma_cross_res.equity.pnl_open_max, x=data_train.time, color='g', alpha=0.15)"
   ]
  },
  {
   "cell_type": "code",
   "execution_count": 25,
   "metadata": {},
   "outputs": [
    {
     "data": {
      "text/html": [
       "<div>\n",
       "<style scoped>\n",
       "    .dataframe tbody tr th:only-of-type {\n",
       "        vertical-align: middle;\n",
       "    }\n",
       "\n",
       "    .dataframe tbody tr th {\n",
       "        vertical-align: top;\n",
       "    }\n",
       "\n",
       "    .dataframe thead th {\n",
       "        text-align: right;\n",
       "    }\n",
       "</style>\n",
       "<table border=\"1\" class=\"dataframe\">\n",
       "  <thead>\n",
       "    <tr style=\"text-align: right;\">\n",
       "      <th></th>\n",
       "      <th>pos</th>\n",
       "      <th>price_enter</th>\n",
       "      <th>price_exit</th>\n",
       "      <th>index_enter</th>\n",
       "      <th>index_exit</th>\n",
       "      <th>index_max</th>\n",
       "      <th>index_min</th>\n",
       "      <th>fee</th>\n",
       "      <th>pnl</th>\n",
       "    </tr>\n",
       "  </thead>\n",
       "  <tbody>\n",
       "    <tr>\n",
       "      <th>0</th>\n",
       "      <td>1</td>\n",
       "      <td>28870.0</td>\n",
       "      <td>29359.0</td>\n",
       "      <td>24</td>\n",
       "      <td>84</td>\n",
       "      <td>74</td>\n",
       "      <td>29</td>\n",
       "      <td>0.0</td>\n",
       "      <td>489.0</td>\n",
       "    </tr>\n",
       "    <tr>\n",
       "      <th>1</th>\n",
       "      <td>1</td>\n",
       "      <td>29425.0</td>\n",
       "      <td>29439.5</td>\n",
       "      <td>89</td>\n",
       "      <td>104</td>\n",
       "      <td>98</td>\n",
       "      <td>93</td>\n",
       "      <td>0.0</td>\n",
       "      <td>14.5</td>\n",
       "    </tr>\n",
       "    <tr>\n",
       "      <th>2</th>\n",
       "      <td>1</td>\n",
       "      <td>29420.0</td>\n",
       "      <td>29420.0</td>\n",
       "      <td>114</td>\n",
       "      <td>115</td>\n",
       "      <td>114</td>\n",
       "      <td>114</td>\n",
       "      <td>0.0</td>\n",
       "      <td>0.0</td>\n",
       "    </tr>\n",
       "    <tr>\n",
       "      <th>3</th>\n",
       "      <td>1</td>\n",
       "      <td>29450.0</td>\n",
       "      <td>29421.5</td>\n",
       "      <td>118</td>\n",
       "      <td>127</td>\n",
       "      <td>120</td>\n",
       "      <td>126</td>\n",
       "      <td>0.0</td>\n",
       "      <td>-28.5</td>\n",
       "    </tr>\n",
       "    <tr>\n",
       "      <th>4</th>\n",
       "      <td>1</td>\n",
       "      <td>29390.0</td>\n",
       "      <td>29284.5</td>\n",
       "      <td>143</td>\n",
       "      <td>151</td>\n",
       "      <td>144</td>\n",
       "      <td>150</td>\n",
       "      <td>0.0</td>\n",
       "      <td>-105.5</td>\n",
       "    </tr>\n",
       "    <tr>\n",
       "      <th>...</th>\n",
       "      <td>...</td>\n",
       "      <td>...</td>\n",
       "      <td>...</td>\n",
       "      <td>...</td>\n",
       "      <td>...</td>\n",
       "      <td>...</td>\n",
       "      <td>...</td>\n",
       "      <td>...</td>\n",
       "      <td>...</td>\n",
       "    </tr>\n",
       "    <tr>\n",
       "      <th>21445</th>\n",
       "      <td>1</td>\n",
       "      <td>57230.0</td>\n",
       "      <td>57056.0</td>\n",
       "      <td>482557</td>\n",
       "      <td>482566</td>\n",
       "      <td>482558</td>\n",
       "      <td>482565</td>\n",
       "      <td>0.0</td>\n",
       "      <td>-174.0</td>\n",
       "    </tr>\n",
       "    <tr>\n",
       "      <th>21446</th>\n",
       "      <td>1</td>\n",
       "      <td>56644.0</td>\n",
       "      <td>56477.0</td>\n",
       "      <td>482585</td>\n",
       "      <td>482589</td>\n",
       "      <td>482585</td>\n",
       "      <td>482588</td>\n",
       "      <td>0.0</td>\n",
       "      <td>-167.0</td>\n",
       "    </tr>\n",
       "    <tr>\n",
       "      <th>21447</th>\n",
       "      <td>1</td>\n",
       "      <td>56389.5</td>\n",
       "      <td>56346.0</td>\n",
       "      <td>482604</td>\n",
       "      <td>482629</td>\n",
       "      <td>482623</td>\n",
       "      <td>482608</td>\n",
       "      <td>0.0</td>\n",
       "      <td>-43.5</td>\n",
       "    </tr>\n",
       "    <tr>\n",
       "      <th>21448</th>\n",
       "      <td>1</td>\n",
       "      <td>56245.0</td>\n",
       "      <td>56152.5</td>\n",
       "      <td>482657</td>\n",
       "      <td>482661</td>\n",
       "      <td>482657</td>\n",
       "      <td>482659</td>\n",
       "      <td>0.0</td>\n",
       "      <td>-92.5</td>\n",
       "    </tr>\n",
       "    <tr>\n",
       "      <th>21449</th>\n",
       "      <td>1</td>\n",
       "      <td>56174.0</td>\n",
       "      <td>56444.5</td>\n",
       "      <td>482668</td>\n",
       "      <td>482686</td>\n",
       "      <td>482677</td>\n",
       "      <td>482668</td>\n",
       "      <td>0.0</td>\n",
       "      <td>270.5</td>\n",
       "    </tr>\n",
       "  </tbody>\n",
       "</table>\n",
       "<p>21450 rows × 9 columns</p>\n",
       "</div>"
      ],
      "text/plain": [
       "       pos  price_enter  price_exit  index_enter  index_exit  index_max  \\\n",
       "0        1      28870.0     29359.0           24          84         74   \n",
       "1        1      29425.0     29439.5           89         104         98   \n",
       "2        1      29420.0     29420.0          114         115        114   \n",
       "3        1      29450.0     29421.5          118         127        120   \n",
       "4        1      29390.0     29284.5          143         151        144   \n",
       "...    ...          ...         ...          ...         ...        ...   \n",
       "21445    1      57230.0     57056.0       482557      482566     482558   \n",
       "21446    1      56644.0     56477.0       482585      482589     482585   \n",
       "21447    1      56389.5     56346.0       482604      482629     482623   \n",
       "21448    1      56245.0     56152.5       482657      482661     482657   \n",
       "21449    1      56174.0     56444.5       482668      482686     482677   \n",
       "\n",
       "       index_min  fee    pnl  \n",
       "0             29  0.0  489.0  \n",
       "1             93  0.0   14.5  \n",
       "2            114  0.0    0.0  \n",
       "3            126  0.0  -28.5  \n",
       "4            150  0.0 -105.5  \n",
       "...          ...  ...    ...  \n",
       "21445     482565  0.0 -174.0  \n",
       "21446     482588  0.0 -167.0  \n",
       "21447     482608  0.0  -43.5  \n",
       "21448     482659  0.0  -92.5  \n",
       "21449     482668  0.0  270.5  \n",
       "\n",
       "[21450 rows x 9 columns]"
      ]
     },
     "execution_count": 25,
     "metadata": {},
     "output_type": "execute_result"
    }
   ],
   "source": [
    "ma_cross_res.trades"
   ]
  },
  {
   "cell_type": "code",
   "execution_count": 26,
   "metadata": {},
   "outputs": [
    {
     "name": "stdout",
     "output_type": "stream",
     "text": [
      "<class 'pandas.core.frame.DataFrame'>\n",
      "RangeIndex: 21450 entries, 0 to 21449\n",
      "Data columns (total 9 columns):\n",
      " #   Column       Non-Null Count  Dtype  \n",
      "---  ------       --------------  -----  \n",
      " 0   pos          21450 non-null  int64  \n",
      " 1   price_enter  21450 non-null  float64\n",
      " 2   price_exit   21450 non-null  float64\n",
      " 3   index_enter  21450 non-null  int64  \n",
      " 4   index_exit   21450 non-null  int64  \n",
      " 5   index_max    21450 non-null  int64  \n",
      " 6   index_min    21450 non-null  int64  \n",
      " 7   fee          21450 non-null  float64\n",
      " 8   pnl          21450 non-null  float64\n",
      "dtypes: float64(4), int64(5)\n",
      "memory usage: 1.5 MB\n"
     ]
    }
   ],
   "source": [
    "ma_cross_res.trades.info()"
   ]
  },
  {
   "cell_type": "code",
   "execution_count": null,
   "metadata": {},
   "outputs": [],
   "source": []
  }
 ],
 "metadata": {
  "interpreter": {
   "hash": "0cdbef4c81a582c199b9aebc51b939e4e7aa94804452b0c70e3059997ef74e01"
  },
  "kernelspec": {
   "display_name": "Python 3 (ipykernel)",
   "language": "python",
   "name": "python3"
  },
  "language_info": {
   "codemirror_mode": {
    "name": "ipython",
    "version": 3
   },
   "file_extension": ".py",
   "mimetype": "text/x-python",
   "name": "python",
   "nbconvert_exporter": "python",
   "pygments_lexer": "ipython3",
   "version": "3.9.10"
  }
 },
 "nbformat": 4,
 "nbformat_minor": 4
}
