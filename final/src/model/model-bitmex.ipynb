{
 "cells": [
  {
   "cell_type": "code",
   "execution_count": 1,
   "metadata": {},
   "outputs": [
    {
     "name": "stderr",
     "output_type": "stream",
     "text": [
      "/Users/pgm/miniforge3/lib/python3.9/site-packages/statsmodels/compat/pandas.py:65: FutureWarning: pandas.Int64Index is deprecated and will be removed from pandas in a future version. Use pandas.Index with the appropriate dtype instead.\n",
      "  from pandas import Int64Index as NumericIndex\n"
     ]
    }
   ],
   "source": [
    "import pandas as pd\n",
    "import numpy as np\n",
    "import matplotlib.pyplot as plt\n",
    "import seaborn as sns\n",
    "from statsmodels.tsa.arima.model import ARIMA\n",
    "import pmdarima as pm\n",
    "from backtest import Strategy, InferenceStrategy, MeanReverseStrategy\n",
    "\n",
    "PRICE_DEC = 1\n",
    "SIZE_DEC = 3\n",
    "TEST_FRAC = 0.15\n",
    "\n",
    "PERIODS = {\n",
    "    'long': 90,\n",
    "    'short': 10\n",
    "}\n",
    "\n",
    "%matplotlib inline\n",
    "plt.rcParams['figure.figsize'] = (15, 5)"
   ]
  },
  {
   "cell_type": "code",
   "execution_count": 2,
   "metadata": {},
   "outputs": [],
   "source": [
    "def mape(y_true, y_pred):\n",
    "    return np.mean(np.abs((y_pred - y_true) / y_true))\n",
    "\n",
    "def round_pred(y_pred, minstep = 0.5):\n",
    "    return np.round(y_pred / minstep) * minstep"
   ]
  },
  {
   "cell_type": "code",
   "execution_count": 3,
   "metadata": {},
   "outputs": [],
   "source": [
    "df = pd.read_csv('../../bars/bitmex-XBTUSD-1min.csv', parse_dates=['time'])\n",
    "df.sort_values('time', ignore_index=True, inplace=True)\n",
    "df.drop_duplicates(subset='time', ignore_index=True, inplace=True)"
   ]
  },
  {
   "cell_type": "code",
   "execution_count": 4,
   "metadata": {},
   "outputs": [
    {
     "name": "stdout",
     "output_type": "stream",
     "text": [
      "<class 'pandas.core.frame.DataFrame'>\n",
      "RangeIndex: 567865 entries, 0 to 567864\n",
      "Data columns (total 18 columns):\n",
      " #   Column      Non-Null Count   Dtype         \n",
      "---  ------      --------------   -----         \n",
      " 0   time        567865 non-null  datetime64[ns]\n",
      " 1   open        567865 non-null  float64       \n",
      " 2   high        567865 non-null  float64       \n",
      " 3   low         567865 non-null  float64       \n",
      " 4   close       567865 non-null  float64       \n",
      " 5   avg         567865 non-null  float64       \n",
      " 6   wavg        567865 non-null  float64       \n",
      " 7   median      567865 non-null  float64       \n",
      " 8   sum_vol     567865 non-null  int64         \n",
      " 9   up_sum_vol  567865 non-null  int64         \n",
      " 10  md_sum_vol  567865 non-null  int64         \n",
      " 11  lo_sum_vol  567865 non-null  int64         \n",
      " 12  net_vol     567865 non-null  int64         \n",
      " 13  up_net_vol  567865 non-null  int64         \n",
      " 14  md_net_vol  567865 non-null  int64         \n",
      " 15  lo_net_vol  567865 non-null  int64         \n",
      " 16  cnt         567865 non-null  int64         \n",
      " 17  hbl         567865 non-null  bool          \n",
      "dtypes: bool(1), datetime64[ns](1), float64(7), int64(9)\n",
      "memory usage: 74.2 MB\n"
     ]
    }
   ],
   "source": [
    "df.info()"
   ]
  },
  {
   "cell_type": "markdown",
   "metadata": {},
   "source": [
    "Пропусков в самих данных также нет. \n",
    "Имеем дело со следующими столбцами:\n",
    "\n",
    "| наименование | тип | описание |\n",
    "|--------------|-------|--------|\n",
    "|`time`        | datetime   | время начала периода (бара) |\n",
    "|`open`        | float      | цена первой сделки периода   |    \n",
    "|`high`        | float      | максимальная цена сделки периода |\n",
    "|`low`         | float      | минимальная цена сделки периода   |    \n",
    "|`close`       | float      | цена последней сделки периода |\n",
    "|`avg`         | float      | средняя цена сделок периода |\n",
    "|`wavg`        | float      | средневзвешенная по объему цена сделок периода |\n",
    "|`median`      | float      | медиана цен сделок периода |\n",
    "|`sum_vol`     | float      | сумма объемов сделок периода |\n",
    "|`up_sum_vol`  | float      | сумма объемов сделок в промежутке цен от `high` до `max(open, close)`      |\n",
    "|`md_sum_vol`  | float      | сумма объемов сделок в промежутке цен от `open` до `close`         |\n",
    "|`lo_sum_vol`  | float      | сумма объемов сделок в промежутке цен от `low` до `min(open, close)` |\n",
    "|`net_vol`     | float      | нетто-объем сделок периода (сумма объемов покупок минус сумма объемов продаж) |\n",
    "|`up_net_vol`  | float      | нетто-объемо сделок в промежутке цен от `high` до `max(open, close)`        |\n",
    "|`md_net_vol`  | float      | нетто-объем сделок в промежутке цен от `open` до `close`     |\n",
    "|`lo_net_vol`  | float      | нетто-объемо сделок в промежутке цен от `low` до `min(open, close)`   |      \n",
    "|`cnt`         | int        | количество сделок за период|\n",
    "|`hbl`         | boolean    | цена `high` была достигнута раньше, чем цена `low`, "
   ]
  },
  {
   "cell_type": "markdown",
   "metadata": {},
   "source": [
    "Важный нюанс - perpetual фьючерсы `XBTUSD` и `ETHUSD` на бирже `Bitmex` являются **инверсными**, т.е. единица лота в них не сама криптовалюта, а доллар, а PnL, наоборот, рассчитывается и начисляется в криптовалюте. Это стандартная практика для криптовалютных бирж, которые не могут рассчитывать и начислять PnL в фиате или аналогичных фиату стебл-коинах. В случае `ETHUSD` все еще сложнее, ведь его лот привязан к долларовому выражению `BTC`. Поэтому пока не будем трогать `ETHUSD`, но для `XBTUSD` лоты пересчитаем в единицы криптовалюты, чтобы было: \n",
    "* единообразно по всем биржам в данном проекте\n",
    "* проще для рассчетов PnL в моделях\n",
    "* проще для восприятия"
   ]
  },
  {
   "cell_type": "code",
   "execution_count": 5,
   "metadata": {},
   "outputs": [],
   "source": [
    "for col in df.columns:\n",
    "    if col[-4:] == '_vol':\n",
    "        df[col] = np.round(df[col] / df.close, SIZE_DEC)"
   ]
  },
  {
   "cell_type": "code",
   "execution_count": 6,
   "metadata": {},
   "outputs": [
    {
     "data": {
      "text/html": [
       "<div>\n",
       "<style scoped>\n",
       "    .dataframe tbody tr th:only-of-type {\n",
       "        vertical-align: middle;\n",
       "    }\n",
       "\n",
       "    .dataframe tbody tr th {\n",
       "        vertical-align: top;\n",
       "    }\n",
       "\n",
       "    .dataframe thead th {\n",
       "        text-align: right;\n",
       "    }\n",
       "</style>\n",
       "<table border=\"1\" class=\"dataframe\">\n",
       "  <thead>\n",
       "    <tr style=\"text-align: right;\">\n",
       "      <th></th>\n",
       "      <th>time</th>\n",
       "      <th>open</th>\n",
       "      <th>high</th>\n",
       "      <th>low</th>\n",
       "      <th>close</th>\n",
       "      <th>avg</th>\n",
       "      <th>wavg</th>\n",
       "      <th>median</th>\n",
       "      <th>sum_vol</th>\n",
       "      <th>up_sum_vol</th>\n",
       "      <th>md_sum_vol</th>\n",
       "      <th>lo_sum_vol</th>\n",
       "      <th>net_vol</th>\n",
       "      <th>up_net_vol</th>\n",
       "      <th>md_net_vol</th>\n",
       "      <th>lo_net_vol</th>\n",
       "      <th>cnt</th>\n",
       "      <th>hbl</th>\n",
       "    </tr>\n",
       "  </thead>\n",
       "  <tbody>\n",
       "    <tr>\n",
       "      <th>200839</th>\n",
       "      <td>2021-05-20 12:40:00</td>\n",
       "      <td>41889.0</td>\n",
       "      <td>41889.0</td>\n",
       "      <td>41846.5</td>\n",
       "      <td>41854.0</td>\n",
       "      <td>41861.8</td>\n",
       "      <td>41862.6</td>\n",
       "      <td>41859.0</td>\n",
       "      <td>18.731</td>\n",
       "      <td>0.000</td>\n",
       "      <td>14.902</td>\n",
       "      <td>3.829</td>\n",
       "      <td>-4.494</td>\n",
       "      <td>0.000</td>\n",
       "      <td>-5.054</td>\n",
       "      <td>0.559</td>\n",
       "      <td>261</td>\n",
       "      <td>True</td>\n",
       "    </tr>\n",
       "    <tr>\n",
       "      <th>46068</th>\n",
       "      <td>2021-02-01 23:48:00</td>\n",
       "      <td>33529.5</td>\n",
       "      <td>33540.5</td>\n",
       "      <td>33517.5</td>\n",
       "      <td>33539.5</td>\n",
       "      <td>33531.0</td>\n",
       "      <td>33533.3</td>\n",
       "      <td>33530.0</td>\n",
       "      <td>28.180</td>\n",
       "      <td>13.535</td>\n",
       "      <td>8.478</td>\n",
       "      <td>6.167</td>\n",
       "      <td>-10.704</td>\n",
       "      <td>-13.503</td>\n",
       "      <td>2.764</td>\n",
       "      <td>0.035</td>\n",
       "      <td>98</td>\n",
       "      <td>True</td>\n",
       "    </tr>\n",
       "    <tr>\n",
       "      <th>181385</th>\n",
       "      <td>2021-05-06 23:53:00</td>\n",
       "      <td>56545.0</td>\n",
       "      <td>56545.0</td>\n",
       "      <td>56513.0</td>\n",
       "      <td>56513.5</td>\n",
       "      <td>56523.7</td>\n",
       "      <td>56518.0</td>\n",
       "      <td>56513.5</td>\n",
       "      <td>17.728</td>\n",
       "      <td>0.000</td>\n",
       "      <td>17.648</td>\n",
       "      <td>0.080</td>\n",
       "      <td>11.656</td>\n",
       "      <td>0.000</td>\n",
       "      <td>11.736</td>\n",
       "      <td>-0.080</td>\n",
       "      <td>85</td>\n",
       "      <td>True</td>\n",
       "    </tr>\n",
       "    <tr>\n",
       "      <th>238859</th>\n",
       "      <td>2021-06-15 22:28:00</td>\n",
       "      <td>40103.5</td>\n",
       "      <td>40118.0</td>\n",
       "      <td>40085.0</td>\n",
       "      <td>40085.0</td>\n",
       "      <td>40099.0</td>\n",
       "      <td>40095.5</td>\n",
       "      <td>40100.0</td>\n",
       "      <td>17.016</td>\n",
       "      <td>2.762</td>\n",
       "      <td>14.255</td>\n",
       "      <td>0.000</td>\n",
       "      <td>-10.740</td>\n",
       "      <td>-1.744</td>\n",
       "      <td>-8.996</td>\n",
       "      <td>0.000</td>\n",
       "      <td>59</td>\n",
       "      <td>True</td>\n",
       "    </tr>\n",
       "    <tr>\n",
       "      <th>523965</th>\n",
       "      <td>2021-12-31 10:06:00</td>\n",
       "      <td>48278.0</td>\n",
       "      <td>48278.0</td>\n",
       "      <td>48268.0</td>\n",
       "      <td>48268.0</td>\n",
       "      <td>48274.9</td>\n",
       "      <td>48277.3</td>\n",
       "      <td>48278.0</td>\n",
       "      <td>3.936</td>\n",
       "      <td>0.000</td>\n",
       "      <td>3.936</td>\n",
       "      <td>0.000</td>\n",
       "      <td>-3.936</td>\n",
       "      <td>0.000</td>\n",
       "      <td>-3.936</td>\n",
       "      <td>0.000</td>\n",
       "      <td>32</td>\n",
       "      <td>True</td>\n",
       "    </tr>\n",
       "  </tbody>\n",
       "</table>\n",
       "</div>"
      ],
      "text/plain": [
       "                      time     open     high      low    close      avg  \\\n",
       "200839 2021-05-20 12:40:00  41889.0  41889.0  41846.5  41854.0  41861.8   \n",
       "46068  2021-02-01 23:48:00  33529.5  33540.5  33517.5  33539.5  33531.0   \n",
       "181385 2021-05-06 23:53:00  56545.0  56545.0  56513.0  56513.5  56523.7   \n",
       "238859 2021-06-15 22:28:00  40103.5  40118.0  40085.0  40085.0  40099.0   \n",
       "523965 2021-12-31 10:06:00  48278.0  48278.0  48268.0  48268.0  48274.9   \n",
       "\n",
       "           wavg   median  sum_vol  up_sum_vol  md_sum_vol  lo_sum_vol  \\\n",
       "200839  41862.6  41859.0   18.731       0.000      14.902       3.829   \n",
       "46068   33533.3  33530.0   28.180      13.535       8.478       6.167   \n",
       "181385  56518.0  56513.5   17.728       0.000      17.648       0.080   \n",
       "238859  40095.5  40100.0   17.016       2.762      14.255       0.000   \n",
       "523965  48277.3  48278.0    3.936       0.000       3.936       0.000   \n",
       "\n",
       "        net_vol  up_net_vol  md_net_vol  lo_net_vol  cnt   hbl  \n",
       "200839   -4.494       0.000      -5.054       0.559  261  True  \n",
       "46068   -10.704     -13.503       2.764       0.035   98  True  \n",
       "181385   11.656       0.000      11.736      -0.080   85  True  \n",
       "238859  -10.740      -1.744      -8.996       0.000   59  True  \n",
       "523965   -3.936       0.000      -3.936       0.000   32  True  "
      ]
     },
     "execution_count": 6,
     "metadata": {},
     "output_type": "execute_result"
    }
   ],
   "source": [
    "df.sample(5)"
   ]
  },
  {
   "cell_type": "markdown",
   "metadata": {},
   "source": [
    "## Наивные модели\n",
    "\n",
    "В качестве самого первого приближения возьмем тривиальную модель - будем считать, что лучшее предсказание цены закрытия следующего периода - цена закрытия текущего периода.\n",
    "\n",
    "Для удобства обработки тривиальных моделей сразу разобьем целевой ряд (`close`) на тренировочную (85%) и тестовую (15%) выборки. Метрику качества возьмем `MAPE`. Все замеры метрик качества будем проводить на тестовой выборке, чтобы результат можно было сравнивать между моделями"
   ]
  },
  {
   "cell_type": "code",
   "execution_count": 7,
   "metadata": {},
   "outputs": [],
   "source": [
    "prev_close = df.close.shift(1)\n",
    "TEST_SIZE = int(TEST_FRAC * len(df.close))\n",
    "TRAIN_SIZE = len(df.close) - TEST_SIZE\n",
    "df_train = df.close[:TRAIN_SIZE]\n",
    "df_test = df.close[TRAIN_SIZE:]\n",
    "y_pred = prev_close[TRAIN_SIZE:]"
   ]
  },
  {
   "cell_type": "code",
   "execution_count": 8,
   "metadata": {},
   "outputs": [
    {
     "name": "stdout",
     "output_type": "stream",
     "text": [
      "MAPE naive: 0.062579%\n"
     ]
    }
   ],
   "source": [
    "mape0 = round(mape(df_test, y_pred) * 100, 6)\n",
    "print(f'MAPE naive: {mape0}%')"
   ]
  },
  {
   "cell_type": "markdown",
   "metadata": {},
   "source": [
    "`MAPE` чуть больше **0,06%**. Кажется неплохим результатом, но посмотрим разпределение ошибки предсказания:"
   ]
  },
  {
   "cell_type": "code",
   "execution_count": 9,
   "metadata": {},
   "outputs": [
    {
     "data": {
      "text/plain": [
       "<AxesSubplot:xlabel='close'>"
      ]
     },
     "execution_count": 9,
     "metadata": {},
     "output_type": "execute_result"
    },
    {
     "data": {
      "image/png": "[encoded data removed]",
      "text/plain": [
       "<Figure size 1080x576 with 2 Axes>"
      ]
     },
     "metadata": {
      "needs_background": "light"
     },
     "output_type": "display_data"
    }
   ],
   "source": [
    "fig, ax = plt.subplots(2, 1, figsize=(15,8))\n",
    "sns.histplot(ax=ax[0],data=(df_test-y_pred), bins=100)\n",
    "sns.boxplot(ax=ax[1], x=(df_test-y_pred))"
   ]
  },
  {
   "cell_type": "markdown",
   "metadata": {},
   "source": [
    "Из хороших новостей - ошибка не выглядит смещенной. Из плохих - у ошибки толстые хвосты распределения.\n",
    "Что, собственно, логично - такая модель предсказывает более-менее только на низкой волатльности (в отсутствии новостей)."
   ]
  },
  {
   "cell_type": "markdown",
   "metadata": {},
   "source": [
    "В качестве второй наивной модели попробуем обучить стандартную финансовую модель `ARIMA`. Из EDA секции мы знаем, что ранг интегрированности ценового ряда равен 1, а поэтому необходимо использовать модель `ARIMA(p, 1, q)`. Параметры p и q попробуем отыскать подбором."
   ]
  },
  {
   "cell_type": "code",
   "execution_count": 10,
   "metadata": {},
   "outputs": [],
   "source": [
    "# model = pm.auto_arima(df.close, start_p=1, start_q=1,\n",
    "#                       test='adf',       # use adftest to find optimal 'd'\n",
    "#                       max_p=3, max_q=3, # maximum p and q\n",
    "#                       m=1,              # frequency of series\n",
    "#                       d=1,              # let model determine 'd'\n",
    "#                       seasonal=False,   # No Seasonality\n",
    "#                       start_P=0, \n",
    "#                       D=0, \n",
    "#                       trace=True,\n",
    "#                       error_action='ignore',  \n",
    "#                       suppress_warnings=True, \n",
    "#                       stepwise=True)\n",
    "\n",
    "# print(model.summary())"
   ]
  },
  {
   "cell_type": "markdown",
   "metadata": {},
   "source": [
    "Лучший результат показывает модель `ARIMA(1,1,3)`. Проверим качество этой модели."
   ]
  },
  {
   "cell_type": "code",
   "execution_count": 11,
   "metadata": {},
   "outputs": [],
   "source": [
    "\n",
    "model = ARIMA(df_train, order=(1,1,3))"
   ]
  },
  {
   "cell_type": "code",
   "execution_count": 12,
   "metadata": {},
   "outputs": [],
   "source": [
    "ers = model.fit()\n",
    "y_pred = ers.extend(df_test).predict()"
   ]
  },
  {
   "cell_type": "code",
   "execution_count": 13,
   "metadata": {},
   "outputs": [
    {
     "name": "stdout",
     "output_type": "stream",
     "text": [
      "MAPE ARIMA: 0.06262%\n"
     ]
    }
   ],
   "source": [
    "y_pred = round_pred(y_pred)\n",
    "mape1 = round(mape(df_test, y_pred) * 100, 6)\n",
    "print(f'MAPE ARIMA: {mape1}%')"
   ]
  },
  {
   "cell_type": "code",
   "execution_count": 14,
   "metadata": {},
   "outputs": [
    {
     "data": {
      "text/plain": [
       "<AxesSubplot:>"
      ]
     },
     "execution_count": 14,
     "metadata": {},
     "output_type": "execute_result"
    },
    {
     "data": {
      "image/png": "[encoded data removed]",
      "text/plain": [
       "<Figure size 1080x576 with 2 Axes>"
      ]
     },
     "metadata": {
      "needs_background": "light"
     },
     "output_type": "display_data"
    }
   ],
   "source": [
    "fig, ax = plt.subplots(2, 1, figsize=(15,8))\n",
    "sns.histplot(ax=ax[0],data=(df_test-y_pred), bins=100)\n",
    "sns.boxplot(ax=ax[1], x=(df_test-y_pred))"
   ]
  },
  {
   "cell_type": "markdown",
   "metadata": {},
   "source": [
    "Результат даже хуже, чем у сосвсем тривиальной модели."
   ]
  },
  {
   "cell_type": "code",
   "execution_count": 15,
   "metadata": {},
   "outputs": [],
   "source": [
    "cnt_up = 0\n",
    "cnt_down = 0\n",
    "\n",
    "def count_up_bars(x):\n",
    "    global cnt_up\n",
    "    cnt_up = (cnt_up + 1) if x > 0 else 0\n",
    "    return cnt_up\n",
    "\n",
    "\n",
    "def count_down_bars(x):\n",
    "    global cnt_down\n",
    "    cnt_down = (cnt_down + 1) if x < 0 else 0\n",
    "    return cnt_down"
   ]
  },
  {
   "cell_type": "code",
   "execution_count": 16,
   "metadata": {},
   "outputs": [],
   "source": [
    "temp = prev_close[TRAIN_SIZE:]"
   ]
  },
  {
   "cell_type": "code",
   "execution_count": 17,
   "metadata": {},
   "outputs": [],
   "source": [
    "prev_close = df.close.shift(1)\n",
    "diff_close = df.close.diff()\n",
    "df['up_in_row'] = diff_close.apply(count_up_bars)\n",
    "df['down_in_row'] = diff_close.apply(count_down_bars)\n",
    "df['TR'] = np.maximum(df.high, prev_close) - np.minimum(df.low, prev_close)"
   ]
  },
  {
   "cell_type": "code",
   "execution_count": 18,
   "metadata": {},
   "outputs": [],
   "source": [
    "for key in PERIODS.keys():\n",
    "    roll = df.rolling(PERIODS[key], min_periods=1)\n",
    "    df[f'avg_{key}'] = roll.close.mean()\n",
    "    df[f'std_{key}'] = roll.close.std()\n",
    "    df[f'ATR_{key}'] = roll.TR.mean()\n",
    "    df[f'high_{key}'] = roll.high.max()\n",
    "    df[f'low_{key}'] = roll.low.min()\n",
    "    df[f'sum_vol_{key}'] = roll.sum_vol.sum()\n",
    "    df[f'net_vol_{key}'] = roll.net_vol.sum()"
   ]
  },
  {
   "cell_type": "code",
   "execution_count": 19,
   "metadata": {},
   "outputs": [
    {
     "data": {
      "text/html": [
       "<div>\n",
       "<style scoped>\n",
       "    .dataframe tbody tr th:only-of-type {\n",
       "        vertical-align: middle;\n",
       "    }\n",
       "\n",
       "    .dataframe tbody tr th {\n",
       "        vertical-align: top;\n",
       "    }\n",
       "\n",
       "    .dataframe thead th {\n",
       "        text-align: right;\n",
       "    }\n",
       "</style>\n",
       "<table border=\"1\" class=\"dataframe\">\n",
       "  <thead>\n",
       "    <tr style=\"text-align: right;\">\n",
       "      <th></th>\n",
       "      <th>time</th>\n",
       "      <th>open</th>\n",
       "      <th>high</th>\n",
       "      <th>low</th>\n",
       "      <th>close</th>\n",
       "      <th>avg</th>\n",
       "      <th>wavg</th>\n",
       "      <th>median</th>\n",
       "      <th>sum_vol</th>\n",
       "      <th>up_sum_vol</th>\n",
       "      <th>...</th>\n",
       "      <th>low_long</th>\n",
       "      <th>sum_vol_long</th>\n",
       "      <th>net_vol_long</th>\n",
       "      <th>avg_short</th>\n",
       "      <th>std_short</th>\n",
       "      <th>ATR_short</th>\n",
       "      <th>high_short</th>\n",
       "      <th>low_short</th>\n",
       "      <th>sum_vol_short</th>\n",
       "      <th>net_vol_short</th>\n",
       "    </tr>\n",
       "  </thead>\n",
       "  <tbody>\n",
       "    <tr>\n",
       "      <th>0</th>\n",
       "      <td>2021-01-01 00:00:00</td>\n",
       "      <td>28951.0</td>\n",
       "      <td>29004.0</td>\n",
       "      <td>28950.5</td>\n",
       "      <td>29004.0</td>\n",
       "      <td>28970.2</td>\n",
       "      <td>28978.9</td>\n",
       "      <td>28971.0</td>\n",
       "      <td>34.307</td>\n",
       "      <td>0.000</td>\n",
       "      <td>...</td>\n",
       "      <td>28950.5</td>\n",
       "      <td>34.307</td>\n",
       "      <td>23.374</td>\n",
       "      <td>29004.000</td>\n",
       "      <td>NaN</td>\n",
       "      <td>NaN</td>\n",
       "      <td>29004.0</td>\n",
       "      <td>28950.5</td>\n",
       "      <td>34.307</td>\n",
       "      <td>23.374</td>\n",
       "    </tr>\n",
       "    <tr>\n",
       "      <th>1</th>\n",
       "      <td>2021-01-01 00:01:00</td>\n",
       "      <td>29004.0</td>\n",
       "      <td>29050.0</td>\n",
       "      <td>29003.5</td>\n",
       "      <td>29043.5</td>\n",
       "      <td>29032.4</td>\n",
       "      <td>29034.1</td>\n",
       "      <td>29037.5</td>\n",
       "      <td>114.616</td>\n",
       "      <td>33.262</td>\n",
       "      <td>...</td>\n",
       "      <td>28950.5</td>\n",
       "      <td>148.923</td>\n",
       "      <td>105.040</td>\n",
       "      <td>29023.750</td>\n",
       "      <td>27.930718</td>\n",
       "      <td>46.500000</td>\n",
       "      <td>29050.0</td>\n",
       "      <td>28950.5</td>\n",
       "      <td>148.923</td>\n",
       "      <td>105.040</td>\n",
       "    </tr>\n",
       "    <tr>\n",
       "      <th>2</th>\n",
       "      <td>2021-01-01 00:02:00</td>\n",
       "      <td>29043.5</td>\n",
       "      <td>29044.0</td>\n",
       "      <td>29016.5</td>\n",
       "      <td>29017.0</td>\n",
       "      <td>29032.4</td>\n",
       "      <td>29033.4</td>\n",
       "      <td>29033.5</td>\n",
       "      <td>42.060</td>\n",
       "      <td>0.178</td>\n",
       "      <td>...</td>\n",
       "      <td>28950.5</td>\n",
       "      <td>190.983</td>\n",
       "      <td>77.923</td>\n",
       "      <td>29021.500</td>\n",
       "      <td>20.130822</td>\n",
       "      <td>37.000000</td>\n",
       "      <td>29050.0</td>\n",
       "      <td>28950.5</td>\n",
       "      <td>190.983</td>\n",
       "      <td>77.923</td>\n",
       "    </tr>\n",
       "    <tr>\n",
       "      <th>3</th>\n",
       "      <td>2021-01-01 00:03:00</td>\n",
       "      <td>29016.5</td>\n",
       "      <td>29026.0</td>\n",
       "      <td>29000.0</td>\n",
       "      <td>29016.0</td>\n",
       "      <td>29014.4</td>\n",
       "      <td>29014.3</td>\n",
       "      <td>29016.0</td>\n",
       "      <td>23.823</td>\n",
       "      <td>8.347</td>\n",
       "      <td>...</td>\n",
       "      <td>28950.5</td>\n",
       "      <td>214.806</td>\n",
       "      <td>82.767</td>\n",
       "      <td>29020.125</td>\n",
       "      <td>16.665208</td>\n",
       "      <td>33.333333</td>\n",
       "      <td>29050.0</td>\n",
       "      <td>28950.5</td>\n",
       "      <td>214.806</td>\n",
       "      <td>82.767</td>\n",
       "    </tr>\n",
       "    <tr>\n",
       "      <th>4</th>\n",
       "      <td>2021-01-01 00:04:00</td>\n",
       "      <td>29016.0</td>\n",
       "      <td>29016.5</td>\n",
       "      <td>29015.0</td>\n",
       "      <td>29015.0</td>\n",
       "      <td>29016.0</td>\n",
       "      <td>29016.0</td>\n",
       "      <td>29016.0</td>\n",
       "      <td>15.981</td>\n",
       "      <td>0.185</td>\n",
       "      <td>...</td>\n",
       "      <td>28950.5</td>\n",
       "      <td>230.787</td>\n",
       "      <td>67.159</td>\n",
       "      <td>29019.100</td>\n",
       "      <td>14.613350</td>\n",
       "      <td>25.375000</td>\n",
       "      <td>29050.0</td>\n",
       "      <td>28950.5</td>\n",
       "      <td>230.787</td>\n",
       "      <td>67.159</td>\n",
       "    </tr>\n",
       "  </tbody>\n",
       "</table>\n",
       "<p>5 rows × 35 columns</p>\n",
       "</div>"
      ],
      "text/plain": [
       "                 time     open     high      low    close      avg     wavg  \\\n",
       "0 2021-01-01 00:00:00  28951.0  29004.0  28950.5  29004.0  28970.2  28978.9   \n",
       "1 2021-01-01 00:01:00  29004.0  29050.0  29003.5  29043.5  29032.4  29034.1   \n",
       "2 2021-01-01 00:02:00  29043.5  29044.0  29016.5  29017.0  29032.4  29033.4   \n",
       "3 2021-01-01 00:03:00  29016.5  29026.0  29000.0  29016.0  29014.4  29014.3   \n",
       "4 2021-01-01 00:04:00  29016.0  29016.5  29015.0  29015.0  29016.0  29016.0   \n",
       "\n",
       "    median  sum_vol  up_sum_vol  ...  low_long  sum_vol_long  net_vol_long  \\\n",
       "0  28971.0   34.307       0.000  ...   28950.5        34.307        23.374   \n",
       "1  29037.5  114.616      33.262  ...   28950.5       148.923       105.040   \n",
       "2  29033.5   42.060       0.178  ...   28950.5       190.983        77.923   \n",
       "3  29016.0   23.823       8.347  ...   28950.5       214.806        82.767   \n",
       "4  29016.0   15.981       0.185  ...   28950.5       230.787        67.159   \n",
       "\n",
       "   avg_short  std_short  ATR_short  high_short  low_short  sum_vol_short  \\\n",
       "0  29004.000        NaN        NaN     29004.0    28950.5         34.307   \n",
       "1  29023.750  27.930718  46.500000     29050.0    28950.5        148.923   \n",
       "2  29021.500  20.130822  37.000000     29050.0    28950.5        190.983   \n",
       "3  29020.125  16.665208  33.333333     29050.0    28950.5        214.806   \n",
       "4  29019.100  14.613350  25.375000     29050.0    28950.5        230.787   \n",
       "\n",
       "   net_vol_short  \n",
       "0         23.374  \n",
       "1        105.040  \n",
       "2         77.923  \n",
       "3         82.767  \n",
       "4         67.159  \n",
       "\n",
       "[5 rows x 35 columns]"
      ]
     },
     "execution_count": 19,
     "metadata": {},
     "output_type": "execute_result"
    }
   ],
   "source": [
    "df.head(5)"
   ]
  },
  {
   "cell_type": "code",
   "execution_count": null,
   "metadata": {},
   "outputs": [],
   "source": []
  }
 ],
 "metadata": {
  "interpreter": {
   "hash": "0cdbef4c81a582c199b9aebc51b939e4e7aa94804452b0c70e3059997ef74e01"
  },
  "kernelspec": {
   "display_name": "Python 3.9.10 64-bit ('base': conda)",
   "language": "python",
   "name": "python3"
  },
  "language_info": {
   "codemirror_mode": {
    "name": "ipython",
    "version": 3
   },
   "file_extension": ".py",
   "mimetype": "text/x-python",
   "name": "python",
   "nbconvert_exporter": "python",
   "pygments_lexer": "ipython3",
   "version": "3.9.10"
  },
  "orig_nbformat": 4
 },
 "nbformat": 4,
 "nbformat_minor": 2
}
