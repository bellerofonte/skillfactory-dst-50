{
 "cells": [
  {
   "cell_type": "code",
   "execution_count": 1,
   "metadata": {},
   "outputs": [
    {
     "name": "stderr",
     "output_type": "stream",
     "text": [
      "/opt/miniforge3/lib/python3.9/site-packages/xgboost/compat.py:36: FutureWarning: pandas.Int64Index is deprecated and will be removed from pandas in a future version. Use pandas.Index with the appropriate dtype instead.\n",
      "  from pandas import MultiIndex, Int64Index\n"
     ]
    }
   ],
   "source": [
    "# common\n",
    "import os\n",
    "os.environ['TF_CPP_MIN_LOG_LEVEL'] = '2' # suppress INFO and WARNING\n",
    "\n",
    "import pandas as pd\n",
    "import numpy as np\n",
    "import matplotlib.pyplot as plt\n",
    "import seaborn as sns\n",
    "from sklearn.model_selection import train_test_split\n",
    "from sklearn.metrics import accuracy_score, precision_score, recall_score, f1_score\n",
    "import talib\n",
    "\n",
    "# ML\n",
    "from catboost import CatBoostClassifier, CatBoostRegressor\n",
    "from xgboost import XGBClassifier, XGBRegressor\n",
    "import lightgbm as lgb\n",
    "\n",
    "\n",
    "# DL\n",
    "import tensorflow as tf\n",
    "from tensorflow.keras.layers import Dense, Dropout, BatchNormalization, LSTM, GlobalAveragePooling2D, GlobalMaxPooling2D, Flatten\n",
    "from tensorflow.keras.models import Model, Sequential\n",
    "from tensorflow.keras.metrics import Precision, Recall, Accuracy\n",
    "from tensorflow.keras.callbacks import ModelCheckpoint, EarlyStopping, ReduceLROnPlateau\n",
    "\n",
    "# My\n",
    "from backtest import Strategy, SignalStrategy\n",
    "# from window_generator import WindowGenerator\n",
    "\n",
    "# some definitions and settings\n",
    "PRICE_DEC = 1\n",
    "SIZE_DEC = 3\n",
    "TEST_FRAC = 0.15\n",
    "RANDOM_SEED = 73\n",
    "\n",
    "PERIODS = {\n",
    "    'long': 90,\n",
    "    'short': 10\n",
    "}\n",
    "\n",
    "%matplotlib inline\n",
    "plt.rcParams['figure.figsize'] = (15, 5)"
   ]
  },
  {
   "cell_type": "code",
   "execution_count": 2,
   "metadata": {},
   "outputs": [],
   "source": [
    "def mape(y_true, y_pred):\n",
    "    return np.mean(np.abs((y_pred - y_true) / y_true))\n",
    "\n",
    "def round_pred(y_pred, minstep = 0.5):\n",
    "    return np.round(y_pred / minstep) * minstep"
   ]
  },
  {
   "cell_type": "code",
   "execution_count": 3,
   "metadata": {},
   "outputs": [],
   "source": [
    "df = pd.read_csv('../../bars/bitmex-XBTUSD-1min.csv', parse_dates=['time'])\n",
    "df.sort_values('time', ignore_index=True, inplace=True)\n",
    "df.drop_duplicates(subset='time', ignore_index=True, inplace=True)\n",
    "df.hbl = df.hbl.astype('int')\n",
    "df['tod'] = (df.time.dt.hour * 60) + df.time.dt.minute\n",
    "df['dow'] = df.time.dt.day_of_week"
   ]
  },
  {
   "cell_type": "code",
   "execution_count": 4,
   "metadata": {},
   "outputs": [
    {
     "name": "stdout",
     "output_type": "stream",
     "text": [
      "<class 'pandas.core.frame.DataFrame'>\n",
      "RangeIndex: 567865 entries, 0 to 567864\n",
      "Data columns (total 20 columns):\n",
      " #   Column      Non-Null Count   Dtype         \n",
      "---  ------      --------------   -----         \n",
      " 0   time        567865 non-null  datetime64[ns]\n",
      " 1   open        567865 non-null  float64       \n",
      " 2   high        567865 non-null  float64       \n",
      " 3   low         567865 non-null  float64       \n",
      " 4   close       567865 non-null  float64       \n",
      " 5   avg         567865 non-null  float64       \n",
      " 6   wavg        567865 non-null  float64       \n",
      " 7   median      567865 non-null  float64       \n",
      " 8   sum_vol     567865 non-null  int64         \n",
      " 9   up_sum_vol  567865 non-null  int64         \n",
      " 10  md_sum_vol  567865 non-null  int64         \n",
      " 11  lo_sum_vol  567865 non-null  int64         \n",
      " 12  net_vol     567865 non-null  int64         \n",
      " 13  up_net_vol  567865 non-null  int64         \n",
      " 14  md_net_vol  567865 non-null  int64         \n",
      " 15  lo_net_vol  567865 non-null  int64         \n",
      " 16  cnt         567865 non-null  int64         \n",
      " 17  hbl         567865 non-null  int64         \n",
      " 18  tod         567865 non-null  int64         \n",
      " 19  dow         567865 non-null  int64         \n",
      "dtypes: datetime64[ns](1), float64(7), int64(12)\n",
      "memory usage: 86.6 MB\n"
     ]
    }
   ],
   "source": [
    "df.info()"
   ]
  },
  {
   "cell_type": "markdown",
   "metadata": {},
   "source": [
    "Пропусков в самих данных также нет. \n",
    "Имеем дело со следующими столбцами:\n",
    "\n",
    "| наименование | тип | описание |\n",
    "|--------------|-------|--------|\n",
    "|`time`        | datetime   | время начала периода (бара) |\n",
    "|`open`        | float      | цена первой сделки периода   |    \n",
    "|`high`        | float      | максимальная цена сделки периода |\n",
    "|`low`         | float      | минимальная цена сделки периода   |    \n",
    "|`close`       | float      | цена последней сделки периода |\n",
    "|`avg`         | float      | средняя цена сделок периода |\n",
    "|`wavg`        | float      | средневзвешенная по объему цена сделок периода |\n",
    "|`median`      | float      | медиана цен сделок периода |\n",
    "|`sum_vol`     | float      | сумма объемов сделок периода |\n",
    "|`up_sum_vol`  | float      | сумма объемов сделок в промежутке цен от `high` до `max(open, close)`      |\n",
    "|`md_sum_vol`  | float      | сумма объемов сделок в промежутке цен от `open` до `close`         |\n",
    "|`lo_sum_vol`  | float      | сумма объемов сделок в промежутке цен от `low` до `min(open, close)` |\n",
    "|`net_vol`     | float      | нетто-объем сделок периода (сумма объемов покупок минус сумма объемов продаж) |\n",
    "|`up_net_vol`  | float      | нетто-объемо сделок в промежутке цен от `high` до `max(open, close)`        |\n",
    "|`md_net_vol`  | float      | нетто-объем сделок в промежутке цен от `open` до `close`     |\n",
    "|`lo_net_vol`  | float      | нетто-объемо сделок в промежутке цен от `low` до `min(open, close)`   |      \n",
    "|`cnt`         | int        | количество сделок за период|\n",
    "|`hbl`         | int        | 1, если цена `high` была достигнута раньше, чем цена `low`, иначе 0\n",
    "|`tod`         | int        | `time of day` - время дня в минутах\n",
    "|`dow`         | int        | `day of week` - день недели"
   ]
  },
  {
   "cell_type": "markdown",
   "metadata": {},
   "source": [
    "Важный нюанс - perpetual фьючерсы `XBTUSD` и `ETHUSD` на бирже `Bitmex` являются **инверсными**, т.е. единица лота в них не сама криптовалюта, а доллар, а PnL, наоборот, рассчитывается и начисляется в криптовалюте. Это стандартная практика для криптовалютных бирж, которые не могут рассчитывать и начислять PnL в фиате или аналогичных фиату стебл-коинах. В случае `ETHUSD` все еще сложнее, ведь его лот привязан к долларовому выражению `BTC`. Поэтому пока не будем трогать `ETHUSD`, но для `XBTUSD` лоты пересчитаем в единицы криптовалюты, чтобы было: \n",
    "* единообразно по всем биржам в данном проекте\n",
    "* проще для рассчетов PnL в моделях\n",
    "* проще для восприятия"
   ]
  },
  {
   "cell_type": "code",
   "execution_count": 5,
   "metadata": {},
   "outputs": [],
   "source": [
    "for col in df.columns:\n",
    "    if col[-4:] == '_vol':\n",
    "        df[col] = np.round(df[col] / df.close, SIZE_DEC)"
   ]
  },
  {
   "cell_type": "code",
   "execution_count": 6,
   "metadata": {},
   "outputs": [
    {
     "data": {
      "text/html": [
       "<div>\n",
       "<style scoped>\n",
       "    .dataframe tbody tr th:only-of-type {\n",
       "        vertical-align: middle;\n",
       "    }\n",
       "\n",
       "    .dataframe tbody tr th {\n",
       "        vertical-align: top;\n",
       "    }\n",
       "\n",
       "    .dataframe thead th {\n",
       "        text-align: right;\n",
       "    }\n",
       "</style>\n",
       "<table border=\"1\" class=\"dataframe\">\n",
       "  <thead>\n",
       "    <tr style=\"text-align: right;\">\n",
       "      <th></th>\n",
       "      <th>time</th>\n",
       "      <th>open</th>\n",
       "      <th>high</th>\n",
       "      <th>low</th>\n",
       "      <th>close</th>\n",
       "      <th>avg</th>\n",
       "      <th>wavg</th>\n",
       "      <th>median</th>\n",
       "      <th>sum_vol</th>\n",
       "      <th>up_sum_vol</th>\n",
       "      <th>md_sum_vol</th>\n",
       "      <th>lo_sum_vol</th>\n",
       "      <th>net_vol</th>\n",
       "      <th>up_net_vol</th>\n",
       "      <th>md_net_vol</th>\n",
       "      <th>lo_net_vol</th>\n",
       "      <th>cnt</th>\n",
       "      <th>hbl</th>\n",
       "      <th>tod</th>\n",
       "      <th>dow</th>\n",
       "    </tr>\n",
       "  </thead>\n",
       "  <tbody>\n",
       "    <tr>\n",
       "      <th>116563</th>\n",
       "      <td>2021-03-22 22:51:00</td>\n",
       "      <td>54392.0</td>\n",
       "      <td>54392.0</td>\n",
       "      <td>54342.5</td>\n",
       "      <td>54363.0</td>\n",
       "      <td>54362.4</td>\n",
       "      <td>54362.9</td>\n",
       "      <td>54362.5</td>\n",
       "      <td>19.022</td>\n",
       "      <td>0.000</td>\n",
       "      <td>7.653</td>\n",
       "      <td>11.369</td>\n",
       "      <td>-7.648</td>\n",
       "      <td>0.000</td>\n",
       "      <td>-2.688</td>\n",
       "      <td>-4.960</td>\n",
       "      <td>116</td>\n",
       "      <td>1</td>\n",
       "      <td>1371</td>\n",
       "      <td>0</td>\n",
       "    </tr>\n",
       "    <tr>\n",
       "      <th>556332</th>\n",
       "      <td>2022-01-22 23:20:00</td>\n",
       "      <td>34928.5</td>\n",
       "      <td>34928.5</td>\n",
       "      <td>34906.0</td>\n",
       "      <td>34906.5</td>\n",
       "      <td>34912.5</td>\n",
       "      <td>34909.4</td>\n",
       "      <td>34906.5</td>\n",
       "      <td>1.132</td>\n",
       "      <td>0.000</td>\n",
       "      <td>1.017</td>\n",
       "      <td>0.115</td>\n",
       "      <td>0.874</td>\n",
       "      <td>0.000</td>\n",
       "      <td>0.988</td>\n",
       "      <td>-0.115</td>\n",
       "      <td>21</td>\n",
       "      <td>1</td>\n",
       "      <td>1400</td>\n",
       "      <td>5</td>\n",
       "    </tr>\n",
       "    <tr>\n",
       "      <th>85861</th>\n",
       "      <td>2021-03-01 15:02:00</td>\n",
       "      <td>48359.5</td>\n",
       "      <td>48390.0</td>\n",
       "      <td>48359.5</td>\n",
       "      <td>48390.0</td>\n",
       "      <td>48377.6</td>\n",
       "      <td>48370.1</td>\n",
       "      <td>48379.5</td>\n",
       "      <td>65.772</td>\n",
       "      <td>0.000</td>\n",
       "      <td>65.772</td>\n",
       "      <td>0.000</td>\n",
       "      <td>65.177</td>\n",
       "      <td>0.000</td>\n",
       "      <td>65.177</td>\n",
       "      <td>0.000</td>\n",
       "      <td>206</td>\n",
       "      <td>0</td>\n",
       "      <td>902</td>\n",
       "      <td>0</td>\n",
       "    </tr>\n",
       "    <tr>\n",
       "      <th>395822</th>\n",
       "      <td>2021-10-03 06:39:00</td>\n",
       "      <td>48015.5</td>\n",
       "      <td>48032.5</td>\n",
       "      <td>48015.5</td>\n",
       "      <td>48032.5</td>\n",
       "      <td>48023.9</td>\n",
       "      <td>48021.9</td>\n",
       "      <td>48027.0</td>\n",
       "      <td>2.800</td>\n",
       "      <td>0.000</td>\n",
       "      <td>2.800</td>\n",
       "      <td>0.000</td>\n",
       "      <td>2.800</td>\n",
       "      <td>0.000</td>\n",
       "      <td>2.800</td>\n",
       "      <td>0.000</td>\n",
       "      <td>62</td>\n",
       "      <td>0</td>\n",
       "      <td>399</td>\n",
       "      <td>6</td>\n",
       "    </tr>\n",
       "    <tr>\n",
       "      <th>442979</th>\n",
       "      <td>2021-11-05 01:36:00</td>\n",
       "      <td>61119.5</td>\n",
       "      <td>61130.5</td>\n",
       "      <td>61083.0</td>\n",
       "      <td>61093.5</td>\n",
       "      <td>61108.7</td>\n",
       "      <td>61105.9</td>\n",
       "      <td>61119.5</td>\n",
       "      <td>13.311</td>\n",
       "      <td>5.408</td>\n",
       "      <td>3.797</td>\n",
       "      <td>4.105</td>\n",
       "      <td>-2.308</td>\n",
       "      <td>4.413</td>\n",
       "      <td>-3.797</td>\n",
       "      <td>-2.923</td>\n",
       "      <td>58</td>\n",
       "      <td>1</td>\n",
       "      <td>96</td>\n",
       "      <td>4</td>\n",
       "    </tr>\n",
       "  </tbody>\n",
       "</table>\n",
       "</div>"
      ],
      "text/plain": [
       "                      time     open     high      low    close      avg  \\\n",
       "116563 2021-03-22 22:51:00  54392.0  54392.0  54342.5  54363.0  54362.4   \n",
       "556332 2022-01-22 23:20:00  34928.5  34928.5  34906.0  34906.5  34912.5   \n",
       "85861  2021-03-01 15:02:00  48359.5  48390.0  48359.5  48390.0  48377.6   \n",
       "395822 2021-10-03 06:39:00  48015.5  48032.5  48015.5  48032.5  48023.9   \n",
       "442979 2021-11-05 01:36:00  61119.5  61130.5  61083.0  61093.5  61108.7   \n",
       "\n",
       "           wavg   median  sum_vol  up_sum_vol  md_sum_vol  lo_sum_vol  \\\n",
       "116563  54362.9  54362.5   19.022       0.000       7.653      11.369   \n",
       "556332  34909.4  34906.5    1.132       0.000       1.017       0.115   \n",
       "85861   48370.1  48379.5   65.772       0.000      65.772       0.000   \n",
       "395822  48021.9  48027.0    2.800       0.000       2.800       0.000   \n",
       "442979  61105.9  61119.5   13.311       5.408       3.797       4.105   \n",
       "\n",
       "        net_vol  up_net_vol  md_net_vol  lo_net_vol  cnt  hbl   tod  dow  \n",
       "116563   -7.648       0.000      -2.688      -4.960  116    1  1371    0  \n",
       "556332    0.874       0.000       0.988      -0.115   21    1  1400    5  \n",
       "85861    65.177       0.000      65.177       0.000  206    0   902    0  \n",
       "395822    2.800       0.000       2.800       0.000   62    0   399    6  \n",
       "442979   -2.308       4.413      -3.797      -2.923   58    1    96    4  "
      ]
     },
     "execution_count": 6,
     "metadata": {},
     "output_type": "execute_result"
    }
   ],
   "source": [
    "df.sample(5)"
   ]
  },
  {
   "cell_type": "code",
   "execution_count": 7,
   "metadata": {},
   "outputs": [],
   "source": [
    "cnt_up = 0\n",
    "cnt_down = 0\n",
    "\n",
    "def count_up_bars(x):\n",
    "    global cnt_up\n",
    "    cnt_up = (cnt_up + 1) if x > 0 else 0\n",
    "    return cnt_up\n",
    "\n",
    "\n",
    "def count_down_bars(x):\n",
    "    global cnt_down\n",
    "    cnt_down = (cnt_down + 1) if x < 0 else 0\n",
    "    return cnt_down"
   ]
  },
  {
   "cell_type": "code",
   "execution_count": 8,
   "metadata": {},
   "outputs": [],
   "source": [
    "prev_close = df.close.shift(1)\n",
    "change_close = (df.close / prev_close) - 1\n",
    "DEFAULT_EPS = 0.002 # 0.2%\n",
    "\n",
    "df['up'] = (change_close > DEFAULT_EPS).astype('int')\n",
    "df['down'] = (change_close < -DEFAULT_EPS).astype('int')\n",
    "df['move'] = df['up'] - df['down']\n",
    "df['up_in_row'] = df['up'].apply(count_up_bars)\n",
    "df['down_in_row'] = df['down'].apply(count_down_bars)\n",
    "df['TR'] = np.maximum(df.high, prev_close) - np.minimum(df.low, prev_close)\n",
    "df.dropna(inplace=True)"
   ]
  },
  {
   "cell_type": "markdown",
   "metadata": {},
   "source": [
    "Добавим еще столбцов:\n",
    "\n",
    "| наименование | тип | описание |\n",
    "|--------------|-------|--------|\n",
    "|`up`          | int      | 1, если цена выросла больше шума, иначе 0 |\n",
    "|`down`        | int      | 1, если цена упала больше шума, иначе 0   |    \n",
    "|`move`        | int      | выросла или упала (`up-down`) |\n",
    "|`up_in_row`   | int      | сколько периодов подряд цена росла   |    \n",
    "|`down_in_row` | int      | сколько периодов подряд цена падала |\n",
    "|`TR`          | int      | _True range_ |"
   ]
  },
  {
   "cell_type": "code",
   "execution_count": 9,
   "metadata": {},
   "outputs": [],
   "source": [
    "def add_moving(data, period, key):\n",
    "    roll = data.rolling(period, min_periods=1)\n",
    "    std = roll.close.std().fillna(0)\n",
    "    min_std = std.quantile(0.25)\n",
    "    data[f'ma_{key}'] = roll.close.mean()\n",
    "    data[f'std_{key}'] = np.maximum(std, min_std)\n",
    "    data[f'ATR_{key}'] = roll.TR.mean()\n",
    "    data[f'high_{key}'] = roll.high.max()\n",
    "    data[f'low_{key}'] = roll.low.min()\n",
    "    data[f'sum_vol_{key}'] = roll.sum_vol.mean()\n",
    "    data[f'net_vol_{key}'] = roll.net_vol.mean()"
   ]
  },
  {
   "cell_type": "markdown",
   "metadata": {},
   "source": [
    "При необходимости можно будет накидывать дополнительные признаки, вычисленные по скользящему окну:\n",
    "\n",
    "| наименование | тип | описание |\n",
    "|--------------|-------|--------|\n",
    "|`ma_***`         | float      | _SMA(close)_, скользящая средняя цен закрытия  |\n",
    "|`std_***`        | float      | стандартное отклоение цен закрытия  |    \n",
    "|`ATR_***`        | float      | _Average True Range_ |\n",
    "|`high_***`       | float      | максимальная цена внутри окна   |    \n",
    "|`low_***`        | float      | минимальная цена внутри окна  |\n",
    "|`sum_vol_***`    | float      | средний объем сделок внутри окна |\n",
    "|`net_vol_***`    | float      | средний нетто-объем сделок внутри окна |"
   ]
  },
  {
   "cell_type": "code",
   "execution_count": 10,
   "metadata": {},
   "outputs": [
    {
     "data": {
      "text/plain": [
       " 0    525809\n",
       " 1     21477\n",
       "-1     20578\n",
       "Name: move, dtype: int64"
      ]
     },
     "execution_count": 10,
     "metadata": {},
     "output_type": "execute_result"
    }
   ],
   "source": [
    "df.move.value_counts()"
   ]
  },
  {
   "cell_type": "code",
   "execution_count": 11,
   "metadata": {},
   "outputs": [
    {
     "data": {
      "text/html": [
       "<div>\n",
       "<style scoped>\n",
       "    .dataframe tbody tr th:only-of-type {\n",
       "        vertical-align: middle;\n",
       "    }\n",
       "\n",
       "    .dataframe tbody tr th {\n",
       "        vertical-align: top;\n",
       "    }\n",
       "\n",
       "    .dataframe thead th {\n",
       "        text-align: right;\n",
       "    }\n",
       "</style>\n",
       "<table border=\"1\" class=\"dataframe\">\n",
       "  <thead>\n",
       "    <tr style=\"text-align: right;\">\n",
       "      <th></th>\n",
       "      <th>time</th>\n",
       "      <th>open</th>\n",
       "      <th>high</th>\n",
       "      <th>low</th>\n",
       "      <th>close</th>\n",
       "      <th>avg</th>\n",
       "      <th>wavg</th>\n",
       "      <th>median</th>\n",
       "      <th>sum_vol</th>\n",
       "      <th>up_sum_vol</th>\n",
       "      <th>...</th>\n",
       "      <th>cnt</th>\n",
       "      <th>hbl</th>\n",
       "      <th>tod</th>\n",
       "      <th>dow</th>\n",
       "      <th>up</th>\n",
       "      <th>down</th>\n",
       "      <th>move</th>\n",
       "      <th>up_in_row</th>\n",
       "      <th>down_in_row</th>\n",
       "      <th>TR</th>\n",
       "    </tr>\n",
       "  </thead>\n",
       "  <tbody>\n",
       "    <tr>\n",
       "      <th>567860</th>\n",
       "      <td>2022-01-30 23:55:00</td>\n",
       "      <td>37930.5</td>\n",
       "      <td>37930.5</td>\n",
       "      <td>37918.5</td>\n",
       "      <td>37919.0</td>\n",
       "      <td>37927.2</td>\n",
       "      <td>37927.0</td>\n",
       "      <td>37930.0</td>\n",
       "      <td>5.746</td>\n",
       "      <td>0.000</td>\n",
       "      <td>...</td>\n",
       "      <td>34</td>\n",
       "      <td>1</td>\n",
       "      <td>1435</td>\n",
       "      <td>6</td>\n",
       "      <td>0</td>\n",
       "      <td>0</td>\n",
       "      <td>0</td>\n",
       "      <td>0</td>\n",
       "      <td>0</td>\n",
       "      <td>12.0</td>\n",
       "    </tr>\n",
       "    <tr>\n",
       "      <th>567861</th>\n",
       "      <td>2022-01-30 23:56:00</td>\n",
       "      <td>37918.5</td>\n",
       "      <td>37918.5</td>\n",
       "      <td>37898.0</td>\n",
       "      <td>37898.0</td>\n",
       "      <td>37906.4</td>\n",
       "      <td>37909.3</td>\n",
       "      <td>37903.5</td>\n",
       "      <td>0.617</td>\n",
       "      <td>0.000</td>\n",
       "      <td>...</td>\n",
       "      <td>10</td>\n",
       "      <td>1</td>\n",
       "      <td>1436</td>\n",
       "      <td>6</td>\n",
       "      <td>0</td>\n",
       "      <td>0</td>\n",
       "      <td>0</td>\n",
       "      <td>0</td>\n",
       "      <td>0</td>\n",
       "      <td>21.0</td>\n",
       "    </tr>\n",
       "    <tr>\n",
       "      <th>567862</th>\n",
       "      <td>2022-01-30 23:57:00</td>\n",
       "      <td>37897.5</td>\n",
       "      <td>37897.5</td>\n",
       "      <td>37893.0</td>\n",
       "      <td>37893.0</td>\n",
       "      <td>37895.1</td>\n",
       "      <td>37894.9</td>\n",
       "      <td>37893.5</td>\n",
       "      <td>0.699</td>\n",
       "      <td>0.000</td>\n",
       "      <td>...</td>\n",
       "      <td>17</td>\n",
       "      <td>1</td>\n",
       "      <td>1437</td>\n",
       "      <td>6</td>\n",
       "      <td>0</td>\n",
       "      <td>0</td>\n",
       "      <td>0</td>\n",
       "      <td>0</td>\n",
       "      <td>0</td>\n",
       "      <td>5.0</td>\n",
       "    </tr>\n",
       "    <tr>\n",
       "      <th>567863</th>\n",
       "      <td>2022-01-30 23:58:00</td>\n",
       "      <td>37893.5</td>\n",
       "      <td>37893.5</td>\n",
       "      <td>37893.0</td>\n",
       "      <td>37893.0</td>\n",
       "      <td>37893.3</td>\n",
       "      <td>37893.3</td>\n",
       "      <td>37893.5</td>\n",
       "      <td>1.093</td>\n",
       "      <td>0.000</td>\n",
       "      <td>...</td>\n",
       "      <td>7</td>\n",
       "      <td>1</td>\n",
       "      <td>1438</td>\n",
       "      <td>6</td>\n",
       "      <td>0</td>\n",
       "      <td>0</td>\n",
       "      <td>0</td>\n",
       "      <td>0</td>\n",
       "      <td>0</td>\n",
       "      <td>0.5</td>\n",
       "    </tr>\n",
       "    <tr>\n",
       "      <th>567864</th>\n",
       "      <td>2022-01-30 23:59:00</td>\n",
       "      <td>37893.5</td>\n",
       "      <td>37932.0</td>\n",
       "      <td>37893.5</td>\n",
       "      <td>37893.5</td>\n",
       "      <td>37904.5</td>\n",
       "      <td>37902.1</td>\n",
       "      <td>37893.5</td>\n",
       "      <td>7.455</td>\n",
       "      <td>3.296</td>\n",
       "      <td>...</td>\n",
       "      <td>73</td>\n",
       "      <td>0</td>\n",
       "      <td>1439</td>\n",
       "      <td>6</td>\n",
       "      <td>0</td>\n",
       "      <td>0</td>\n",
       "      <td>0</td>\n",
       "      <td>0</td>\n",
       "      <td>0</td>\n",
       "      <td>39.0</td>\n",
       "    </tr>\n",
       "  </tbody>\n",
       "</table>\n",
       "<p>5 rows × 26 columns</p>\n",
       "</div>"
      ],
      "text/plain": [
       "                      time     open     high      low    close      avg  \\\n",
       "567860 2022-01-30 23:55:00  37930.5  37930.5  37918.5  37919.0  37927.2   \n",
       "567861 2022-01-30 23:56:00  37918.5  37918.5  37898.0  37898.0  37906.4   \n",
       "567862 2022-01-30 23:57:00  37897.5  37897.5  37893.0  37893.0  37895.1   \n",
       "567863 2022-01-30 23:58:00  37893.5  37893.5  37893.0  37893.0  37893.3   \n",
       "567864 2022-01-30 23:59:00  37893.5  37932.0  37893.5  37893.5  37904.5   \n",
       "\n",
       "           wavg   median  sum_vol  up_sum_vol  ...  cnt  hbl   tod  dow  up  \\\n",
       "567860  37927.0  37930.0    5.746       0.000  ...   34    1  1435    6   0   \n",
       "567861  37909.3  37903.5    0.617       0.000  ...   10    1  1436    6   0   \n",
       "567862  37894.9  37893.5    0.699       0.000  ...   17    1  1437    6   0   \n",
       "567863  37893.3  37893.5    1.093       0.000  ...    7    1  1438    6   0   \n",
       "567864  37902.1  37893.5    7.455       3.296  ...   73    0  1439    6   0   \n",
       "\n",
       "        down  move  up_in_row  down_in_row    TR  \n",
       "567860     0     0          0            0  12.0  \n",
       "567861     0     0          0            0  21.0  \n",
       "567862     0     0          0            0   5.0  \n",
       "567863     0     0          0            0   0.5  \n",
       "567864     0     0          0            0  39.0  \n",
       "\n",
       "[5 rows x 26 columns]"
      ]
     },
     "execution_count": 11,
     "metadata": {},
     "output_type": "execute_result"
    }
   ],
   "source": [
    "df.tail(5)"
   ]
  },
  {
   "cell_type": "markdown",
   "metadata": {},
   "source": [
    "## ML models"
   ]
  },
  {
   "cell_type": "code",
   "execution_count": 13,
   "metadata": {},
   "outputs": [],
   "source": [
    "TRAIN_SIZE = int(len(df) * (1.0 - TEST_FRAC))"
   ]
  },
  {
   "cell_type": "code",
   "execution_count": 14,
   "metadata": {},
   "outputs": [],
   "source": [
    "class MACrossStrategy(Strategy):\n",
    "    def __init__(self, cross_type=1):\n",
    "        if cross_type != 1 and cross_type != -1:\n",
    "            raise Exception('`cross_type` should be either `1`(up) or `-1`(down)')\n",
    "        \n",
    "        self.cross_type = cross_type\n",
    "        self.op = self.buy if cross_type == 1 else self.sell\n",
    "        \n",
    "        \n",
    "    def prepare(self, data):\n",
    "        cols = data.columns\n",
    "        if not ('ma_long' in cols):\n",
    "            raise Exception('missing `ma_long` column')\n",
    "            \n",
    "        if not ('ma_short' in cols):\n",
    "            raise Exception('missing `ma_short` column')\n",
    "            \n",
    "        self.cross = (self.cross_type * (data.ma_short - data.ma_long)).shift(1)\n",
    "        # shift is necessary because we can only use it on the next bar\n",
    "\n",
    "        \n",
    "    def next(self, row):\n",
    "        # if prev's bar cross value satisfies out cross_type - make trade at current bar open\n",
    "        if (self.cross[row.name] > 0):\n",
    "            self.op(row, row.open)\n",
    "        else:\n",
    "            # otherwise - close position if present\n",
    "            self.close(row, row.open)"
   ]
  },
  {
   "cell_type": "code",
   "execution_count": 17,
   "metadata": {},
   "outputs": [
    {
     "name": "stdout",
     "output_type": "stream",
     "text": [
      "CPU times: user 1 µs, sys: 1 µs, total: 2 µs\n",
      "Wall time: 4.05 µs\n"
     ]
    }
   ],
   "source": [
    "%time\n",
    "MA_PERIOD_LONG = 13\n",
    "MA_PERIOD_SHORT = 5\n",
    "\n",
    "PERIODS = {\n",
    "    'long': MA_PERIOD_LONG,\n",
    "    'short': MA_PERIOD_SHORT\n",
    "}\n",
    "\n",
    "df_mac = df.copy(deep=False)\n",
    "add_moving(df_mac, MA_PERIOD_LONG, 'long')\n",
    "add_moving(df_mac, MA_PERIOD_SHORT, 'short')\n",
    "\n",
    "df_mac['macd'] = (df_mac['ma_short'] - df_mac['ma_long']) / df_mac['std_long']\n",
    "df_mac['macd_bin'] = (df_mac['macd'] > 0).astype('int')\n",
    "df_mac['macd_bin_1'] = df_mac['macd_bin'].shift(1).fillna(0)\n",
    "\n",
    "cols = []\n",
    "\n",
    "for col1 in ['open', 'high', 'low', 'close']:\n",
    "    for per in ['long', 'short']:\n",
    "        for col2 in ['ma', 'high', 'low']:\n",
    "            new_col = (df_mac[col1] - df_mac[f'{col2}_{per}']) / df_mac[f'std_{per}']\n",
    "            new_col.name = f'{col1}_by_{col2}_{per}'\n",
    "            cols.append(new_col)\n",
    "            \n",
    "for per in ['long', 'short']:\n",
    "    tper = PERIODS[per]\n",
    "    # ADX\n",
    "    adx_col = talib.ADX(df_mac.high, df_mac.low, df_mac.close, timeperiod=tper)\n",
    "    adx_col.name = f'ADX_{per}'\n",
    "    cols.append(adx_col)\n",
    "    # RSI\n",
    "    rsi_col = talib.RSI(df_mac.close, timeperiod=tper)\n",
    "    rsi_col.name = f'RSI_{per}'\n",
    "    cols.append(rsi_col)\n",
    "    # WILLR\n",
    "    wil_col = talib.WILLR(df_mac.high, df_mac.low, df_mac.close, timeperiod=tper)\n",
    "    wil_col.name = f'WILLR_{per}'\n",
    "    cols.append(wil_col)\n",
    "    \n",
    "for pattern in talib.get_function_groups()['Pattern Recognition']:\n",
    "    pat_col = getattr(talib, pattern)(df_mac.open, df_mac.high, df_mac.low, df_mac.close)\n",
    "    pat_col.name = pattern\n",
    "    cols.append(pat_col)\n",
    "      \n",
    "df_mac = pd.concat([df_mac, *cols], axis=1)\n",
    "data_train = df_mac.iloc[:TRAIN_SIZE]"
   ]
  },
  {
   "cell_type": "code",
   "execution_count": 20,
   "metadata": {},
   "outputs": [
    {
     "name": "stdout",
     "output_type": "stream",
     "text": [
      "Net profit:         -13627.50     Gross profit:      1166661.00\n",
      "Raw profit:         -13627.50     Gross loss:       -1180288.50\n",
      "Fee paid:                0.00     Max drawdown:        57012.50\n",
      "Trades count:           21450     Profit factor:           0.99\n",
      "Profitable:            36.20%     Recovery factor:        -0.24\n",
      "Losing:                63.80%     Sharpe ratio:          -73.73\n",
      "CPU times: user 14.4 s, sys: 565 ms, total: 15 s\n",
      "Wall time: 15 s\n"
     ]
    }
   ],
   "source": [
    "%%time\n",
    "ma_cross_res = MACrossStrategy().run(data_train)\n",
    "ma_cross_res.summary()"
   ]
  },
  {
   "cell_type": "code",
   "execution_count": 21,
   "metadata": {},
   "outputs": [
    {
     "data": {
      "text/plain": [
       "<AxesSubplot:xlabel='time', ylabel='pnl'>"
      ]
     },
     "execution_count": 21,
     "metadata": {},
     "output_type": "execute_result"
    },
    {
     "data": {
      "image/png": "[encoded data removed]",
      "text/plain": [
       "<Figure size 1080x360 with 1 Axes>"
      ]
     },
     "metadata": {
      "needs_background": "light"
     },
     "output_type": "display_data"
    }
   ],
   "source": [
    "sns.lineplot(y=ma_cross_res.equity.pnl, x=data_train.time)"
   ]
  },
  {
   "cell_type": "code",
   "execution_count": 22,
   "metadata": {},
   "outputs": [
    {
     "data": {
      "text/plain": [
       "<AxesSubplot:xlabel='time', ylabel='pnl_open'>"
      ]
     },
     "execution_count": 22,
     "metadata": {},
     "output_type": "execute_result"
    },
    {
     "data": {
      "image/png": "[encoded data removed]",
      "text/plain": [
       "<Figure size 1080x360 with 1 Axes>"
      ]
     },
     "metadata": {
      "needs_background": "light"
     },
     "output_type": "display_data"
    }
   ],
   "source": [
    "sns.lineplot(y=ma_cross_res.equity.pnl_open, x=data_train.time, color='r')\n",
    "sns.lineplot(y=ma_cross_res.equity.pnl_open_max, x=data_train.time, color='g', alpha=0.15)"
   ]
  },
  {
   "cell_type": "code",
   "execution_count": 23,
   "metadata": {},
   "outputs": [],
   "source": [
    "trades = ma_cross_res.trades\n",
    "equity = ma_cross_res.equity\n",
    "fix_pos = ma_cross_res.best_pos(min_bars_held=2)"
   ]
  },
  {
   "cell_type": "code",
   "execution_count": 24,
   "metadata": {},
   "outputs": [
    {
     "data": {
      "text/html": [
       "<div>\n",
       "<style scoped>\n",
       "    .dataframe tbody tr th:only-of-type {\n",
       "        vertical-align: middle;\n",
       "    }\n",
       "\n",
       "    .dataframe tbody tr th {\n",
       "        vertical-align: top;\n",
       "    }\n",
       "\n",
       "    .dataframe thead th {\n",
       "        text-align: right;\n",
       "    }\n",
       "</style>\n",
       "<table border=\"1\" class=\"dataframe\">\n",
       "  <thead>\n",
       "    <tr style=\"text-align: right;\">\n",
       "      <th></th>\n",
       "      <th>pos</th>\n",
       "      <th>price_enter</th>\n",
       "      <th>price_exit</th>\n",
       "      <th>index_enter</th>\n",
       "      <th>index_exit</th>\n",
       "      <th>index_max</th>\n",
       "      <th>index_min</th>\n",
       "      <th>fee</th>\n",
       "      <th>pnl</th>\n",
       "      <th>pnl_max</th>\n",
       "      <th>pnl_min</th>\n",
       "      <th>result</th>\n",
       "    </tr>\n",
       "  </thead>\n",
       "  <tbody>\n",
       "    <tr>\n",
       "      <th>0</th>\n",
       "      <td>1</td>\n",
       "      <td>28870.0</td>\n",
       "      <td>29359.0</td>\n",
       "      <td>24</td>\n",
       "      <td>84</td>\n",
       "      <td>74</td>\n",
       "      <td>29</td>\n",
       "      <td>0.0</td>\n",
       "      <td>489.0</td>\n",
       "      <td>585.0</td>\n",
       "      <td>-3.0</td>\n",
       "      <td>489.0</td>\n",
       "    </tr>\n",
       "    <tr>\n",
       "      <th>1</th>\n",
       "      <td>1</td>\n",
       "      <td>29425.0</td>\n",
       "      <td>29439.5</td>\n",
       "      <td>89</td>\n",
       "      <td>104</td>\n",
       "      <td>98</td>\n",
       "      <td>93</td>\n",
       "      <td>0.0</td>\n",
       "      <td>14.5</td>\n",
       "      <td>115.0</td>\n",
       "      <td>-25.0</td>\n",
       "      <td>14.5</td>\n",
       "    </tr>\n",
       "    <tr>\n",
       "      <th>2</th>\n",
       "      <td>1</td>\n",
       "      <td>29420.0</td>\n",
       "      <td>29420.0</td>\n",
       "      <td>114</td>\n",
       "      <td>115</td>\n",
       "      <td>114</td>\n",
       "      <td>114</td>\n",
       "      <td>0.0</td>\n",
       "      <td>0.0</td>\n",
       "      <td>0.0</td>\n",
       "      <td>0.0</td>\n",
       "      <td>0.0</td>\n",
       "    </tr>\n",
       "    <tr>\n",
       "      <th>3</th>\n",
       "      <td>1</td>\n",
       "      <td>29450.0</td>\n",
       "      <td>29421.5</td>\n",
       "      <td>118</td>\n",
       "      <td>127</td>\n",
       "      <td>120</td>\n",
       "      <td>126</td>\n",
       "      <td>0.0</td>\n",
       "      <td>-28.5</td>\n",
       "      <td>60.0</td>\n",
       "      <td>-28.0</td>\n",
       "      <td>-28.5</td>\n",
       "    </tr>\n",
       "    <tr>\n",
       "      <th>4</th>\n",
       "      <td>1</td>\n",
       "      <td>29390.0</td>\n",
       "      <td>29284.5</td>\n",
       "      <td>143</td>\n",
       "      <td>151</td>\n",
       "      <td>144</td>\n",
       "      <td>150</td>\n",
       "      <td>0.0</td>\n",
       "      <td>-105.5</td>\n",
       "      <td>26.5</td>\n",
       "      <td>-105.5</td>\n",
       "      <td>-105.5</td>\n",
       "    </tr>\n",
       "    <tr>\n",
       "      <th>...</th>\n",
       "      <td>...</td>\n",
       "      <td>...</td>\n",
       "      <td>...</td>\n",
       "      <td>...</td>\n",
       "      <td>...</td>\n",
       "      <td>...</td>\n",
       "      <td>...</td>\n",
       "      <td>...</td>\n",
       "      <td>...</td>\n",
       "      <td>...</td>\n",
       "      <td>...</td>\n",
       "      <td>...</td>\n",
       "    </tr>\n",
       "    <tr>\n",
       "      <th>21445</th>\n",
       "      <td>1</td>\n",
       "      <td>57230.0</td>\n",
       "      <td>57056.0</td>\n",
       "      <td>482557</td>\n",
       "      <td>482566</td>\n",
       "      <td>482558</td>\n",
       "      <td>482565</td>\n",
       "      <td>0.0</td>\n",
       "      <td>-174.0</td>\n",
       "      <td>117.0</td>\n",
       "      <td>-174.5</td>\n",
       "      <td>-174.0</td>\n",
       "    </tr>\n",
       "    <tr>\n",
       "      <th>21446</th>\n",
       "      <td>1</td>\n",
       "      <td>56644.0</td>\n",
       "      <td>56477.0</td>\n",
       "      <td>482585</td>\n",
       "      <td>482589</td>\n",
       "      <td>482585</td>\n",
       "      <td>482588</td>\n",
       "      <td>0.0</td>\n",
       "      <td>-167.0</td>\n",
       "      <td>58.5</td>\n",
       "      <td>-174.5</td>\n",
       "      <td>-167.0</td>\n",
       "    </tr>\n",
       "    <tr>\n",
       "      <th>21447</th>\n",
       "      <td>1</td>\n",
       "      <td>56389.5</td>\n",
       "      <td>56346.0</td>\n",
       "      <td>482604</td>\n",
       "      <td>482629</td>\n",
       "      <td>482623</td>\n",
       "      <td>482608</td>\n",
       "      <td>0.0</td>\n",
       "      <td>-43.5</td>\n",
       "      <td>356.5</td>\n",
       "      <td>-79.0</td>\n",
       "      <td>-43.5</td>\n",
       "    </tr>\n",
       "    <tr>\n",
       "      <th>21448</th>\n",
       "      <td>1</td>\n",
       "      <td>56245.0</td>\n",
       "      <td>56152.5</td>\n",
       "      <td>482657</td>\n",
       "      <td>482661</td>\n",
       "      <td>482657</td>\n",
       "      <td>482659</td>\n",
       "      <td>0.0</td>\n",
       "      <td>-92.5</td>\n",
       "      <td>45.5</td>\n",
       "      <td>-93.0</td>\n",
       "      <td>-92.5</td>\n",
       "    </tr>\n",
       "    <tr>\n",
       "      <th>21449</th>\n",
       "      <td>1</td>\n",
       "      <td>56174.0</td>\n",
       "      <td>56466.5</td>\n",
       "      <td>482668</td>\n",
       "      <td>482684</td>\n",
       "      <td>482677</td>\n",
       "      <td>482668</td>\n",
       "      <td>0.0</td>\n",
       "      <td>292.5</td>\n",
       "      <td>331.0</td>\n",
       "      <td>0.0</td>\n",
       "      <td>292.5</td>\n",
       "    </tr>\n",
       "  </tbody>\n",
       "</table>\n",
       "<p>21450 rows × 12 columns</p>\n",
       "</div>"
      ],
      "text/plain": [
       "       pos  price_enter  price_exit  index_enter  index_exit  index_max  \\\n",
       "0        1      28870.0     29359.0           24          84         74   \n",
       "1        1      29425.0     29439.5           89         104         98   \n",
       "2        1      29420.0     29420.0          114         115        114   \n",
       "3        1      29450.0     29421.5          118         127        120   \n",
       "4        1      29390.0     29284.5          143         151        144   \n",
       "...    ...          ...         ...          ...         ...        ...   \n",
       "21445    1      57230.0     57056.0       482557      482566     482558   \n",
       "21446    1      56644.0     56477.0       482585      482589     482585   \n",
       "21447    1      56389.5     56346.0       482604      482629     482623   \n",
       "21448    1      56245.0     56152.5       482657      482661     482657   \n",
       "21449    1      56174.0     56466.5       482668      482684     482677   \n",
       "\n",
       "       index_min  fee    pnl  pnl_max  pnl_min  result  \n",
       "0             29  0.0  489.0    585.0     -3.0   489.0  \n",
       "1             93  0.0   14.5    115.0    -25.0    14.5  \n",
       "2            114  0.0    0.0      0.0      0.0     0.0  \n",
       "3            126  0.0  -28.5     60.0    -28.0   -28.5  \n",
       "4            150  0.0 -105.5     26.5   -105.5  -105.5  \n",
       "...          ...  ...    ...      ...      ...     ...  \n",
       "21445     482565  0.0 -174.0    117.0   -174.5  -174.0  \n",
       "21446     482588  0.0 -167.0     58.5   -174.5  -167.0  \n",
       "21447     482608  0.0  -43.5    356.5    -79.0   -43.5  \n",
       "21448     482659  0.0  -92.5     45.5    -93.0   -92.5  \n",
       "21449     482668  0.0  292.5    331.0      0.0   292.5  \n",
       "\n",
       "[21450 rows x 12 columns]"
      ]
     },
     "execution_count": 24,
     "metadata": {},
     "output_type": "execute_result"
    }
   ],
   "source": [
    "trades"
   ]
  },
  {
   "cell_type": "code",
   "execution_count": 25,
   "metadata": {},
   "outputs": [
    {
     "name": "stdout",
     "output_type": "stream",
     "text": [
      "Net profit:        2272721.00     Gross profit:      2272854.50\n",
      "Raw profit:        2272721.00     Gross loss:           -133.50\n",
      "Fee paid:                0.00     Max drawdown:         1044.00\n",
      "Trades count:           11365     Profit factor:       17025.13\n",
      "Profitable:            99.67%     Recovery factor:      2176.94\n",
      "Losing:                 0.33%     Sharpe ratio:         9403.11\n",
      "CPU times: user 12.5 s, sys: 585 ms, total: 13 s\n",
      "Wall time: 13.1 s\n"
     ]
    }
   ],
   "source": [
    "%%time\n",
    "mac_fix_res = SignalStrategy(fix_pos).run(data_train)\n",
    "mac_fix_res.summary()"
   ]
  },
  {
   "cell_type": "code",
   "execution_count": 26,
   "metadata": {},
   "outputs": [
    {
     "data": {
      "text/html": [
       "<div>\n",
       "<style scoped>\n",
       "    .dataframe tbody tr th:only-of-type {\n",
       "        vertical-align: middle;\n",
       "    }\n",
       "\n",
       "    .dataframe tbody tr th {\n",
       "        vertical-align: top;\n",
       "    }\n",
       "\n",
       "    .dataframe thead th {\n",
       "        text-align: right;\n",
       "    }\n",
       "</style>\n",
       "<table border=\"1\" class=\"dataframe\">\n",
       "  <thead>\n",
       "    <tr style=\"text-align: right;\">\n",
       "      <th></th>\n",
       "      <th>pos</th>\n",
       "      <th>price_enter</th>\n",
       "      <th>price_exit</th>\n",
       "      <th>index_enter</th>\n",
       "      <th>index_exit</th>\n",
       "      <th>index_max</th>\n",
       "      <th>index_min</th>\n",
       "      <th>fee</th>\n",
       "      <th>pnl</th>\n",
       "      <th>pnl_max</th>\n",
       "      <th>pnl_min</th>\n",
       "      <th>result</th>\n",
       "    </tr>\n",
       "  </thead>\n",
       "  <tbody>\n",
       "    <tr>\n",
       "      <th>0</th>\n",
       "      <td>1</td>\n",
       "      <td>28870.0</td>\n",
       "      <td>29454.5</td>\n",
       "      <td>24</td>\n",
       "      <td>75</td>\n",
       "      <td>74</td>\n",
       "      <td>29</td>\n",
       "      <td>0.0</td>\n",
       "      <td>584.5</td>\n",
       "      <td>585.0</td>\n",
       "      <td>-3.0</td>\n",
       "      <td>584.5</td>\n",
       "    </tr>\n",
       "    <tr>\n",
       "      <th>1</th>\n",
       "      <td>1</td>\n",
       "      <td>29425.0</td>\n",
       "      <td>29540.0</td>\n",
       "      <td>89</td>\n",
       "      <td>99</td>\n",
       "      <td>98</td>\n",
       "      <td>93</td>\n",
       "      <td>0.0</td>\n",
       "      <td>115.0</td>\n",
       "      <td>115.0</td>\n",
       "      <td>-25.0</td>\n",
       "      <td>115.0</td>\n",
       "    </tr>\n",
       "    <tr>\n",
       "      <th>2</th>\n",
       "      <td>1</td>\n",
       "      <td>29450.0</td>\n",
       "      <td>29511.0</td>\n",
       "      <td>118</td>\n",
       "      <td>121</td>\n",
       "      <td>120</td>\n",
       "      <td>118</td>\n",
       "      <td>0.0</td>\n",
       "      <td>61.0</td>\n",
       "      <td>60.0</td>\n",
       "      <td>0.0</td>\n",
       "      <td>61.0</td>\n",
       "    </tr>\n",
       "    <tr>\n",
       "      <th>3</th>\n",
       "      <td>1</td>\n",
       "      <td>29336.5</td>\n",
       "      <td>29400.0</td>\n",
       "      <td>165</td>\n",
       "      <td>170</td>\n",
       "      <td>169</td>\n",
       "      <td>165</td>\n",
       "      <td>0.0</td>\n",
       "      <td>63.5</td>\n",
       "      <td>63.0</td>\n",
       "      <td>0.0</td>\n",
       "      <td>63.5</td>\n",
       "    </tr>\n",
       "    <tr>\n",
       "      <th>4</th>\n",
       "      <td>1</td>\n",
       "      <td>29318.0</td>\n",
       "      <td>29359.5</td>\n",
       "      <td>185</td>\n",
       "      <td>196</td>\n",
       "      <td>195</td>\n",
       "      <td>188</td>\n",
       "      <td>0.0</td>\n",
       "      <td>41.5</td>\n",
       "      <td>41.5</td>\n",
       "      <td>-28.0</td>\n",
       "      <td>41.5</td>\n",
       "    </tr>\n",
       "    <tr>\n",
       "      <th>...</th>\n",
       "      <td>...</td>\n",
       "      <td>...</td>\n",
       "      <td>...</td>\n",
       "      <td>...</td>\n",
       "      <td>...</td>\n",
       "      <td>...</td>\n",
       "      <td>...</td>\n",
       "      <td>...</td>\n",
       "      <td>...</td>\n",
       "      <td>...</td>\n",
       "      <td>...</td>\n",
       "      <td>...</td>\n",
       "    </tr>\n",
       "    <tr>\n",
       "      <th>11360</th>\n",
       "      <td>1</td>\n",
       "      <td>56447.5</td>\n",
       "      <td>56513.5</td>\n",
       "      <td>482492</td>\n",
       "      <td>482496</td>\n",
       "      <td>482495</td>\n",
       "      <td>482492</td>\n",
       "      <td>0.0</td>\n",
       "      <td>66.0</td>\n",
       "      <td>63.5</td>\n",
       "      <td>0.0</td>\n",
       "      <td>66.0</td>\n",
       "    </tr>\n",
       "    <tr>\n",
       "      <th>11361</th>\n",
       "      <td>1</td>\n",
       "      <td>56631.5</td>\n",
       "      <td>56745.0</td>\n",
       "      <td>482507</td>\n",
       "      <td>482510</td>\n",
       "      <td>482509</td>\n",
       "      <td>482507</td>\n",
       "      <td>0.0</td>\n",
       "      <td>113.5</td>\n",
       "      <td>113.0</td>\n",
       "      <td>0.0</td>\n",
       "      <td>113.5</td>\n",
       "    </tr>\n",
       "    <tr>\n",
       "      <th>11362</th>\n",
       "      <td>1</td>\n",
       "      <td>56755.0</td>\n",
       "      <td>57181.5</td>\n",
       "      <td>482532</td>\n",
       "      <td>482548</td>\n",
       "      <td>482547</td>\n",
       "      <td>482532</td>\n",
       "      <td>0.0</td>\n",
       "      <td>426.5</td>\n",
       "      <td>439.5</td>\n",
       "      <td>-0.5</td>\n",
       "      <td>426.5</td>\n",
       "    </tr>\n",
       "    <tr>\n",
       "      <th>11363</th>\n",
       "      <td>1</td>\n",
       "      <td>56389.5</td>\n",
       "      <td>56746.5</td>\n",
       "      <td>482604</td>\n",
       "      <td>482624</td>\n",
       "      <td>482623</td>\n",
       "      <td>482608</td>\n",
       "      <td>0.0</td>\n",
       "      <td>357.0</td>\n",
       "      <td>356.5</td>\n",
       "      <td>-79.0</td>\n",
       "      <td>357.0</td>\n",
       "    </tr>\n",
       "    <tr>\n",
       "      <th>11364</th>\n",
       "      <td>1</td>\n",
       "      <td>56174.0</td>\n",
       "      <td>56490.5</td>\n",
       "      <td>482668</td>\n",
       "      <td>482678</td>\n",
       "      <td>482677</td>\n",
       "      <td>482668</td>\n",
       "      <td>0.0</td>\n",
       "      <td>316.5</td>\n",
       "      <td>331.0</td>\n",
       "      <td>0.0</td>\n",
       "      <td>316.5</td>\n",
       "    </tr>\n",
       "  </tbody>\n",
       "</table>\n",
       "<p>11365 rows × 12 columns</p>\n",
       "</div>"
      ],
      "text/plain": [
       "       pos  price_enter  price_exit  index_enter  index_exit  index_max  \\\n",
       "0        1      28870.0     29454.5           24          75         74   \n",
       "1        1      29425.0     29540.0           89          99         98   \n",
       "2        1      29450.0     29511.0          118         121        120   \n",
       "3        1      29336.5     29400.0          165         170        169   \n",
       "4        1      29318.0     29359.5          185         196        195   \n",
       "...    ...          ...         ...          ...         ...        ...   \n",
       "11360    1      56447.5     56513.5       482492      482496     482495   \n",
       "11361    1      56631.5     56745.0       482507      482510     482509   \n",
       "11362    1      56755.0     57181.5       482532      482548     482547   \n",
       "11363    1      56389.5     56746.5       482604      482624     482623   \n",
       "11364    1      56174.0     56490.5       482668      482678     482677   \n",
       "\n",
       "       index_min  fee    pnl  pnl_max  pnl_min  result  \n",
       "0             29  0.0  584.5    585.0     -3.0   584.5  \n",
       "1             93  0.0  115.0    115.0    -25.0   115.0  \n",
       "2            118  0.0   61.0     60.0      0.0    61.0  \n",
       "3            165  0.0   63.5     63.0      0.0    63.5  \n",
       "4            188  0.0   41.5     41.5    -28.0    41.5  \n",
       "...          ...  ...    ...      ...      ...     ...  \n",
       "11360     482492  0.0   66.0     63.5      0.0    66.0  \n",
       "11361     482507  0.0  113.5    113.0      0.0   113.5  \n",
       "11362     482532  0.0  426.5    439.5     -0.5   426.5  \n",
       "11363     482608  0.0  357.0    356.5    -79.0   357.0  \n",
       "11364     482668  0.0  316.5    331.0      0.0   316.5  \n",
       "\n",
       "[11365 rows x 12 columns]"
      ]
     },
     "execution_count": 26,
     "metadata": {},
     "output_type": "execute_result"
    }
   ],
   "source": [
    "mac_fix_res.trades"
   ]
  },
  {
   "cell_type": "markdown",
   "metadata": {},
   "source": [
    "### Подход №1\n",
    "пробуем обучить модель покупать-продавать в идеальных точках"
   ]
  },
  {
   "cell_type": "markdown",
   "metadata": {},
   "source": [
    "`MACrossStrategy` входит в позицию на баре, следующем после пересечения средних - это непременное условие отсутствия \"подглядывания в будущее\". Кроме того, метод `best_pos` делает выход из позиции на баре, следующим за баром с максимальным доходом по текущей позиции - по той же причине. Поэтому для обучения модели целесобразно сдвинуть ряд `fix_pos` на 1 в прошлое"
   ]
  },
  {
   "cell_type": "code",
   "execution_count": 27,
   "metadata": {},
   "outputs": [],
   "source": [
    "y = fix_pos.shift(-1).fillna(0).astype('int')"
   ]
  },
  {
   "cell_type": "code",
   "execution_count": 28,
   "metadata": {},
   "outputs": [
    {
     "data": {
      "text/plain": [
       "((410281, 133), (410281,), (72403, 133), (72403,))"
      ]
     },
     "execution_count": 28,
     "metadata": {},
     "output_type": "execute_result"
    }
   ],
   "source": [
    "X_train, X_val, y_train, y_val = train_test_split(data_train.drop(columns='time'), y, \n",
    "                                                  test_size=TEST_FRAC, \n",
    "                                                  shuffle=False, \n",
    "                                                  random_state=RANDOM_SEED)\n",
    "X_train.shape, y_train.shape, X_val.shape, y_val.shape"
   ]
  },
  {
   "cell_type": "code",
   "execution_count": 32,
   "metadata": {},
   "outputs": [
    {
     "name": "stderr",
     "output_type": "stream",
     "text": [
      "Custom logger is already specified. Specify more than one logger at same time is not thread safe."
     ]
    },
    {
     "name": "stdout",
     "output_type": "stream",
     "text": [
      "Learning rate set to 0.016459\n",
      "0:\tlearn: 0.6585049\ttest: 0.6685198\tbest: 0.6685198 (0)\ttotal: 21.5ms\tremaining: 3m 34s\n",
      "1000:\tlearn: 0.6810455\ttest: 0.6934546\tbest: 0.6937820 (987)\ttotal: 17.2s\tremaining: 2m 34s\n",
      "2000:\tlearn: 0.6876747\ttest: 0.6931371\tbest: 0.6939095 (1242)\ttotal: 34.1s\tremaining: 2m 16s\n",
      "3000:\tlearn: 0.6936546\ttest: 0.6916028\tbest: 0.6939095 (1242)\ttotal: 50.9s\tremaining: 1m 58s\n",
      "4000:\tlearn: 0.6994568\ttest: 0.6908169\tbest: 0.6939095 (1242)\ttotal: 1m 7s\tremaining: 1m 41s\n",
      "5000:\tlearn: 0.7047005\ttest: 0.6901318\tbest: 0.6939095 (1242)\ttotal: 1m 24s\tremaining: 1m 24s\n",
      "6000:\tlearn: 0.7100462\ttest: 0.6898944\tbest: 0.6939095 (1242)\ttotal: 1m 41s\tremaining: 1m 7s\n",
      "7000:\tlearn: 0.7149969\ttest: 0.6893871\tbest: 0.6939095 (1242)\ttotal: 1m 58s\tremaining: 50.6s\n",
      "8000:\tlearn: 0.7198594\ttest: 0.6887329\tbest: 0.6939095 (1242)\ttotal: 2m 15s\tremaining: 33.8s\n",
      "9000:\tlearn: 0.7243603\ttest: 0.6877660\tbest: 0.6939095 (1242)\ttotal: 2m 32s\tremaining: 16.9s\n",
      "9999:\tlearn: 0.7287932\ttest: 0.6874202\tbest: 0.6939095 (1242)\ttotal: 2m 48s\tremaining: 0us\n",
      "bestTest = 0.6939094783\n",
      "bestIteration = 1242\n",
      "Shrink model to first 1243 iterations.\n",
      "CPU times: user 3min 33s, sys: 1min 26s, total: 5min\n",
      "Wall time: 2min 49s\n"
     ]
    },
    {
     "data": {
      "text/plain": [
       "<catboost.core.CatBoostClassifier at 0x7fe3e850fa60>"
      ]
     },
     "execution_count": 32,
     "metadata": {},
     "output_type": "execute_result"
    }
   ],
   "source": [
    "%%time\n",
    "mac_catboost = CatBoostClassifier(iterations = 10000,\n",
    "                                #depth=10,\n",
    "                                #learning_rate = 0.5,\n",
    "                                random_seed = RANDOM_SEED,\n",
    "                                # eval_metric='Accuracy',\n",
    "                                # custom_metric=['F1'],\n",
    "                                eval_metric='Precision',\n",
    "                                custom_metric=['F1'],\n",
    "                                # od_wait=3000,\n",
    "                                task_type='GPU')\n",
    "\n",
    "mac_catboost.fit(X_train, y_train,\n",
    "                eval_set=(X_val, y_val),\n",
    "                verbose_eval=1000,\n",
    "                use_best_model=True)"
   ]
  },
  {
   "cell_type": "code",
   "execution_count": 33,
   "metadata": {},
   "outputs": [
    {
     "data": {
      "text/plain": [
       "(72403,)"
      ]
     },
     "execution_count": 33,
     "metadata": {},
     "output_type": "execute_result"
    }
   ],
   "source": [
    "# THRESHOLD = 0.35\n",
    "# y_pred_proba = mac_catboost.predict_proba(X_val)\n",
    "# y_pred_raw = (y_pred_proba[:,1] > THRESHOLD).astype('int')\n",
    "y_pred_raw = mac_catboost.predict(X_val)\n",
    "y_pred_raw.shape"
   ]
  },
  {
   "cell_type": "code",
   "execution_count": 34,
   "metadata": {},
   "outputs": [
    {
     "data": {
      "text/plain": [
       "(0.8554756018397027, 0.7108593534125449)"
      ]
     },
     "execution_count": 34,
     "metadata": {},
     "output_type": "execute_result"
    }
   ],
   "source": [
    "accuracy_score(y_pred_raw, y_val), f1_score(y_pred_raw, y_val)"
   ]
  },
  {
   "cell_type": "code",
   "execution_count": 35,
   "metadata": {},
   "outputs": [],
   "source": [
    "# for i in range(1, 20):\n",
    "#     threshold = i / 20.0\n",
    "#     y_pred_proba = mac_catboost.predict_proba(X_val)\n",
    "#     #y_pred_raw = mac_catboost.predict(X_val)\n",
    "#     y_pred_raw = (y_pred_proba[:,1] > threshold).astype('int')\n",
    "#     print(threshold, accuracy_score(y_pred_raw, y_val), f1_score(y_pred_raw, y_val))"
   ]
  },
  {
   "cell_type": "code",
   "execution_count": 37,
   "metadata": {},
   "outputs": [],
   "source": [
    "y_pred_proba = mac_catboost.predict_proba(X_val)\n",
    "y_pred_pd = pd.Series(data=y_pred_raw, index=X_val.index)\n",
    "y_pred_proba_pd = pd.Series(data=y_pred_proba[:,1], index=X_val.index)"
   ]
  },
  {
   "cell_type": "code",
   "execution_count": 38,
   "metadata": {},
   "outputs": [
    {
     "data": {
      "text/plain": [
       "<AxesSubplot:ylabel='Count'>"
      ]
     },
     "execution_count": 38,
     "metadata": {},
     "output_type": "execute_result"
    },
    {
     "data": {
      "image/png": "[encoded data removed]",
      "text/plain": [
       "<Figure size 1080x360 with 1 Axes>"
      ]
     },
     "metadata": {
      "needs_background": "light"
     },
     "output_type": "display_data"
    }
   ],
   "source": [
    "sns.histplot(y_pred_proba_pd[y_val != y_pred_pd])"
   ]
  },
  {
   "cell_type": "code",
   "execution_count": 39,
   "metadata": {},
   "outputs": [
    {
     "data": {
      "text/plain": [
       "macd_bin             58.193536\n",
       "macd                 24.206161\n",
       "close_by_ma_long      1.461413\n",
       "WILLR_short           1.432364\n",
       "macd_bin_1            1.380275\n",
       "RSI_long              1.260242\n",
       "RSI_short             0.914550\n",
       "std_short             0.892230\n",
       "close_by_ma_short     0.887780\n",
       "open_by_ma_long       0.677941\n",
       "dtype: float64"
      ]
     },
     "execution_count": 39,
     "metadata": {},
     "output_type": "execute_result"
    }
   ],
   "source": [
    "feat_imp = pd.Series(data=mac_catboost.feature_importances_, index=X_train.columns)\n",
    "feat_imp.sort_values(ascending=False).head(10)"
   ]
  },
  {
   "cell_type": "code",
   "execution_count": 41,
   "metadata": {},
   "outputs": [],
   "source": [
    "def validate_strategy(strategy, X_val, y_val, predictor, shift=1):\n",
    "    print('Original strategy on validation data:')\n",
    "    res_orig = strategy.run(X_val)\n",
    "    res_orig.summary()\n",
    "    print()\n",
    "    print('Ideal footprint (y_val):')\n",
    "    res_val = SignalStrategy(y_val, shift=shift).run(X_val)\n",
    "    res_val.summary()\n",
    "    print()\n",
    "    print('Prediction footprint:')\n",
    "    res_pred = SignalStrategy(predictor, shift=shift).run(X_val)\n",
    "    res_pred.summary()\n",
    "    \n",
    "    return (res_orig, res_val, res_pred)"
   ]
  },
  {
   "cell_type": "code",
   "execution_count": 42,
   "metadata": {},
   "outputs": [
    {
     "name": "stdout",
     "output_type": "stream",
     "text": [
      "Original strategy on validation data:\n",
      "Net profit:          -8404.50     Gross profit:       168330.00\n",
      "Raw profit:          -8404.50     Gross loss:        -176734.50\n",
      "Fee paid:                0.00     Max drawdown:        21386.50\n",
      "Trades count:            3253     Profit factor:           0.95\n",
      "Profitable:            33.14%     Recovery factor:        -0.39\n",
      "Losing:                66.86%     Sharpe ratio:          -45.88\n",
      "\n",
      "Ideal footprint (y_val):\n",
      "Net profit:         334462.00     Gross profit:       334505.50\n",
      "Raw profit:         334462.00     Gross loss:            -43.50\n",
      "Fee paid:                0.00     Max drawdown:          523.00\n",
      "Trades count:            1715     Profit factor:        7689.78\n",
      "Profitable:            99.42%     Recovery factor:       639.51\n",
      "Losing:                 0.58%     Sharpe ratio:         1404.53\n",
      "\n",
      "Prediction footprint:\n",
      "Net profit:          21351.00     Gross profit:       173417.50\n",
      "Raw profit:          21351.00     Gross loss:        -152066.50\n",
      "Fee paid:                0.00     Max drawdown:         5382.00\n",
      "Trades count:            5296     Profit factor:           1.14\n",
      "Profitable:            34.69%     Recovery factor:         3.97\n",
      "Losing:                65.31%     Sharpe ratio:          197.93\n"
     ]
    }
   ],
   "source": [
    "mac_orig_res, mac_val_res, mac_pred_res = validate_strategy(MACrossStrategy(), X_val, y_val, mac_catboost)"
   ]
  },
  {
   "cell_type": "markdown",
   "metadata": {},
   "source": [
    "Сделок больше, поисследуем "
   ]
  },
  {
   "cell_type": "code",
   "execution_count": 43,
   "metadata": {},
   "outputs": [],
   "source": [
    "p0 = mac_pred_res.equity.pos\n",
    "p1 = p0.shift(1)\n",
    "p_1 = p0.shift(-1)\n",
    "p_val = mac_val_res.equity.pos\n",
    "onebar_deal = p0[(p0 != p1) & (p1 == p_1)]"
   ]
  },
  {
   "cell_type": "code",
   "execution_count": 44,
   "metadata": {},
   "outputs": [
    {
     "data": {
      "text/plain": [
       "(2889,\n",
       " 1    1604\n",
       " 0    1285\n",
       " Name: pos, dtype: int64)"
      ]
     },
     "execution_count": 44,
     "metadata": {},
     "output_type": "execute_result"
    }
   ],
   "source": [
    "len(onebar_deal), onebar_deal.value_counts()"
   ]
  },
  {
   "cell_type": "code",
   "execution_count": 45,
   "metadata": {},
   "outputs": [
    {
     "data": {
      "text/plain": [
       "(2016,\n",
       " 1    1018\n",
       " 0     998\n",
       " Name: pos, dtype: int64)"
      ]
     },
     "execution_count": 45,
     "metadata": {},
     "output_type": "execute_result"
    }
   ],
   "source": [
    "one_bar_miss = p0[(p0 != p1) & (p1 == p_1) & (p0 != p_val)]\n",
    "len(one_bar_miss), one_bar_miss.value_counts()"
   ]
  },
  {
   "cell_type": "code",
   "execution_count": 46,
   "metadata": {},
   "outputs": [],
   "source": [
    "val_trades = mac_val_res.trades\n",
    "bars_held_val = val_trades.index_exit - val_trades.index_enter\n",
    "\n",
    "pred_trades = mac_pred_res.trades = mac_pred_res.trades\n",
    "bars_held_pred = pred_trades.index_exit - pred_trades.index_enter"
   ]
  },
  {
   "cell_type": "code",
   "execution_count": 47,
   "metadata": {},
   "outputs": [
    {
     "data": {
      "text/plain": [
       "(-72808.0, 0.0)"
      ]
     },
     "execution_count": 47,
     "metadata": {},
     "output_type": "execute_result"
    }
   ],
   "source": [
    "pred_trades[bars_held_pred == 1].result.sum(), val_trades[bars_held_val == 1].result.sum()"
   ]
  },
  {
   "cell_type": "code",
   "execution_count": 48,
   "metadata": {},
   "outputs": [
    {
     "data": {
      "text/plain": [
       "<AxesSubplot:ylabel='Count'>"
      ]
     },
     "execution_count": 48,
     "metadata": {},
     "output_type": "execute_result"
    },
    {
     "data": {
      "image/png": "[encoded data removed]",
      "text/plain": [
       "<Figure size 1080x360 with 1 Axes>"
      ]
     },
     "metadata": {
      "needs_background": "light"
     },
     "output_type": "display_data"
    }
   ],
   "source": [
    "bins = [x for x in range(11)]\n",
    "sns.histplot(data=bars_held_val, bins=bins, color='r')\n",
    "sns.histplot(data=bars_held_pred, bins=bins, color='g', alpha=0.25)"
   ]
  },
  {
   "cell_type": "code",
   "execution_count": 49,
   "metadata": {},
   "outputs": [
    {
     "data": {
      "text/plain": [
       "<matplotlib.lines.Line2D at 0x7fe38ffa68b0>"
      ]
     },
     "execution_count": 49,
     "metadata": {},
     "output_type": "execute_result"
    },
    {
     "data": {
      "image/png": "[encoded data removed]",
      "text/plain": [
       "<Figure size 1080x360 with 1 Axes>"
      ]
     },
     "metadata": {
      "needs_background": "light"
     },
     "output_type": "display_data"
    }
   ],
   "source": [
    "sns.scatterplot(y=val_trades.result, x=bars_held_val, color='r')\n",
    "sns.scatterplot(y=pred_trades.result, x=bars_held_pred, color='g', alpha=0.25) \\\n",
    "    .axhline(0, color='gray', linestyle='--', alpha=0.5)"
   ]
  },
  {
   "cell_type": "markdown",
   "metadata": {},
   "source": [
    "На графиках видно, что обученная модель хоть и показывает технически лучший результат в плане статистических метрик, но у нее существенный недостаток - большое количество трейдов протяженностью в 1 бар (вход и тут же выход), которые сильно ухудшают футпринт такой стратегии даже без учета проскальзываний и комиссий. В продакшне с этим невозможно бороться, поэтому такой подход нельзя назвать эффективным. Тем не менее, необходимо проверить подход на тестовой выборке"
   ]
  },
  {
   "cell_type": "code",
   "execution_count": 70,
   "metadata": {},
   "outputs": [],
   "source": [
    "data_test = df_mac.drop(columns='time').iloc[TRAIN_SIZE:]"
   ]
  },
  {
   "cell_type": "code",
   "execution_count": 71,
   "metadata": {},
   "outputs": [
    {
     "name": "stdout",
     "output_type": "stream",
     "text": [
      "Net profit:           2371.50     Gross profit:       150447.50\n",
      "Raw profit:           2371.50     Gross loss:        -148076.00\n",
      "Fee paid:                0.00     Max drawdown:        11516.50\n",
      "Trades count:            3649     Profit factor:           1.02\n",
      "Profitable:            37.35%     Recovery factor:         0.21\n",
      "Losing:                62.65%     Sharpe ratio:           18.15\n"
     ]
    }
   ],
   "source": [
    "mac_test_res = MACrossStrategy().run(data_test)\n",
    "mac_test_res.summary()"
   ]
  },
  {
   "cell_type": "code",
   "execution_count": 72,
   "metadata": {},
   "outputs": [
    {
     "name": "stdout",
     "output_type": "stream",
     "text": [
      "Net profit:        -161957.79     Gross profit:       102394.35\n",
      "Raw profit:           2371.50     Gross loss:        -264352.14\n",
      "Fee paid:           164329.29     Max drawdown:        11516.50\n",
      "Trades count:            3649     Profit factor:           0.39\n",
      "Profitable:            22.61%     Recovery factor:       -14.06\n",
      "Losing:                77.39%     Sharpe ratio:        -1238.97\n"
     ]
    }
   ],
   "source": [
    "MACrossStrategy().run(data_test, fee_pct=0.05).summary()"
   ]
  },
  {
   "cell_type": "code",
   "execution_count": 73,
   "metadata": {},
   "outputs": [
    {
     "name": "stdout",
     "output_type": "stream",
     "text": [
      "Net profit:          17735.50     Gross profit:       158536.00\n",
      "Raw profit:          17735.50     Gross loss:        -140800.50\n",
      "Fee paid:                0.00     Max drawdown:         2930.50\n",
      "Trades count:            6212     Profit factor:           1.13\n",
      "Profitable:            34.82%     Recovery factor:         6.05\n",
      "Losing:                65.18%     Sharpe ratio:          218.22\n"
     ]
    }
   ],
   "source": [
    "mac_test_sig_res2 = SignalStrategy(mac_catboost, shift=1).run(data_test)\n",
    "mac_test_sig_res2.summary()"
   ]
  },
  {
   "cell_type": "code",
   "execution_count": 74,
   "metadata": {},
   "outputs": [
    {
     "name": "stdout",
     "output_type": "stream",
     "text": [
      "Net profit:        -263095.96     Gross profit:        90445.33\n",
      "Raw profit:          17735.50     Gross loss:        -353541.30\n",
      "Fee paid:           280831.46     Max drawdown:         2930.50\n",
      "Trades count:            6212     Profit factor:           0.26\n",
      "Profitable:            16.84%     Recovery factor:       -89.78\n",
      "Losing:                83.16%     Sharpe ratio:        -3229.49\n"
     ]
    }
   ],
   "source": [
    "SignalStrategy(mac_catboost, shift=1).run(data_test, fee_pct=0.05).summary()"
   ]
  },
  {
   "cell_type": "markdown",
   "metadata": {},
   "source": [
    "### XGBoost"
   ]
  },
  {
   "cell_type": "code",
   "execution_count": 66,
   "metadata": {},
   "outputs": [],
   "source": [
    "mac_xgboost = XGBClassifier(n_estimators=500,\n",
    "                            tree_method='gpu_hist', \n",
    "                            gpu_id=0,\n",
    "                            random_state=RANDOM_SEED)"
   ]
  },
  {
   "cell_type": "code",
   "execution_count": 67,
   "metadata": {},
   "outputs": [
    {
     "name": "stdout",
     "output_type": "stream",
     "text": [
      "CPU times: user 35.5 s, sys: 175 ms, total: 35.7 s\n",
      "Wall time: 31.9 s\n"
     ]
    },
    {
     "data": {
      "text/plain": [
       "XGBClassifier(base_score=0.5, booster='gbtree', colsample_bylevel=1,\n",
       "              colsample_bynode=1, colsample_bytree=1, enable_categorical=False,\n",
       "              gamma=0, gpu_id=0, importance_type=None,\n",
       "              interaction_constraints='', learning_rate=0.300000012,\n",
       "              max_delta_step=0, max_depth=6, min_child_weight=1, missing=nan,\n",
       "              monotone_constraints='()', n_estimators=500, n_jobs=32,\n",
       "              num_parallel_tree=1, predictor='auto', random_state=73,\n",
       "              reg_alpha=0, reg_lambda=1, scale_pos_weight=1, subsample=1,\n",
       "              tree_method='gpu_hist', validate_parameters=1, verbosity=None)"
      ]
     },
     "execution_count": 67,
     "metadata": {},
     "output_type": "execute_result"
    }
   ],
   "source": [
    "%%time\n",
    "mac_xgboost.fit(X_train, y_train,\n",
    "                eval_set=[(X_val, y_val)],\n",
    "                eval_metric='logloss',\n",
    "                verbose=False)"
   ]
  },
  {
   "cell_type": "code",
   "execution_count": 68,
   "metadata": {},
   "outputs": [
    {
     "data": {
      "text/plain": [
       "macd_bin              0.886560\n",
       "WILLR_short           0.023765\n",
       "close_by_ma_long      0.005897\n",
       "macd_bin_1            0.004331\n",
       "close_by_ma_short     0.004251\n",
       "WILLR_long            0.001708\n",
       "RSI_short             0.001565\n",
       "CDLCLOSINGMARUBOZU    0.001291\n",
       "avg                   0.001266\n",
       "high_short            0.001133\n",
       "dtype: float32"
      ]
     },
     "execution_count": 68,
     "metadata": {},
     "output_type": "execute_result"
    }
   ],
   "source": [
    "feat_imp_xg = pd.Series(data=mac_xgboost.feature_importances_, index=X_train.columns)\n",
    "feat_imp_xg.sort_values(ascending=False).head(10)"
   ]
  },
  {
   "cell_type": "code",
   "execution_count": 77,
   "metadata": {},
   "outputs": [
    {
     "name": "stderr",
     "output_type": "stream",
     "text": [
      "/opt/miniforge3/lib/python3.9/site-packages/xgboost/data.py:262: FutureWarning: pandas.Int64Index is deprecated and will be removed from pandas in a future version. Use pandas.Index with the appropriate dtype instead.\n",
      "  elif isinstance(data.columns, (pd.Int64Index, pd.RangeIndex)):\n"
     ]
    },
    {
     "name": "stdout",
     "output_type": "stream",
     "text": [
      "Net profit:          15864.00     Gross profit:       157401.50\n",
      "Raw profit:          15864.00     Gross loss:        -141537.50\n",
      "Fee paid:                0.00     Max drawdown:         3313.00\n",
      "Trades count:            6664     Profit factor:           1.11\n",
      "Profitable:            38.18%     Recovery factor:         4.79\n",
      "Losing:                61.82%     Sharpe ratio:          211.56\n"
     ]
    }
   ],
   "source": [
    "xgb_test_sig_res2 = SignalStrategy(mac_xgboost, shift=1).run(data_test)\n",
    "xgb_test_sig_res2.summary()"
   ]
  },
  {
   "cell_type": "code",
   "execution_count": 81,
   "metadata": {},
   "outputs": [
    {
     "name": "stderr",
     "output_type": "stream",
     "text": [
      "/opt/miniforge3/lib/python3.9/site-packages/xgboost/data.py:262: FutureWarning: pandas.Int64Index is deprecated and will be removed from pandas in a future version. Use pandas.Index with the appropriate dtype instead.\n",
      "  elif isinstance(data.columns, (pd.Int64Index, pd.RangeIndex)):\n"
     ]
    },
    {
     "data": {
      "text/plain": [
       "array([1, 0, 1, ..., 0, 0, 0])"
      ]
     },
     "execution_count": 81,
     "metadata": {},
     "output_type": "execute_result"
    }
   ],
   "source": [
    "y_pred_comb = mac_catboost.predict(data_test) | mac_xgboost.predict(data_test)\n",
    "y_pred_comb"
   ]
  },
  {
   "cell_type": "code",
   "execution_count": 82,
   "metadata": {},
   "outputs": [
    {
     "name": "stdout",
     "output_type": "stream",
     "text": [
      "Net profit:          21088.50     Gross profit:       164805.00\n",
      "Raw profit:          21088.50     Gross loss:        -143716.50\n",
      "Fee paid:                0.00     Max drawdown:         2929.00\n",
      "Trades count:            6093     Profit factor:           1.15\n",
      "Profitable:            36.01%     Recovery factor:         7.20\n",
      "Losing:                63.99%     Sharpe ratio:          246.09\n"
     ]
    }
   ],
   "source": [
    "comb_test_res = SignalStrategy(y_pred_comb, shift=1).run(data_test)\n",
    "comb_test_res.summary()"
   ]
  },
  {
   "cell_type": "markdown",
   "metadata": {},
   "source": [
    "## DL"
   ]
  },
  {
   "cell_type": "code",
   "execution_count": 183,
   "metadata": {},
   "outputs": [],
   "source": [
    "from tensorflow.keras.utils import Sequence\n",
    "\n",
    "class WindowGenerator(Sequence):\n",
    "    def __init__(self, X, y, window_size, batch_size, start=None, end=None):\n",
    "        # get shapes and ranges\n",
    "        self.n_samples, self.n_features = X.shape        \n",
    "        self.window_size = window_size\n",
    "        self.batch_size = batch_size if batch_size > 0 else self.n_samples\n",
    "        self.start_idx = max(window_size, (start if start != None else 0))\n",
    "        self.end_idx = min(self.n_samples, (end if end != None else self.n_samples))\n",
    "        # get datasets\n",
    "        self.X = X\n",
    "        if isinstance(X, pd.DataFrame) or isinstance(X, pd.Series):\n",
    "            self.get_x = self.__get_x_pandas\n",
    "            self.index_x = X.index[self.start_idx:self.end_idx]\n",
    "        elif isinstance(X, np.ndarray):\n",
    "            self.get_x = self.__get_x_numpy\n",
    "            self.index_x = None\n",
    "        else:\n",
    "            raise Exception('Not supported X type')\n",
    "            \n",
    "        self.y = y\n",
    "        if isinstance(y, pd.Series):\n",
    "            self.get_y = self.__get_y_pandas\n",
    "            self.index_y = y.index[self.start_idx:self.end_idx]\n",
    "        elif isinstance(y, np.ndarray):\n",
    "            self.get_y = self.__get_y_numpy\n",
    "            self.index_y = None\n",
    "        else:\n",
    "            self.get_y = self.__get_y_zero\n",
    "            self.index_y = None\n",
    "            \n",
    "    \n",
    "    def get_index(self):\n",
    "        return self.index_y if self.index_x is None else self.index_x\n",
    "    \n",
    "    \n",
    "    def __len__(self):\n",
    "        return int(np.ceil((self.end_idx - self.start_idx) / self.batch_size))\n",
    "    \n",
    "    \n",
    "    \n",
    "    def __getitem__(self, idx):\n",
    "        start = (idx * self.batch_size) + self.start_idx\n",
    "        end = min(start + self.batch_size, self.end_idx) \n",
    "        batch_size = end - start\n",
    "        X_batch = np.reshape(self.get_x(start, end), (batch_size, self.window_size, self.n_features))\n",
    "        y_batch = self.get_y(start, end)\n",
    "        return X_batch, y_batch\n",
    "    \n",
    "    \n",
    "    def __get_x_pandas(self, start, end):\n",
    "        return [self.X.iloc[i - self.window_size:i].to_numpy('float32') for i in range(start, end)]\n",
    "    \n",
    "    \n",
    "    def __get_x_numpy(self, start, end):\n",
    "        return [self.X[i - self.window_size:i,:] for i in range(start, end)]\n",
    "    \n",
    "    \n",
    "    def __get_y_pandas(self, start, end):\n",
    "        return self.y.iloc[start:end].to_numpy('float32')\n",
    "    \n",
    "    \n",
    "    def __get_y_numpy(self, start, end):\n",
    "        return self.y[start:end]\n",
    "    \n",
    "    \n",
    "    def __get_y_zero(self, start, end):\n",
    "        return np.zeros(end-start)\n",
    "    \n",
    "    "
   ]
  },
  {
   "cell_type": "code",
   "execution_count": 65,
   "metadata": {},
   "outputs": [],
   "source": [
    "WINDOW_SIZE = MA_PERIOD_LONG + MA_PERIOD_SHORT\n",
    "BATCH_SIZE = 1024"
   ]
  },
  {
   "cell_type": "code",
   "execution_count": 66,
   "metadata": {},
   "outputs": [],
   "source": [
    "from sklearn.preprocessing import MinMaxScaler, RobustScaler, StandardScaler"
   ]
  },
  {
   "cell_type": "code",
   "execution_count": 185,
   "metadata": {},
   "outputs": [],
   "source": [
    "train_end = int(TRAIN_SIZE * (1.0 - TEST_FRAC))\n",
    "val_end = TRAIN_SIZE\n",
    "\n",
    "scaler = MinMaxScaler()\n",
    "\n",
    "# X = df_mac.drop(columns='time')\n",
    "X = scaler.fit_transform(df_mac.drop(columns='time'))\n",
    "# y defined above\n",
    "\n",
    "input_shape = (WINDOW_SIZE, X.shape[1])\n",
    "\n",
    "train_gen = WindowGenerator(X, y, WINDOW_SIZE, BATCH_SIZE, end=train_end)\n",
    "val_gen = WindowGenerator(X, y, WINDOW_SIZE, BATCH_SIZE, start=train_end, end=TRAIN_SIZE)\n",
    "test_gen = WindowGenerator(X, None, WINDOW_SIZE, BATCH_SIZE, start=TRAIN_SIZE)"
   ]
  },
  {
   "cell_type": "code",
   "execution_count": 196,
   "metadata": {},
   "outputs": [
    {
     "name": "stdout",
     "output_type": "stream",
     "text": [
      "WARNING:tensorflow:Layer lstm_3 will not use cuDNN kernels since it doesn't meet the criteria. It will use a generic GPU kernel as fallback when running on GPU.\n",
      "Model: \"sequential_3\"\n",
      "_________________________________________________________________\n",
      "Layer (type)                 Output Shape              Param #   \n",
      "=================================================================\n",
      "lstm_3 (LSTM)                (None, 256)               329728    \n",
      "_________________________________________________________________\n",
      "dropout_6 (Dropout)          (None, 256)               0         \n",
      "_________________________________________________________________\n",
      "dense_6 (Dense)              (None, 32)                8224      \n",
      "_________________________________________________________________\n",
      "dropout_7 (Dropout)          (None, 32)                0         \n",
      "_________________________________________________________________\n",
      "dense_7 (Dense)              (None, 1)                 33        \n",
      "=================================================================\n",
      "Total params: 337,985\n",
      "Trainable params: 337,985\n",
      "Non-trainable params: 0\n",
      "_________________________________________________________________\n"
     ]
    }
   ],
   "source": [
    "mac_lstm1 = Sequential()\n",
    "mac_lstm1.add(LSTM(256, input_shape=input_shape, activation=\"relu\"))\n",
    "mac_lstm1.add(Dropout(0.5))\n",
    "mac_lstm1.add(Dense(32, activation=\"relu\"))\n",
    "mac_lstm1.add(Dropout(0.25))\n",
    "mac_lstm1.add(Dense(1, activation=\"sigmoid\"))\n",
    "mac_lstm1.summary()"
   ]
  },
  {
   "cell_type": "code",
   "execution_count": 197,
   "metadata": {},
   "outputs": [],
   "source": [
    "metrics = [\n",
    "    'binary_accuracy',\n",
    "    Precision(name='precision'), \n",
    "    Recall(name='recall'), \n",
    "    Accuracy(name='accuracy')\n",
    "]\n",
    "mac_lstm1.compile(loss='binary_crossentropy',\n",
    "                  optimizer=tf.optimizers.Adam(learning_rate=1e-2),\n",
    "                  metrics=metrics)\n",
    "                  # metrics='accuracy')"
   ]
  },
  {
   "cell_type": "code",
   "execution_count": 198,
   "metadata": {},
   "outputs": [],
   "source": [
    "checkpoint = ModelCheckpoint('./save/mac_lstm1.hdf5', \n",
    "                             monitor='val_precision', \n",
    "                             verbose=0,\n",
    "                             mode='max', \n",
    "                             save_best_only=True)\n",
    "earlystop = EarlyStopping(monitor='val_precision', \n",
    "                          patience=10, \n",
    "                          mode='max',\n",
    "                          restore_best_weights=True)\n",
    "reduce_lr = ReduceLROnPlateau(monitor='val_precision', \n",
    "                              factor=0.1, \n",
    "                              mode='max',\n",
    "                              patience=5, \n",
    "                              min_lr=0.0001)\n",
    "callbacks_list = [checkpoint, earlystop, reduce_lr]"
   ]
  },
  {
   "cell_type": "code",
   "execution_count": 199,
   "metadata": {},
   "outputs": [
    {
     "name": "stdout",
     "output_type": "stream",
     "text": [
      "Epoch 1/100\n",
      "401/401 [==============================] - 22s 53ms/step - loss: 0.7570 - binary_accuracy: 0.7777 - precision: 0.5769 - recall: 0.3915 - accuracy: 0.0020 - val_loss: 0.3480 - val_binary_accuracy: 0.7997 - val_precision: 0.6368 - val_recall: 0.4153 - val_accuracy: 0.0000e+00\n",
      "Epoch 2/100\n",
      "401/401 [==============================] - 21s 52ms/step - loss: 0.3640 - binary_accuracy: 0.7996 - precision: 0.5982 - recall: 0.5873 - accuracy: 2.4375e-06 - val_loss: 0.3671 - val_binary_accuracy: 0.7740 - val_precision: 0.6560 - val_recall: 0.1539 - val_accuracy: 0.0000e+00\n",
      "Epoch 3/100\n",
      "401/401 [==============================] - 21s 52ms/step - loss: 0.3589 - binary_accuracy: 0.8019 - precision: 0.5992 - recall: 0.6104 - accuracy: 1.2187e-05 - val_loss: 0.3416 - val_binary_accuracy: 0.8068 - val_precision: 0.6373 - val_recall: 0.4820 - val_accuracy: 0.0000e+00\n",
      "Epoch 4/100\n",
      "401/401 [==============================] - 21s 52ms/step - loss: 0.3572 - binary_accuracy: 0.8041 - precision: 0.6018 - recall: 0.6229 - accuracy: 1.9500e-05 - val_loss: 0.3460 - val_binary_accuracy: 0.8068 - val_precision: 0.6381 - val_recall: 0.4794 - val_accuracy: 0.0000e+00\n",
      "Epoch 5/100\n",
      "401/401 [==============================] - 21s 52ms/step - loss: 0.3561 - binary_accuracy: 0.8046 - precision: 0.6006 - recall: 0.6359 - accuracy: 9.5061e-05 - val_loss: 0.3426 - val_binary_accuracy: 0.8069 - val_precision: 0.6371 - val_recall: 0.4830 - val_accuracy: 0.0000e+00\n",
      "Epoch 6/100\n",
      "401/401 [==============================] - 21s 52ms/step - loss: 0.4980 - binary_accuracy: 0.7752 - precision: 0.5847 - recall: 0.3266 - accuracy: 6.0937e-04 - val_loss: 0.3953 - val_binary_accuracy: 0.7562 - val_precision: 0.5769 - val_recall: 8.4971e-04 - val_accuracy: 0.0000e+00\n",
      "Epoch 7/100\n",
      "401/401 [==============================] - 21s 52ms/step - loss: 0.4013 - binary_accuracy: 0.7868 - precision: 0.6000 - recall: 0.4231 - accuracy: 0.0000e+00 - val_loss: 0.3643 - val_binary_accuracy: 0.7568 - val_precision: 0.6243 - val_recall: 0.0061 - val_accuracy: 0.0000e+00\n",
      "Epoch 8/100\n",
      "401/401 [==============================] - 21s 52ms/step - loss: 0.3874 - binary_accuracy: 0.7923 - precision: 0.6017 - recall: 0.4828 - accuracy: 0.0000e+00 - val_loss: 0.3576 - val_binary_accuracy: 0.7593 - val_precision: 0.6944 - val_recall: 0.0232 - val_accuracy: 0.0000e+00\n",
      "Epoch 9/100\n",
      "401/401 [==============================] - 21s 52ms/step - loss: 0.3849 - binary_accuracy: 0.7938 - precision: 0.6030 - recall: 0.4964 - accuracy: 0.0000e+00 - val_loss: 0.3560 - val_binary_accuracy: 0.7624 - val_precision: 0.6603 - val_recall: 0.0527 - val_accuracy: 0.0000e+00\n",
      "Epoch 10/100\n",
      "401/401 [==============================] - 21s 52ms/step - loss: 0.3848 - binary_accuracy: 0.7941 - precision: 0.6023 - recall: 0.5022 - accuracy: 0.0000e+00 - val_loss: 0.3595 - val_binary_accuracy: 0.7568 - val_precision: 0.6094 - val_recall: 0.0066 - val_accuracy: 0.0000e+00\n",
      "Epoch 11/100\n",
      "401/401 [==============================] - 21s 52ms/step - loss: 0.3839 - binary_accuracy: 0.7947 - precision: 0.6021 - recall: 0.5103 - accuracy: 0.0000e+00 - val_loss: 0.3584 - val_binary_accuracy: 0.7567 - val_precision: 0.6136 - val_recall: 0.0061 - val_accuracy: 0.0000e+00\n",
      "Epoch 12/100\n",
      "401/401 [==============================] - 21s 52ms/step - loss: 0.3831 - binary_accuracy: 0.7952 - precision: 0.6031 - recall: 0.5114 - accuracy: 0.0000e+00 - val_loss: 0.3566 - val_binary_accuracy: 0.7677 - val_precision: 0.6532 - val_recall: 0.1011 - val_accuracy: 0.0000e+00\n",
      "Epoch 13/100\n",
      "401/401 [==============================] - 21s 52ms/step - loss: 0.3833 - binary_accuracy: 0.7951 - precision: 0.6023 - recall: 0.5145 - accuracy: 0.0000e+00 - val_loss: 0.3588 - val_binary_accuracy: 0.7644 - val_precision: 0.6684 - val_recall: 0.0666 - val_accuracy: 0.0000e+00\n",
      "Epoch 14/100\n",
      "401/401 [==============================] - 21s 52ms/step - loss: 0.3812 - binary_accuracy: 0.7960 - precision: 0.6025 - recall: 0.5242 - accuracy: 0.0000e+00 - val_loss: 0.3561 - val_binary_accuracy: 0.7611 - val_precision: 0.6664 - val_recall: 0.0402 - val_accuracy: 0.0000e+00\n",
      "Epoch 15/100\n",
      "401/401 [==============================] - 21s 52ms/step - loss: 0.3815 - binary_accuracy: 0.7964 - precision: 0.6030 - recall: 0.5269 - accuracy: 0.0000e+00 - val_loss: 0.3562 - val_binary_accuracy: 0.7616 - val_precision: 0.6696 - val_recall: 0.0436 - val_accuracy: 0.0000e+00\n",
      "Epoch 16/100\n",
      "401/401 [==============================] - 21s 52ms/step - loss: 0.3820 - binary_accuracy: 0.7960 - precision: 0.6023 - recall: 0.5250 - accuracy: 0.0000e+00 - val_loss: 0.3564 - val_binary_accuracy: 0.7599 - val_precision: 0.6638 - val_recall: 0.0311 - val_accuracy: 0.0000e+00\n",
      "Epoch 17/100\n",
      "401/401 [==============================] - 21s 52ms/step - loss: 0.3797 - binary_accuracy: 0.7963 - precision: 0.6029 - recall: 0.5259 - accuracy: 0.0000e+00 - val_loss: 0.3544 - val_binary_accuracy: 0.7629 - val_precision: 0.6787 - val_recall: 0.0524 - val_accuracy: 0.0000e+00\n",
      "Epoch 18/100\n",
      "401/401 [==============================] - 21s 52ms/step - loss: 0.3772 - binary_accuracy: 0.7966 - precision: 0.6031 - recall: 0.5291 - accuracy: 0.0000e+00 - val_loss: 0.3545 - val_binary_accuracy: 0.7593 - val_precision: 0.6614 - val_recall: 0.0259 - val_accuracy: 0.0000e+00\n",
      "CPU times: user 7min 50s, sys: 23.8 s, total: 8min 14s\n",
      "Wall time: 6min 18s\n"
     ]
    }
   ],
   "source": [
    "%%time\n",
    "history = mac_lstm1.fit(train_gen,\n",
    "                        steps_per_epoch = len(train_gen),\n",
    "                        validation_data = val_gen, \n",
    "                        validation_steps = len(val_gen),\n",
    "                        epochs = 100,\n",
    "                        callbacks = callbacks_list,\n",
    "                        verbose=1\n",
    "                        )"
   ]
  },
  {
   "cell_type": "code",
   "execution_count": 200,
   "metadata": {},
   "outputs": [],
   "source": [
    "mac_lstm1.load_weights('./save/mac_lstm1.hdf5')"
   ]
  },
  {
   "cell_type": "code",
   "execution_count": 201,
   "metadata": {},
   "outputs": [],
   "source": [
    "y_pred_val = (pd.Series(mac_lstm1.predict(val_gen)[:,0], val_gen.get_index()) > 0.5).astype('int')"
   ]
  },
  {
   "cell_type": "code",
   "execution_count": 202,
   "metadata": {},
   "outputs": [
    {
     "data": {
      "text/plain": [
       "0    71814\n",
       "1      589\n",
       "dtype: int64"
      ]
     },
     "execution_count": 202,
     "metadata": {},
     "output_type": "execute_result"
    }
   ],
   "source": [
    "y_pred_val.value_counts()"
   ]
  },
  {
   "cell_type": "code",
   "execution_count": 203,
   "metadata": {},
   "outputs": [
    {
     "data": {
      "text/plain": [
       "(0.04484157438877317, 0.023168866481617856)"
      ]
     },
     "execution_count": 203,
     "metadata": {},
     "output_type": "execute_result"
    }
   ],
   "source": [
    "y_val = y.loc[y_pred_val.index]\n",
    "f1_score(y_pred_val, y_val), precision_score(y_pred_val, y_val)"
   ]
  },
  {
   "cell_type": "code",
   "execution_count": 204,
   "metadata": {},
   "outputs": [],
   "source": [
    "data_val = df_mac.loc[val_gen.get_index()]"
   ]
  },
  {
   "cell_type": "code",
   "execution_count": 205,
   "metadata": {},
   "outputs": [
    {
     "name": "stdout",
     "output_type": "stream",
     "text": [
      "Original strategy on validation data:\n",
      "Net profit:          -8404.50     Gross profit:       168330.00\n",
      "Raw profit:          -8404.50     Gross loss:        -176734.50\n",
      "Fee paid:                0.00     Max drawdown:        21386.50\n",
      "Trades count:            3253     Profit factor:           0.95\n",
      "Profitable:            33.14%     Recovery factor:        -0.39\n",
      "Losing:                66.86%     Sharpe ratio:          -45.88\n",
      "\n",
      "Ideal footprint (y_val):\n",
      "Net profit:         334462.00     Gross profit:       334505.50\n",
      "Raw profit:         334462.00     Gross loss:            -43.50\n",
      "Fee paid:                0.00     Max drawdown:          523.00\n",
      "Trades count:            1715     Profit factor:        7689.78\n",
      "Profitable:            99.42%     Recovery factor:       639.51\n",
      "Losing:                 0.58%     Sharpe ratio:         1404.53\n",
      "\n",
      "Prediction footprint:\n",
      "Net profit:           -493.00     Gross profit:        12864.00\n",
      "Raw profit:           -493.00     Gross loss:         -13357.00\n",
      "Fee paid:                0.00     Max drawdown:         1417.00\n",
      "Trades count:             514     Profit factor:           0.96\n",
      "Profitable:            45.91%     Recovery factor:        -0.35\n",
      "Losing:                54.09%     Sharpe ratio:           -6.60\n"
     ]
    },
    {
     "data": {
      "text/plain": [
       "(<backtest.StrategyResult at 0x7f3a3f93e070>,\n",
       " <backtest.StrategyResult at 0x7f3e3761d1c0>,\n",
       " <backtest.StrategyResult at 0x7f3e37620cd0>)"
      ]
     },
     "execution_count": 205,
     "metadata": {},
     "output_type": "execute_result"
    }
   ],
   "source": [
    "validate_strategy(MACrossStrategy(), data_val, y_val, y_pred_val, shift=1)"
   ]
  },
  {
   "cell_type": "code",
   "execution_count": null,
   "metadata": {},
   "outputs": [],
   "source": []
  }
 ],
 "metadata": {
  "interpreter": {
   "hash": "0cdbef4c81a582c199b9aebc51b939e4e7aa94804452b0c70e3059997ef74e01"
  },
  "kernelspec": {
   "display_name": "Python 3 (ipykernel)",
   "language": "python",
   "name": "python3"
  },
  "language_info": {
   "codemirror_mode": {
    "name": "ipython",
    "version": 3
   },
   "file_extension": ".py",
   "mimetype": "text/x-python",
   "name": "python",
   "nbconvert_exporter": "python",
   "pygments_lexer": "ipython3",
   "version": "3.9.10"
  }
 },
 "nbformat": 4,
 "nbformat_minor": 4
}
