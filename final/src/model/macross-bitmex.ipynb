{
 "cells": [
  {
   "cell_type": "code",
   "execution_count": 1,
   "metadata": {},
   "outputs": [],
   "source": [
    "# common\n",
    "import os\n",
    "os.environ['TF_CPP_MIN_LOG_LEVEL'] = '2' # suppress INFO and WARNING\n",
    "\n",
    "import pandas as pd\n",
    "import numpy as np\n",
    "import matplotlib.pyplot as plt\n",
    "import seaborn as sns\n",
    "from sklearn.model_selection import train_test_split\n",
    "from sklearn.metrics import accuracy_score, precision_score, recall_score, f1_score\n",
    "\n",
    "# ML\n",
    "from catboost import CatBoostClassifier, CatBoostRegressor\n",
    "\n",
    "# DL\n",
    "import tensorflow as tf\n",
    "from tensorflow.keras.layers import Dense, Dropout, BatchNormalization, LSTM, GlobalAveragePooling2D, GlobalMaxPooling2D, Flatten\n",
    "from tensorflow.keras.models import Model, Sequential\n",
    "from tensorflow.keras.metrics import Precision, Recall, Accuracy\n",
    "from tensorflow.keras.callbacks import ModelCheckpoint, EarlyStopping, ReduceLROnPlateau\n",
    "\n",
    "# My\n",
    "from backtest import Strategy, SignalStrategy\n",
    "# from window_generator import WindowGenerator\n",
    "\n",
    "# some definitions and settings\n",
    "PRICE_DEC = 1\n",
    "SIZE_DEC = 3\n",
    "TEST_FRAC = 0.15\n",
    "RANDOM_SEED = 73\n",
    "\n",
    "PERIODS = {\n",
    "    'long': 90,\n",
    "    'short': 10\n",
    "}\n",
    "\n",
    "%matplotlib inline\n",
    "plt.rcParams['figure.figsize'] = (15, 5)"
   ]
  },
  {
   "cell_type": "code",
   "execution_count": 2,
   "metadata": {},
   "outputs": [],
   "source": [
    "def mape(y_true, y_pred):\n",
    "    return np.mean(np.abs((y_pred - y_true) / y_true))\n",
    "\n",
    "def round_pred(y_pred, minstep = 0.5):\n",
    "    return np.round(y_pred / minstep) * minstep"
   ]
  },
  {
   "cell_type": "code",
   "execution_count": 3,
   "metadata": {},
   "outputs": [],
   "source": [
    "df = pd.read_csv('../../bars/bitmex-XBTUSD-1min.csv', parse_dates=['time'])\n",
    "df.sort_values('time', ignore_index=True, inplace=True)\n",
    "df.drop_duplicates(subset='time', ignore_index=True, inplace=True)\n",
    "df.hbl = df.hbl.astype('int')\n",
    "df['tod'] = (df.time.dt.hour * 60) + df.time.dt.minute"
   ]
  },
  {
   "cell_type": "code",
   "execution_count": 4,
   "metadata": {},
   "outputs": [
    {
     "name": "stdout",
     "output_type": "stream",
     "text": [
      "<class 'pandas.core.frame.DataFrame'>\n",
      "RangeIndex: 567865 entries, 0 to 567864\n",
      "Data columns (total 19 columns):\n",
      " #   Column      Non-Null Count   Dtype         \n",
      "---  ------      --------------   -----         \n",
      " 0   time        567865 non-null  datetime64[ns]\n",
      " 1   open        567865 non-null  float64       \n",
      " 2   high        567865 non-null  float64       \n",
      " 3   low         567865 non-null  float64       \n",
      " 4   close       567865 non-null  float64       \n",
      " 5   avg         567865 non-null  float64       \n",
      " 6   wavg        567865 non-null  float64       \n",
      " 7   median      567865 non-null  float64       \n",
      " 8   sum_vol     567865 non-null  int64         \n",
      " 9   up_sum_vol  567865 non-null  int64         \n",
      " 10  md_sum_vol  567865 non-null  int64         \n",
      " 11  lo_sum_vol  567865 non-null  int64         \n",
      " 12  net_vol     567865 non-null  int64         \n",
      " 13  up_net_vol  567865 non-null  int64         \n",
      " 14  md_net_vol  567865 non-null  int64         \n",
      " 15  lo_net_vol  567865 non-null  int64         \n",
      " 16  cnt         567865 non-null  int64         \n",
      " 17  hbl         567865 non-null  int64         \n",
      " 18  tod         567865 non-null  int64         \n",
      "dtypes: datetime64[ns](1), float64(7), int64(11)\n",
      "memory usage: 82.3 MB\n"
     ]
    }
   ],
   "source": [
    "df.info()"
   ]
  },
  {
   "cell_type": "markdown",
   "metadata": {},
   "source": [
    "Пропусков в самих данных также нет. \n",
    "Имеем дело со следующими столбцами:\n",
    "\n",
    "| наименование | тип | описание |\n",
    "|--------------|-------|--------|\n",
    "|`time`        | datetime   | время начала периода (бара) |\n",
    "|`open`        | float      | цена первой сделки периода   |    \n",
    "|`high`        | float      | максимальная цена сделки периода |\n",
    "|`low`         | float      | минимальная цена сделки периода   |    \n",
    "|`close`       | float      | цена последней сделки периода |\n",
    "|`avg`         | float      | средняя цена сделок периода |\n",
    "|`wavg`        | float      | средневзвешенная по объему цена сделок периода |\n",
    "|`median`      | float      | медиана цен сделок периода |\n",
    "|`sum_vol`     | float      | сумма объемов сделок периода |\n",
    "|`up_sum_vol`  | float      | сумма объемов сделок в промежутке цен от `high` до `max(open, close)`      |\n",
    "|`md_sum_vol`  | float      | сумма объемов сделок в промежутке цен от `open` до `close`         |\n",
    "|`lo_sum_vol`  | float      | сумма объемов сделок в промежутке цен от `low` до `min(open, close)` |\n",
    "|`net_vol`     | float      | нетто-объем сделок периода (сумма объемов покупок минус сумма объемов продаж) |\n",
    "|`up_net_vol`  | float      | нетто-объемо сделок в промежутке цен от `high` до `max(open, close)`        |\n",
    "|`md_net_vol`  | float      | нетто-объем сделок в промежутке цен от `open` до `close`     |\n",
    "|`lo_net_vol`  | float      | нетто-объемо сделок в промежутке цен от `low` до `min(open, close)`   |      \n",
    "|`cnt`         | int        | количество сделок за период|\n",
    "|`hbl`         | int        | 1, если цена `high` была достигнута раньше, чем цена `low`, иначе 0\n",
    "|`tod`         | int        | `time of day` - время дня в минутах"
   ]
  },
  {
   "cell_type": "markdown",
   "metadata": {},
   "source": [
    "Важный нюанс - perpetual фьючерсы `XBTUSD` и `ETHUSD` на бирже `Bitmex` являются **инверсными**, т.е. единица лота в них не сама криптовалюта, а доллар, а PnL, наоборот, рассчитывается и начисляется в криптовалюте. Это стандартная практика для криптовалютных бирж, которые не могут рассчитывать и начислять PnL в фиате или аналогичных фиату стебл-коинах. В случае `ETHUSD` все еще сложнее, ведь его лот привязан к долларовому выражению `BTC`. Поэтому пока не будем трогать `ETHUSD`, но для `XBTUSD` лоты пересчитаем в единицы криптовалюты, чтобы было: \n",
    "* единообразно по всем биржам в данном проекте\n",
    "* проще для рассчетов PnL в моделях\n",
    "* проще для восприятия"
   ]
  },
  {
   "cell_type": "code",
   "execution_count": 5,
   "metadata": {},
   "outputs": [],
   "source": [
    "for col in df.columns:\n",
    "    if col[-4:] == '_vol':\n",
    "        df[col] = np.round(df[col] / df.close, SIZE_DEC)"
   ]
  },
  {
   "cell_type": "code",
   "execution_count": 6,
   "metadata": {},
   "outputs": [
    {
     "data": {
      "text/html": [
       "<div>\n",
       "<style scoped>\n",
       "    .dataframe tbody tr th:only-of-type {\n",
       "        vertical-align: middle;\n",
       "    }\n",
       "\n",
       "    .dataframe tbody tr th {\n",
       "        vertical-align: top;\n",
       "    }\n",
       "\n",
       "    .dataframe thead th {\n",
       "        text-align: right;\n",
       "    }\n",
       "</style>\n",
       "<table border=\"1\" class=\"dataframe\">\n",
       "  <thead>\n",
       "    <tr style=\"text-align: right;\">\n",
       "      <th></th>\n",
       "      <th>time</th>\n",
       "      <th>open</th>\n",
       "      <th>high</th>\n",
       "      <th>low</th>\n",
       "      <th>close</th>\n",
       "      <th>avg</th>\n",
       "      <th>wavg</th>\n",
       "      <th>median</th>\n",
       "      <th>sum_vol</th>\n",
       "      <th>up_sum_vol</th>\n",
       "      <th>md_sum_vol</th>\n",
       "      <th>lo_sum_vol</th>\n",
       "      <th>net_vol</th>\n",
       "      <th>up_net_vol</th>\n",
       "      <th>md_net_vol</th>\n",
       "      <th>lo_net_vol</th>\n",
       "      <th>cnt</th>\n",
       "      <th>hbl</th>\n",
       "      <th>tod</th>\n",
       "    </tr>\n",
       "  </thead>\n",
       "  <tbody>\n",
       "    <tr>\n",
       "      <th>211274</th>\n",
       "      <td>2021-05-27 18:36:00</td>\n",
       "      <td>39116.0</td>\n",
       "      <td>39116.0</td>\n",
       "      <td>39075.0</td>\n",
       "      <td>39075.5</td>\n",
       "      <td>39093.8</td>\n",
       "      <td>39099.8</td>\n",
       "      <td>39087.5</td>\n",
       "      <td>4.125</td>\n",
       "      <td>0.000</td>\n",
       "      <td>4.123</td>\n",
       "      <td>0.002</td>\n",
       "      <td>-4.124</td>\n",
       "      <td>0.000</td>\n",
       "      <td>-4.122</td>\n",
       "      <td>-0.002</td>\n",
       "      <td>69</td>\n",
       "      <td>1</td>\n",
       "      <td>1116</td>\n",
       "    </tr>\n",
       "    <tr>\n",
       "      <th>544296</th>\n",
       "      <td>2022-01-14 13:57:00</td>\n",
       "      <td>42134.0</td>\n",
       "      <td>42153.5</td>\n",
       "      <td>42134.0</td>\n",
       "      <td>42153.0</td>\n",
       "      <td>42149.1</td>\n",
       "      <td>42148.2</td>\n",
       "      <td>42150.0</td>\n",
       "      <td>4.149</td>\n",
       "      <td>0.121</td>\n",
       "      <td>4.028</td>\n",
       "      <td>0.000</td>\n",
       "      <td>-0.268</td>\n",
       "      <td>0.121</td>\n",
       "      <td>-0.389</td>\n",
       "      <td>0.000</td>\n",
       "      <td>46</td>\n",
       "      <td>0</td>\n",
       "      <td>837</td>\n",
       "    </tr>\n",
       "    <tr>\n",
       "      <th>310073</th>\n",
       "      <td>2021-08-04 13:42:00</td>\n",
       "      <td>39213.0</td>\n",
       "      <td>39213.5</td>\n",
       "      <td>39184.5</td>\n",
       "      <td>39184.5</td>\n",
       "      <td>39195.4</td>\n",
       "      <td>39194.9</td>\n",
       "      <td>39193.0</td>\n",
       "      <td>29.211</td>\n",
       "      <td>0.003</td>\n",
       "      <td>29.208</td>\n",
       "      <td>0.000</td>\n",
       "      <td>-20.416</td>\n",
       "      <td>0.003</td>\n",
       "      <td>-20.419</td>\n",
       "      <td>0.000</td>\n",
       "      <td>121</td>\n",
       "      <td>1</td>\n",
       "      <td>822</td>\n",
       "    </tr>\n",
       "    <tr>\n",
       "      <th>481137</th>\n",
       "      <td>2021-12-01 15:21:00</td>\n",
       "      <td>58553.5</td>\n",
       "      <td>58553.5</td>\n",
       "      <td>58456.5</td>\n",
       "      <td>58458.5</td>\n",
       "      <td>58520.4</td>\n",
       "      <td>58523.3</td>\n",
       "      <td>58534.5</td>\n",
       "      <td>29.486</td>\n",
       "      <td>0.000</td>\n",
       "      <td>29.429</td>\n",
       "      <td>0.056</td>\n",
       "      <td>-26.417</td>\n",
       "      <td>0.000</td>\n",
       "      <td>-26.378</td>\n",
       "      <td>-0.039</td>\n",
       "      <td>264</td>\n",
       "      <td>1</td>\n",
       "      <td>921</td>\n",
       "    </tr>\n",
       "    <tr>\n",
       "      <th>518349</th>\n",
       "      <td>2021-12-27 12:20:00</td>\n",
       "      <td>50600.5</td>\n",
       "      <td>50644.5</td>\n",
       "      <td>50600.5</td>\n",
       "      <td>50640.0</td>\n",
       "      <td>50623.2</td>\n",
       "      <td>50615.0</td>\n",
       "      <td>50626.5</td>\n",
       "      <td>6.414</td>\n",
       "      <td>0.038</td>\n",
       "      <td>6.376</td>\n",
       "      <td>0.000</td>\n",
       "      <td>5.750</td>\n",
       "      <td>0.038</td>\n",
       "      <td>5.713</td>\n",
       "      <td>0.000</td>\n",
       "      <td>96</td>\n",
       "      <td>0</td>\n",
       "      <td>740</td>\n",
       "    </tr>\n",
       "  </tbody>\n",
       "</table>\n",
       "</div>"
      ],
      "text/plain": [
       "                      time     open     high      low    close      avg  \\\n",
       "211274 2021-05-27 18:36:00  39116.0  39116.0  39075.0  39075.5  39093.8   \n",
       "544296 2022-01-14 13:57:00  42134.0  42153.5  42134.0  42153.0  42149.1   \n",
       "310073 2021-08-04 13:42:00  39213.0  39213.5  39184.5  39184.5  39195.4   \n",
       "481137 2021-12-01 15:21:00  58553.5  58553.5  58456.5  58458.5  58520.4   \n",
       "518349 2021-12-27 12:20:00  50600.5  50644.5  50600.5  50640.0  50623.2   \n",
       "\n",
       "           wavg   median  sum_vol  up_sum_vol  md_sum_vol  lo_sum_vol  \\\n",
       "211274  39099.8  39087.5    4.125       0.000       4.123       0.002   \n",
       "544296  42148.2  42150.0    4.149       0.121       4.028       0.000   \n",
       "310073  39194.9  39193.0   29.211       0.003      29.208       0.000   \n",
       "481137  58523.3  58534.5   29.486       0.000      29.429       0.056   \n",
       "518349  50615.0  50626.5    6.414       0.038       6.376       0.000   \n",
       "\n",
       "        net_vol  up_net_vol  md_net_vol  lo_net_vol  cnt  hbl   tod  \n",
       "211274   -4.124       0.000      -4.122      -0.002   69    1  1116  \n",
       "544296   -0.268       0.121      -0.389       0.000   46    0   837  \n",
       "310073  -20.416       0.003     -20.419       0.000  121    1   822  \n",
       "481137  -26.417       0.000     -26.378      -0.039  264    1   921  \n",
       "518349    5.750       0.038       5.713       0.000   96    0   740  "
      ]
     },
     "execution_count": 6,
     "metadata": {},
     "output_type": "execute_result"
    }
   ],
   "source": [
    "df.sample(5)"
   ]
  },
  {
   "cell_type": "code",
   "execution_count": 7,
   "metadata": {},
   "outputs": [],
   "source": [
    "cnt_up = 0\n",
    "cnt_down = 0\n",
    "\n",
    "def count_up_bars(x):\n",
    "    global cnt_up\n",
    "    cnt_up = (cnt_up + 1) if x > 0 else 0\n",
    "    return cnt_up\n",
    "\n",
    "\n",
    "def count_down_bars(x):\n",
    "    global cnt_down\n",
    "    cnt_down = (cnt_down + 1) if x < 0 else 0\n",
    "    return cnt_down"
   ]
  },
  {
   "cell_type": "code",
   "execution_count": 8,
   "metadata": {},
   "outputs": [],
   "source": [
    "prev_close = df.close.shift(1)\n",
    "change_close = (df.close / prev_close) - 1\n",
    "DEFAULT_EPS = 0.002 # 0.2%\n",
    "\n",
    "df['up'] = (change_close > DEFAULT_EPS).astype('int')\n",
    "df['down'] = (change_close < -DEFAULT_EPS).astype('int')\n",
    "df['move'] = df['up'] - df['down']\n",
    "df['up_in_row'] = df['up'].apply(count_up_bars)\n",
    "df['down_in_row'] = df['down'].apply(count_down_bars)\n",
    "df['TR'] = np.maximum(df.high, prev_close) - np.minimum(df.low, prev_close)\n",
    "df.dropna(inplace=True)"
   ]
  },
  {
   "cell_type": "markdown",
   "metadata": {},
   "source": [
    "Добавим еще столбцов:\n",
    "\n",
    "| наименование | тип | описание |\n",
    "|--------------|-------|--------|\n",
    "|`up`          | int      | 1, если цена выросла больше шума, иначе 0 |\n",
    "|`down`        | int      | 1, если цена упала больше шума, иначе 0   |    \n",
    "|`move`        | int      | выросла или упала (`up-down`) |\n",
    "|`up_in_row`   | int      | сколько периодов подряд цена росла   |    \n",
    "|`down_in_row` | int      | сколько периодов подряд цена падала |\n",
    "|`TR`          | int      | _True range_ |"
   ]
  },
  {
   "cell_type": "code",
   "execution_count": 9,
   "metadata": {},
   "outputs": [],
   "source": [
    "def add_moving(data, period, key):\n",
    "    roll = data.rolling(period, min_periods=1)\n",
    "    std = roll.close.std().fillna(0)\n",
    "    min_std = std.quantile(0.25)\n",
    "    data[f'ma_{key}'] = roll.close.mean()\n",
    "    data[f'std_{key}'] = np.maximum(std, min_std)\n",
    "    data[f'ATR_{key}'] = roll.TR.mean()\n",
    "    data[f'high_{key}'] = roll.high.max()\n",
    "    data[f'low_{key}'] = roll.low.min()\n",
    "    data[f'sum_vol_{key}'] = roll.sum_vol.mean()\n",
    "    data[f'net_vol_{key}'] = roll.net_vol.mean()"
   ]
  },
  {
   "cell_type": "markdown",
   "metadata": {},
   "source": [
    "При необходимости можно будет накидывать дополнительные признаки, вычисленные по скользящему окну:\n",
    "\n",
    "| наименование | тип | описание |\n",
    "|--------------|-------|--------|\n",
    "|`ma_***`         | float      | _SMA(close)_, скользящая средняя цен закрытия  |\n",
    "|`std_***`        | float      | стандартное отклоение цен закрытия  |    \n",
    "|`ATR_***`        | float      | _Average True Range_ |\n",
    "|`high_***`       | float      | максимальная цена внутри окна   |    \n",
    "|`low_***`        | float      | минимальная цена внутри окна  |\n",
    "|`sum_vol_***`    | float      | средний объем сделок внутри окна |\n",
    "|`net_vol_***`    | float      | средний нетто-объем сделок внутри окна |"
   ]
  },
  {
   "cell_type": "code",
   "execution_count": 10,
   "metadata": {},
   "outputs": [
    {
     "data": {
      "text/plain": [
       " 0    525809\n",
       " 1     21477\n",
       "-1     20578\n",
       "Name: move, dtype: int64"
      ]
     },
     "execution_count": 10,
     "metadata": {},
     "output_type": "execute_result"
    }
   ],
   "source": [
    "df.move.value_counts()"
   ]
  },
  {
   "cell_type": "code",
   "execution_count": 11,
   "metadata": {},
   "outputs": [
    {
     "data": {
      "text/html": [
       "<div>\n",
       "<style scoped>\n",
       "    .dataframe tbody tr th:only-of-type {\n",
       "        vertical-align: middle;\n",
       "    }\n",
       "\n",
       "    .dataframe tbody tr th {\n",
       "        vertical-align: top;\n",
       "    }\n",
       "\n",
       "    .dataframe thead th {\n",
       "        text-align: right;\n",
       "    }\n",
       "</style>\n",
       "<table border=\"1\" class=\"dataframe\">\n",
       "  <thead>\n",
       "    <tr style=\"text-align: right;\">\n",
       "      <th></th>\n",
       "      <th>time</th>\n",
       "      <th>open</th>\n",
       "      <th>high</th>\n",
       "      <th>low</th>\n",
       "      <th>close</th>\n",
       "      <th>avg</th>\n",
       "      <th>wavg</th>\n",
       "      <th>median</th>\n",
       "      <th>sum_vol</th>\n",
       "      <th>up_sum_vol</th>\n",
       "      <th>...</th>\n",
       "      <th>lo_net_vol</th>\n",
       "      <th>cnt</th>\n",
       "      <th>hbl</th>\n",
       "      <th>tod</th>\n",
       "      <th>up</th>\n",
       "      <th>down</th>\n",
       "      <th>move</th>\n",
       "      <th>up_in_row</th>\n",
       "      <th>down_in_row</th>\n",
       "      <th>TR</th>\n",
       "    </tr>\n",
       "  </thead>\n",
       "  <tbody>\n",
       "    <tr>\n",
       "      <th>567860</th>\n",
       "      <td>2022-01-30 23:55:00</td>\n",
       "      <td>37930.5</td>\n",
       "      <td>37930.5</td>\n",
       "      <td>37918.5</td>\n",
       "      <td>37919.0</td>\n",
       "      <td>37927.2</td>\n",
       "      <td>37927.0</td>\n",
       "      <td>37930.0</td>\n",
       "      <td>5.746</td>\n",
       "      <td>0.000</td>\n",
       "      <td>...</td>\n",
       "      <td>-0.19</td>\n",
       "      <td>34</td>\n",
       "      <td>1</td>\n",
       "      <td>1435</td>\n",
       "      <td>0</td>\n",
       "      <td>0</td>\n",
       "      <td>0</td>\n",
       "      <td>0</td>\n",
       "      <td>0</td>\n",
       "      <td>12.0</td>\n",
       "    </tr>\n",
       "    <tr>\n",
       "      <th>567861</th>\n",
       "      <td>2022-01-30 23:56:00</td>\n",
       "      <td>37918.5</td>\n",
       "      <td>37918.5</td>\n",
       "      <td>37898.0</td>\n",
       "      <td>37898.0</td>\n",
       "      <td>37906.4</td>\n",
       "      <td>37909.3</td>\n",
       "      <td>37903.5</td>\n",
       "      <td>0.617</td>\n",
       "      <td>0.000</td>\n",
       "      <td>...</td>\n",
       "      <td>0.00</td>\n",
       "      <td>10</td>\n",
       "      <td>1</td>\n",
       "      <td>1436</td>\n",
       "      <td>0</td>\n",
       "      <td>0</td>\n",
       "      <td>0</td>\n",
       "      <td>0</td>\n",
       "      <td>0</td>\n",
       "      <td>21.0</td>\n",
       "    </tr>\n",
       "    <tr>\n",
       "      <th>567862</th>\n",
       "      <td>2022-01-30 23:57:00</td>\n",
       "      <td>37897.5</td>\n",
       "      <td>37897.5</td>\n",
       "      <td>37893.0</td>\n",
       "      <td>37893.0</td>\n",
       "      <td>37895.1</td>\n",
       "      <td>37894.9</td>\n",
       "      <td>37893.5</td>\n",
       "      <td>0.699</td>\n",
       "      <td>0.000</td>\n",
       "      <td>...</td>\n",
       "      <td>0.00</td>\n",
       "      <td>17</td>\n",
       "      <td>1</td>\n",
       "      <td>1437</td>\n",
       "      <td>0</td>\n",
       "      <td>0</td>\n",
       "      <td>0</td>\n",
       "      <td>0</td>\n",
       "      <td>0</td>\n",
       "      <td>5.0</td>\n",
       "    </tr>\n",
       "    <tr>\n",
       "      <th>567863</th>\n",
       "      <td>2022-01-30 23:58:00</td>\n",
       "      <td>37893.5</td>\n",
       "      <td>37893.5</td>\n",
       "      <td>37893.0</td>\n",
       "      <td>37893.0</td>\n",
       "      <td>37893.3</td>\n",
       "      <td>37893.3</td>\n",
       "      <td>37893.5</td>\n",
       "      <td>1.093</td>\n",
       "      <td>0.000</td>\n",
       "      <td>...</td>\n",
       "      <td>0.00</td>\n",
       "      <td>7</td>\n",
       "      <td>1</td>\n",
       "      <td>1438</td>\n",
       "      <td>0</td>\n",
       "      <td>0</td>\n",
       "      <td>0</td>\n",
       "      <td>0</td>\n",
       "      <td>0</td>\n",
       "      <td>0.5</td>\n",
       "    </tr>\n",
       "    <tr>\n",
       "      <th>567864</th>\n",
       "      <td>2022-01-30 23:59:00</td>\n",
       "      <td>37893.5</td>\n",
       "      <td>37932.0</td>\n",
       "      <td>37893.5</td>\n",
       "      <td>37893.5</td>\n",
       "      <td>37904.5</td>\n",
       "      <td>37902.1</td>\n",
       "      <td>37893.5</td>\n",
       "      <td>7.455</td>\n",
       "      <td>3.296</td>\n",
       "      <td>...</td>\n",
       "      <td>0.00</td>\n",
       "      <td>73</td>\n",
       "      <td>0</td>\n",
       "      <td>1439</td>\n",
       "      <td>0</td>\n",
       "      <td>0</td>\n",
       "      <td>0</td>\n",
       "      <td>0</td>\n",
       "      <td>0</td>\n",
       "      <td>39.0</td>\n",
       "    </tr>\n",
       "  </tbody>\n",
       "</table>\n",
       "<p>5 rows × 25 columns</p>\n",
       "</div>"
      ],
      "text/plain": [
       "                      time     open     high      low    close      avg  \\\n",
       "567860 2022-01-30 23:55:00  37930.5  37930.5  37918.5  37919.0  37927.2   \n",
       "567861 2022-01-30 23:56:00  37918.5  37918.5  37898.0  37898.0  37906.4   \n",
       "567862 2022-01-30 23:57:00  37897.5  37897.5  37893.0  37893.0  37895.1   \n",
       "567863 2022-01-30 23:58:00  37893.5  37893.5  37893.0  37893.0  37893.3   \n",
       "567864 2022-01-30 23:59:00  37893.5  37932.0  37893.5  37893.5  37904.5   \n",
       "\n",
       "           wavg   median  sum_vol  up_sum_vol  ...  lo_net_vol  cnt  hbl  \\\n",
       "567860  37927.0  37930.0    5.746       0.000  ...       -0.19   34    1   \n",
       "567861  37909.3  37903.5    0.617       0.000  ...        0.00   10    1   \n",
       "567862  37894.9  37893.5    0.699       0.000  ...        0.00   17    1   \n",
       "567863  37893.3  37893.5    1.093       0.000  ...        0.00    7    1   \n",
       "567864  37902.1  37893.5    7.455       3.296  ...        0.00   73    0   \n",
       "\n",
       "         tod  up  down  move  up_in_row  down_in_row    TR  \n",
       "567860  1435   0     0     0          0            0  12.0  \n",
       "567861  1436   0     0     0          0            0  21.0  \n",
       "567862  1437   0     0     0          0            0   5.0  \n",
       "567863  1438   0     0     0          0            0   0.5  \n",
       "567864  1439   0     0     0          0            0  39.0  \n",
       "\n",
       "[5 rows x 25 columns]"
      ]
     },
     "execution_count": 11,
     "metadata": {},
     "output_type": "execute_result"
    }
   ],
   "source": [
    "df.tail(5)"
   ]
  },
  {
   "cell_type": "markdown",
   "metadata": {},
   "source": [
    "## ML models"
   ]
  },
  {
   "cell_type": "code",
   "execution_count": 12,
   "metadata": {},
   "outputs": [],
   "source": [
    "TRAIN_SIZE = int(len(df) * (1.0 - TEST_FRAC))"
   ]
  },
  {
   "cell_type": "code",
   "execution_count": 13,
   "metadata": {},
   "outputs": [],
   "source": [
    "class MACrossStrategy(Strategy):\n",
    "    def __init__(self, cross_type=1):\n",
    "        if cross_type != 1 and cross_type != -1:\n",
    "            raise Exception('`cross_type` should be either `1`(up) or `-1`(down)')\n",
    "        \n",
    "        self.cross_type = cross_type\n",
    "        self.op = self.buy if cross_type == 1 else self.sell\n",
    "        \n",
    "        \n",
    "    def prepare(self, data):\n",
    "        cols = data.columns\n",
    "        if not ('ma_long' in cols):\n",
    "            raise Exception('missing `ma_long` column')\n",
    "            \n",
    "        if not ('ma_short' in cols):\n",
    "            raise Exception('missing `ma_short` column')\n",
    "            \n",
    "        self.cross = (self.cross_type * (data.ma_short - data.ma_long)).shift(1)\n",
    "        # shift is necessary because we can only use it on the next bar\n",
    "\n",
    "        \n",
    "    def next(self, row):\n",
    "        # if prev's bar cross value satisfies out cross_type - make trade at current bar open\n",
    "        if (self.cross[row.name] > 0):\n",
    "            self.op(row, row.open)\n",
    "        else:\n",
    "            # otherwise - close position if present\n",
    "            self.close(row, row.open)"
   ]
  },
  {
   "cell_type": "code",
   "execution_count": 18,
   "metadata": {},
   "outputs": [],
   "source": [
    "MA_PERIOD_LONG = 13\n",
    "MA_PERIOD_SHORT = 5\n",
    "\n",
    "df_mac = df.copy(deep=False)\n",
    "add_moving(df_mac, MA_PERIOD_LONG, 'long')\n",
    "add_moving(df_mac, MA_PERIOD_SHORT, 'short')\n",
    "\n",
    "for col1 in ['open', 'high', 'low', 'close']:\n",
    "    for per in ['long', 'short']:\n",
    "        for col2 in ['ma', 'high', 'low']:\n",
    "            df_mac[f'{col1}_by_{col2}_{per}'] = (df_mac[col1] - df_mac[f'{col2}_{per}']) / df_mac[f'std_{per}']\n",
    "            \n",
    "df_mac['macd'] = (df_mac['ma_short'] - df_mac['ma_long']) / df_mac['std_long']\n",
    "df_mac['macd_bin'] = (df_mac['macd'] > 0).astype('int')\n",
    "df_mac['macd_bin_1'] = df_mac['macd_bin'].shift(1).fillna(0)\n",
    "data_train = df_mac.iloc[:TRAIN_SIZE]"
   ]
  },
  {
   "cell_type": "code",
   "execution_count": 19,
   "metadata": {},
   "outputs": [
    {
     "name": "stdout",
     "output_type": "stream",
     "text": [
      "Net profit:         -13627.50     Gross profit:      1166661.00\n",
      "Raw profit:         -13627.50     Gross loss:       -1180288.50\n",
      "Fee paid:                0.00     Max drawdown:        57012.50\n",
      "Trades count:           21450     Profit factor:           0.99\n",
      "Profitable:            36.20%     Recovery factor:        -0.24\n",
      "Losing:                63.80%     Sharpe ratio:          -73.73\n"
     ]
    }
   ],
   "source": [
    "ma_cross_res = MACrossStrategy().run(data_train)\n",
    "ma_cross_res.summary()"
   ]
  },
  {
   "cell_type": "code",
   "execution_count": 20,
   "metadata": {},
   "outputs": [
    {
     "data": {
      "text/plain": [
       "<AxesSubplot:xlabel='time', ylabel='pnl'>"
      ]
     },
     "execution_count": 20,
     "metadata": {},
     "output_type": "execute_result"
    },
    {
     "data": {
      "image/png": "[encoded data removed]",
      "text/plain": [
       "<Figure size 1080x360 with 1 Axes>"
      ]
     },
     "metadata": {
      "needs_background": "light"
     },
     "output_type": "display_data"
    }
   ],
   "source": [
    "sns.lineplot(y=ma_cross_res.equity.pnl, x=data_train.time)"
   ]
  },
  {
   "cell_type": "code",
   "execution_count": 21,
   "metadata": {},
   "outputs": [
    {
     "data": {
      "text/plain": [
       "<AxesSubplot:xlabel='time', ylabel='pnl_open'>"
      ]
     },
     "execution_count": 21,
     "metadata": {},
     "output_type": "execute_result"
    },
    {
     "data": {
      "image/png": "[encoded data removed]",
      "text/plain": [
       "<Figure size 1080x360 with 1 Axes>"
      ]
     },
     "metadata": {
      "needs_background": "light"
     },
     "output_type": "display_data"
    }
   ],
   "source": [
    "sns.lineplot(y=ma_cross_res.equity.pnl_open, x=data_train.time, color='r')\n",
    "sns.lineplot(y=ma_cross_res.equity.pnl_open_max, x=data_train.time, color='g', alpha=0.15)"
   ]
  },
  {
   "cell_type": "code",
   "execution_count": 22,
   "metadata": {},
   "outputs": [],
   "source": [
    "trades = ma_cross_res.trades\n",
    "equity = ma_cross_res.equity\n",
    "fix_pos = ma_cross_res.best_pos(min_bars_held=2)"
   ]
  },
  {
   "cell_type": "code",
   "execution_count": 23,
   "metadata": {},
   "outputs": [
    {
     "data": {
      "text/html": [
       "<div>\n",
       "<style scoped>\n",
       "    .dataframe tbody tr th:only-of-type {\n",
       "        vertical-align: middle;\n",
       "    }\n",
       "\n",
       "    .dataframe tbody tr th {\n",
       "        vertical-align: top;\n",
       "    }\n",
       "\n",
       "    .dataframe thead th {\n",
       "        text-align: right;\n",
       "    }\n",
       "</style>\n",
       "<table border=\"1\" class=\"dataframe\">\n",
       "  <thead>\n",
       "    <tr style=\"text-align: right;\">\n",
       "      <th></th>\n",
       "      <th>pos</th>\n",
       "      <th>price_enter</th>\n",
       "      <th>price_exit</th>\n",
       "      <th>index_enter</th>\n",
       "      <th>index_exit</th>\n",
       "      <th>index_max</th>\n",
       "      <th>index_min</th>\n",
       "      <th>fee</th>\n",
       "      <th>pnl</th>\n",
       "      <th>pnl_max</th>\n",
       "      <th>pnl_min</th>\n",
       "      <th>result</th>\n",
       "    </tr>\n",
       "  </thead>\n",
       "  <tbody>\n",
       "    <tr>\n",
       "      <th>0</th>\n",
       "      <td>1</td>\n",
       "      <td>28870.0</td>\n",
       "      <td>29359.0</td>\n",
       "      <td>24</td>\n",
       "      <td>84</td>\n",
       "      <td>74</td>\n",
       "      <td>29</td>\n",
       "      <td>0.0</td>\n",
       "      <td>489.0</td>\n",
       "      <td>585.0</td>\n",
       "      <td>-3.0</td>\n",
       "      <td>489.0</td>\n",
       "    </tr>\n",
       "    <tr>\n",
       "      <th>1</th>\n",
       "      <td>1</td>\n",
       "      <td>29425.0</td>\n",
       "      <td>29439.5</td>\n",
       "      <td>89</td>\n",
       "      <td>104</td>\n",
       "      <td>98</td>\n",
       "      <td>93</td>\n",
       "      <td>0.0</td>\n",
       "      <td>14.5</td>\n",
       "      <td>115.0</td>\n",
       "      <td>-25.0</td>\n",
       "      <td>14.5</td>\n",
       "    </tr>\n",
       "    <tr>\n",
       "      <th>2</th>\n",
       "      <td>1</td>\n",
       "      <td>29420.0</td>\n",
       "      <td>29420.0</td>\n",
       "      <td>114</td>\n",
       "      <td>115</td>\n",
       "      <td>114</td>\n",
       "      <td>114</td>\n",
       "      <td>0.0</td>\n",
       "      <td>0.0</td>\n",
       "      <td>0.0</td>\n",
       "      <td>0.0</td>\n",
       "      <td>0.0</td>\n",
       "    </tr>\n",
       "    <tr>\n",
       "      <th>3</th>\n",
       "      <td>1</td>\n",
       "      <td>29450.0</td>\n",
       "      <td>29421.5</td>\n",
       "      <td>118</td>\n",
       "      <td>127</td>\n",
       "      <td>120</td>\n",
       "      <td>126</td>\n",
       "      <td>0.0</td>\n",
       "      <td>-28.5</td>\n",
       "      <td>60.0</td>\n",
       "      <td>-28.0</td>\n",
       "      <td>-28.5</td>\n",
       "    </tr>\n",
       "    <tr>\n",
       "      <th>4</th>\n",
       "      <td>1</td>\n",
       "      <td>29390.0</td>\n",
       "      <td>29284.5</td>\n",
       "      <td>143</td>\n",
       "      <td>151</td>\n",
       "      <td>144</td>\n",
       "      <td>150</td>\n",
       "      <td>0.0</td>\n",
       "      <td>-105.5</td>\n",
       "      <td>26.5</td>\n",
       "      <td>-105.5</td>\n",
       "      <td>-105.5</td>\n",
       "    </tr>\n",
       "    <tr>\n",
       "      <th>...</th>\n",
       "      <td>...</td>\n",
       "      <td>...</td>\n",
       "      <td>...</td>\n",
       "      <td>...</td>\n",
       "      <td>...</td>\n",
       "      <td>...</td>\n",
       "      <td>...</td>\n",
       "      <td>...</td>\n",
       "      <td>...</td>\n",
       "      <td>...</td>\n",
       "      <td>...</td>\n",
       "      <td>...</td>\n",
       "    </tr>\n",
       "    <tr>\n",
       "      <th>21445</th>\n",
       "      <td>1</td>\n",
       "      <td>57230.0</td>\n",
       "      <td>57056.0</td>\n",
       "      <td>482557</td>\n",
       "      <td>482566</td>\n",
       "      <td>482558</td>\n",
       "      <td>482565</td>\n",
       "      <td>0.0</td>\n",
       "      <td>-174.0</td>\n",
       "      <td>117.0</td>\n",
       "      <td>-174.5</td>\n",
       "      <td>-174.0</td>\n",
       "    </tr>\n",
       "    <tr>\n",
       "      <th>21446</th>\n",
       "      <td>1</td>\n",
       "      <td>56644.0</td>\n",
       "      <td>56477.0</td>\n",
       "      <td>482585</td>\n",
       "      <td>482589</td>\n",
       "      <td>482585</td>\n",
       "      <td>482588</td>\n",
       "      <td>0.0</td>\n",
       "      <td>-167.0</td>\n",
       "      <td>58.5</td>\n",
       "      <td>-174.5</td>\n",
       "      <td>-167.0</td>\n",
       "    </tr>\n",
       "    <tr>\n",
       "      <th>21447</th>\n",
       "      <td>1</td>\n",
       "      <td>56389.5</td>\n",
       "      <td>56346.0</td>\n",
       "      <td>482604</td>\n",
       "      <td>482629</td>\n",
       "      <td>482623</td>\n",
       "      <td>482608</td>\n",
       "      <td>0.0</td>\n",
       "      <td>-43.5</td>\n",
       "      <td>356.5</td>\n",
       "      <td>-79.0</td>\n",
       "      <td>-43.5</td>\n",
       "    </tr>\n",
       "    <tr>\n",
       "      <th>21448</th>\n",
       "      <td>1</td>\n",
       "      <td>56245.0</td>\n",
       "      <td>56152.5</td>\n",
       "      <td>482657</td>\n",
       "      <td>482661</td>\n",
       "      <td>482657</td>\n",
       "      <td>482659</td>\n",
       "      <td>0.0</td>\n",
       "      <td>-92.5</td>\n",
       "      <td>45.5</td>\n",
       "      <td>-93.0</td>\n",
       "      <td>-92.5</td>\n",
       "    </tr>\n",
       "    <tr>\n",
       "      <th>21449</th>\n",
       "      <td>1</td>\n",
       "      <td>56174.0</td>\n",
       "      <td>56466.5</td>\n",
       "      <td>482668</td>\n",
       "      <td>482684</td>\n",
       "      <td>482677</td>\n",
       "      <td>482668</td>\n",
       "      <td>0.0</td>\n",
       "      <td>292.5</td>\n",
       "      <td>331.0</td>\n",
       "      <td>0.0</td>\n",
       "      <td>292.5</td>\n",
       "    </tr>\n",
       "  </tbody>\n",
       "</table>\n",
       "<p>21450 rows × 12 columns</p>\n",
       "</div>"
      ],
      "text/plain": [
       "       pos  price_enter  price_exit  index_enter  index_exit  index_max  \\\n",
       "0        1      28870.0     29359.0           24          84         74   \n",
       "1        1      29425.0     29439.5           89         104         98   \n",
       "2        1      29420.0     29420.0          114         115        114   \n",
       "3        1      29450.0     29421.5          118         127        120   \n",
       "4        1      29390.0     29284.5          143         151        144   \n",
       "...    ...          ...         ...          ...         ...        ...   \n",
       "21445    1      57230.0     57056.0       482557      482566     482558   \n",
       "21446    1      56644.0     56477.0       482585      482589     482585   \n",
       "21447    1      56389.5     56346.0       482604      482629     482623   \n",
       "21448    1      56245.0     56152.5       482657      482661     482657   \n",
       "21449    1      56174.0     56466.5       482668      482684     482677   \n",
       "\n",
       "       index_min  fee    pnl  pnl_max  pnl_min  result  \n",
       "0             29  0.0  489.0    585.0     -3.0   489.0  \n",
       "1             93  0.0   14.5    115.0    -25.0    14.5  \n",
       "2            114  0.0    0.0      0.0      0.0     0.0  \n",
       "3            126  0.0  -28.5     60.0    -28.0   -28.5  \n",
       "4            150  0.0 -105.5     26.5   -105.5  -105.5  \n",
       "...          ...  ...    ...      ...      ...     ...  \n",
       "21445     482565  0.0 -174.0    117.0   -174.5  -174.0  \n",
       "21446     482588  0.0 -167.0     58.5   -174.5  -167.0  \n",
       "21447     482608  0.0  -43.5    356.5    -79.0   -43.5  \n",
       "21448     482659  0.0  -92.5     45.5    -93.0   -92.5  \n",
       "21449     482668  0.0  292.5    331.0      0.0   292.5  \n",
       "\n",
       "[21450 rows x 12 columns]"
      ]
     },
     "execution_count": 23,
     "metadata": {},
     "output_type": "execute_result"
    }
   ],
   "source": [
    "trades"
   ]
  },
  {
   "cell_type": "code",
   "execution_count": 24,
   "metadata": {},
   "outputs": [
    {
     "name": "stdout",
     "output_type": "stream",
     "text": [
      "Net profit:        2272721.00     Gross profit:      2272854.50\n",
      "Raw profit:        2272721.00     Gross loss:           -133.50\n",
      "Fee paid:                0.00     Max drawdown:         1044.00\n",
      "Trades count:           11365     Profit factor:       17025.13\n",
      "Profitable:            99.67%     Recovery factor:      2176.94\n",
      "Losing:                 0.33%     Sharpe ratio:         9403.11\n"
     ]
    }
   ],
   "source": [
    "mac_fix_res = SignalStrategy(fix_pos).run(data_train)\n",
    "mac_fix_res.summary()"
   ]
  },
  {
   "cell_type": "code",
   "execution_count": 25,
   "metadata": {},
   "outputs": [
    {
     "data": {
      "text/html": [
       "<div>\n",
       "<style scoped>\n",
       "    .dataframe tbody tr th:only-of-type {\n",
       "        vertical-align: middle;\n",
       "    }\n",
       "\n",
       "    .dataframe tbody tr th {\n",
       "        vertical-align: top;\n",
       "    }\n",
       "\n",
       "    .dataframe thead th {\n",
       "        text-align: right;\n",
       "    }\n",
       "</style>\n",
       "<table border=\"1\" class=\"dataframe\">\n",
       "  <thead>\n",
       "    <tr style=\"text-align: right;\">\n",
       "      <th></th>\n",
       "      <th>pos</th>\n",
       "      <th>price_enter</th>\n",
       "      <th>price_exit</th>\n",
       "      <th>index_enter</th>\n",
       "      <th>index_exit</th>\n",
       "      <th>index_max</th>\n",
       "      <th>index_min</th>\n",
       "      <th>fee</th>\n",
       "      <th>pnl</th>\n",
       "      <th>pnl_max</th>\n",
       "      <th>pnl_min</th>\n",
       "      <th>result</th>\n",
       "    </tr>\n",
       "  </thead>\n",
       "  <tbody>\n",
       "    <tr>\n",
       "      <th>0</th>\n",
       "      <td>1</td>\n",
       "      <td>28870.0</td>\n",
       "      <td>29454.5</td>\n",
       "      <td>24</td>\n",
       "      <td>75</td>\n",
       "      <td>74</td>\n",
       "      <td>29</td>\n",
       "      <td>0.0</td>\n",
       "      <td>584.5</td>\n",
       "      <td>585.0</td>\n",
       "      <td>-3.0</td>\n",
       "      <td>584.5</td>\n",
       "    </tr>\n",
       "    <tr>\n",
       "      <th>1</th>\n",
       "      <td>1</td>\n",
       "      <td>29425.0</td>\n",
       "      <td>29540.0</td>\n",
       "      <td>89</td>\n",
       "      <td>99</td>\n",
       "      <td>98</td>\n",
       "      <td>93</td>\n",
       "      <td>0.0</td>\n",
       "      <td>115.0</td>\n",
       "      <td>115.0</td>\n",
       "      <td>-25.0</td>\n",
       "      <td>115.0</td>\n",
       "    </tr>\n",
       "    <tr>\n",
       "      <th>2</th>\n",
       "      <td>1</td>\n",
       "      <td>29450.0</td>\n",
       "      <td>29511.0</td>\n",
       "      <td>118</td>\n",
       "      <td>121</td>\n",
       "      <td>120</td>\n",
       "      <td>118</td>\n",
       "      <td>0.0</td>\n",
       "      <td>61.0</td>\n",
       "      <td>60.0</td>\n",
       "      <td>0.0</td>\n",
       "      <td>61.0</td>\n",
       "    </tr>\n",
       "    <tr>\n",
       "      <th>3</th>\n",
       "      <td>1</td>\n",
       "      <td>29336.5</td>\n",
       "      <td>29400.0</td>\n",
       "      <td>165</td>\n",
       "      <td>170</td>\n",
       "      <td>169</td>\n",
       "      <td>165</td>\n",
       "      <td>0.0</td>\n",
       "      <td>63.5</td>\n",
       "      <td>63.0</td>\n",
       "      <td>0.0</td>\n",
       "      <td>63.5</td>\n",
       "    </tr>\n",
       "    <tr>\n",
       "      <th>4</th>\n",
       "      <td>1</td>\n",
       "      <td>29318.0</td>\n",
       "      <td>29359.5</td>\n",
       "      <td>185</td>\n",
       "      <td>196</td>\n",
       "      <td>195</td>\n",
       "      <td>188</td>\n",
       "      <td>0.0</td>\n",
       "      <td>41.5</td>\n",
       "      <td>41.5</td>\n",
       "      <td>-28.0</td>\n",
       "      <td>41.5</td>\n",
       "    </tr>\n",
       "    <tr>\n",
       "      <th>...</th>\n",
       "      <td>...</td>\n",
       "      <td>...</td>\n",
       "      <td>...</td>\n",
       "      <td>...</td>\n",
       "      <td>...</td>\n",
       "      <td>...</td>\n",
       "      <td>...</td>\n",
       "      <td>...</td>\n",
       "      <td>...</td>\n",
       "      <td>...</td>\n",
       "      <td>...</td>\n",
       "      <td>...</td>\n",
       "    </tr>\n",
       "    <tr>\n",
       "      <th>11360</th>\n",
       "      <td>1</td>\n",
       "      <td>56447.5</td>\n",
       "      <td>56513.5</td>\n",
       "      <td>482492</td>\n",
       "      <td>482496</td>\n",
       "      <td>482495</td>\n",
       "      <td>482492</td>\n",
       "      <td>0.0</td>\n",
       "      <td>66.0</td>\n",
       "      <td>63.5</td>\n",
       "      <td>0.0</td>\n",
       "      <td>66.0</td>\n",
       "    </tr>\n",
       "    <tr>\n",
       "      <th>11361</th>\n",
       "      <td>1</td>\n",
       "      <td>56631.5</td>\n",
       "      <td>56745.0</td>\n",
       "      <td>482507</td>\n",
       "      <td>482510</td>\n",
       "      <td>482509</td>\n",
       "      <td>482507</td>\n",
       "      <td>0.0</td>\n",
       "      <td>113.5</td>\n",
       "      <td>113.0</td>\n",
       "      <td>0.0</td>\n",
       "      <td>113.5</td>\n",
       "    </tr>\n",
       "    <tr>\n",
       "      <th>11362</th>\n",
       "      <td>1</td>\n",
       "      <td>56755.0</td>\n",
       "      <td>57181.5</td>\n",
       "      <td>482532</td>\n",
       "      <td>482548</td>\n",
       "      <td>482547</td>\n",
       "      <td>482532</td>\n",
       "      <td>0.0</td>\n",
       "      <td>426.5</td>\n",
       "      <td>439.5</td>\n",
       "      <td>-0.5</td>\n",
       "      <td>426.5</td>\n",
       "    </tr>\n",
       "    <tr>\n",
       "      <th>11363</th>\n",
       "      <td>1</td>\n",
       "      <td>56389.5</td>\n",
       "      <td>56746.5</td>\n",
       "      <td>482604</td>\n",
       "      <td>482624</td>\n",
       "      <td>482623</td>\n",
       "      <td>482608</td>\n",
       "      <td>0.0</td>\n",
       "      <td>357.0</td>\n",
       "      <td>356.5</td>\n",
       "      <td>-79.0</td>\n",
       "      <td>357.0</td>\n",
       "    </tr>\n",
       "    <tr>\n",
       "      <th>11364</th>\n",
       "      <td>1</td>\n",
       "      <td>56174.0</td>\n",
       "      <td>56490.5</td>\n",
       "      <td>482668</td>\n",
       "      <td>482678</td>\n",
       "      <td>482677</td>\n",
       "      <td>482668</td>\n",
       "      <td>0.0</td>\n",
       "      <td>316.5</td>\n",
       "      <td>331.0</td>\n",
       "      <td>0.0</td>\n",
       "      <td>316.5</td>\n",
       "    </tr>\n",
       "  </tbody>\n",
       "</table>\n",
       "<p>11365 rows × 12 columns</p>\n",
       "</div>"
      ],
      "text/plain": [
       "       pos  price_enter  price_exit  index_enter  index_exit  index_max  \\\n",
       "0        1      28870.0     29454.5           24          75         74   \n",
       "1        1      29425.0     29540.0           89          99         98   \n",
       "2        1      29450.0     29511.0          118         121        120   \n",
       "3        1      29336.5     29400.0          165         170        169   \n",
       "4        1      29318.0     29359.5          185         196        195   \n",
       "...    ...          ...         ...          ...         ...        ...   \n",
       "11360    1      56447.5     56513.5       482492      482496     482495   \n",
       "11361    1      56631.5     56745.0       482507      482510     482509   \n",
       "11362    1      56755.0     57181.5       482532      482548     482547   \n",
       "11363    1      56389.5     56746.5       482604      482624     482623   \n",
       "11364    1      56174.0     56490.5       482668      482678     482677   \n",
       "\n",
       "       index_min  fee    pnl  pnl_max  pnl_min  result  \n",
       "0             29  0.0  584.5    585.0     -3.0   584.5  \n",
       "1             93  0.0  115.0    115.0    -25.0   115.0  \n",
       "2            118  0.0   61.0     60.0      0.0    61.0  \n",
       "3            165  0.0   63.5     63.0      0.0    63.5  \n",
       "4            188  0.0   41.5     41.5    -28.0    41.5  \n",
       "...          ...  ...    ...      ...      ...     ...  \n",
       "11360     482492  0.0   66.0     63.5      0.0    66.0  \n",
       "11361     482507  0.0  113.5    113.0      0.0   113.5  \n",
       "11362     482532  0.0  426.5    439.5     -0.5   426.5  \n",
       "11363     482608  0.0  357.0    356.5    -79.0   357.0  \n",
       "11364     482668  0.0  316.5    331.0      0.0   316.5  \n",
       "\n",
       "[11365 rows x 12 columns]"
      ]
     },
     "execution_count": 25,
     "metadata": {},
     "output_type": "execute_result"
    }
   ],
   "source": [
    "mac_fix_res.trades"
   ]
  },
  {
   "cell_type": "markdown",
   "metadata": {},
   "source": [
    "### Подход №1\n",
    "пробуем обучить модель покупать-продавать в идеальных точках"
   ]
  },
  {
   "cell_type": "markdown",
   "metadata": {},
   "source": [
    "`MACrossStrategy` входит в позицию на баре, следующем после пересечения средних - это непременное условие отсутствия \"подглядывания в будущее\". Кроме того, метод `best_pos` делает выход из позиции на баре, следующим за баром с максимальным доходом по текущей позиции - по той же причине. Поэтому для обучения модели целесобразно сдвинуть ряд `fix_pos` на 1 в прошлое"
   ]
  },
  {
   "cell_type": "code",
   "execution_count": 26,
   "metadata": {},
   "outputs": [],
   "source": [
    "y = fix_pos.shift(-1).fillna(0).astype('int')"
   ]
  },
  {
   "cell_type": "code",
   "execution_count": 27,
   "metadata": {},
   "outputs": [
    {
     "data": {
      "text/plain": [
       "((410281, 65), (410281,), (72403, 65), (72403,))"
      ]
     },
     "execution_count": 27,
     "metadata": {},
     "output_type": "execute_result"
    }
   ],
   "source": [
    "X_train, X_val, y_train, y_val = train_test_split(data_train.drop(columns='time'), y, \n",
    "                                                  test_size=TEST_FRAC, \n",
    "                                                  shuffle=False, \n",
    "                                                  random_state=RANDOM_SEED)\n",
    "X_train.shape, y_train.shape, X_val.shape, y_val.shape"
   ]
  },
  {
   "cell_type": "code",
   "execution_count": 46,
   "metadata": {},
   "outputs": [
    {
     "name": "stdout",
     "output_type": "stream",
     "text": [
      "Learning rate set to 0.016459\n",
      "0:\tlearn: 0.6566842\ttest: 0.6668262\tbest: 0.6668262 (0)\ttotal: 20.8ms\tremaining: 3m 28s\n",
      "1000:\tlearn: 0.6784143\ttest: 0.6904384\tbest: 0.6910127 (608)\ttotal: 16.8s\tremaining: 2m 31s\n",
      "2000:\tlearn: 0.6845590\ttest: 0.6905591\tbest: 0.6910127 (608)\ttotal: 33.3s\tremaining: 2m 12s\n",
      "3000:\tlearn: 0.6902026\ttest: 0.6896098\tbest: 0.6910127 (608)\ttotal: 49.7s\tremaining: 1m 55s\n",
      "4000:\tlearn: 0.6953419\ttest: 0.6903192\tbest: 0.6910127 (608)\ttotal: 1m 6s\tremaining: 1m 39s\n",
      "5000:\tlearn: 0.7006797\ttest: 0.6890013\tbest: 0.6910127 (608)\ttotal: 1m 22s\tremaining: 1m 22s\n",
      "6000:\tlearn: 0.7053323\ttest: 0.6888208\tbest: 0.6910127 (608)\ttotal: 1m 39s\tremaining: 1m 5s\n",
      "7000:\tlearn: 0.7098106\ttest: 0.6886164\tbest: 0.6910127 (608)\ttotal: 1m 55s\tremaining: 49.5s\n",
      "8000:\tlearn: 0.7146686\ttest: 0.6881193\tbest: 0.6910127 (608)\ttotal: 2m 12s\tremaining: 33s\n",
      "9000:\tlearn: 0.7189649\ttest: 0.6875920\tbest: 0.6910127 (608)\ttotal: 2m 28s\tremaining: 16.5s\n",
      "9999:\tlearn: 0.7230700\ttest: 0.6878893\tbest: 0.6910127 (608)\ttotal: 2m 45s\tremaining: 0us\n",
      "bestTest = 0.6910127324\n",
      "bestIteration = 608\n",
      "Shrink model to first 609 iterations.\n"
     ]
    },
    {
     "data": {
      "text/plain": [
       "<catboost.core.CatBoostClassifier at 0x7f3de6e72a60>"
      ]
     },
     "execution_count": 46,
     "metadata": {},
     "output_type": "execute_result"
    }
   ],
   "source": [
    "mac_catboost = CatBoostClassifier(iterations = 10000,\n",
    "                                #depth=10,\n",
    "                                #learning_rate = 0.5,\n",
    "                                random_seed = RANDOM_SEED,\n",
    "                                # eval_metric='Accuracy',\n",
    "                                # custom_metric=['F1'],\n",
    "                                eval_metric='Precision',\n",
    "                                custom_metric=['F1'],\n",
    "                                # od_wait=3000,\n",
    "                                task_type='GPU')\n",
    "\n",
    "mac_catboost.fit(X_train, y_train,\n",
    "                eval_set=(X_val, y_val),\n",
    "                verbose_eval=1000,\n",
    "                use_best_model=True)"
   ]
  },
  {
   "cell_type": "code",
   "execution_count": 47,
   "metadata": {},
   "outputs": [
    {
     "data": {
      "text/plain": [
       "(72403,)"
      ]
     },
     "execution_count": 47,
     "metadata": {},
     "output_type": "execute_result"
    }
   ],
   "source": [
    "y_pred_raw = mac_catboost.predict(X_val)\n",
    "y_pred_raw.shape"
   ]
  },
  {
   "cell_type": "code",
   "execution_count": 48,
   "metadata": {},
   "outputs": [
    {
     "data": {
      "text/plain": [
       "(0.8552269933566289, 0.7122227103009005)"
      ]
     },
     "execution_count": 48,
     "metadata": {},
     "output_type": "execute_result"
    }
   ],
   "source": [
    "accuracy_score(y_pred_raw, y_val), f1_score(y_pred_raw, y_val)"
   ]
  },
  {
   "cell_type": "code",
   "execution_count": 49,
   "metadata": {},
   "outputs": [
    {
     "data": {
      "text/plain": [
       "macd_bin               60.270932\n",
       "macd                   22.472499\n",
       "close_by_ma_long        2.117140\n",
       "close_by_low_short      2.055502\n",
       "macd_bin_1              1.606779\n",
       "close_by_ma_short       1.496720\n",
       "close_by_high_short     1.105861\n",
       "std_short               1.046607\n",
       "net_vol_long            0.972027\n",
       "open_by_ma_long         0.664101\n",
       "dtype: float64"
      ]
     },
     "execution_count": 49,
     "metadata": {},
     "output_type": "execute_result"
    }
   ],
   "source": [
    "feat_imp = pd.Series(data=mac_catboost.feature_importances_, index=X_train.columns)\n",
    "feat_imp.sort_values(ascending=False).head(10)"
   ]
  },
  {
   "cell_type": "code",
   "execution_count": 77,
   "metadata": {},
   "outputs": [],
   "source": [
    "def validate_strategy(strategy, X_val, y_val, predictor, shift=1):\n",
    "    print('Original strategy on validation data:')\n",
    "    res_orig = strategy.run(X_val)\n",
    "    res_orig.summary()\n",
    "    print()\n",
    "    print('Ideal footprint (y_val):')\n",
    "    res_val = SignalStrategy(y_val, shift=shift).run(X_val)\n",
    "    res_val.summary()\n",
    "    print()\n",
    "    print('Prediction footprint:')\n",
    "    res_pred = SignalStrategy(predictor, shift=shift).run(X_val)\n",
    "    res_pred.summary()\n",
    "    \n",
    "    return (res_orig, res_val, res_pred)"
   ]
  },
  {
   "cell_type": "code",
   "execution_count": 51,
   "metadata": {},
   "outputs": [
    {
     "name": "stdout",
     "output_type": "stream",
     "text": [
      "Original strategy on validation data:\n",
      "Net profit:          -8404.50     Gross profit:       168330.00\n",
      "Raw profit:          -8404.50     Gross loss:        -176734.50\n",
      "Fee paid:                0.00     Max drawdown:        21386.50\n",
      "Trades count:            3253     Profit factor:           0.95\n",
      "Profitable:            33.14%     Recovery factor:        -0.39\n",
      "Losing:                66.86%     Sharpe ratio:          -45.88\n",
      "\n",
      "Ideal footprint (y_val):\n",
      "Net profit:         334462.00     Gross profit:       334505.50\n",
      "Raw profit:         334462.00     Gross loss:            -43.50\n",
      "Fee paid:                0.00     Max drawdown:          523.00\n",
      "Trades count:            1715     Profit factor:        7689.78\n",
      "Profitable:            99.42%     Recovery factor:       639.51\n",
      "Losing:                 0.58%     Sharpe ratio:         1404.53\n",
      "\n",
      "Prediction footprint:\n",
      "Net profit:          20475.50     Gross profit:       174057.00\n",
      "Raw profit:          20475.50     Gross loss:        -153581.50\n",
      "Fee paid:                0.00     Max drawdown:         6088.50\n",
      "Trades count:            5329     Profit factor:           1.13\n",
      "Profitable:            34.28%     Recovery factor:         3.36\n",
      "Losing:                65.72%     Sharpe ratio:          189.58\n"
     ]
    }
   ],
   "source": [
    "mac_orig_res, mac_val_res, mac_pred_res = validate_strategy(MACrossStrategy(), X_val, y_val, mac_catboost)"
   ]
  },
  {
   "cell_type": "markdown",
   "metadata": {},
   "source": [
    "Сделок больше, поисследуем "
   ]
  },
  {
   "cell_type": "code",
   "execution_count": 52,
   "metadata": {},
   "outputs": [],
   "source": [
    "p0 = mac_pred_res.equity.pos\n",
    "p1 = p0.shift(1)\n",
    "p_1 = p0.shift(-1)\n",
    "p_val = mac_val_res.equity.pos\n",
    "onebar_deal = p0[(p0 != p1) & (p1 == p_1)]"
   ]
  },
  {
   "cell_type": "code",
   "execution_count": 53,
   "metadata": {},
   "outputs": [
    {
     "data": {
      "text/plain": [
       "(2899,\n",
       " 1    1611\n",
       " 0    1288\n",
       " Name: pos, dtype: int64)"
      ]
     },
     "execution_count": 53,
     "metadata": {},
     "output_type": "execute_result"
    }
   ],
   "source": [
    "len(onebar_deal), onebar_deal.value_counts()"
   ]
  },
  {
   "cell_type": "code",
   "execution_count": 54,
   "metadata": {},
   "outputs": [
    {
     "data": {
      "text/plain": [
       "(2021,\n",
       " 1    1024\n",
       " 0     997\n",
       " Name: pos, dtype: int64)"
      ]
     },
     "execution_count": 54,
     "metadata": {},
     "output_type": "execute_result"
    }
   ],
   "source": [
    "one_bar_miss = p0[(p0 != p1) & (p1 == p_1) & (p0 != p_val)]\n",
    "len(one_bar_miss), one_bar_miss.value_counts()"
   ]
  },
  {
   "cell_type": "code",
   "execution_count": 55,
   "metadata": {},
   "outputs": [],
   "source": [
    "val_trades = mac_val_res.trades\n",
    "bars_held_val = val_trades.index_exit - val_trades.index_enter\n",
    "\n",
    "pred_trades = mac_pred_res.trades = mac_pred_res.trades\n",
    "bars_held_pred = pred_trades.index_exit - pred_trades.index_enter"
   ]
  },
  {
   "cell_type": "code",
   "execution_count": 56,
   "metadata": {},
   "outputs": [
    {
     "data": {
      "text/plain": [
       "(-72832.5, 0.0)"
      ]
     },
     "execution_count": 56,
     "metadata": {},
     "output_type": "execute_result"
    }
   ],
   "source": [
    "pred_trades[bars_held_pred == 1].result.sum(), val_trades[bars_held_val == 1].result.sum()"
   ]
  },
  {
   "cell_type": "code",
   "execution_count": 57,
   "metadata": {},
   "outputs": [
    {
     "data": {
      "text/plain": [
       "<AxesSubplot:ylabel='Count'>"
      ]
     },
     "execution_count": 57,
     "metadata": {},
     "output_type": "execute_result"
    },
    {
     "data": {
      "image/png": "[encoded data removed]",
      "text/plain": [
       "<Figure size 1080x360 with 1 Axes>"
      ]
     },
     "metadata": {
      "needs_background": "light"
     },
     "output_type": "display_data"
    }
   ],
   "source": [
    "bins = [x for x in range(11)]\n",
    "sns.histplot(data=bars_held_val, bins=bins, color='r')\n",
    "sns.histplot(data=bars_held_pred, bins=bins, color='g', alpha=0.25)"
   ]
  },
  {
   "cell_type": "code",
   "execution_count": 58,
   "metadata": {},
   "outputs": [
    {
     "data": {
      "text/plain": [
       "<matplotlib.lines.Line2D at 0x7f3e3e7b1dc0>"
      ]
     },
     "execution_count": 58,
     "metadata": {},
     "output_type": "execute_result"
    },
    {
     "data": {
      "image/png": "[encoded data removed]",
      "text/plain": [
       "<Figure size 1080x360 with 1 Axes>"
      ]
     },
     "metadata": {
      "needs_background": "light"
     },
     "output_type": "display_data"
    }
   ],
   "source": [
    "sns.scatterplot(y=val_trades.result, x=bars_held_val, color='r')\n",
    "sns.scatterplot(y=pred_trades.result, x=bars_held_pred, color='g', alpha=0.25) \\\n",
    "    .axhline(0, color='gray', linestyle='--', alpha=0.5)"
   ]
  },
  {
   "cell_type": "markdown",
   "metadata": {},
   "source": [
    "На графиках видно, что обученная модель хоть и показывает технически лучший результат в плане статистических метрик, но у нее существенный недостаток - большое количество трейдов протяженностью в 1 бар (вход и тут же выход), которые сильно ухудшают футпринт такой стратегии даже без учета проскальзываний и комиссий. В продакшне с этим невозможно бороться, поэтому такой подход нельзя назвать эффективным. Тем не менее, необходимо проверить подход на тестовой выборке"
   ]
  },
  {
   "cell_type": "code",
   "execution_count": 59,
   "metadata": {},
   "outputs": [],
   "source": [
    "data_test = df_mac.iloc[TRAIN_SIZE:]"
   ]
  },
  {
   "cell_type": "code",
   "execution_count": 60,
   "metadata": {},
   "outputs": [
    {
     "name": "stdout",
     "output_type": "stream",
     "text": [
      "Net profit:           2371.50     Gross profit:       150447.50\n",
      "Raw profit:           2371.50     Gross loss:        -148076.00\n",
      "Fee paid:                0.00     Max drawdown:        11516.50\n",
      "Trades count:            3649     Profit factor:           1.02\n",
      "Profitable:            37.35%     Recovery factor:         0.21\n",
      "Losing:                62.65%     Sharpe ratio:           18.15\n"
     ]
    }
   ],
   "source": [
    "mac_test_res = MACrossStrategy().run(data_test)\n",
    "mac_test_res.summary()"
   ]
  },
  {
   "cell_type": "code",
   "execution_count": 61,
   "metadata": {},
   "outputs": [
    {
     "name": "stdout",
     "output_type": "stream",
     "text": [
      "Net profit:        -161957.79     Gross profit:       102394.35\n",
      "Raw profit:           2371.50     Gross loss:        -264352.14\n",
      "Fee paid:           164329.29     Max drawdown:        11516.50\n",
      "Trades count:            3649     Profit factor:           0.39\n",
      "Profitable:            22.61%     Recovery factor:       -14.06\n",
      "Losing:                77.39%     Sharpe ratio:        -1238.97\n"
     ]
    }
   ],
   "source": [
    "MACrossStrategy().run(data_test, fee_pct=0.05).summary()"
   ]
  },
  {
   "cell_type": "code",
   "execution_count": 62,
   "metadata": {},
   "outputs": [
    {
     "name": "stdout",
     "output_type": "stream",
     "text": [
      "Net profit:          13838.00     Gross profit:       156198.00\n",
      "Raw profit:          13838.00     Gross loss:        -142360.00\n",
      "Fee paid:                0.00     Max drawdown:         3971.50\n",
      "Trades count:            6235     Profit factor:           1.10\n",
      "Profitable:            34.29%     Recovery factor:         3.48\n",
      "Losing:                65.71%     Sharpe ratio:          169.52\n"
     ]
    }
   ],
   "source": [
    "mac_test_sig_res2 = SignalStrategy(mac_catboost, shift=1).run(data_test)\n",
    "mac_test_sig_res2.summary()"
   ]
  },
  {
   "cell_type": "code",
   "execution_count": 63,
   "metadata": {},
   "outputs": [
    {
     "name": "stdout",
     "output_type": "stream",
     "text": [
      "Net profit:        -268144.05     Gross profit:        89837.77\n",
      "Raw profit:          13838.00     Gross loss:        -357981.82\n",
      "Fee paid:           281982.05     Max drawdown:         3971.50\n",
      "Trades count:            6235     Profit factor:           0.25\n",
      "Profitable:            16.38%     Recovery factor:       -67.52\n",
      "Losing:                83.62%     Sharpe ratio:        -3277.38\n"
     ]
    }
   ],
   "source": [
    "SignalStrategy(mac_catboost, shift=1).run(data_test, fee_pct=0.05).summary()"
   ]
  },
  {
   "cell_type": "markdown",
   "metadata": {},
   "source": [
    "## DL"
   ]
  },
  {
   "cell_type": "code",
   "execution_count": 64,
   "metadata": {},
   "outputs": [],
   "source": [
    "from tensorflow.keras.utils import Sequence\n",
    "\n",
    "class WindowGenerator(Sequence):\n",
    "    def __init__(self, X, y, window_size, batch_size, start=None, end=None):\n",
    "        # get shapes and ranges\n",
    "        self.n_samples, self.n_features = X.shape        \n",
    "        self.window_size = window_size\n",
    "        self.batch_size = batch_size if batch_size > 0 else self.n_samples\n",
    "        self.start_idx = max(window_size, (start if start != None else 0))\n",
    "        self.end_idx = min(self.n_samples, (end if end != None else self.n_samples))\n",
    "        # get datasets\n",
    "        self.X = X\n",
    "        if isinstance(X, pd.DataFrame) or isinstance(X, pd.Series):\n",
    "            self.get_x = self.__get_x_pandas\n",
    "            self.index_x = X.index[self.start_idx:self.end_idx]\n",
    "        elif isinstance(X, np.ndarray):\n",
    "            self.get_x = self.__get_x_numpy\n",
    "            self.index_x = None\n",
    "        else:\n",
    "            raise Exception('Not supported X type')\n",
    "            \n",
    "        self.y = y\n",
    "        if isinstance(y, pd.Series):\n",
    "            self.get_y = self.__get_y_pandas\n",
    "            self.index_y = y.index[self.start_idx:self.end_idx]\n",
    "        elif isinstance(y, np.ndarray):\n",
    "            self.get_y = self.__get_y_numpy\n",
    "            self.index_y = None\n",
    "        else:\n",
    "            raise Exception('Not supported y type')\n",
    "            \n",
    "    \n",
    "    def get_index(self):\n",
    "        return self.index_y if self.index_x is None else self.index_x\n",
    "    \n",
    "    \n",
    "    def __len__(self):\n",
    "        return int(np.ceil((self.end_idx - self.start_idx) / self.batch_size))\n",
    "    \n",
    "    \n",
    "    \n",
    "    def __getitem__(self, idx):\n",
    "        start = (idx * self.batch_size) + self.start_idx\n",
    "        end = min(start + self.batch_size, self.end_idx) \n",
    "        batch_size = end - start\n",
    "        X_batch = np.reshape(self.get_x(start, end), (batch_size, self.window_size, self.n_features))\n",
    "        y_batch = self.get_y(start, end)\n",
    "        return X_batch, y_batch\n",
    "    \n",
    "    \n",
    "    def __get_x_pandas(self, start, end):\n",
    "        return [self.X.iloc[i - self.window_size:i].to_numpy('float32') for i in range(start, end)]\n",
    "    \n",
    "    \n",
    "    def __get_x_numpy(self, start, end):\n",
    "        return [self.X[i - self.window_size:i,:] for i in range(start, end)]\n",
    "    \n",
    "    \n",
    "    def __get_y_pandas(self, start, end):\n",
    "        return self.y.iloc[start:end].to_numpy('float32')\n",
    "    \n",
    "    \n",
    "    def __get_y_numpy(self, start, end):\n",
    "        return self.y[start:end]\n",
    "    \n",
    "    "
   ]
  },
  {
   "cell_type": "code",
   "execution_count": 65,
   "metadata": {},
   "outputs": [],
   "source": [
    "WINDOW_SIZE = MA_PERIOD_LONG + MA_PERIOD_SHORT\n",
    "BATCH_SIZE = 1024"
   ]
  },
  {
   "cell_type": "code",
   "execution_count": 66,
   "metadata": {},
   "outputs": [],
   "source": [
    "from sklearn.preprocessing import MinMaxScaler, RobustScaler, StandardScaler"
   ]
  },
  {
   "cell_type": "code",
   "execution_count": 80,
   "metadata": {},
   "outputs": [],
   "source": [
    "train_end = int(TRAIN_SIZE * (1.0 - TEST_FRAC))\n",
    "val_end = TRAIN_SIZE\n",
    "\n",
    "scaler = MinMaxScaler()\n",
    "\n",
    "# X = df_mac.drop(columns='time')\n",
    "X = scaler.fit_transform(df_mac.drop(columns='time'))\n",
    "# y defined above\n",
    "\n",
    "input_shape = (WINDOW_SIZE, X.shape[1])\n",
    "\n",
    "train_gen = WindowGenerator(X, y, WINDOW_SIZE, BATCH_SIZE, end=train_end)\n",
    "val_gen = WindowGenerator(X, y, WINDOW_SIZE, BATCH_SIZE, start=train_end, end=TRAIN_SIZE)\n",
    "test_gen = WindowGenerator(X, y, WINDOW_SIZE, BATCH_SIZE, start=TRAIN_SIZE)"
   ]
  },
  {
   "cell_type": "code",
   "execution_count": 81,
   "metadata": {},
   "outputs": [
    {
     "name": "stdout",
     "output_type": "stream",
     "text": [
      "WARNING:tensorflow:Layer lstm_1 will not use cuDNN kernels since it doesn't meet the criteria. It will use a generic GPU kernel as fallback when running on GPU.\n",
      "Model: \"sequential_1\"\n",
      "_________________________________________________________________\n",
      "Layer (type)                 Output Shape              Param #   \n",
      "=================================================================\n",
      "lstm_1 (LSTM)                (None, 256)               329728    \n",
      "_________________________________________________________________\n",
      "dropout_2 (Dropout)          (None, 256)               0         \n",
      "_________________________________________________________________\n",
      "dense_2 (Dense)              (None, 32)                8224      \n",
      "_________________________________________________________________\n",
      "dropout_3 (Dropout)          (None, 32)                0         \n",
      "_________________________________________________________________\n",
      "dense_3 (Dense)              (None, 1)                 33        \n",
      "=================================================================\n",
      "Total params: 337,985\n",
      "Trainable params: 337,985\n",
      "Non-trainable params: 0\n",
      "_________________________________________________________________\n"
     ]
    }
   ],
   "source": [
    "mac_lstm1 = Sequential()\n",
    "mac_lstm1.add(LSTM(256, input_shape=input_shape, activation=\"relu\"))\n",
    "mac_lstm1.add(Dropout(0.5))\n",
    "mac_lstm1.add(Dense(32, activation=\"relu\"))\n",
    "mac_lstm1.add(Dropout(0.25))\n",
    "mac_lstm1.add(Dense(1, activation=\"sigmoid\"))\n",
    "mac_lstm1.summary()"
   ]
  },
  {
   "cell_type": "code",
   "execution_count": 82,
   "metadata": {},
   "outputs": [],
   "source": [
    "metrics = [\n",
    "    'binary_accuracy',\n",
    "    Precision(name='precision'), \n",
    "    Recall(name='recall'), \n",
    "    Accuracy(name='accuracy')\n",
    "]\n",
    "mac_lstm1.compile(loss='binary_crossentropy',\n",
    "                  optimizer=tf.optimizers.Adam(learning_rate=1e-2),\n",
    "                  metrics=metrics)\n",
    "                  # metrics='accuracy')"
   ]
  },
  {
   "cell_type": "code",
   "execution_count": 83,
   "metadata": {},
   "outputs": [],
   "source": [
    "checkpoint = ModelCheckpoint('./save/mac_lstm1.hdf5', \n",
    "                             monitor='val_binary_accuracy', \n",
    "                             verbose=0,\n",
    "                             mode='max', \n",
    "                             save_best_only=True)\n",
    "earlystop = EarlyStopping(monitor='val_binary_accuracy', \n",
    "                          patience=10, \n",
    "                          mode='max',\n",
    "                          restore_best_weights=True)\n",
    "reduce_lr = ReduceLROnPlateau(monitor='val_binary_accuracy', \n",
    "                              factor=0.1, \n",
    "                              mode='max',\n",
    "                              patience=5, \n",
    "                              min_lr=0.0001)\n",
    "callbacks_list = [checkpoint, earlystop, reduce_lr]"
   ]
  },
  {
   "cell_type": "code",
   "execution_count": 84,
   "metadata": {},
   "outputs": [
    {
     "name": "stdout",
     "output_type": "stream",
     "text": [
      "Epoch 1/100\n",
      "401/401 [==============================] - 22s 52ms/step - loss: 3.9019 - binary_accuracy: 0.7963 - precision: 0.6118 - recall: 0.4906 - accuracy: 0.0019 - val_loss: 0.2903 - val_binary_accuracy: 0.8489 - val_precision: 0.6733 - val_recall: 0.7386 - val_accuracy: 0.0000e+00\n",
      "Epoch 2/100\n",
      "401/401 [==============================] - 21s 52ms/step - loss: 0.3242 - binary_accuracy: 0.8276 - precision: 0.6494 - recall: 0.6637 - accuracy: 6.0937e-05 - val_loss: 0.3044 - val_binary_accuracy: 0.8178 - val_precision: 0.7452 - val_recall: 0.3839 - val_accuracy: 0.0000e+00\n",
      "Epoch 3/100\n",
      "401/401 [==============================] - 21s 52ms/step - loss: 0.3128 - binary_accuracy: 0.8355 - precision: 0.6597 - recall: 0.6968 - accuracy: 3.4124e-05 - val_loss: 0.3014 - val_binary_accuracy: 0.8193 - val_precision: 0.7499 - val_recall: 0.3888 - val_accuracy: 0.0000e+00\n",
      "Epoch 4/100\n",
      "401/401 [==============================] - 21s 52ms/step - loss: 0.3074 - binary_accuracy: 0.8389 - precision: 0.6616 - recall: 0.7188 - accuracy: 1.9500e-05 - val_loss: 0.2934 - val_binary_accuracy: 0.8411 - val_precision: 0.7135 - val_recall: 0.5822 - val_accuracy: 0.0000e+00\n",
      "Epoch 5/100\n",
      "401/401 [==============================] - 21s 52ms/step - loss: 0.3057 - binary_accuracy: 0.8400 - precision: 0.6607 - recall: 0.7308 - accuracy: 5.0943e-04 - val_loss: 0.2851 - val_binary_accuracy: 0.8546 - val_precision: 0.6767 - val_recall: 0.7733 - val_accuracy: 0.0000e+00\n",
      "Epoch 6/100\n",
      "401/401 [==============================] - 21s 52ms/step - loss: 0.3038 - binary_accuracy: 0.8407 - precision: 0.6598 - recall: 0.7393 - accuracy: 7.9705e-04 - val_loss: 0.2882 - val_binary_accuracy: 0.8487 - val_precision: 0.7092 - val_recall: 0.6431 - val_accuracy: 0.0000e+00\n",
      "Epoch 7/100\n",
      "401/401 [==============================] - 21s 52ms/step - loss: 0.3026 - binary_accuracy: 0.8427 - precision: 0.6610 - recall: 0.7517 - accuracy: 0.0011 - val_loss: 0.2844 - val_binary_accuracy: 0.8557 - val_precision: 0.6867 - val_recall: 0.7504 - val_accuracy: 0.0000e+00\n",
      "Epoch 8/100\n",
      "401/401 [==============================] - 21s 52ms/step - loss: 0.3025 - binary_accuracy: 0.8419 - precision: 0.6589 - recall: 0.7527 - accuracy: 6.6786e-04 - val_loss: 0.2822 - val_binary_accuracy: 0.8548 - val_precision: 0.6862 - val_recall: 0.7454 - val_accuracy: 0.0000e+00\n",
      "Epoch 9/100\n",
      "401/401 [==============================] - 21s 52ms/step - loss: 0.3010 - binary_accuracy: 0.8427 - precision: 0.6605 - recall: 0.7540 - accuracy: 0.0040 - val_loss: 0.2832 - val_binary_accuracy: 0.8552 - val_precision: 0.6768 - val_recall: 0.7772 - val_accuracy: 0.0000e+00\n",
      "Epoch 10/100\n",
      "401/401 [==============================] - 21s 52ms/step - loss: 0.2977 - binary_accuracy: 0.8440 - precision: 0.6606 - recall: 0.7641 - accuracy: 0.0092 - val_loss: 0.2849 - val_binary_accuracy: 0.8560 - val_precision: 0.6872 - val_recall: 0.7512 - val_accuracy: 0.0000e+00\n",
      "Epoch 11/100\n",
      "401/401 [==============================] - 21s 52ms/step - loss: 0.2966 - binary_accuracy: 0.8441 - precision: 0.6602 - recall: 0.7665 - accuracy: 0.0091 - val_loss: 0.2832 - val_binary_accuracy: 0.8532 - val_precision: 0.6979 - val_recall: 0.7021 - val_accuracy: 0.0000e+00\n",
      "Epoch 12/100\n",
      "401/401 [==============================] - 21s 52ms/step - loss: 0.2950 - binary_accuracy: 0.8448 - precision: 0.6609 - recall: 0.7702 - accuracy: 0.0163 - val_loss: 0.2822 - val_binary_accuracy: 0.8551 - val_precision: 0.6913 - val_recall: 0.7331 - val_accuracy: 0.0000e+00\n",
      "Epoch 13/100\n",
      "401/401 [==============================] - 21s 52ms/step - loss: 0.2943 - binary_accuracy: 0.8448 - precision: 0.6607 - recall: 0.7703 - accuracy: 0.0185 - val_loss: 0.2873 - val_binary_accuracy: 0.8441 - val_precision: 0.7168 - val_recall: 0.5961 - val_accuracy: 0.0000e+00\n",
      "Epoch 14/100\n",
      "401/401 [==============================] - 21s 52ms/step - loss: 0.2956 - binary_accuracy: 0.8438 - precision: 0.6595 - recall: 0.7669 - accuracy: 0.0225 - val_loss: 0.2831 - val_binary_accuracy: 0.8563 - val_precision: 0.6913 - val_recall: 0.7419 - val_accuracy: 5.5246e-05\n",
      "Epoch 15/100\n",
      "401/401 [==============================] - 21s 52ms/step - loss: 0.2937 - binary_accuracy: 0.8450 - precision: 0.6606 - recall: 0.7721 - accuracy: 0.0313 - val_loss: 0.2791 - val_binary_accuracy: 0.8568 - val_precision: 0.6743 - val_recall: 0.7986 - val_accuracy: 0.0027\n",
      "Epoch 16/100\n",
      "401/401 [==============================] - 21s 52ms/step - loss: 0.2944 - binary_accuracy: 0.8446 - precision: 0.6607 - recall: 0.7687 - accuracy: 0.0425 - val_loss: 0.2800 - val_binary_accuracy: 0.8576 - val_precision: 0.6773 - val_recall: 0.7946 - val_accuracy: 0.0028\n",
      "Epoch 17/100\n",
      "353/401 [=========================>....] - ETA: 2s - loss: 0.2938 - binary_accuracy: 0.8448 - precision: 0.6608 - recall: 0.7682 - accuracy: 0.0501"
     ]
    },
    {
     "ename": "KeyboardInterrupt",
     "evalue": "",
     "output_type": "error",
     "traceback": [
      "\u001b[0;31m---------------------------------------------------------------------------\u001b[0m",
      "\u001b[0;31mKeyboardInterrupt\u001b[0m                         Traceback (most recent call last)",
      "\u001b[0;32m<timed exec>\u001b[0m in \u001b[0;36m<module>\u001b[0;34m\u001b[0m\n",
      "\u001b[0;32m/opt/miniforge3/lib/python3.9/site-packages/keras/engine/training.py\u001b[0m in \u001b[0;36mfit\u001b[0;34m(self, x, y, batch_size, epochs, verbose, callbacks, validation_split, validation_data, shuffle, class_weight, sample_weight, initial_epoch, steps_per_epoch, validation_steps, validation_batch_size, validation_freq, max_queue_size, workers, use_multiprocessing)\u001b[0m\n\u001b[1;32m   1187\u001b[0m               \u001b[0mlogs\u001b[0m \u001b[0;34m=\u001b[0m \u001b[0mtmp_logs\u001b[0m  \u001b[0;31m# No error, now safe to assign to logs.\u001b[0m\u001b[0;34m\u001b[0m\u001b[0;34m\u001b[0m\u001b[0m\n\u001b[1;32m   1188\u001b[0m               \u001b[0mend_step\u001b[0m \u001b[0;34m=\u001b[0m \u001b[0mstep\u001b[0m \u001b[0;34m+\u001b[0m \u001b[0mdata_handler\u001b[0m\u001b[0;34m.\u001b[0m\u001b[0mstep_increment\u001b[0m\u001b[0;34m\u001b[0m\u001b[0;34m\u001b[0m\u001b[0m\n\u001b[0;32m-> 1189\u001b[0;31m               \u001b[0mcallbacks\u001b[0m\u001b[0;34m.\u001b[0m\u001b[0mon_train_batch_end\u001b[0m\u001b[0;34m(\u001b[0m\u001b[0mend_step\u001b[0m\u001b[0;34m,\u001b[0m \u001b[0mlogs\u001b[0m\u001b[0;34m)\u001b[0m\u001b[0;34m\u001b[0m\u001b[0;34m\u001b[0m\u001b[0m\n\u001b[0m\u001b[1;32m   1190\u001b[0m               \u001b[0;32mif\u001b[0m \u001b[0mself\u001b[0m\u001b[0;34m.\u001b[0m\u001b[0mstop_training\u001b[0m\u001b[0;34m:\u001b[0m\u001b[0;34m\u001b[0m\u001b[0;34m\u001b[0m\u001b[0m\n\u001b[1;32m   1191\u001b[0m                 \u001b[0;32mbreak\u001b[0m\u001b[0;34m\u001b[0m\u001b[0;34m\u001b[0m\u001b[0m\n",
      "\u001b[0;32m/opt/miniforge3/lib/python3.9/site-packages/keras/callbacks.py\u001b[0m in \u001b[0;36mon_train_batch_end\u001b[0;34m(self, batch, logs)\u001b[0m\n\u001b[1;32m    433\u001b[0m     \"\"\"\n\u001b[1;32m    434\u001b[0m     \u001b[0;32mif\u001b[0m \u001b[0mself\u001b[0m\u001b[0;34m.\u001b[0m\u001b[0m_should_call_train_batch_hooks\u001b[0m\u001b[0;34m:\u001b[0m\u001b[0;34m\u001b[0m\u001b[0;34m\u001b[0m\u001b[0m\n\u001b[0;32m--> 435\u001b[0;31m       \u001b[0mself\u001b[0m\u001b[0;34m.\u001b[0m\u001b[0m_call_batch_hook\u001b[0m\u001b[0;34m(\u001b[0m\u001b[0mModeKeys\u001b[0m\u001b[0;34m.\u001b[0m\u001b[0mTRAIN\u001b[0m\u001b[0;34m,\u001b[0m \u001b[0;34m'end'\u001b[0m\u001b[0;34m,\u001b[0m \u001b[0mbatch\u001b[0m\u001b[0;34m,\u001b[0m \u001b[0mlogs\u001b[0m\u001b[0;34m=\u001b[0m\u001b[0mlogs\u001b[0m\u001b[0;34m)\u001b[0m\u001b[0;34m\u001b[0m\u001b[0;34m\u001b[0m\u001b[0m\n\u001b[0m\u001b[1;32m    436\u001b[0m \u001b[0;34m\u001b[0m\u001b[0m\n\u001b[1;32m    437\u001b[0m   \u001b[0;32mdef\u001b[0m \u001b[0mon_test_batch_begin\u001b[0m\u001b[0;34m(\u001b[0m\u001b[0mself\u001b[0m\u001b[0;34m,\u001b[0m \u001b[0mbatch\u001b[0m\u001b[0;34m,\u001b[0m \u001b[0mlogs\u001b[0m\u001b[0;34m=\u001b[0m\u001b[0;32mNone\u001b[0m\u001b[0;34m)\u001b[0m\u001b[0;34m:\u001b[0m\u001b[0;34m\u001b[0m\u001b[0;34m\u001b[0m\u001b[0m\n",
      "\u001b[0;32m/opt/miniforge3/lib/python3.9/site-packages/keras/callbacks.py\u001b[0m in \u001b[0;36m_call_batch_hook\u001b[0;34m(self, mode, hook, batch, logs)\u001b[0m\n\u001b[1;32m    293\u001b[0m       \u001b[0mself\u001b[0m\u001b[0;34m.\u001b[0m\u001b[0m_call_batch_begin_hook\u001b[0m\u001b[0;34m(\u001b[0m\u001b[0mmode\u001b[0m\u001b[0;34m,\u001b[0m \u001b[0mbatch\u001b[0m\u001b[0;34m,\u001b[0m \u001b[0mlogs\u001b[0m\u001b[0;34m)\u001b[0m\u001b[0;34m\u001b[0m\u001b[0;34m\u001b[0m\u001b[0m\n\u001b[1;32m    294\u001b[0m     \u001b[0;32melif\u001b[0m \u001b[0mhook\u001b[0m \u001b[0;34m==\u001b[0m \u001b[0;34m'end'\u001b[0m\u001b[0;34m:\u001b[0m\u001b[0;34m\u001b[0m\u001b[0;34m\u001b[0m\u001b[0m\n\u001b[0;32m--> 295\u001b[0;31m       \u001b[0mself\u001b[0m\u001b[0;34m.\u001b[0m\u001b[0m_call_batch_end_hook\u001b[0m\u001b[0;34m(\u001b[0m\u001b[0mmode\u001b[0m\u001b[0;34m,\u001b[0m \u001b[0mbatch\u001b[0m\u001b[0;34m,\u001b[0m \u001b[0mlogs\u001b[0m\u001b[0;34m)\u001b[0m\u001b[0;34m\u001b[0m\u001b[0;34m\u001b[0m\u001b[0m\n\u001b[0m\u001b[1;32m    296\u001b[0m     \u001b[0;32melse\u001b[0m\u001b[0;34m:\u001b[0m\u001b[0;34m\u001b[0m\u001b[0;34m\u001b[0m\u001b[0m\n\u001b[1;32m    297\u001b[0m       \u001b[0;32mraise\u001b[0m \u001b[0mValueError\u001b[0m\u001b[0;34m(\u001b[0m\u001b[0;34m'Unrecognized hook: {}'\u001b[0m\u001b[0;34m.\u001b[0m\u001b[0mformat\u001b[0m\u001b[0;34m(\u001b[0m\u001b[0mhook\u001b[0m\u001b[0;34m)\u001b[0m\u001b[0;34m)\u001b[0m\u001b[0;34m\u001b[0m\u001b[0;34m\u001b[0m\u001b[0m\n",
      "\u001b[0;32m/opt/miniforge3/lib/python3.9/site-packages/keras/callbacks.py\u001b[0m in \u001b[0;36m_call_batch_end_hook\u001b[0;34m(self, mode, batch, logs)\u001b[0m\n\u001b[1;32m    313\u001b[0m       \u001b[0mself\u001b[0m\u001b[0;34m.\u001b[0m\u001b[0m_batch_times\u001b[0m\u001b[0;34m.\u001b[0m\u001b[0mappend\u001b[0m\u001b[0;34m(\u001b[0m\u001b[0mbatch_time\u001b[0m\u001b[0;34m)\u001b[0m\u001b[0;34m\u001b[0m\u001b[0;34m\u001b[0m\u001b[0m\n\u001b[1;32m    314\u001b[0m \u001b[0;34m\u001b[0m\u001b[0m\n\u001b[0;32m--> 315\u001b[0;31m     \u001b[0mself\u001b[0m\u001b[0;34m.\u001b[0m\u001b[0m_call_batch_hook_helper\u001b[0m\u001b[0;34m(\u001b[0m\u001b[0mhook_name\u001b[0m\u001b[0;34m,\u001b[0m \u001b[0mbatch\u001b[0m\u001b[0;34m,\u001b[0m \u001b[0mlogs\u001b[0m\u001b[0;34m)\u001b[0m\u001b[0;34m\u001b[0m\u001b[0;34m\u001b[0m\u001b[0m\n\u001b[0m\u001b[1;32m    316\u001b[0m \u001b[0;34m\u001b[0m\u001b[0m\n\u001b[1;32m    317\u001b[0m     \u001b[0;32mif\u001b[0m \u001b[0mlen\u001b[0m\u001b[0;34m(\u001b[0m\u001b[0mself\u001b[0m\u001b[0;34m.\u001b[0m\u001b[0m_batch_times\u001b[0m\u001b[0;34m)\u001b[0m \u001b[0;34m>=\u001b[0m \u001b[0mself\u001b[0m\u001b[0;34m.\u001b[0m\u001b[0m_num_batches_for_timing_check\u001b[0m\u001b[0;34m:\u001b[0m\u001b[0;34m\u001b[0m\u001b[0;34m\u001b[0m\u001b[0m\n",
      "\u001b[0;32m/opt/miniforge3/lib/python3.9/site-packages/keras/callbacks.py\u001b[0m in \u001b[0;36m_call_batch_hook_helper\u001b[0;34m(self, hook_name, batch, logs)\u001b[0m\n\u001b[1;32m    351\u001b[0m     \u001b[0;32mfor\u001b[0m \u001b[0mcallback\u001b[0m \u001b[0;32min\u001b[0m \u001b[0mself\u001b[0m\u001b[0;34m.\u001b[0m\u001b[0mcallbacks\u001b[0m\u001b[0;34m:\u001b[0m\u001b[0;34m\u001b[0m\u001b[0;34m\u001b[0m\u001b[0m\n\u001b[1;32m    352\u001b[0m       \u001b[0mhook\u001b[0m \u001b[0;34m=\u001b[0m \u001b[0mgetattr\u001b[0m\u001b[0;34m(\u001b[0m\u001b[0mcallback\u001b[0m\u001b[0;34m,\u001b[0m \u001b[0mhook_name\u001b[0m\u001b[0;34m)\u001b[0m\u001b[0;34m\u001b[0m\u001b[0;34m\u001b[0m\u001b[0m\n\u001b[0;32m--> 353\u001b[0;31m       \u001b[0mhook\u001b[0m\u001b[0;34m(\u001b[0m\u001b[0mbatch\u001b[0m\u001b[0;34m,\u001b[0m \u001b[0mlogs\u001b[0m\u001b[0;34m)\u001b[0m\u001b[0;34m\u001b[0m\u001b[0;34m\u001b[0m\u001b[0m\n\u001b[0m\u001b[1;32m    354\u001b[0m \u001b[0;34m\u001b[0m\u001b[0m\n\u001b[1;32m    355\u001b[0m     \u001b[0;32mif\u001b[0m \u001b[0mself\u001b[0m\u001b[0;34m.\u001b[0m\u001b[0m_check_timing\u001b[0m\u001b[0;34m:\u001b[0m\u001b[0;34m\u001b[0m\u001b[0;34m\u001b[0m\u001b[0m\n",
      "\u001b[0;32m/opt/miniforge3/lib/python3.9/site-packages/keras/callbacks.py\u001b[0m in \u001b[0;36mon_train_batch_end\u001b[0;34m(self, batch, logs)\u001b[0m\n\u001b[1;32m   1026\u001b[0m \u001b[0;34m\u001b[0m\u001b[0m\n\u001b[1;32m   1027\u001b[0m   \u001b[0;32mdef\u001b[0m \u001b[0mon_train_batch_end\u001b[0m\u001b[0;34m(\u001b[0m\u001b[0mself\u001b[0m\u001b[0;34m,\u001b[0m \u001b[0mbatch\u001b[0m\u001b[0;34m,\u001b[0m \u001b[0mlogs\u001b[0m\u001b[0;34m=\u001b[0m\u001b[0;32mNone\u001b[0m\u001b[0;34m)\u001b[0m\u001b[0;34m:\u001b[0m\u001b[0;34m\u001b[0m\u001b[0;34m\u001b[0m\u001b[0m\n\u001b[0;32m-> 1028\u001b[0;31m     \u001b[0mself\u001b[0m\u001b[0;34m.\u001b[0m\u001b[0m_batch_update_progbar\u001b[0m\u001b[0;34m(\u001b[0m\u001b[0mbatch\u001b[0m\u001b[0;34m,\u001b[0m \u001b[0mlogs\u001b[0m\u001b[0;34m)\u001b[0m\u001b[0;34m\u001b[0m\u001b[0;34m\u001b[0m\u001b[0m\n\u001b[0m\u001b[1;32m   1029\u001b[0m \u001b[0;34m\u001b[0m\u001b[0m\n\u001b[1;32m   1030\u001b[0m   \u001b[0;32mdef\u001b[0m \u001b[0mon_test_batch_end\u001b[0m\u001b[0;34m(\u001b[0m\u001b[0mself\u001b[0m\u001b[0;34m,\u001b[0m \u001b[0mbatch\u001b[0m\u001b[0;34m,\u001b[0m \u001b[0mlogs\u001b[0m\u001b[0;34m=\u001b[0m\u001b[0;32mNone\u001b[0m\u001b[0;34m)\u001b[0m\u001b[0;34m:\u001b[0m\u001b[0;34m\u001b[0m\u001b[0;34m\u001b[0m\u001b[0m\n",
      "\u001b[0;32m/opt/miniforge3/lib/python3.9/site-packages/keras/callbacks.py\u001b[0m in \u001b[0;36m_batch_update_progbar\u001b[0;34m(self, batch, logs)\u001b[0m\n\u001b[1;32m   1098\u001b[0m     \u001b[0;32mif\u001b[0m \u001b[0mself\u001b[0m\u001b[0;34m.\u001b[0m\u001b[0mverbose\u001b[0m \u001b[0;34m==\u001b[0m \u001b[0;36m1\u001b[0m\u001b[0;34m:\u001b[0m\u001b[0;34m\u001b[0m\u001b[0;34m\u001b[0m\u001b[0m\n\u001b[1;32m   1099\u001b[0m       \u001b[0;31m# Only block async when verbose = 1.\u001b[0m\u001b[0;34m\u001b[0m\u001b[0;34m\u001b[0m\u001b[0m\n\u001b[0;32m-> 1100\u001b[0;31m       \u001b[0mlogs\u001b[0m \u001b[0;34m=\u001b[0m \u001b[0mtf_utils\u001b[0m\u001b[0;34m.\u001b[0m\u001b[0msync_to_numpy_or_python_type\u001b[0m\u001b[0;34m(\u001b[0m\u001b[0mlogs\u001b[0m\u001b[0;34m)\u001b[0m\u001b[0;34m\u001b[0m\u001b[0;34m\u001b[0m\u001b[0m\n\u001b[0m\u001b[1;32m   1101\u001b[0m       \u001b[0mself\u001b[0m\u001b[0;34m.\u001b[0m\u001b[0mprogbar\u001b[0m\u001b[0;34m.\u001b[0m\u001b[0mupdate\u001b[0m\u001b[0;34m(\u001b[0m\u001b[0mself\u001b[0m\u001b[0;34m.\u001b[0m\u001b[0mseen\u001b[0m\u001b[0;34m,\u001b[0m \u001b[0mlist\u001b[0m\u001b[0;34m(\u001b[0m\u001b[0mlogs\u001b[0m\u001b[0;34m.\u001b[0m\u001b[0mitems\u001b[0m\u001b[0;34m(\u001b[0m\u001b[0;34m)\u001b[0m\u001b[0;34m)\u001b[0m\u001b[0;34m,\u001b[0m \u001b[0mfinalize\u001b[0m\u001b[0;34m=\u001b[0m\u001b[0;32mFalse\u001b[0m\u001b[0;34m)\u001b[0m\u001b[0;34m\u001b[0m\u001b[0;34m\u001b[0m\u001b[0m\n\u001b[1;32m   1102\u001b[0m \u001b[0;34m\u001b[0m\u001b[0m\n",
      "\u001b[0;32m/opt/miniforge3/lib/python3.9/site-packages/keras/utils/tf_utils.py\u001b[0m in \u001b[0;36msync_to_numpy_or_python_type\u001b[0;34m(tensors)\u001b[0m\n\u001b[1;32m    514\u001b[0m     \u001b[0;32mreturn\u001b[0m \u001b[0mt\u001b[0m  \u001b[0;31m# Don't turn ragged or sparse tensors to NumPy.\u001b[0m\u001b[0;34m\u001b[0m\u001b[0;34m\u001b[0m\u001b[0m\n\u001b[1;32m    515\u001b[0m \u001b[0;34m\u001b[0m\u001b[0m\n\u001b[0;32m--> 516\u001b[0;31m   \u001b[0;32mreturn\u001b[0m \u001b[0mtf\u001b[0m\u001b[0;34m.\u001b[0m\u001b[0mnest\u001b[0m\u001b[0;34m.\u001b[0m\u001b[0mmap_structure\u001b[0m\u001b[0;34m(\u001b[0m\u001b[0m_to_single_numpy_or_python_type\u001b[0m\u001b[0;34m,\u001b[0m \u001b[0mtensors\u001b[0m\u001b[0;34m)\u001b[0m\u001b[0;34m\u001b[0m\u001b[0;34m\u001b[0m\u001b[0m\n\u001b[0m\u001b[1;32m    517\u001b[0m \u001b[0;34m\u001b[0m\u001b[0m\n\u001b[1;32m    518\u001b[0m \u001b[0;34m\u001b[0m\u001b[0m\n",
      "\u001b[0;32m/opt/miniforge3/lib/python3.9/site-packages/tensorflow/python/util/nest.py\u001b[0m in \u001b[0;36mmap_structure\u001b[0;34m(func, *structure, **kwargs)\u001b[0m\n\u001b[1;32m    867\u001b[0m \u001b[0;34m\u001b[0m\u001b[0m\n\u001b[1;32m    868\u001b[0m   return pack_sequence_as(\n\u001b[0;32m--> 869\u001b[0;31m       \u001b[0mstructure\u001b[0m\u001b[0;34m[\u001b[0m\u001b[0;36m0\u001b[0m\u001b[0;34m]\u001b[0m\u001b[0;34m,\u001b[0m \u001b[0;34m[\u001b[0m\u001b[0mfunc\u001b[0m\u001b[0;34m(\u001b[0m\u001b[0;34m*\u001b[0m\u001b[0mx\u001b[0m\u001b[0;34m)\u001b[0m \u001b[0;32mfor\u001b[0m \u001b[0mx\u001b[0m \u001b[0;32min\u001b[0m \u001b[0mentries\u001b[0m\u001b[0;34m]\u001b[0m\u001b[0;34m,\u001b[0m\u001b[0;34m\u001b[0m\u001b[0;34m\u001b[0m\u001b[0m\n\u001b[0m\u001b[1;32m    870\u001b[0m       expand_composites=expand_composites)\n\u001b[1;32m    871\u001b[0m \u001b[0;34m\u001b[0m\u001b[0m\n",
      "\u001b[0;32m/opt/miniforge3/lib/python3.9/site-packages/tensorflow/python/util/nest.py\u001b[0m in \u001b[0;36m<listcomp>\u001b[0;34m(.0)\u001b[0m\n\u001b[1;32m    867\u001b[0m \u001b[0;34m\u001b[0m\u001b[0m\n\u001b[1;32m    868\u001b[0m   return pack_sequence_as(\n\u001b[0;32m--> 869\u001b[0;31m       \u001b[0mstructure\u001b[0m\u001b[0;34m[\u001b[0m\u001b[0;36m0\u001b[0m\u001b[0;34m]\u001b[0m\u001b[0;34m,\u001b[0m \u001b[0;34m[\u001b[0m\u001b[0mfunc\u001b[0m\u001b[0;34m(\u001b[0m\u001b[0;34m*\u001b[0m\u001b[0mx\u001b[0m\u001b[0;34m)\u001b[0m \u001b[0;32mfor\u001b[0m \u001b[0mx\u001b[0m \u001b[0;32min\u001b[0m \u001b[0mentries\u001b[0m\u001b[0;34m]\u001b[0m\u001b[0;34m,\u001b[0m\u001b[0;34m\u001b[0m\u001b[0;34m\u001b[0m\u001b[0m\n\u001b[0m\u001b[1;32m    870\u001b[0m       expand_composites=expand_composites)\n\u001b[1;32m    871\u001b[0m \u001b[0;34m\u001b[0m\u001b[0m\n",
      "\u001b[0;32m/opt/miniforge3/lib/python3.9/site-packages/keras/utils/tf_utils.py\u001b[0m in \u001b[0;36m_to_single_numpy_or_python_type\u001b[0;34m(t)\u001b[0m\n\u001b[1;32m    510\u001b[0m   \u001b[0;32mdef\u001b[0m \u001b[0m_to_single_numpy_or_python_type\u001b[0m\u001b[0;34m(\u001b[0m\u001b[0mt\u001b[0m\u001b[0;34m)\u001b[0m\u001b[0;34m:\u001b[0m\u001b[0;34m\u001b[0m\u001b[0;34m\u001b[0m\u001b[0m\n\u001b[1;32m    511\u001b[0m     \u001b[0;32mif\u001b[0m \u001b[0misinstance\u001b[0m\u001b[0;34m(\u001b[0m\u001b[0mt\u001b[0m\u001b[0;34m,\u001b[0m \u001b[0mtf\u001b[0m\u001b[0;34m.\u001b[0m\u001b[0mTensor\u001b[0m\u001b[0;34m)\u001b[0m\u001b[0;34m:\u001b[0m\u001b[0;34m\u001b[0m\u001b[0;34m\u001b[0m\u001b[0m\n\u001b[0;32m--> 512\u001b[0;31m       \u001b[0mx\u001b[0m \u001b[0;34m=\u001b[0m \u001b[0mt\u001b[0m\u001b[0;34m.\u001b[0m\u001b[0mnumpy\u001b[0m\u001b[0;34m(\u001b[0m\u001b[0;34m)\u001b[0m\u001b[0;34m\u001b[0m\u001b[0;34m\u001b[0m\u001b[0m\n\u001b[0m\u001b[1;32m    513\u001b[0m       \u001b[0;32mreturn\u001b[0m \u001b[0mx\u001b[0m\u001b[0;34m.\u001b[0m\u001b[0mitem\u001b[0m\u001b[0;34m(\u001b[0m\u001b[0;34m)\u001b[0m \u001b[0;32mif\u001b[0m \u001b[0mnp\u001b[0m\u001b[0;34m.\u001b[0m\u001b[0mndim\u001b[0m\u001b[0;34m(\u001b[0m\u001b[0mx\u001b[0m\u001b[0;34m)\u001b[0m \u001b[0;34m==\u001b[0m \u001b[0;36m0\u001b[0m \u001b[0;32melse\u001b[0m \u001b[0mx\u001b[0m\u001b[0;34m\u001b[0m\u001b[0;34m\u001b[0m\u001b[0m\n\u001b[1;32m    514\u001b[0m     \u001b[0;32mreturn\u001b[0m \u001b[0mt\u001b[0m  \u001b[0;31m# Don't turn ragged or sparse tensors to NumPy.\u001b[0m\u001b[0;34m\u001b[0m\u001b[0;34m\u001b[0m\u001b[0m\n",
      "\u001b[0;32m/opt/miniforge3/lib/python3.9/site-packages/tensorflow/python/framework/ops.py\u001b[0m in \u001b[0;36mnumpy\u001b[0;34m(self)\u001b[0m\n\u001b[1;32m   1092\u001b[0m     \"\"\"\n\u001b[1;32m   1093\u001b[0m     \u001b[0;31m# TODO(slebedev): Consider avoiding a copy for non-CPU or remote tensors.\u001b[0m\u001b[0;34m\u001b[0m\u001b[0;34m\u001b[0m\u001b[0m\n\u001b[0;32m-> 1094\u001b[0;31m     \u001b[0mmaybe_arr\u001b[0m \u001b[0;34m=\u001b[0m \u001b[0mself\u001b[0m\u001b[0;34m.\u001b[0m\u001b[0m_numpy\u001b[0m\u001b[0;34m(\u001b[0m\u001b[0;34m)\u001b[0m  \u001b[0;31m# pylint: disable=protected-access\u001b[0m\u001b[0;34m\u001b[0m\u001b[0;34m\u001b[0m\u001b[0m\n\u001b[0m\u001b[1;32m   1095\u001b[0m     \u001b[0;32mreturn\u001b[0m \u001b[0mmaybe_arr\u001b[0m\u001b[0;34m.\u001b[0m\u001b[0mcopy\u001b[0m\u001b[0;34m(\u001b[0m\u001b[0;34m)\u001b[0m \u001b[0;32mif\u001b[0m \u001b[0misinstance\u001b[0m\u001b[0;34m(\u001b[0m\u001b[0mmaybe_arr\u001b[0m\u001b[0;34m,\u001b[0m \u001b[0mnp\u001b[0m\u001b[0;34m.\u001b[0m\u001b[0mndarray\u001b[0m\u001b[0;34m)\u001b[0m \u001b[0;32melse\u001b[0m \u001b[0mmaybe_arr\u001b[0m\u001b[0;34m\u001b[0m\u001b[0;34m\u001b[0m\u001b[0m\n\u001b[1;32m   1096\u001b[0m \u001b[0;34m\u001b[0m\u001b[0m\n",
      "\u001b[0;32m/opt/miniforge3/lib/python3.9/site-packages/tensorflow/python/framework/ops.py\u001b[0m in \u001b[0;36m_numpy\u001b[0;34m(self)\u001b[0m\n\u001b[1;32m   1058\u001b[0m   \u001b[0;32mdef\u001b[0m \u001b[0m_numpy\u001b[0m\u001b[0;34m(\u001b[0m\u001b[0mself\u001b[0m\u001b[0;34m)\u001b[0m\u001b[0;34m:\u001b[0m\u001b[0;34m\u001b[0m\u001b[0;34m\u001b[0m\u001b[0m\n\u001b[1;32m   1059\u001b[0m     \u001b[0;32mtry\u001b[0m\u001b[0;34m:\u001b[0m\u001b[0;34m\u001b[0m\u001b[0;34m\u001b[0m\u001b[0m\n\u001b[0;32m-> 1060\u001b[0;31m       \u001b[0;32mreturn\u001b[0m \u001b[0mself\u001b[0m\u001b[0;34m.\u001b[0m\u001b[0m_numpy_internal\u001b[0m\u001b[0;34m(\u001b[0m\u001b[0;34m)\u001b[0m\u001b[0;34m\u001b[0m\u001b[0;34m\u001b[0m\u001b[0m\n\u001b[0m\u001b[1;32m   1061\u001b[0m     \u001b[0;32mexcept\u001b[0m \u001b[0mcore\u001b[0m\u001b[0;34m.\u001b[0m\u001b[0m_NotOkStatusException\u001b[0m \u001b[0;32mas\u001b[0m \u001b[0me\u001b[0m\u001b[0;34m:\u001b[0m  \u001b[0;31m# pylint: disable=protected-access\u001b[0m\u001b[0;34m\u001b[0m\u001b[0;34m\u001b[0m\u001b[0m\n\u001b[1;32m   1062\u001b[0m       \u001b[0msix\u001b[0m\u001b[0;34m.\u001b[0m\u001b[0mraise_from\u001b[0m\u001b[0;34m(\u001b[0m\u001b[0mcore\u001b[0m\u001b[0;34m.\u001b[0m\u001b[0m_status_to_exception\u001b[0m\u001b[0;34m(\u001b[0m\u001b[0me\u001b[0m\u001b[0;34m.\u001b[0m\u001b[0mcode\u001b[0m\u001b[0;34m,\u001b[0m \u001b[0me\u001b[0m\u001b[0;34m.\u001b[0m\u001b[0mmessage\u001b[0m\u001b[0;34m)\u001b[0m\u001b[0;34m,\u001b[0m \u001b[0;32mNone\u001b[0m\u001b[0;34m)\u001b[0m  \u001b[0;31m# pylint: disable=protected-access\u001b[0m\u001b[0;34m\u001b[0m\u001b[0;34m\u001b[0m\u001b[0m\n",
      "\u001b[0;31mKeyboardInterrupt\u001b[0m: "
     ]
    }
   ],
   "source": [
    "%%time\n",
    "history = mac_lstm1.fit(train_gen,\n",
    "                        steps_per_epoch = len(train_gen),\n",
    "                        validation_data = val_gen, \n",
    "                        validation_steps = len(val_gen),\n",
    "                        epochs = 100,\n",
    "                        callbacks = callbacks_list,\n",
    "                        verbose=1\n",
    "                        )"
   ]
  },
  {
   "cell_type": "code",
   "execution_count": 89,
   "metadata": {},
   "outputs": [],
   "source": [
    "mac_lstm1.load_weights('./save/mac_lstm1.hdf5')"
   ]
  },
  {
   "cell_type": "code",
   "execution_count": null,
   "metadata": {},
   "outputs": [],
   "source": [
    "y_pred_val = (pd.Series(mac_lstm1.predict(val_gen)[:,0], val_gen.get_index()) > 0.5).astype('int')"
   ]
  },
  {
   "cell_type": "code",
   "execution_count": null,
   "metadata": {},
   "outputs": [
    {
     "data": {
      "text/plain": [
       "0    51692\n",
       "1    20711\n",
       "dtype: int64"
      ]
     },
     "execution_count": 95,
     "metadata": {},
     "output_type": "execute_result"
    }
   ],
   "source": [
    "y_pred_val.value_counts()"
   ]
  },
  {
   "cell_type": "code",
   "execution_count": 100,
   "metadata": {},
   "outputs": [
    {
     "data": {
      "text/plain": [
       "(0.7312394109214129, 0.7945508100147275)"
      ]
     },
     "execution_count": 100,
     "metadata": {},
     "output_type": "execute_result"
    }
   ],
   "source": [
    "y_val = y.loc[y_pred_val.index]\n",
    "f1_score(y_pred_val, y_val), precision_score(y_pred_val, y_val)"
   ]
  },
  {
   "cell_type": "code",
   "execution_count": 88,
   "metadata": {},
   "outputs": [],
   "source": [
    "data_val = df_mac.loc[val_gen.get_index()]"
   ]
  },
  {
   "cell_type": "code",
   "execution_count": 101,
   "metadata": {},
   "outputs": [
    {
     "name": "stdout",
     "output_type": "stream",
     "text": [
      "Original strategy on validation data:\n",
      "Net profit:          -8404.50     Gross profit:       168330.00\n",
      "Raw profit:          -8404.50     Gross loss:        -176734.50\n",
      "Fee paid:                0.00     Max drawdown:        21386.50\n",
      "Trades count:            3253     Profit factor:           0.95\n",
      "Profitable:            33.14%     Recovery factor:        -0.39\n",
      "Losing:                66.86%     Sharpe ratio:          -45.88\n",
      "\n",
      "Ideal footprint (y_val):\n",
      "Net profit:         238970.50     Gross profit:       246778.50\n",
      "Raw profit:         238970.50     Gross loss:          -7808.00\n",
      "Fee paid:                0.00     Max drawdown:          712.00\n",
      "Trades count:            1715     Profit factor:          31.61\n",
      "Profitable:            85.36%     Recovery factor:       335.63\n",
      "Losing:                14.64%     Sharpe ratio:         1080.32\n",
      "\n",
      "Prediction footprint:\n",
      "Net profit:          -2011.50     Gross profit:       168598.00\n",
      "Raw profit:          -2011.50     Gross loss:        -170609.50\n",
      "Fee paid:                0.00     Max drawdown:        12456.00\n",
      "Trades count:            5146     Profit factor:           0.99\n",
      "Profitable:            39.80%     Recovery factor:        -0.16\n",
      "Losing:                60.20%     Sharpe ratio:          -17.51\n"
     ]
    },
    {
     "data": {
      "text/plain": [
       "(<backtest.StrategyResult at 0x7f3e386daac0>,\n",
       " <backtest.StrategyResult at 0x7f3e37651a00>,\n",
       " <backtest.StrategyResult at 0x7f3dda3ae0d0>)"
      ]
     },
     "execution_count": 101,
     "metadata": {},
     "output_type": "execute_result"
    }
   ],
   "source": [
    "validate_strategy(MACrossStrategy(), data_val, y_val, y_pred_val, shift=1)"
   ]
  },
  {
   "cell_type": "code",
   "execution_count": null,
   "metadata": {},
   "outputs": [],
   "source": []
  }
 ],
 "metadata": {
  "interpreter": {
   "hash": "0cdbef4c81a582c199b9aebc51b939e4e7aa94804452b0c70e3059997ef74e01"
  },
  "kernelspec": {
   "display_name": "Python 3 (ipykernel)",
   "language": "python",
   "name": "python3"
  },
  "language_info": {
   "codemirror_mode": {
    "name": "ipython",
    "version": 3
   },
   "file_extension": ".py",
   "mimetype": "text/x-python",
   "name": "python",
   "nbconvert_exporter": "python",
   "pygments_lexer": "ipython3",
   "version": "3.9.10"
  }
 },
 "nbformat": 4,
 "nbformat_minor": 4
}
