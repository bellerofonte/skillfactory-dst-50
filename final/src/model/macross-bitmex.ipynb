{
 "cells": [
  {
   "cell_type": "code",
   "execution_count": 1,
   "metadata": {},
   "outputs": [],
   "source": [
    "# common\n",
    "import os\n",
    "os.environ['TF_CPP_MIN_LOG_LEVEL'] = '2' # suppress INFO and WARNING\n",
    "\n",
    "import pandas as pd\n",
    "import numpy as np\n",
    "import matplotlib.pyplot as plt\n",
    "import seaborn as sns\n",
    "from sklearn.model_selection import train_test_split\n",
    "from sklearn.metrics import accuracy_score, precision_score, recall_score, f1_score\n",
    "\n",
    "# ML\n",
    "from catboost import CatBoostClassifier, CatBoostRegressor\n",
    "\n",
    "# DL\n",
    "import tensorflow as tf\n",
    "from tensorflow.keras.layers import Dense, Dropout, BatchNormalization, LSTM, GlobalAveragePooling2D, GlobalMaxPooling2D, Flatten\n",
    "from tensorflow.keras.models import Model, Sequential\n",
    "from tensorflow.keras.metrics import Precision, Recall, Accuracy\n",
    "from tensorflow.keras.callbacks import ModelCheckpoint, EarlyStopping, ReduceLROnPlateau\n",
    "\n",
    "# My\n",
    "from backtest import Strategy, SignalStrategy\n",
    "# from window_generator import WindowGenerator\n",
    "\n",
    "# some definitions and settings\n",
    "PRICE_DEC = 1\n",
    "SIZE_DEC = 3\n",
    "TEST_FRAC = 0.15\n",
    "RANDOM_SEED = 73\n",
    "\n",
    "PERIODS = {\n",
    "    'long': 90,\n",
    "    'short': 10\n",
    "}\n",
    "\n",
    "%matplotlib inline\n",
    "plt.rcParams['figure.figsize'] = (15, 5)"
   ]
  },
  {
   "cell_type": "code",
   "execution_count": 2,
   "metadata": {},
   "outputs": [],
   "source": [
    "def mape(y_true, y_pred):\n",
    "    return np.mean(np.abs((y_pred - y_true) / y_true))\n",
    "\n",
    "def round_pred(y_pred, minstep = 0.5):\n",
    "    return np.round(y_pred / minstep) * minstep"
   ]
  },
  {
   "cell_type": "code",
   "execution_count": 3,
   "metadata": {},
   "outputs": [],
   "source": [
    "df = pd.read_csv('../../bars/bitmex-XBTUSD-1min.csv', parse_dates=['time'])\n",
    "df.sort_values('time', ignore_index=True, inplace=True)\n",
    "df.drop_duplicates(subset='time', ignore_index=True, inplace=True)\n",
    "df.hbl = df.hbl.astype('int')"
   ]
  },
  {
   "cell_type": "code",
   "execution_count": 4,
   "metadata": {},
   "outputs": [
    {
     "name": "stdout",
     "output_type": "stream",
     "text": [
      "<class 'pandas.core.frame.DataFrame'>\n",
      "RangeIndex: 567865 entries, 0 to 567864\n",
      "Data columns (total 18 columns):\n",
      " #   Column      Non-Null Count   Dtype         \n",
      "---  ------      --------------   -----         \n",
      " 0   time        567865 non-null  datetime64[ns]\n",
      " 1   open        567865 non-null  float64       \n",
      " 2   high        567865 non-null  float64       \n",
      " 3   low         567865 non-null  float64       \n",
      " 4   close       567865 non-null  float64       \n",
      " 5   avg         567865 non-null  float64       \n",
      " 6   wavg        567865 non-null  float64       \n",
      " 7   median      567865 non-null  float64       \n",
      " 8   sum_vol     567865 non-null  int64         \n",
      " 9   up_sum_vol  567865 non-null  int64         \n",
      " 10  md_sum_vol  567865 non-null  int64         \n",
      " 11  lo_sum_vol  567865 non-null  int64         \n",
      " 12  net_vol     567865 non-null  int64         \n",
      " 13  up_net_vol  567865 non-null  int64         \n",
      " 14  md_net_vol  567865 non-null  int64         \n",
      " 15  lo_net_vol  567865 non-null  int64         \n",
      " 16  cnt         567865 non-null  int64         \n",
      " 17  hbl         567865 non-null  int64         \n",
      "dtypes: datetime64[ns](1), float64(7), int64(10)\n",
      "memory usage: 78.0 MB\n"
     ]
    }
   ],
   "source": [
    "df.info()"
   ]
  },
  {
   "cell_type": "markdown",
   "metadata": {},
   "source": [
    "Пропусков в самих данных также нет. \n",
    "Имеем дело со следующими столбцами:\n",
    "\n",
    "| наименование | тип | описание |\n",
    "|--------------|-------|--------|\n",
    "|`time`        | datetime   | время начала периода (бара) |\n",
    "|`open`        | float      | цена первой сделки периода   |    \n",
    "|`high`        | float      | максимальная цена сделки периода |\n",
    "|`low`         | float      | минимальная цена сделки периода   |    \n",
    "|`close`       | float      | цена последней сделки периода |\n",
    "|`avg`         | float      | средняя цена сделок периода |\n",
    "|`wavg`        | float      | средневзвешенная по объему цена сделок периода |\n",
    "|`median`      | float      | медиана цен сделок периода |\n",
    "|`sum_vol`     | float      | сумма объемов сделок периода |\n",
    "|`up_sum_vol`  | float      | сумма объемов сделок в промежутке цен от `high` до `max(open, close)`      |\n",
    "|`md_sum_vol`  | float      | сумма объемов сделок в промежутке цен от `open` до `close`         |\n",
    "|`lo_sum_vol`  | float      | сумма объемов сделок в промежутке цен от `low` до `min(open, close)` |\n",
    "|`net_vol`     | float      | нетто-объем сделок периода (сумма объемов покупок минус сумма объемов продаж) |\n",
    "|`up_net_vol`  | float      | нетто-объемо сделок в промежутке цен от `high` до `max(open, close)`        |\n",
    "|`md_net_vol`  | float      | нетто-объем сделок в промежутке цен от `open` до `close`     |\n",
    "|`lo_net_vol`  | float      | нетто-объемо сделок в промежутке цен от `low` до `min(open, close)`   |      \n",
    "|`cnt`         | int        | количество сделок за период|\n",
    "|`hbl`         | int        | 1, если цена `high` была достигнута раньше, чем цена `low`, иначе 0"
   ]
  },
  {
   "cell_type": "markdown",
   "metadata": {},
   "source": [
    "Важный нюанс - perpetual фьючерсы `XBTUSD` и `ETHUSD` на бирже `Bitmex` являются **инверсными**, т.е. единица лота в них не сама криптовалюта, а доллар, а PnL, наоборот, рассчитывается и начисляется в криптовалюте. Это стандартная практика для криптовалютных бирж, которые не могут рассчитывать и начислять PnL в фиате или аналогичных фиату стебл-коинах. В случае `ETHUSD` все еще сложнее, ведь его лот привязан к долларовому выражению `BTC`. Поэтому пока не будем трогать `ETHUSD`, но для `XBTUSD` лоты пересчитаем в единицы криптовалюты, чтобы было: \n",
    "* единообразно по всем биржам в данном проекте\n",
    "* проще для рассчетов PnL в моделях\n",
    "* проще для восприятия"
   ]
  },
  {
   "cell_type": "code",
   "execution_count": 5,
   "metadata": {},
   "outputs": [],
   "source": [
    "for col in df.columns:\n",
    "    if col[-4:] == '_vol':\n",
    "        df[col] = np.round(df[col] / df.close, SIZE_DEC)"
   ]
  },
  {
   "cell_type": "code",
   "execution_count": 6,
   "metadata": {},
   "outputs": [
    {
     "data": {
      "text/html": [
       "<div>\n",
       "<style scoped>\n",
       "    .dataframe tbody tr th:only-of-type {\n",
       "        vertical-align: middle;\n",
       "    }\n",
       "\n",
       "    .dataframe tbody tr th {\n",
       "        vertical-align: top;\n",
       "    }\n",
       "\n",
       "    .dataframe thead th {\n",
       "        text-align: right;\n",
       "    }\n",
       "</style>\n",
       "<table border=\"1\" class=\"dataframe\">\n",
       "  <thead>\n",
       "    <tr style=\"text-align: right;\">\n",
       "      <th></th>\n",
       "      <th>time</th>\n",
       "      <th>open</th>\n",
       "      <th>high</th>\n",
       "      <th>low</th>\n",
       "      <th>close</th>\n",
       "      <th>avg</th>\n",
       "      <th>wavg</th>\n",
       "      <th>median</th>\n",
       "      <th>sum_vol</th>\n",
       "      <th>up_sum_vol</th>\n",
       "      <th>md_sum_vol</th>\n",
       "      <th>lo_sum_vol</th>\n",
       "      <th>net_vol</th>\n",
       "      <th>up_net_vol</th>\n",
       "      <th>md_net_vol</th>\n",
       "      <th>lo_net_vol</th>\n",
       "      <th>cnt</th>\n",
       "      <th>hbl</th>\n",
       "    </tr>\n",
       "  </thead>\n",
       "  <tbody>\n",
       "    <tr>\n",
       "      <th>245222</th>\n",
       "      <td>2021-06-20 08:35:00</td>\n",
       "      <td>35441.5</td>\n",
       "      <td>35441.5</td>\n",
       "      <td>35426.0</td>\n",
       "      <td>35426.0</td>\n",
       "      <td>35439.4</td>\n",
       "      <td>35439.7</td>\n",
       "      <td>35441.5</td>\n",
       "      <td>7.912</td>\n",
       "      <td>0.000</td>\n",
       "      <td>7.912</td>\n",
       "      <td>0.000</td>\n",
       "      <td>-7.912</td>\n",
       "      <td>0.000</td>\n",
       "      <td>-7.912</td>\n",
       "      <td>0.000</td>\n",
       "      <td>26</td>\n",
       "      <td>1</td>\n",
       "    </tr>\n",
       "    <tr>\n",
       "      <th>170715</th>\n",
       "      <td>2021-04-29 14:01:00</td>\n",
       "      <td>53699.5</td>\n",
       "      <td>53713.5</td>\n",
       "      <td>53653.0</td>\n",
       "      <td>53713.5</td>\n",
       "      <td>53676.8</td>\n",
       "      <td>53677.6</td>\n",
       "      <td>53663.0</td>\n",
       "      <td>50.186</td>\n",
       "      <td>0.000</td>\n",
       "      <td>6.909</td>\n",
       "      <td>43.277</td>\n",
       "      <td>-4.847</td>\n",
       "      <td>0.000</td>\n",
       "      <td>-0.148</td>\n",
       "      <td>-4.699</td>\n",
       "      <td>482</td>\n",
       "      <td>0</td>\n",
       "    </tr>\n",
       "    <tr>\n",
       "      <th>55370</th>\n",
       "      <td>2021-02-08 10:50:00</td>\n",
       "      <td>39429.0</td>\n",
       "      <td>39492.5</td>\n",
       "      <td>39429.0</td>\n",
       "      <td>39439.5</td>\n",
       "      <td>39459.3</td>\n",
       "      <td>39454.8</td>\n",
       "      <td>39458.5</td>\n",
       "      <td>159.233</td>\n",
       "      <td>142.089</td>\n",
       "      <td>17.144</td>\n",
       "      <td>0.000</td>\n",
       "      <td>36.390</td>\n",
       "      <td>48.688</td>\n",
       "      <td>-12.298</td>\n",
       "      <td>0.000</td>\n",
       "      <td>473</td>\n",
       "      <td>0</td>\n",
       "    </tr>\n",
       "    <tr>\n",
       "      <th>295103</th>\n",
       "      <td>2021-07-25 03:38:00</td>\n",
       "      <td>34251.0</td>\n",
       "      <td>34251.0</td>\n",
       "      <td>34250.5</td>\n",
       "      <td>34251.0</td>\n",
       "      <td>34250.8</td>\n",
       "      <td>34251.0</td>\n",
       "      <td>34251.0</td>\n",
       "      <td>0.893</td>\n",
       "      <td>0.000</td>\n",
       "      <td>0.820</td>\n",
       "      <td>0.073</td>\n",
       "      <td>0.747</td>\n",
       "      <td>0.000</td>\n",
       "      <td>0.820</td>\n",
       "      <td>-0.073</td>\n",
       "      <td>12</td>\n",
       "      <td>1</td>\n",
       "    </tr>\n",
       "    <tr>\n",
       "      <th>402194</th>\n",
       "      <td>2021-10-07 16:55:00</td>\n",
       "      <td>54285.5</td>\n",
       "      <td>54285.5</td>\n",
       "      <td>54162.5</td>\n",
       "      <td>54162.5</td>\n",
       "      <td>54209.9</td>\n",
       "      <td>54223.3</td>\n",
       "      <td>54205.0</td>\n",
       "      <td>25.001</td>\n",
       "      <td>0.000</td>\n",
       "      <td>25.001</td>\n",
       "      <td>0.000</td>\n",
       "      <td>-9.045</td>\n",
       "      <td>0.000</td>\n",
       "      <td>-9.045</td>\n",
       "      <td>0.000</td>\n",
       "      <td>204</td>\n",
       "      <td>1</td>\n",
       "    </tr>\n",
       "  </tbody>\n",
       "</table>\n",
       "</div>"
      ],
      "text/plain": [
       "                      time     open     high      low    close      avg  \\\n",
       "245222 2021-06-20 08:35:00  35441.5  35441.5  35426.0  35426.0  35439.4   \n",
       "170715 2021-04-29 14:01:00  53699.5  53713.5  53653.0  53713.5  53676.8   \n",
       "55370  2021-02-08 10:50:00  39429.0  39492.5  39429.0  39439.5  39459.3   \n",
       "295103 2021-07-25 03:38:00  34251.0  34251.0  34250.5  34251.0  34250.8   \n",
       "402194 2021-10-07 16:55:00  54285.5  54285.5  54162.5  54162.5  54209.9   \n",
       "\n",
       "           wavg   median  sum_vol  up_sum_vol  md_sum_vol  lo_sum_vol  \\\n",
       "245222  35439.7  35441.5    7.912       0.000       7.912       0.000   \n",
       "170715  53677.6  53663.0   50.186       0.000       6.909      43.277   \n",
       "55370   39454.8  39458.5  159.233     142.089      17.144       0.000   \n",
       "295103  34251.0  34251.0    0.893       0.000       0.820       0.073   \n",
       "402194  54223.3  54205.0   25.001       0.000      25.001       0.000   \n",
       "\n",
       "        net_vol  up_net_vol  md_net_vol  lo_net_vol  cnt  hbl  \n",
       "245222   -7.912       0.000      -7.912       0.000   26    1  \n",
       "170715   -4.847       0.000      -0.148      -4.699  482    0  \n",
       "55370    36.390      48.688     -12.298       0.000  473    0  \n",
       "295103    0.747       0.000       0.820      -0.073   12    1  \n",
       "402194   -9.045       0.000      -9.045       0.000  204    1  "
      ]
     },
     "execution_count": 6,
     "metadata": {},
     "output_type": "execute_result"
    }
   ],
   "source": [
    "df.sample(5)"
   ]
  },
  {
   "cell_type": "code",
   "execution_count": 7,
   "metadata": {},
   "outputs": [],
   "source": [
    "cnt_up = 0\n",
    "cnt_down = 0\n",
    "\n",
    "def count_up_bars(x):\n",
    "    global cnt_up\n",
    "    cnt_up = (cnt_up + 1) if x > 0 else 0\n",
    "    return cnt_up\n",
    "\n",
    "\n",
    "def count_down_bars(x):\n",
    "    global cnt_down\n",
    "    cnt_down = (cnt_down + 1) if x < 0 else 0\n",
    "    return cnt_down"
   ]
  },
  {
   "cell_type": "code",
   "execution_count": 8,
   "metadata": {},
   "outputs": [],
   "source": [
    "prev_close = df.close.shift(1)\n",
    "change_close = (df.close / prev_close) - 1\n",
    "DEFAULT_EPS = 0.002 # 0.2%\n",
    "\n",
    "df['up'] = (change_close > DEFAULT_EPS).astype('int')\n",
    "df['down'] = (change_close < -DEFAULT_EPS).astype('int')\n",
    "df['move'] = df['up'] - df['down']\n",
    "df['up_in_row'] = df['up'].apply(count_up_bars)\n",
    "df['down_in_row'] = df['down'].apply(count_down_bars)\n",
    "df['TR'] = np.maximum(df.high, prev_close) - np.minimum(df.low, prev_close)\n",
    "df.dropna(inplace=True)"
   ]
  },
  {
   "cell_type": "markdown",
   "metadata": {},
   "source": [
    "Добавим еще столбцов:\n",
    "\n",
    "| наименование | тип | описание |\n",
    "|--------------|-------|--------|\n",
    "|`up`          | int      | 1, если цена выросла больше шума, иначе 0 |\n",
    "|`down`        | int      | 1, если цена упала больше шума, иначе 0   |    \n",
    "|`move`        | int      | выросла или упала (`up-down`) |\n",
    "|`up_in_row`   | int      | сколько периодов подряд цена росла   |    \n",
    "|`down_in_row` | int      | сколько периодов подряд цена падала |\n",
    "|`TR`          | int      | _True range_ |"
   ]
  },
  {
   "cell_type": "code",
   "execution_count": 9,
   "metadata": {},
   "outputs": [],
   "source": [
    "def add_moving(data, period, key):\n",
    "    roll = data.rolling(period, min_periods=1)\n",
    "    std = roll.close.std().fillna(0)\n",
    "    min_std = std.quantile(0.25)\n",
    "    data[f'ma_{key}'] = roll.close.mean()\n",
    "    data[f'std_{key}'] = np.maximum(std, min_std)\n",
    "    data[f'ATR_{key}'] = roll.TR.mean()\n",
    "    data[f'high_{key}'] = roll.high.max()\n",
    "    data[f'low_{key}'] = roll.low.min()\n",
    "    data[f'sum_vol_{key}'] = roll.sum_vol.mean()\n",
    "    data[f'net_vol_{key}'] = roll.net_vol.mean()"
   ]
  },
  {
   "cell_type": "markdown",
   "metadata": {},
   "source": [
    "При необходимости можно будет накидывать дополнительные признаки, вычисленные по скользящему окну:\n",
    "\n",
    "| наименование | тип | описание |\n",
    "|--------------|-------|--------|\n",
    "|`ma_***`         | float      | _SMA(close)_, скользящая средняя цен закрытия  |\n",
    "|`std_***`        | float      | стандартное отклоение цен закрытия  |    \n",
    "|`ATR_***`        | float      | _Average True Range_ |\n",
    "|`high_***`       | float      | максимальная цена внутри окна   |    \n",
    "|`low_***`        | float      | минимальная цена внутри окна  |\n",
    "|`sum_vol_***`    | float      | средний объем сделок внутри окна |\n",
    "|`net_vol_***`    | float      | средний нетто-объем сделок внутри окна |"
   ]
  },
  {
   "cell_type": "code",
   "execution_count": 10,
   "metadata": {},
   "outputs": [
    {
     "data": {
      "text/plain": [
       " 0    525809\n",
       " 1     21477\n",
       "-1     20578\n",
       "Name: move, dtype: int64"
      ]
     },
     "execution_count": 10,
     "metadata": {},
     "output_type": "execute_result"
    }
   ],
   "source": [
    "df.move.value_counts()"
   ]
  },
  {
   "cell_type": "code",
   "execution_count": 11,
   "metadata": {},
   "outputs": [
    {
     "data": {
      "text/html": [
       "<div>\n",
       "<style scoped>\n",
       "    .dataframe tbody tr th:only-of-type {\n",
       "        vertical-align: middle;\n",
       "    }\n",
       "\n",
       "    .dataframe tbody tr th {\n",
       "        vertical-align: top;\n",
       "    }\n",
       "\n",
       "    .dataframe thead th {\n",
       "        text-align: right;\n",
       "    }\n",
       "</style>\n",
       "<table border=\"1\" class=\"dataframe\">\n",
       "  <thead>\n",
       "    <tr style=\"text-align: right;\">\n",
       "      <th></th>\n",
       "      <th>time</th>\n",
       "      <th>open</th>\n",
       "      <th>high</th>\n",
       "      <th>low</th>\n",
       "      <th>close</th>\n",
       "      <th>avg</th>\n",
       "      <th>wavg</th>\n",
       "      <th>median</th>\n",
       "      <th>sum_vol</th>\n",
       "      <th>up_sum_vol</th>\n",
       "      <th>...</th>\n",
       "      <th>md_net_vol</th>\n",
       "      <th>lo_net_vol</th>\n",
       "      <th>cnt</th>\n",
       "      <th>hbl</th>\n",
       "      <th>up</th>\n",
       "      <th>down</th>\n",
       "      <th>move</th>\n",
       "      <th>up_in_row</th>\n",
       "      <th>down_in_row</th>\n",
       "      <th>TR</th>\n",
       "    </tr>\n",
       "  </thead>\n",
       "  <tbody>\n",
       "    <tr>\n",
       "      <th>567860</th>\n",
       "      <td>2022-01-30 23:55:00</td>\n",
       "      <td>37930.5</td>\n",
       "      <td>37930.5</td>\n",
       "      <td>37918.5</td>\n",
       "      <td>37919.0</td>\n",
       "      <td>37927.2</td>\n",
       "      <td>37927.0</td>\n",
       "      <td>37930.0</td>\n",
       "      <td>5.746</td>\n",
       "      <td>0.000</td>\n",
       "      <td>...</td>\n",
       "      <td>3.916</td>\n",
       "      <td>-0.19</td>\n",
       "      <td>34</td>\n",
       "      <td>1</td>\n",
       "      <td>0</td>\n",
       "      <td>0</td>\n",
       "      <td>0</td>\n",
       "      <td>0</td>\n",
       "      <td>0</td>\n",
       "      <td>12.0</td>\n",
       "    </tr>\n",
       "    <tr>\n",
       "      <th>567861</th>\n",
       "      <td>2022-01-30 23:56:00</td>\n",
       "      <td>37918.5</td>\n",
       "      <td>37918.5</td>\n",
       "      <td>37898.0</td>\n",
       "      <td>37898.0</td>\n",
       "      <td>37906.4</td>\n",
       "      <td>37909.3</td>\n",
       "      <td>37903.5</td>\n",
       "      <td>0.617</td>\n",
       "      <td>0.000</td>\n",
       "      <td>...</td>\n",
       "      <td>-0.480</td>\n",
       "      <td>0.00</td>\n",
       "      <td>10</td>\n",
       "      <td>1</td>\n",
       "      <td>0</td>\n",
       "      <td>0</td>\n",
       "      <td>0</td>\n",
       "      <td>0</td>\n",
       "      <td>0</td>\n",
       "      <td>21.0</td>\n",
       "    </tr>\n",
       "    <tr>\n",
       "      <th>567862</th>\n",
       "      <td>2022-01-30 23:57:00</td>\n",
       "      <td>37897.5</td>\n",
       "      <td>37897.5</td>\n",
       "      <td>37893.0</td>\n",
       "      <td>37893.0</td>\n",
       "      <td>37895.1</td>\n",
       "      <td>37894.9</td>\n",
       "      <td>37893.5</td>\n",
       "      <td>0.699</td>\n",
       "      <td>0.000</td>\n",
       "      <td>...</td>\n",
       "      <td>-0.161</td>\n",
       "      <td>0.00</td>\n",
       "      <td>17</td>\n",
       "      <td>1</td>\n",
       "      <td>0</td>\n",
       "      <td>0</td>\n",
       "      <td>0</td>\n",
       "      <td>0</td>\n",
       "      <td>0</td>\n",
       "      <td>5.0</td>\n",
       "    </tr>\n",
       "    <tr>\n",
       "      <th>567863</th>\n",
       "      <td>2022-01-30 23:58:00</td>\n",
       "      <td>37893.5</td>\n",
       "      <td>37893.5</td>\n",
       "      <td>37893.0</td>\n",
       "      <td>37893.0</td>\n",
       "      <td>37893.3</td>\n",
       "      <td>37893.3</td>\n",
       "      <td>37893.5</td>\n",
       "      <td>1.093</td>\n",
       "      <td>0.000</td>\n",
       "      <td>...</td>\n",
       "      <td>0.380</td>\n",
       "      <td>0.00</td>\n",
       "      <td>7</td>\n",
       "      <td>1</td>\n",
       "      <td>0</td>\n",
       "      <td>0</td>\n",
       "      <td>0</td>\n",
       "      <td>0</td>\n",
       "      <td>0</td>\n",
       "      <td>0.5</td>\n",
       "    </tr>\n",
       "    <tr>\n",
       "      <th>567864</th>\n",
       "      <td>2022-01-30 23:59:00</td>\n",
       "      <td>37893.5</td>\n",
       "      <td>37932.0</td>\n",
       "      <td>37893.5</td>\n",
       "      <td>37893.5</td>\n",
       "      <td>37904.5</td>\n",
       "      <td>37902.1</td>\n",
       "      <td>37893.5</td>\n",
       "      <td>7.455</td>\n",
       "      <td>3.296</td>\n",
       "      <td>...</td>\n",
       "      <td>4.154</td>\n",
       "      <td>0.00</td>\n",
       "      <td>73</td>\n",
       "      <td>0</td>\n",
       "      <td>0</td>\n",
       "      <td>0</td>\n",
       "      <td>0</td>\n",
       "      <td>0</td>\n",
       "      <td>0</td>\n",
       "      <td>39.0</td>\n",
       "    </tr>\n",
       "  </tbody>\n",
       "</table>\n",
       "<p>5 rows × 24 columns</p>\n",
       "</div>"
      ],
      "text/plain": [
       "                      time     open     high      low    close      avg  \\\n",
       "567860 2022-01-30 23:55:00  37930.5  37930.5  37918.5  37919.0  37927.2   \n",
       "567861 2022-01-30 23:56:00  37918.5  37918.5  37898.0  37898.0  37906.4   \n",
       "567862 2022-01-30 23:57:00  37897.5  37897.5  37893.0  37893.0  37895.1   \n",
       "567863 2022-01-30 23:58:00  37893.5  37893.5  37893.0  37893.0  37893.3   \n",
       "567864 2022-01-30 23:59:00  37893.5  37932.0  37893.5  37893.5  37904.5   \n",
       "\n",
       "           wavg   median  sum_vol  up_sum_vol  ...  md_net_vol  lo_net_vol  \\\n",
       "567860  37927.0  37930.0    5.746       0.000  ...       3.916       -0.19   \n",
       "567861  37909.3  37903.5    0.617       0.000  ...      -0.480        0.00   \n",
       "567862  37894.9  37893.5    0.699       0.000  ...      -0.161        0.00   \n",
       "567863  37893.3  37893.5    1.093       0.000  ...       0.380        0.00   \n",
       "567864  37902.1  37893.5    7.455       3.296  ...       4.154        0.00   \n",
       "\n",
       "        cnt  hbl  up  down  move  up_in_row  down_in_row    TR  \n",
       "567860   34    1   0     0     0          0            0  12.0  \n",
       "567861   10    1   0     0     0          0            0  21.0  \n",
       "567862   17    1   0     0     0          0            0   5.0  \n",
       "567863    7    1   0     0     0          0            0   0.5  \n",
       "567864   73    0   0     0     0          0            0  39.0  \n",
       "\n",
       "[5 rows x 24 columns]"
      ]
     },
     "execution_count": 11,
     "metadata": {},
     "output_type": "execute_result"
    }
   ],
   "source": [
    "df.tail(5)"
   ]
  },
  {
   "cell_type": "markdown",
   "metadata": {},
   "source": [
    "## ML models"
   ]
  },
  {
   "cell_type": "code",
   "execution_count": 12,
   "metadata": {},
   "outputs": [],
   "source": [
    "TRAIN_SIZE = int(len(df) * (1.0 - TEST_FRAC))"
   ]
  },
  {
   "cell_type": "code",
   "execution_count": 13,
   "metadata": {},
   "outputs": [],
   "source": [
    "class MACrossStrategy(Strategy):\n",
    "    def __init__(self, cross_type=1):\n",
    "        if cross_type != 1 and cross_type != -1:\n",
    "            raise Exception('`cross_type` should be either `1`(up) or `-1`(down)')\n",
    "        \n",
    "        self.cross_type = cross_type\n",
    "        self.op = self.buy if cross_type == 1 else self.sell\n",
    "        \n",
    "        \n",
    "    def prepare(self, data):\n",
    "        cols = data.columns\n",
    "        if not ('ma_long' in cols):\n",
    "            raise Exception('missing `ma_long` column')\n",
    "            \n",
    "        if not ('ma_short' in cols):\n",
    "            raise Exception('missing `ma_short` column')\n",
    "            \n",
    "        self.cross = (self.cross_type * (data.ma_short - data.ma_long)).shift(1)\n",
    "        # shift is necessary because we can only use it on the next bar\n",
    "\n",
    "        \n",
    "    def next(self, row):\n",
    "        # if prev's bar cross value satisfies out cross_type - make trade at current bar open\n",
    "        if (self.cross[row.name] > 0):\n",
    "            self.op(row, row.open)\n",
    "        else:\n",
    "            # otherwise - close position if present\n",
    "            self.close(row, row.open)"
   ]
  },
  {
   "cell_type": "code",
   "execution_count": 14,
   "metadata": {},
   "outputs": [],
   "source": [
    "MA_PERIOD_LONG = 13\n",
    "MA_PERIOD_SHORT = 5\n",
    "\n",
    "df_mac = df.copy(deep=False)\n",
    "add_moving(df_mac, MA_PERIOD_LONG, 'long')\n",
    "add_moving(df_mac, MA_PERIOD_SHORT, 'short')\n",
    "\n",
    "for col1 in ['open', 'high', 'low', 'close']:\n",
    "    for per in ['long', 'short']:\n",
    "        for col2 in ['ma', 'high', 'low']:\n",
    "            df_mac[f'{col1}_by_{col2}_{per}'] = (df_mac[col1] - df_mac[f'{col2}_{per}']) / df_mac[f'std_{per}']\n",
    "            \n",
    "df_mac['macd'] = (df_mac['ma_short'] - df_mac['ma_long']) / df_mac['std_long']\n",
    "df_mac['macd_bin'] = (df_mac['macd'] > 0).astype('int')\n",
    "df_mac['macd_bin_1'] = df_mac['macd_bin'].shift(1).fillna(0)\n",
    "df_mac['tod'] = (df_mac.time.dt.hour * 60) + df_mac.time.dt.minute\n",
    "data_train = df_mac.iloc[:TRAIN_SIZE]"
   ]
  },
  {
   "cell_type": "code",
   "execution_count": 15,
   "metadata": {},
   "outputs": [
    {
     "name": "stdout",
     "output_type": "stream",
     "text": [
      "Net profit:         -13627.50     Gross profit:      1166661.00\n",
      "Raw profit:         -13627.50     Gross loss:       -1180288.50\n",
      "Fee paid:                0.00     Max drawdown:        57012.50\n",
      "Trades count:           21450     Profit factor:           0.99\n",
      "Profitable:            36.20%     Recovery factor:        -0.24\n",
      "Losing:                63.80%     Sharpe ratio:          -73.73\n"
     ]
    }
   ],
   "source": [
    "ma_cross_res = MACrossStrategy().run(data_train)\n",
    "ma_cross_res.summary()"
   ]
  },
  {
   "cell_type": "code",
   "execution_count": 16,
   "metadata": {},
   "outputs": [
    {
     "data": {
      "text/plain": [
       "<AxesSubplot:xlabel='time', ylabel='pnl'>"
      ]
     },
     "execution_count": 16,
     "metadata": {},
     "output_type": "execute_result"
    },
    {
     "data": {
      "image/png": "[encoded data removed]",
      "text/plain": [
       "<Figure size 1080x360 with 1 Axes>"
      ]
     },
     "metadata": {
      "needs_background": "light"
     },
     "output_type": "display_data"
    }
   ],
   "source": [
    "sns.lineplot(y=ma_cross_res.equity.pnl, x=data_train.time)"
   ]
  },
  {
   "cell_type": "code",
   "execution_count": 17,
   "metadata": {},
   "outputs": [
    {
     "data": {
      "text/plain": [
       "<AxesSubplot:xlabel='time', ylabel='pnl_open'>"
      ]
     },
     "execution_count": 17,
     "metadata": {},
     "output_type": "execute_result"
    },
    {
     "data": {
      "image/png": "[encoded data removed]",
      "text/plain": [
       "<Figure size 1080x360 with 1 Axes>"
      ]
     },
     "metadata": {
      "needs_background": "light"
     },
     "output_type": "display_data"
    }
   ],
   "source": [
    "sns.lineplot(y=ma_cross_res.equity.pnl_open, x=data_train.time, color='r')\n",
    "sns.lineplot(y=ma_cross_res.equity.pnl_open_max, x=data_train.time, color='g', alpha=0.15)"
   ]
  },
  {
   "cell_type": "code",
   "execution_count": 18,
   "metadata": {},
   "outputs": [],
   "source": [
    "trades = ma_cross_res.trades\n",
    "equity = ma_cross_res.equity\n",
    "fix_pos = ma_cross_res.best_pos(min_bars_held=2)"
   ]
  },
  {
   "cell_type": "code",
   "execution_count": 19,
   "metadata": {},
   "outputs": [
    {
     "data": {
      "text/html": [
       "<div>\n",
       "<style scoped>\n",
       "    .dataframe tbody tr th:only-of-type {\n",
       "        vertical-align: middle;\n",
       "    }\n",
       "\n",
       "    .dataframe tbody tr th {\n",
       "        vertical-align: top;\n",
       "    }\n",
       "\n",
       "    .dataframe thead th {\n",
       "        text-align: right;\n",
       "    }\n",
       "</style>\n",
       "<table border=\"1\" class=\"dataframe\">\n",
       "  <thead>\n",
       "    <tr style=\"text-align: right;\">\n",
       "      <th></th>\n",
       "      <th>pos</th>\n",
       "      <th>price_enter</th>\n",
       "      <th>price_exit</th>\n",
       "      <th>index_enter</th>\n",
       "      <th>index_exit</th>\n",
       "      <th>index_max</th>\n",
       "      <th>index_min</th>\n",
       "      <th>fee</th>\n",
       "      <th>pnl</th>\n",
       "      <th>pnl_max</th>\n",
       "      <th>pnl_min</th>\n",
       "      <th>result</th>\n",
       "    </tr>\n",
       "  </thead>\n",
       "  <tbody>\n",
       "    <tr>\n",
       "      <th>0</th>\n",
       "      <td>1</td>\n",
       "      <td>28870.0</td>\n",
       "      <td>29359.0</td>\n",
       "      <td>24</td>\n",
       "      <td>84</td>\n",
       "      <td>74</td>\n",
       "      <td>29</td>\n",
       "      <td>0.0</td>\n",
       "      <td>489.0</td>\n",
       "      <td>585.0</td>\n",
       "      <td>-3.0</td>\n",
       "      <td>489.0</td>\n",
       "    </tr>\n",
       "    <tr>\n",
       "      <th>1</th>\n",
       "      <td>1</td>\n",
       "      <td>29425.0</td>\n",
       "      <td>29439.5</td>\n",
       "      <td>89</td>\n",
       "      <td>104</td>\n",
       "      <td>98</td>\n",
       "      <td>93</td>\n",
       "      <td>0.0</td>\n",
       "      <td>14.5</td>\n",
       "      <td>115.0</td>\n",
       "      <td>-25.0</td>\n",
       "      <td>14.5</td>\n",
       "    </tr>\n",
       "    <tr>\n",
       "      <th>2</th>\n",
       "      <td>1</td>\n",
       "      <td>29420.0</td>\n",
       "      <td>29420.0</td>\n",
       "      <td>114</td>\n",
       "      <td>115</td>\n",
       "      <td>114</td>\n",
       "      <td>114</td>\n",
       "      <td>0.0</td>\n",
       "      <td>0.0</td>\n",
       "      <td>0.0</td>\n",
       "      <td>0.0</td>\n",
       "      <td>0.0</td>\n",
       "    </tr>\n",
       "    <tr>\n",
       "      <th>3</th>\n",
       "      <td>1</td>\n",
       "      <td>29450.0</td>\n",
       "      <td>29421.5</td>\n",
       "      <td>118</td>\n",
       "      <td>127</td>\n",
       "      <td>120</td>\n",
       "      <td>126</td>\n",
       "      <td>0.0</td>\n",
       "      <td>-28.5</td>\n",
       "      <td>60.0</td>\n",
       "      <td>-28.0</td>\n",
       "      <td>-28.5</td>\n",
       "    </tr>\n",
       "    <tr>\n",
       "      <th>4</th>\n",
       "      <td>1</td>\n",
       "      <td>29390.0</td>\n",
       "      <td>29284.5</td>\n",
       "      <td>143</td>\n",
       "      <td>151</td>\n",
       "      <td>144</td>\n",
       "      <td>150</td>\n",
       "      <td>0.0</td>\n",
       "      <td>-105.5</td>\n",
       "      <td>26.5</td>\n",
       "      <td>-105.5</td>\n",
       "      <td>-105.5</td>\n",
       "    </tr>\n",
       "    <tr>\n",
       "      <th>...</th>\n",
       "      <td>...</td>\n",
       "      <td>...</td>\n",
       "      <td>...</td>\n",
       "      <td>...</td>\n",
       "      <td>...</td>\n",
       "      <td>...</td>\n",
       "      <td>...</td>\n",
       "      <td>...</td>\n",
       "      <td>...</td>\n",
       "      <td>...</td>\n",
       "      <td>...</td>\n",
       "      <td>...</td>\n",
       "    </tr>\n",
       "    <tr>\n",
       "      <th>21445</th>\n",
       "      <td>1</td>\n",
       "      <td>57230.0</td>\n",
       "      <td>57056.0</td>\n",
       "      <td>482557</td>\n",
       "      <td>482566</td>\n",
       "      <td>482558</td>\n",
       "      <td>482565</td>\n",
       "      <td>0.0</td>\n",
       "      <td>-174.0</td>\n",
       "      <td>117.0</td>\n",
       "      <td>-174.5</td>\n",
       "      <td>-174.0</td>\n",
       "    </tr>\n",
       "    <tr>\n",
       "      <th>21446</th>\n",
       "      <td>1</td>\n",
       "      <td>56644.0</td>\n",
       "      <td>56477.0</td>\n",
       "      <td>482585</td>\n",
       "      <td>482589</td>\n",
       "      <td>482585</td>\n",
       "      <td>482588</td>\n",
       "      <td>0.0</td>\n",
       "      <td>-167.0</td>\n",
       "      <td>58.5</td>\n",
       "      <td>-174.5</td>\n",
       "      <td>-167.0</td>\n",
       "    </tr>\n",
       "    <tr>\n",
       "      <th>21447</th>\n",
       "      <td>1</td>\n",
       "      <td>56389.5</td>\n",
       "      <td>56346.0</td>\n",
       "      <td>482604</td>\n",
       "      <td>482629</td>\n",
       "      <td>482623</td>\n",
       "      <td>482608</td>\n",
       "      <td>0.0</td>\n",
       "      <td>-43.5</td>\n",
       "      <td>356.5</td>\n",
       "      <td>-79.0</td>\n",
       "      <td>-43.5</td>\n",
       "    </tr>\n",
       "    <tr>\n",
       "      <th>21448</th>\n",
       "      <td>1</td>\n",
       "      <td>56245.0</td>\n",
       "      <td>56152.5</td>\n",
       "      <td>482657</td>\n",
       "      <td>482661</td>\n",
       "      <td>482657</td>\n",
       "      <td>482659</td>\n",
       "      <td>0.0</td>\n",
       "      <td>-92.5</td>\n",
       "      <td>45.5</td>\n",
       "      <td>-93.0</td>\n",
       "      <td>-92.5</td>\n",
       "    </tr>\n",
       "    <tr>\n",
       "      <th>21449</th>\n",
       "      <td>1</td>\n",
       "      <td>56174.0</td>\n",
       "      <td>56466.5</td>\n",
       "      <td>482668</td>\n",
       "      <td>482684</td>\n",
       "      <td>482677</td>\n",
       "      <td>482668</td>\n",
       "      <td>0.0</td>\n",
       "      <td>292.5</td>\n",
       "      <td>331.0</td>\n",
       "      <td>0.0</td>\n",
       "      <td>292.5</td>\n",
       "    </tr>\n",
       "  </tbody>\n",
       "</table>\n",
       "<p>21450 rows × 12 columns</p>\n",
       "</div>"
      ],
      "text/plain": [
       "       pos  price_enter  price_exit  index_enter  index_exit  index_max  \\\n",
       "0        1      28870.0     29359.0           24          84         74   \n",
       "1        1      29425.0     29439.5           89         104         98   \n",
       "2        1      29420.0     29420.0          114         115        114   \n",
       "3        1      29450.0     29421.5          118         127        120   \n",
       "4        1      29390.0     29284.5          143         151        144   \n",
       "...    ...          ...         ...          ...         ...        ...   \n",
       "21445    1      57230.0     57056.0       482557      482566     482558   \n",
       "21446    1      56644.0     56477.0       482585      482589     482585   \n",
       "21447    1      56389.5     56346.0       482604      482629     482623   \n",
       "21448    1      56245.0     56152.5       482657      482661     482657   \n",
       "21449    1      56174.0     56466.5       482668      482684     482677   \n",
       "\n",
       "       index_min  fee    pnl  pnl_max  pnl_min  result  \n",
       "0             29  0.0  489.0    585.0     -3.0   489.0  \n",
       "1             93  0.0   14.5    115.0    -25.0    14.5  \n",
       "2            114  0.0    0.0      0.0      0.0     0.0  \n",
       "3            126  0.0  -28.5     60.0    -28.0   -28.5  \n",
       "4            150  0.0 -105.5     26.5   -105.5  -105.5  \n",
       "...          ...  ...    ...      ...      ...     ...  \n",
       "21445     482565  0.0 -174.0    117.0   -174.5  -174.0  \n",
       "21446     482588  0.0 -167.0     58.5   -174.5  -167.0  \n",
       "21447     482608  0.0  -43.5    356.5    -79.0   -43.5  \n",
       "21448     482659  0.0  -92.5     45.5    -93.0   -92.5  \n",
       "21449     482668  0.0  292.5    331.0      0.0   292.5  \n",
       "\n",
       "[21450 rows x 12 columns]"
      ]
     },
     "execution_count": 19,
     "metadata": {},
     "output_type": "execute_result"
    }
   ],
   "source": [
    "trades"
   ]
  },
  {
   "cell_type": "code",
   "execution_count": 20,
   "metadata": {},
   "outputs": [
    {
     "name": "stdout",
     "output_type": "stream",
     "text": [
      "Net profit:        2272721.00     Gross profit:      2272854.50\n",
      "Raw profit:        2272721.00     Gross loss:           -133.50\n",
      "Fee paid:                0.00     Max drawdown:         1044.00\n",
      "Trades count:           11365     Profit factor:       17025.13\n",
      "Profitable:            99.67%     Recovery factor:      2176.94\n",
      "Losing:                 0.33%     Sharpe ratio:         9403.11\n"
     ]
    }
   ],
   "source": [
    "mac_fix_res = SignalStrategy(fix_pos).run(data_train)\n",
    "mac_fix_res.summary()"
   ]
  },
  {
   "cell_type": "code",
   "execution_count": 21,
   "metadata": {},
   "outputs": [
    {
     "data": {
      "text/html": [
       "<div>\n",
       "<style scoped>\n",
       "    .dataframe tbody tr th:only-of-type {\n",
       "        vertical-align: middle;\n",
       "    }\n",
       "\n",
       "    .dataframe tbody tr th {\n",
       "        vertical-align: top;\n",
       "    }\n",
       "\n",
       "    .dataframe thead th {\n",
       "        text-align: right;\n",
       "    }\n",
       "</style>\n",
       "<table border=\"1\" class=\"dataframe\">\n",
       "  <thead>\n",
       "    <tr style=\"text-align: right;\">\n",
       "      <th></th>\n",
       "      <th>pos</th>\n",
       "      <th>price_enter</th>\n",
       "      <th>price_exit</th>\n",
       "      <th>index_enter</th>\n",
       "      <th>index_exit</th>\n",
       "      <th>index_max</th>\n",
       "      <th>index_min</th>\n",
       "      <th>fee</th>\n",
       "      <th>pnl</th>\n",
       "      <th>pnl_max</th>\n",
       "      <th>pnl_min</th>\n",
       "      <th>result</th>\n",
       "    </tr>\n",
       "  </thead>\n",
       "  <tbody>\n",
       "    <tr>\n",
       "      <th>0</th>\n",
       "      <td>1</td>\n",
       "      <td>28870.0</td>\n",
       "      <td>29454.5</td>\n",
       "      <td>24</td>\n",
       "      <td>75</td>\n",
       "      <td>74</td>\n",
       "      <td>29</td>\n",
       "      <td>0.0</td>\n",
       "      <td>584.5</td>\n",
       "      <td>585.0</td>\n",
       "      <td>-3.0</td>\n",
       "      <td>584.5</td>\n",
       "    </tr>\n",
       "    <tr>\n",
       "      <th>1</th>\n",
       "      <td>1</td>\n",
       "      <td>29425.0</td>\n",
       "      <td>29540.0</td>\n",
       "      <td>89</td>\n",
       "      <td>99</td>\n",
       "      <td>98</td>\n",
       "      <td>93</td>\n",
       "      <td>0.0</td>\n",
       "      <td>115.0</td>\n",
       "      <td>115.0</td>\n",
       "      <td>-25.0</td>\n",
       "      <td>115.0</td>\n",
       "    </tr>\n",
       "    <tr>\n",
       "      <th>2</th>\n",
       "      <td>1</td>\n",
       "      <td>29450.0</td>\n",
       "      <td>29511.0</td>\n",
       "      <td>118</td>\n",
       "      <td>121</td>\n",
       "      <td>120</td>\n",
       "      <td>118</td>\n",
       "      <td>0.0</td>\n",
       "      <td>61.0</td>\n",
       "      <td>60.0</td>\n",
       "      <td>0.0</td>\n",
       "      <td>61.0</td>\n",
       "    </tr>\n",
       "    <tr>\n",
       "      <th>3</th>\n",
       "      <td>1</td>\n",
       "      <td>29336.5</td>\n",
       "      <td>29400.0</td>\n",
       "      <td>165</td>\n",
       "      <td>170</td>\n",
       "      <td>169</td>\n",
       "      <td>165</td>\n",
       "      <td>0.0</td>\n",
       "      <td>63.5</td>\n",
       "      <td>63.0</td>\n",
       "      <td>0.0</td>\n",
       "      <td>63.5</td>\n",
       "    </tr>\n",
       "    <tr>\n",
       "      <th>4</th>\n",
       "      <td>1</td>\n",
       "      <td>29318.0</td>\n",
       "      <td>29359.5</td>\n",
       "      <td>185</td>\n",
       "      <td>196</td>\n",
       "      <td>195</td>\n",
       "      <td>188</td>\n",
       "      <td>0.0</td>\n",
       "      <td>41.5</td>\n",
       "      <td>41.5</td>\n",
       "      <td>-28.0</td>\n",
       "      <td>41.5</td>\n",
       "    </tr>\n",
       "    <tr>\n",
       "      <th>...</th>\n",
       "      <td>...</td>\n",
       "      <td>...</td>\n",
       "      <td>...</td>\n",
       "      <td>...</td>\n",
       "      <td>...</td>\n",
       "      <td>...</td>\n",
       "      <td>...</td>\n",
       "      <td>...</td>\n",
       "      <td>...</td>\n",
       "      <td>...</td>\n",
       "      <td>...</td>\n",
       "      <td>...</td>\n",
       "    </tr>\n",
       "    <tr>\n",
       "      <th>11360</th>\n",
       "      <td>1</td>\n",
       "      <td>56447.5</td>\n",
       "      <td>56513.5</td>\n",
       "      <td>482492</td>\n",
       "      <td>482496</td>\n",
       "      <td>482495</td>\n",
       "      <td>482492</td>\n",
       "      <td>0.0</td>\n",
       "      <td>66.0</td>\n",
       "      <td>63.5</td>\n",
       "      <td>0.0</td>\n",
       "      <td>66.0</td>\n",
       "    </tr>\n",
       "    <tr>\n",
       "      <th>11361</th>\n",
       "      <td>1</td>\n",
       "      <td>56631.5</td>\n",
       "      <td>56745.0</td>\n",
       "      <td>482507</td>\n",
       "      <td>482510</td>\n",
       "      <td>482509</td>\n",
       "      <td>482507</td>\n",
       "      <td>0.0</td>\n",
       "      <td>113.5</td>\n",
       "      <td>113.0</td>\n",
       "      <td>0.0</td>\n",
       "      <td>113.5</td>\n",
       "    </tr>\n",
       "    <tr>\n",
       "      <th>11362</th>\n",
       "      <td>1</td>\n",
       "      <td>56755.0</td>\n",
       "      <td>57181.5</td>\n",
       "      <td>482532</td>\n",
       "      <td>482548</td>\n",
       "      <td>482547</td>\n",
       "      <td>482532</td>\n",
       "      <td>0.0</td>\n",
       "      <td>426.5</td>\n",
       "      <td>439.5</td>\n",
       "      <td>-0.5</td>\n",
       "      <td>426.5</td>\n",
       "    </tr>\n",
       "    <tr>\n",
       "      <th>11363</th>\n",
       "      <td>1</td>\n",
       "      <td>56389.5</td>\n",
       "      <td>56746.5</td>\n",
       "      <td>482604</td>\n",
       "      <td>482624</td>\n",
       "      <td>482623</td>\n",
       "      <td>482608</td>\n",
       "      <td>0.0</td>\n",
       "      <td>357.0</td>\n",
       "      <td>356.5</td>\n",
       "      <td>-79.0</td>\n",
       "      <td>357.0</td>\n",
       "    </tr>\n",
       "    <tr>\n",
       "      <th>11364</th>\n",
       "      <td>1</td>\n",
       "      <td>56174.0</td>\n",
       "      <td>56490.5</td>\n",
       "      <td>482668</td>\n",
       "      <td>482678</td>\n",
       "      <td>482677</td>\n",
       "      <td>482668</td>\n",
       "      <td>0.0</td>\n",
       "      <td>316.5</td>\n",
       "      <td>331.0</td>\n",
       "      <td>0.0</td>\n",
       "      <td>316.5</td>\n",
       "    </tr>\n",
       "  </tbody>\n",
       "</table>\n",
       "<p>11365 rows × 12 columns</p>\n",
       "</div>"
      ],
      "text/plain": [
       "       pos  price_enter  price_exit  index_enter  index_exit  index_max  \\\n",
       "0        1      28870.0     29454.5           24          75         74   \n",
       "1        1      29425.0     29540.0           89          99         98   \n",
       "2        1      29450.0     29511.0          118         121        120   \n",
       "3        1      29336.5     29400.0          165         170        169   \n",
       "4        1      29318.0     29359.5          185         196        195   \n",
       "...    ...          ...         ...          ...         ...        ...   \n",
       "11360    1      56447.5     56513.5       482492      482496     482495   \n",
       "11361    1      56631.5     56745.0       482507      482510     482509   \n",
       "11362    1      56755.0     57181.5       482532      482548     482547   \n",
       "11363    1      56389.5     56746.5       482604      482624     482623   \n",
       "11364    1      56174.0     56490.5       482668      482678     482677   \n",
       "\n",
       "       index_min  fee    pnl  pnl_max  pnl_min  result  \n",
       "0             29  0.0  584.5    585.0     -3.0   584.5  \n",
       "1             93  0.0  115.0    115.0    -25.0   115.0  \n",
       "2            118  0.0   61.0     60.0      0.0    61.0  \n",
       "3            165  0.0   63.5     63.0      0.0    63.5  \n",
       "4            188  0.0   41.5     41.5    -28.0    41.5  \n",
       "...          ...  ...    ...      ...      ...     ...  \n",
       "11360     482492  0.0   66.0     63.5      0.0    66.0  \n",
       "11361     482507  0.0  113.5    113.0      0.0   113.5  \n",
       "11362     482532  0.0  426.5    439.5     -0.5   426.5  \n",
       "11363     482608  0.0  357.0    356.5    -79.0   357.0  \n",
       "11364     482668  0.0  316.5    331.0      0.0   316.5  \n",
       "\n",
       "[11365 rows x 12 columns]"
      ]
     },
     "execution_count": 21,
     "metadata": {},
     "output_type": "execute_result"
    }
   ],
   "source": [
    "mac_fix_res.trades"
   ]
  },
  {
   "cell_type": "markdown",
   "metadata": {},
   "source": [
    "### Подход №1\n",
    "пробуем обучить модель покупать-продавать в идеальных точках"
   ]
  },
  {
   "cell_type": "markdown",
   "metadata": {},
   "source": [
    "`MACrossStrategy` входит в позицию на баре, следующем после пересечения средних - это непременное условие отсутствия \"подглядывания в будущее\". Кроме того, метод `best_pos` делает выход из позиции на баре, следующим за баром с максимальным доходом по текущей позиции - по той же причине. Поэтому для обучения модели целесобразно сдвинуть ряд `fix_pos` на 1 в прошлое"
   ]
  },
  {
   "cell_type": "code",
   "execution_count": 22,
   "metadata": {},
   "outputs": [],
   "source": [
    "fix_pos = fix_pos.shift(-1).fillna(0).astype('int')"
   ]
  },
  {
   "cell_type": "code",
   "execution_count": 23,
   "metadata": {},
   "outputs": [
    {
     "data": {
      "text/plain": [
       "((410281, 65), (410281,), (72403, 65), (72403,))"
      ]
     },
     "execution_count": 23,
     "metadata": {},
     "output_type": "execute_result"
    }
   ],
   "source": [
    "X_train, X_val, y_train, y_val = train_test_split(data_train.drop(columns='time'), fix_pos, \n",
    "                                                  test_size=TEST_FRAC, \n",
    "                                                  shuffle=False, \n",
    "                                                  random_state=RANDOM_SEED)\n",
    "X_train.shape, y_train.shape, X_val.shape, y_val.shape"
   ]
  },
  {
   "cell_type": "code",
   "execution_count": 24,
   "metadata": {},
   "outputs": [
    {
     "name": "stdout",
     "output_type": "stream",
     "text": [
      "Learning rate set to 0.016459\n",
      "0:\tlearn: 0.6567071\ttest: 0.6668896\tbest: 0.6668896 (0)\ttotal: 21.4ms\tremaining: 3m 34s\n",
      "1000:\tlearn: 0.6785243\ttest: 0.6911859\tbest: 0.6913725 (952)\ttotal: 16.8s\tremaining: 2m 30s\n",
      "2000:\tlearn: 0.6847414\ttest: 0.6908831\tbest: 0.6919474 (1292)\ttotal: 33.2s\tremaining: 2m 12s\n",
      "3000:\tlearn: 0.6904813\ttest: 0.6909244\tbest: 0.6919474 (1292)\ttotal: 49.6s\tremaining: 1m 55s\n",
      "4000:\tlearn: 0.6955591\ttest: 0.6909504\tbest: 0.6919474 (1292)\ttotal: 1m 6s\tremaining: 1m 38s\n",
      "5000:\tlearn: 0.7008198\ttest: 0.6904407\tbest: 0.6919474 (1292)\ttotal: 1m 22s\tremaining: 1m 22s\n",
      "6000:\tlearn: 0.7056506\ttest: 0.6902136\tbest: 0.6919474 (1292)\ttotal: 1m 38s\tremaining: 1m 5s\n",
      "7000:\tlearn: 0.7105057\ttest: 0.6896350\tbest: 0.6919474 (1292)\ttotal: 1m 55s\tremaining: 49.4s\n",
      "8000:\tlearn: 0.7151439\ttest: 0.6900657\tbest: 0.6919474 (1292)\ttotal: 2m 11s\tremaining: 32.9s\n",
      "9000:\tlearn: 0.7196226\ttest: 0.6901957\tbest: 0.6919474 (1292)\ttotal: 2m 28s\tremaining: 16.4s\n",
      "9999:\tlearn: 0.7232769\ttest: 0.6901446\tbest: 0.6919474 (1292)\ttotal: 2m 44s\tremaining: 0us\n",
      "bestTest = 0.691947416\n",
      "bestIteration = 1292\n",
      "Shrink model to first 1293 iterations.\n"
     ]
    },
    {
     "data": {
      "text/plain": [
       "<catboost.core.CatBoostClassifier at 0x7f670ad84d60>"
      ]
     },
     "execution_count": 24,
     "metadata": {},
     "output_type": "execute_result"
    }
   ],
   "source": [
    "mac_catboost = CatBoostClassifier(iterations = 10000,\n",
    "                                #depth=10,\n",
    "                                #learning_rate = 0.5,\n",
    "                                random_seed = RANDOM_SEED,\n",
    "                                # eval_metric='Accuracy',\n",
    "                                # custom_metric=['F1'],\n",
    "                                eval_metric='Precision',\n",
    "                                custom_metric=['F1'],\n",
    "                                # od_wait=3000,\n",
    "                                task_type='GPU')\n",
    "\n",
    "mac_catboost.fit(X_train, y_train,\n",
    "                eval_set=(X_val, y_val),\n",
    "                verbose_eval=1000,\n",
    "                use_best_model=True)"
   ]
  },
  {
   "cell_type": "code",
   "execution_count": 25,
   "metadata": {},
   "outputs": [
    {
     "data": {
      "text/plain": [
       "(72403,)"
      ]
     },
     "execution_count": 25,
     "metadata": {},
     "output_type": "execute_result"
    }
   ],
   "source": [
    "y_pred_raw = mac_catboost.predict(X_val)\n",
    "y_pred_raw.shape"
   ]
  },
  {
   "cell_type": "code",
   "execution_count": 37,
   "metadata": {},
   "outputs": [
    {
     "data": {
      "text/plain": [
       "(0.8558070798171347, 0.7135173700675046)"
      ]
     },
     "execution_count": 37,
     "metadata": {},
     "output_type": "execute_result"
    }
   ],
   "source": [
    "accuracy_score(y_pred_raw, y_val), f1_score(y_pred_raw, y_val)"
   ]
  },
  {
   "cell_type": "code",
   "execution_count": 27,
   "metadata": {},
   "outputs": [
    {
     "data": {
      "text/plain": [
       "macd_bin               55.698314\n",
       "macd                   25.874159\n",
       "close_by_low_short      2.023840\n",
       "close_by_ma_long        1.697187\n",
       "macd_bin_1              1.453856\n",
       "close_by_ma_short       1.145384\n",
       "net_vol_long            1.142999\n",
       "close_by_high_short     1.120792\n",
       "std_short               1.033168\n",
       "ATR_long                0.762883\n",
       "dtype: float64"
      ]
     },
     "execution_count": 27,
     "metadata": {},
     "output_type": "execute_result"
    }
   ],
   "source": [
    "feat_imp = pd.Series(data=mac_catboost.feature_importances_, index=X_train.columns)\n",
    "feat_imp.sort_values(ascending=False).head(10)"
   ]
  },
  {
   "cell_type": "code",
   "execution_count": 28,
   "metadata": {},
   "outputs": [],
   "source": [
    "def validate_strategy(strategy, X_val, y_val, model, shift=1):\n",
    "    print('Original strategy on validation data:')\n",
    "    res_orig = strategy.run(X_val)\n",
    "    res_orig.summary()\n",
    "    print()\n",
    "    print('Ideal footprint (y_val):')\n",
    "    res_val = SignalStrategy(y_val, shift=shift).run(X_val)\n",
    "    res_val.summary()\n",
    "    print()\n",
    "    print('Prediction footprint:')\n",
    "    res_pred = SignalStrategy(model, shift=shift).run(X_val)\n",
    "    res_pred.summary()\n",
    "    \n",
    "    return (res_orig, res_val, res_pred)"
   ]
  },
  {
   "cell_type": "code",
   "execution_count": 29,
   "metadata": {},
   "outputs": [
    {
     "name": "stdout",
     "output_type": "stream",
     "text": [
      "Original strategy on validation data:\n",
      "Net profit:          -8404.50     Gross profit:       168330.00\n",
      "Raw profit:          -8404.50     Gross loss:        -176734.50\n",
      "Fee paid:                0.00     Max drawdown:        21386.50\n",
      "Trades count:            3253     Profit factor:           0.95\n",
      "Profitable:            33.14%     Recovery factor:        -0.39\n",
      "Losing:                66.86%     Sharpe ratio:          -45.88\n",
      "\n",
      "Ideal footprint (y_val):\n",
      "Net profit:         334462.00     Gross profit:       334505.50\n",
      "Raw profit:         334462.00     Gross loss:            -43.50\n",
      "Fee paid:                0.00     Max drawdown:          523.00\n",
      "Trades count:            1715     Profit factor:        7689.78\n",
      "Profitable:            99.42%     Recovery factor:       639.51\n",
      "Losing:                 0.58%     Sharpe ratio:         1404.53\n",
      "\n",
      "Prediction footprint:\n",
      "Net profit:          20391.00     Gross profit:       174542.50\n",
      "Raw profit:          20391.00     Gross loss:        -154151.50\n",
      "Fee paid:                0.00     Max drawdown:         7201.00\n",
      "Trades count:            5328     Profit factor:           1.13\n",
      "Profitable:            34.23%     Recovery factor:         2.83\n",
      "Losing:                65.77%     Sharpe ratio:          189.65\n"
     ]
    }
   ],
   "source": [
    "mac_orig_res, mac_val_res, mac_pred_res = validate_strategy(MACrossStrategy(), X_val, y_val, mac_catboost)"
   ]
  },
  {
   "cell_type": "markdown",
   "metadata": {},
   "source": [
    "Сделок больше, поисследуем "
   ]
  },
  {
   "cell_type": "code",
   "execution_count": 30,
   "metadata": {},
   "outputs": [],
   "source": [
    "p0 = mac_pred_res.equity.pos\n",
    "p1 = p0.shift(1)\n",
    "p_1 = p0.shift(-1)\n",
    "p_val = mac_val_res.equity.pos\n",
    "onebar_deal = p0[(p0 != p1) & (p1 == p_1)]"
   ]
  },
  {
   "cell_type": "code",
   "execution_count": 31,
   "metadata": {},
   "outputs": [
    {
     "data": {
      "text/plain": [
       "(2920,\n",
       " 1    1611\n",
       " 0    1309\n",
       " Name: pos, dtype: int64)"
      ]
     },
     "execution_count": 31,
     "metadata": {},
     "output_type": "execute_result"
    }
   ],
   "source": [
    "len(onebar_deal), onebar_deal.value_counts()"
   ]
  },
  {
   "cell_type": "code",
   "execution_count": 32,
   "metadata": {},
   "outputs": [
    {
     "data": {
      "text/plain": [
       "(2050,\n",
       " 1    1044\n",
       " 0    1006\n",
       " Name: pos, dtype: int64)"
      ]
     },
     "execution_count": 32,
     "metadata": {},
     "output_type": "execute_result"
    }
   ],
   "source": [
    "one_bar_miss = p0[(p0 != p1) & (p1 == p_1) & (p0 != p_val)]\n",
    "len(one_bar_miss), one_bar_miss.value_counts()"
   ]
  },
  {
   "cell_type": "code",
   "execution_count": 33,
   "metadata": {},
   "outputs": [],
   "source": [
    "val_trades = mac_val_res.trades\n",
    "bars_held_val = val_trades.index_exit - val_trades.index_enter\n",
    "\n",
    "pred_trades = mac_pred_res.trades = mac_pred_res.trades\n",
    "bars_held_pred = pred_trades.index_exit - pred_trades.index_enter"
   ]
  },
  {
   "cell_type": "code",
   "execution_count": 34,
   "metadata": {},
   "outputs": [
    {
     "data": {
      "text/plain": [
       "(-73525.0, 0.0)"
      ]
     },
     "execution_count": 34,
     "metadata": {},
     "output_type": "execute_result"
    }
   ],
   "source": [
    "pred_trades[bars_held_pred == 1].result.sum(), val_trades[bars_held_val == 1].result.sum()"
   ]
  },
  {
   "cell_type": "code",
   "execution_count": 35,
   "metadata": {},
   "outputs": [
    {
     "data": {
      "text/plain": [
       "<AxesSubplot:ylabel='Count'>"
      ]
     },
     "execution_count": 35,
     "metadata": {},
     "output_type": "execute_result"
    },
    {
     "data": {
      "image/png": "[encoded data removed]",
      "text/plain": [
       "<Figure size 1080x360 with 1 Axes>"
      ]
     },
     "metadata": {
      "needs_background": "light"
     },
     "output_type": "display_data"
    }
   ],
   "source": [
    "bins = [x for x in range(11)]\n",
    "sns.histplot(data=bars_held_val, bins=bins, color='r')\n",
    "sns.histplot(data=bars_held_pred, bins=bins, color='g', alpha=0.25)"
   ]
  },
  {
   "cell_type": "code",
   "execution_count": 38,
   "metadata": {},
   "outputs": [
    {
     "data": {
      "text/plain": [
       "<matplotlib.lines.Line2D at 0x7f66a3617d60>"
      ]
     },
     "execution_count": 38,
     "metadata": {},
     "output_type": "execute_result"
    },
    {
     "data": {
      "image/png": "[encoded data removed]",
      "text/plain": [
       "<Figure size 1080x360 with 1 Axes>"
      ]
     },
     "metadata": {
      "needs_background": "light"
     },
     "output_type": "display_data"
    }
   ],
   "source": [
    "sns.scatterplot(y=val_trades.result, x=bars_held_val, color='r')\n",
    "sns.scatterplot(y=pred_trades.result, x=bars_held_pred, color='g', alpha=0.25) \\\n",
    "    .axhline(0, color='gray', linestyle='--', alpha=0.5)"
   ]
  },
  {
   "cell_type": "markdown",
   "metadata": {},
   "source": [
    "На графиках видно, что обученная модель хоть и показывает технически лучший результат в плане статистических метрик, но у нее существенный недостаток - большое количество трейдов протяженностью в 1 бар (вход и тут же выход), которые сильно ухудшают футпринт такой стратегии даже без учета проскальзываний и комиссий. В продакшне с этим невозможно бороться, поэтому такой подход нельзя назвать эффективным. Тем не менее, необходимо проверить подход на тестовой выборке"
   ]
  },
  {
   "cell_type": "code",
   "execution_count": 39,
   "metadata": {},
   "outputs": [],
   "source": [
    "data_test = df_mac.iloc[TRAIN_SIZE:]"
   ]
  },
  {
   "cell_type": "code",
   "execution_count": 40,
   "metadata": {},
   "outputs": [
    {
     "name": "stdout",
     "output_type": "stream",
     "text": [
      "Net profit:           2371.50     Gross profit:       150447.50\n",
      "Raw profit:           2371.50     Gross loss:        -148076.00\n",
      "Fee paid:                0.00     Max drawdown:        11516.50\n",
      "Trades count:            3649     Profit factor:           1.02\n",
      "Profitable:            37.35%     Recovery factor:         0.21\n",
      "Losing:                62.65%     Sharpe ratio:           18.15\n"
     ]
    }
   ],
   "source": [
    "mac_test_res = MACrossStrategy().run(data_test)\n",
    "mac_test_res.summary()"
   ]
  },
  {
   "cell_type": "code",
   "execution_count": 41,
   "metadata": {},
   "outputs": [
    {
     "name": "stdout",
     "output_type": "stream",
     "text": [
      "Net profit:        -161957.79     Gross profit:       102394.35\n",
      "Raw profit:           2371.50     Gross loss:        -264352.14\n",
      "Fee paid:           164329.29     Max drawdown:        11516.50\n",
      "Trades count:            3649     Profit factor:           0.39\n",
      "Profitable:            22.61%     Recovery factor:       -14.06\n",
      "Losing:                77.39%     Sharpe ratio:        -1238.97\n"
     ]
    }
   ],
   "source": [
    "MACrossStrategy().run(data_test, fee_pct=0.05).summary()"
   ]
  },
  {
   "cell_type": "code",
   "execution_count": 42,
   "metadata": {},
   "outputs": [
    {
     "name": "stdout",
     "output_type": "stream",
     "text": [
      "Net profit:          16120.00     Gross profit:       157020.00\n",
      "Raw profit:          16120.00     Gross loss:        -140900.00\n",
      "Fee paid:                0.00     Max drawdown:         3341.00\n",
      "Trades count:            6207     Profit factor:           1.11\n",
      "Profitable:            34.70%     Recovery factor:         4.82\n",
      "Losing:                65.30%     Sharpe ratio:          198.07\n"
     ]
    }
   ],
   "source": [
    "mac_test_sig_res2 = SignalStrategy(mac_catboost, shift=1).run(data_test)\n",
    "mac_test_sig_res2.summary()"
   ]
  },
  {
   "cell_type": "code",
   "execution_count": 43,
   "metadata": {},
   "outputs": [
    {
     "name": "stdout",
     "output_type": "stream",
     "text": [
      "Net profit:        -264666.90     Gross profit:        89957.45\n",
      "Raw profit:          16120.00     Gross loss:        -354624.35\n",
      "Fee paid:           280786.90     Max drawdown:         3341.00\n",
      "Trades count:            6207     Profit factor:           0.25\n",
      "Profitable:            16.53%     Recovery factor:       -79.22\n",
      "Losing:                83.47%     Sharpe ratio:        -3244.85\n"
     ]
    }
   ],
   "source": [
    "SignalStrategy(mac_catboost, shift=1).run(data_test, fee_pct=0.05).summary()"
   ]
  },
  {
   "cell_type": "markdown",
   "metadata": {},
   "source": [
    "## DL"
   ]
  },
  {
   "cell_type": "code",
   "execution_count": 90,
   "metadata": {},
   "outputs": [],
   "source": [
    "from tensorflow.keras.utils import Sequence\n",
    "\n",
    "class WindowGenerator(Sequence):\n",
    "    def __init__(self, X, y, window_size, batch_size, start=None, end=None):\n",
    "        # get shapes and ranges\n",
    "        self.n_samples, self.n_features = X.shape        \n",
    "        self.window_size = window_size\n",
    "        self.batch_size = batch_size if batch_size > 0 else self.n_samples\n",
    "        self.start_idx = max(window_size, (start if start != None else 0))\n",
    "        self.end_idx = min(self.n_samples, (end if end != None else self.n_samples))\n",
    "        # get datasets\n",
    "        self.X = X\n",
    "        if isinstance(X, pd.DataFrame) or isinstance(X, pd.Series):\n",
    "            self.get_x = self.__get_x_pandas\n",
    "            self.index_x = X.index[self.start_idx:self.end_idx]\n",
    "        elif isinstance(X, np.ndarray):\n",
    "            self.get_x = self.__get_x_numpy\n",
    "            self.index_x = None\n",
    "        else:\n",
    "            raise Exception('Not supported X type')\n",
    "            \n",
    "        self.y = y\n",
    "        if isinstance(y, pd.Series):\n",
    "            self.get_y = self.__get_y_pandas\n",
    "            self.index_y = y.index[self.start_idx:self.end_idx]\n",
    "        elif isinstance(y, np.ndarray):\n",
    "            self.get_y = self.__get_y_numpy\n",
    "            self.index_y = None\n",
    "        else:\n",
    "            raise Exception('Not supported y type')\n",
    "            \n",
    "    \n",
    "    def get_index(self):\n",
    "        return self.index_y if self.index_x is None else self.index_x\n",
    "    \n",
    "    \n",
    "    def __len__(self):\n",
    "        return int(np.ceil((self.end_idx - self.start_idx) / self.batch_size))\n",
    "    \n",
    "    \n",
    "    \n",
    "    def __getitem__(self, idx):\n",
    "        start = (idx * self.batch_size) + self.start_idx\n",
    "        end = min(start + self.batch_size, self.end_idx) \n",
    "        batch_size = end - start\n",
    "        X_batch = np.reshape(self.get_x(start, end), (batch_size, self.window_size, self.n_features))\n",
    "        y_batch = self.get_y(start, end)\n",
    "        return X_batch, y_batch\n",
    "    \n",
    "    \n",
    "    def __get_x_pandas(self, start, end):\n",
    "        return [self.X.iloc[i - self.window_size:i].to_numpy('float32') for i in range(start, end)]\n",
    "    \n",
    "    \n",
    "    def __get_x_numpy(self, start, end):\n",
    "        return [self.X[i - self.window_size:i,:] for i in range(start, end)]\n",
    "    \n",
    "    \n",
    "    def __get_y_pandas(self, start, end):\n",
    "        return self.y.iloc[start:end].to_numpy('float32')\n",
    "    \n",
    "    \n",
    "    def __get_y_numpy(self, start, end):\n",
    "        return self.y[start:end]\n",
    "    \n",
    "    "
   ]
  },
  {
   "cell_type": "code",
   "execution_count": 91,
   "metadata": {},
   "outputs": [],
   "source": [
    "WINDOW_SIZE = MA_PERIOD_LONG + MA_PERIOD_SHORT\n",
    "BATCH_SIZE = 1024"
   ]
  },
  {
   "cell_type": "code",
   "execution_count": 92,
   "metadata": {},
   "outputs": [],
   "source": [
    "from sklearn.preprocessing import MinMaxScaler, RobustScaler, StandardScaler"
   ]
  },
  {
   "cell_type": "code",
   "execution_count": 93,
   "metadata": {},
   "outputs": [],
   "source": [
    "train_end = int(TRAIN_SIZE * (1.0 - TEST_FRAC))\n",
    "val_end = TRAIN_SIZE\n",
    "\n",
    "scaler = MinMaxScaler()\n",
    "\n",
    "X = scaler.fit_transform(df_mac.drop(columns='time'))\n",
    "y = fix_pos\n",
    "\n",
    "input_shape = (WINDOW_SIZE, X.shape[1])\n",
    "\n",
    "train_gen = WindowGenerator(X, y, WINDOW_SIZE, BATCH_SIZE, end=train_end)\n",
    "val_gen = WindowGenerator(X, y, WINDOW_SIZE, BATCH_SIZE, start=train_end, end=TRAIN_SIZE)\n",
    "test_gen = WindowGenerator(X, y, WINDOW_SIZE, BATCH_SIZE, start=TRAIN_SIZE)"
   ]
  },
  {
   "cell_type": "code",
   "execution_count": 124,
   "metadata": {},
   "outputs": [
    {
     "name": "stdout",
     "output_type": "stream",
     "text": [
      "WARNING:tensorflow:Layer lstm_8 will not use cuDNN kernels since it doesn't meet the criteria. It will use a generic GPU kernel as fallback when running on GPU.\n",
      "Model: \"sequential_8\"\n",
      "_________________________________________________________________\n",
      "Layer (type)                 Output Shape              Param #   \n",
      "=================================================================\n",
      "lstm_8 (LSTM)                (None, 256)               329728    \n",
      "_________________________________________________________________\n",
      "dropout_16 (Dropout)         (None, 256)               0         \n",
      "_________________________________________________________________\n",
      "dense_16 (Dense)             (None, 32)                8224      \n",
      "_________________________________________________________________\n",
      "dropout_17 (Dropout)         (None, 32)                0         \n",
      "_________________________________________________________________\n",
      "dense_17 (Dense)             (None, 1)                 33        \n",
      "=================================================================\n",
      "Total params: 337,985\n",
      "Trainable params: 337,985\n",
      "Non-trainable params: 0\n",
      "_________________________________________________________________\n"
     ]
    }
   ],
   "source": [
    "mac_lstm1 = Sequential()\n",
    "mac_lstm1.add(LSTM(256, input_shape=input_shape, activation=\"relu\"))\n",
    "mac_lstm1.add(Dropout(0.5))\n",
    "mac_lstm1.add(Dense(32, activation=\"relu\"))\n",
    "mac_lstm1.add(Dropout(0.25))\n",
    "mac_lstm1.add(Dense(1, activation=\"sigmoid\"))\n",
    "mac_lstm1.summary()"
   ]
  },
  {
   "cell_type": "code",
   "execution_count": 125,
   "metadata": {},
   "outputs": [],
   "source": [
    "metrics = [\n",
    "    'binary_accuracy',\n",
    "    Precision(name='precision'), \n",
    "    Recall(name='recall'), \n",
    "    Accuracy(name='accuracy')\n",
    "]\n",
    "mac_lstm1.compile(loss='binary_crossentropy',\n",
    "                  optimizer=tf.optimizers.Adam(learning_rate=1e-2),\n",
    "                  metrics=metrics)\n",
    "                  # metrics='accuracy')"
   ]
  },
  {
   "cell_type": "code",
   "execution_count": 126,
   "metadata": {},
   "outputs": [],
   "source": [
    "checkpoint = ModelCheckpoint('./save/mac_lstm1.hdf5', \n",
    "                             monitor='val_binary_accuracy', \n",
    "                             verbose=0,\n",
    "                             mode='max', \n",
    "                             save_best_only=True)\n",
    "earlystop = EarlyStopping(monitor='val_binary_accuracy', \n",
    "                          patience=10, \n",
    "                          mode='max',\n",
    "                          restore_best_weights=True)\n",
    "reduce_lr = ReduceLROnPlateau(monitor='val_binary_accuracy', \n",
    "                              factor=0.1, \n",
    "                              mode='max',\n",
    "                              patience=5, \n",
    "                              min_lr=0.0001)\n",
    "callbacks_list = [checkpoint, earlystop, reduce_lr]"
   ]
  },
  {
   "cell_type": "code",
   "execution_count": 127,
   "metadata": {},
   "outputs": [
    {
     "name": "stdout",
     "output_type": "stream",
     "text": [
      "Epoch 1/100\n",
      "401/401 [==============================] - 22s 52ms/step - loss: 4.1116 - binary_accuracy: 0.7733 - precision: 0.5656 - recall: 0.3738 - accuracy: 0.0019 - val_loss: 0.3499 - val_binary_accuracy: 0.8123 - val_precision: 0.6090 - val_recall: 0.6433 - val_accuracy: 0.0000e+00\n",
      "Epoch 2/100\n",
      "401/401 [==============================] - 21s 52ms/step - loss: 0.3644 - binary_accuracy: 0.8000 - precision: 0.5922 - recall: 0.6246 - accuracy: 2.4375e-06 - val_loss: 0.3507 - val_binary_accuracy: 0.8058 - val_precision: 0.6322 - val_recall: 0.4866 - val_accuracy: 0.0000e+00\n",
      "Epoch 3/100\n",
      "401/401 [==============================] - 21s 52ms/step - loss: 0.3601 - binary_accuracy: 0.8033 - precision: 0.5956 - recall: 0.6463 - accuracy: 3.8999e-05 - val_loss: 0.3442 - val_binary_accuracy: 0.8136 - val_precision: 0.6085 - val_recall: 0.6604 - val_accuracy: 0.0000e+00\n",
      "Epoch 4/100\n",
      "401/401 [==============================] - 21s 52ms/step - loss: 0.3674 - binary_accuracy: 0.7986 - precision: 0.5898 - recall: 0.6204 - accuracy: 9.0186e-05 - val_loss: 0.3445 - val_binary_accuracy: 0.8093 - val_precision: 0.6252 - val_recall: 0.5443 - val_accuracy: 0.0000e+00\n",
      "Epoch 5/100\n",
      "401/401 [==============================] - 21s 52ms/step - loss: 0.3588 - binary_accuracy: 0.8035 - precision: 0.5954 - recall: 0.6508 - accuracy: 1.2187e-05 - val_loss: 0.3387 - val_binary_accuracy: 0.8160 - val_precision: 0.5993 - val_recall: 0.7406 - val_accuracy: 0.0000e+00\n",
      "Epoch 6/100\n",
      "401/401 [==============================] - 21s 52ms/step - loss: 0.3570 - binary_accuracy: 0.8041 - precision: 0.5944 - recall: 0.6639 - accuracy: 2.1937e-05 - val_loss: 0.3417 - val_binary_accuracy: 0.8129 - val_precision: 0.6259 - val_recall: 0.5788 - val_accuracy: 0.0000e+00\n",
      "Epoch 7/100\n",
      "401/401 [==============================] - 21s 52ms/step - loss: 0.3553 - binary_accuracy: 0.8056 - precision: 0.5972 - recall: 0.6666 - accuracy: 7.3124e-06 - val_loss: 0.3419 - val_binary_accuracy: 0.8159 - val_precision: 0.6186 - val_recall: 0.6385 - val_accuracy: 0.0000e+00\n",
      "Epoch 8/100\n",
      "401/401 [==============================] - 21s 52ms/step - loss: 0.3537 - binary_accuracy: 0.8069 - precision: 0.5987 - recall: 0.6735 - accuracy: 2.9250e-05 - val_loss: 0.3429 - val_binary_accuracy: 0.8159 - val_precision: 0.6058 - val_recall: 0.7010 - val_accuracy: 0.0000e+00\n",
      "Epoch 9/100\n",
      "401/401 [==============================] - 21s 52ms/step - loss: 0.3535 - binary_accuracy: 0.8071 - precision: 0.5984 - recall: 0.6786 - accuracy: 2.4375e-05 - val_loss: 0.3396 - val_binary_accuracy: 0.8163 - val_precision: 0.6199 - val_recall: 0.6372 - val_accuracy: 0.0000e+00\n",
      "Epoch 10/100\n",
      "143/401 [=========>....................] - ETA: 12s - loss: 0.3588 - binary_accuracy: 0.8039 - precision: 0.6024 - recall: 0.6874 - accuracy: 1.3658e-05"
     ]
    },
    {
     "ename": "KeyboardInterrupt",
     "evalue": "",
     "output_type": "error",
     "traceback": [
      "\u001b[0;31m---------------------------------------------------------------------------\u001b[0m",
      "\u001b[0;31mKeyboardInterrupt\u001b[0m                         Traceback (most recent call last)",
      "\u001b[0;32m<timed exec>\u001b[0m in \u001b[0;36m<module>\u001b[0;34m\u001b[0m\n",
      "\u001b[0;32m/opt/miniforge3/lib/python3.9/site-packages/keras/engine/training.py\u001b[0m in \u001b[0;36mfit\u001b[0;34m(self, x, y, batch_size, epochs, verbose, callbacks, validation_split, validation_data, shuffle, class_weight, sample_weight, initial_epoch, steps_per_epoch, validation_steps, validation_batch_size, validation_freq, max_queue_size, workers, use_multiprocessing)\u001b[0m\n\u001b[1;32m   1182\u001b[0m                 _r=1):\n\u001b[1;32m   1183\u001b[0m               \u001b[0mcallbacks\u001b[0m\u001b[0;34m.\u001b[0m\u001b[0mon_train_batch_begin\u001b[0m\u001b[0;34m(\u001b[0m\u001b[0mstep\u001b[0m\u001b[0;34m)\u001b[0m\u001b[0;34m\u001b[0m\u001b[0;34m\u001b[0m\u001b[0m\n\u001b[0;32m-> 1184\u001b[0;31m               \u001b[0mtmp_logs\u001b[0m \u001b[0;34m=\u001b[0m \u001b[0mself\u001b[0m\u001b[0;34m.\u001b[0m\u001b[0mtrain_function\u001b[0m\u001b[0;34m(\u001b[0m\u001b[0miterator\u001b[0m\u001b[0;34m)\u001b[0m\u001b[0;34m\u001b[0m\u001b[0;34m\u001b[0m\u001b[0m\n\u001b[0m\u001b[1;32m   1185\u001b[0m               \u001b[0;32mif\u001b[0m \u001b[0mdata_handler\u001b[0m\u001b[0;34m.\u001b[0m\u001b[0mshould_sync\u001b[0m\u001b[0;34m:\u001b[0m\u001b[0;34m\u001b[0m\u001b[0;34m\u001b[0m\u001b[0m\n\u001b[1;32m   1186\u001b[0m                 \u001b[0mcontext\u001b[0m\u001b[0;34m.\u001b[0m\u001b[0masync_wait\u001b[0m\u001b[0;34m(\u001b[0m\u001b[0;34m)\u001b[0m\u001b[0;34m\u001b[0m\u001b[0;34m\u001b[0m\u001b[0m\n",
      "\u001b[0;32m/opt/miniforge3/lib/python3.9/site-packages/tensorflow/python/eager/def_function.py\u001b[0m in \u001b[0;36m__call__\u001b[0;34m(self, *args, **kwds)\u001b[0m\n\u001b[1;32m    883\u001b[0m \u001b[0;34m\u001b[0m\u001b[0m\n\u001b[1;32m    884\u001b[0m       \u001b[0;32mwith\u001b[0m \u001b[0mOptionalXlaContext\u001b[0m\u001b[0;34m(\u001b[0m\u001b[0mself\u001b[0m\u001b[0;34m.\u001b[0m\u001b[0m_jit_compile\u001b[0m\u001b[0;34m)\u001b[0m\u001b[0;34m:\u001b[0m\u001b[0;34m\u001b[0m\u001b[0;34m\u001b[0m\u001b[0m\n\u001b[0;32m--> 885\u001b[0;31m         \u001b[0mresult\u001b[0m \u001b[0;34m=\u001b[0m \u001b[0mself\u001b[0m\u001b[0;34m.\u001b[0m\u001b[0m_call\u001b[0m\u001b[0;34m(\u001b[0m\u001b[0;34m*\u001b[0m\u001b[0margs\u001b[0m\u001b[0;34m,\u001b[0m \u001b[0;34m**\u001b[0m\u001b[0mkwds\u001b[0m\u001b[0;34m)\u001b[0m\u001b[0;34m\u001b[0m\u001b[0;34m\u001b[0m\u001b[0m\n\u001b[0m\u001b[1;32m    886\u001b[0m \u001b[0;34m\u001b[0m\u001b[0m\n\u001b[1;32m    887\u001b[0m       \u001b[0mnew_tracing_count\u001b[0m \u001b[0;34m=\u001b[0m \u001b[0mself\u001b[0m\u001b[0;34m.\u001b[0m\u001b[0mexperimental_get_tracing_count\u001b[0m\u001b[0;34m(\u001b[0m\u001b[0;34m)\u001b[0m\u001b[0;34m\u001b[0m\u001b[0;34m\u001b[0m\u001b[0m\n",
      "\u001b[0;32m/opt/miniforge3/lib/python3.9/site-packages/tensorflow/python/eager/def_function.py\u001b[0m in \u001b[0;36m_call\u001b[0;34m(self, *args, **kwds)\u001b[0m\n\u001b[1;32m    915\u001b[0m       \u001b[0;31m# In this case we have created variables on the first call, so we run the\u001b[0m\u001b[0;34m\u001b[0m\u001b[0;34m\u001b[0m\u001b[0m\n\u001b[1;32m    916\u001b[0m       \u001b[0;31m# defunned version which is guaranteed to never create variables.\u001b[0m\u001b[0;34m\u001b[0m\u001b[0;34m\u001b[0m\u001b[0m\n\u001b[0;32m--> 917\u001b[0;31m       \u001b[0;32mreturn\u001b[0m \u001b[0mself\u001b[0m\u001b[0;34m.\u001b[0m\u001b[0m_stateless_fn\u001b[0m\u001b[0;34m(\u001b[0m\u001b[0;34m*\u001b[0m\u001b[0margs\u001b[0m\u001b[0;34m,\u001b[0m \u001b[0;34m**\u001b[0m\u001b[0mkwds\u001b[0m\u001b[0;34m)\u001b[0m  \u001b[0;31m# pylint: disable=not-callable\u001b[0m\u001b[0;34m\u001b[0m\u001b[0;34m\u001b[0m\u001b[0m\n\u001b[0m\u001b[1;32m    918\u001b[0m     \u001b[0;32melif\u001b[0m \u001b[0mself\u001b[0m\u001b[0;34m.\u001b[0m\u001b[0m_stateful_fn\u001b[0m \u001b[0;32mis\u001b[0m \u001b[0;32mnot\u001b[0m \u001b[0;32mNone\u001b[0m\u001b[0;34m:\u001b[0m\u001b[0;34m\u001b[0m\u001b[0;34m\u001b[0m\u001b[0m\n\u001b[1;32m    919\u001b[0m       \u001b[0;31m# Release the lock early so that multiple threads can perform the call\u001b[0m\u001b[0;34m\u001b[0m\u001b[0;34m\u001b[0m\u001b[0m\n",
      "\u001b[0;32m/opt/miniforge3/lib/python3.9/site-packages/tensorflow/python/eager/function.py\u001b[0m in \u001b[0;36m__call__\u001b[0;34m(self, *args, **kwargs)\u001b[0m\n\u001b[1;32m   3037\u001b[0m       (graph_function,\n\u001b[1;32m   3038\u001b[0m        filtered_flat_args) = self._maybe_define_function(args, kwargs)\n\u001b[0;32m-> 3039\u001b[0;31m     return graph_function._call_flat(\n\u001b[0m\u001b[1;32m   3040\u001b[0m         filtered_flat_args, captured_inputs=graph_function.captured_inputs)  # pylint: disable=protected-access\n\u001b[1;32m   3041\u001b[0m \u001b[0;34m\u001b[0m\u001b[0m\n",
      "\u001b[0;32m/opt/miniforge3/lib/python3.9/site-packages/tensorflow/python/eager/function.py\u001b[0m in \u001b[0;36m_call_flat\u001b[0;34m(self, args, captured_inputs, cancellation_manager)\u001b[0m\n\u001b[1;32m   1961\u001b[0m         and executing_eagerly):\n\u001b[1;32m   1962\u001b[0m       \u001b[0;31m# No tape is watching; skip to running the function.\u001b[0m\u001b[0;34m\u001b[0m\u001b[0;34m\u001b[0m\u001b[0m\n\u001b[0;32m-> 1963\u001b[0;31m       return self._build_call_outputs(self._inference_function.call(\n\u001b[0m\u001b[1;32m   1964\u001b[0m           ctx, args, cancellation_manager=cancellation_manager))\n\u001b[1;32m   1965\u001b[0m     forward_backward = self._select_forward_and_backward_functions(\n",
      "\u001b[0;32m/opt/miniforge3/lib/python3.9/site-packages/tensorflow/python/eager/function.py\u001b[0m in \u001b[0;36mcall\u001b[0;34m(self, ctx, args, cancellation_manager)\u001b[0m\n\u001b[1;32m    589\u001b[0m       \u001b[0;32mwith\u001b[0m \u001b[0m_InterpolateFunctionError\u001b[0m\u001b[0;34m(\u001b[0m\u001b[0mself\u001b[0m\u001b[0;34m)\u001b[0m\u001b[0;34m:\u001b[0m\u001b[0;34m\u001b[0m\u001b[0;34m\u001b[0m\u001b[0m\n\u001b[1;32m    590\u001b[0m         \u001b[0;32mif\u001b[0m \u001b[0mcancellation_manager\u001b[0m \u001b[0;32mis\u001b[0m \u001b[0;32mNone\u001b[0m\u001b[0;34m:\u001b[0m\u001b[0;34m\u001b[0m\u001b[0;34m\u001b[0m\u001b[0m\n\u001b[0;32m--> 591\u001b[0;31m           outputs = execute.execute(\n\u001b[0m\u001b[1;32m    592\u001b[0m               \u001b[0mstr\u001b[0m\u001b[0;34m(\u001b[0m\u001b[0mself\u001b[0m\u001b[0;34m.\u001b[0m\u001b[0msignature\u001b[0m\u001b[0;34m.\u001b[0m\u001b[0mname\u001b[0m\u001b[0;34m)\u001b[0m\u001b[0;34m,\u001b[0m\u001b[0;34m\u001b[0m\u001b[0;34m\u001b[0m\u001b[0m\n\u001b[1;32m    593\u001b[0m               \u001b[0mnum_outputs\u001b[0m\u001b[0;34m=\u001b[0m\u001b[0mself\u001b[0m\u001b[0;34m.\u001b[0m\u001b[0m_num_outputs\u001b[0m\u001b[0;34m,\u001b[0m\u001b[0;34m\u001b[0m\u001b[0;34m\u001b[0m\u001b[0m\n",
      "\u001b[0;32m/opt/miniforge3/lib/python3.9/site-packages/tensorflow/python/eager/execute.py\u001b[0m in \u001b[0;36mquick_execute\u001b[0;34m(op_name, num_outputs, inputs, attrs, ctx, name)\u001b[0m\n\u001b[1;32m     57\u001b[0m   \u001b[0;32mtry\u001b[0m\u001b[0;34m:\u001b[0m\u001b[0;34m\u001b[0m\u001b[0;34m\u001b[0m\u001b[0m\n\u001b[1;32m     58\u001b[0m     \u001b[0mctx\u001b[0m\u001b[0;34m.\u001b[0m\u001b[0mensure_initialized\u001b[0m\u001b[0;34m(\u001b[0m\u001b[0;34m)\u001b[0m\u001b[0;34m\u001b[0m\u001b[0;34m\u001b[0m\u001b[0m\n\u001b[0;32m---> 59\u001b[0;31m     tensors = pywrap_tfe.TFE_Py_Execute(ctx._handle, device_name, op_name,\n\u001b[0m\u001b[1;32m     60\u001b[0m                                         inputs, attrs, num_outputs)\n\u001b[1;32m     61\u001b[0m   \u001b[0;32mexcept\u001b[0m \u001b[0mcore\u001b[0m\u001b[0;34m.\u001b[0m\u001b[0m_NotOkStatusException\u001b[0m \u001b[0;32mas\u001b[0m \u001b[0me\u001b[0m\u001b[0;34m:\u001b[0m\u001b[0;34m\u001b[0m\u001b[0;34m\u001b[0m\u001b[0m\n",
      "\u001b[0;31mKeyboardInterrupt\u001b[0m: "
     ]
    }
   ],
   "source": [
    "%%time\n",
    "history = mac_lstm1.fit(train_gen,\n",
    "                        steps_per_epoch = len(train_gen),\n",
    "                        validation_data = val_gen, \n",
    "                        validation_steps = len(val_gen),\n",
    "                        epochs = 100,\n",
    "                        callbacks = callbacks_list,\n",
    "                        verbose=1\n",
    "                        )"
   ]
  },
  {
   "cell_type": "code",
   "execution_count": 131,
   "metadata": {},
   "outputs": [],
   "source": [
    "test = (pd.Series(mac_lstm1.predict(val_gen)[:,0], val_gen.get_index()) > 0.5).astype('int')"
   ]
  },
  {
   "cell_type": "code",
   "execution_count": 132,
   "metadata": {},
   "outputs": [
    {
     "data": {
      "text/plain": [
       "0    52462\n",
       "1    19941\n",
       "dtype: int64"
      ]
     },
     "execution_count": 132,
     "metadata": {},
     "output_type": "execute_result"
    }
   ],
   "source": [
    "test.value_counts()"
   ]
  },
  {
   "cell_type": "code",
   "execution_count": 133,
   "metadata": {},
   "outputs": [
    {
     "data": {
      "text/plain": [
       "(0.649039740384104, 0.6911006627768651)"
      ]
     },
     "execution_count": 133,
     "metadata": {},
     "output_type": "execute_result"
    }
   ],
   "source": [
    "f1_score(test, fix_pos.loc[test.index]), precision_score(test, fix_pos.loc[test.index])"
   ]
  },
  {
   "cell_type": "code",
   "execution_count": null,
   "metadata": {},
   "outputs": [],
   "source": []
  }
 ],
 "metadata": {
  "interpreter": {
   "hash": "0cdbef4c81a582c199b9aebc51b939e4e7aa94804452b0c70e3059997ef74e01"
  },
  "kernelspec": {
   "display_name": "Python 3 (ipykernel)",
   "language": "python",
   "name": "python3"
  },
  "language_info": {
   "codemirror_mode": {
    "name": "ipython",
    "version": 3
   },
   "file_extension": ".py",
   "mimetype": "text/x-python",
   "name": "python",
   "nbconvert_exporter": "python",
   "pygments_lexer": "ipython3",
   "version": "3.9.10"
  }
 },
 "nbformat": 4,
 "nbformat_minor": 4
}
