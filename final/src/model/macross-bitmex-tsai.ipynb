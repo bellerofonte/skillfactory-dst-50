{
 "cells": [
  {
   "cell_type": "code",
   "execution_count": 1,
   "metadata": {},
   "outputs": [
    {
     "name": "stderr",
     "output_type": "stream",
     "text": [
      "/home/pgm/.conda/envs/tsai/lib/python3.9/site-packages/tqdm/auto.py:22: TqdmWarning: IProgress not found. Please update jupyter and ipywidgets. See https://ipywidgets.readthedocs.io/en/stable/user_install.html\n",
      "  from .autonotebook import tqdm as notebook_tqdm\n"
     ]
    }
   ],
   "source": [
    "# common\n",
    "import os\n",
    "os.environ['TF_CPP_MIN_LOG_LEVEL'] = '2' # suppress INFO and WARNING\n",
    "\n",
    "import pandas as pd\n",
    "import numpy as np\n",
    "import matplotlib.pyplot as plt\n",
    "import seaborn as sns\n",
    "from sklearn.model_selection import train_test_split\n",
    "from sklearn.metrics import accuracy_score, precision_score, recall_score, f1_score, roc_auc_score\n",
    "import talib\n",
    "import zigzag\n",
    "# ML\n",
    "\n",
    "# DL\n",
    "from tsai.all import *\n",
    "\n",
    "# My\n",
    "from backtest import Strategy, SignalStrategy\n",
    "# from window_generator import WindowGenerator\n",
    "\n",
    "# some definitions and settings\n",
    "PRICE_DEC = 1\n",
    "SIZE_DEC = 3\n",
    "TEST_FRAC = 0.15\n",
    "RANDOM_SEED = 73\n",
    "\n",
    "# PERIODS = {\n",
    "#     'long': 90,\n",
    "#     'short': 10\n",
    "# }\n",
    "\n",
    "%matplotlib inline\n",
    "plt.rcParams['figure.figsize'] = (15, 5)"
   ]
  },
  {
   "cell_type": "code",
   "execution_count": 2,
   "metadata": {},
   "outputs": [],
   "source": [
    "def mape(y_true, y_pred):\n",
    "    return np.mean(np.abs((y_pred - y_true) / y_true))\n",
    "\n",
    "def round_pred(y_pred, minstep = 0.5):\n",
    "    return np.round(y_pred / minstep) * minstep"
   ]
  },
  {
   "cell_type": "code",
   "execution_count": 3,
   "metadata": {},
   "outputs": [],
   "source": [
    "df = pd.read_csv('../../bars/bitmex-XBTUSD-1min.csv', parse_dates=['time'])\n",
    "df.sort_values('time', ignore_index=True, inplace=True)\n",
    "df.drop_duplicates(subset='time', ignore_index=True, inplace=True)\n",
    "df.hbl = df.hbl.astype('int')\n",
    "df['tod'] = (df.time.dt.hour * 60) + df.time.dt.minute\n",
    "df['dow'] = df.time.dt.day_of_week"
   ]
  },
  {
   "cell_type": "code",
   "execution_count": 4,
   "metadata": {},
   "outputs": [
    {
     "name": "stdout",
     "output_type": "stream",
     "text": [
      "<class 'pandas.core.frame.DataFrame'>\n",
      "RangeIndex: 567865 entries, 0 to 567864\n",
      "Data columns (total 21 columns):\n",
      " #   Column      Non-Null Count   Dtype         \n",
      "---  ------      --------------   -----         \n",
      " 0   time        567865 non-null  datetime64[ns]\n",
      " 1   open        567865 non-null  float64       \n",
      " 2   high        567865 non-null  float64       \n",
      " 3   low         567865 non-null  float64       \n",
      " 4   close       567865 non-null  float64       \n",
      " 5   avg         567865 non-null  float64       \n",
      " 6   wavg        567865 non-null  float64       \n",
      " 7   median      567865 non-null  float64       \n",
      " 8   sum_vol     567865 non-null  int64         \n",
      " 9   up_sum_vol  567865 non-null  int64         \n",
      " 10  md_sum_vol  567865 non-null  int64         \n",
      " 11  lo_sum_vol  567865 non-null  int64         \n",
      " 12  net_vol     567865 non-null  int64         \n",
      " 13  up_net_vol  567865 non-null  int64         \n",
      " 14  md_net_vol  567865 non-null  int64         \n",
      " 15  lo_net_vol  567865 non-null  int64         \n",
      " 16  oto         567865 non-null  float64       \n",
      " 17  cnt         567865 non-null  int64         \n",
      " 18  hbl         567865 non-null  int64         \n",
      " 19  tod         567865 non-null  int64         \n",
      " 20  dow         567865 non-null  int64         \n",
      "dtypes: datetime64[ns](1), float64(8), int64(12)\n",
      "memory usage: 91.0 MB\n"
     ]
    }
   ],
   "source": [
    "df.info()"
   ]
  },
  {
   "cell_type": "markdown",
   "metadata": {},
   "source": [
    "Пропусков в самих данных также нет. \n",
    "Имеем дело со следующими столбцами:\n",
    "\n",
    "| наименование | тип | описание |\n",
    "|--------------|-------|--------|\n",
    "|`time`        | datetime   | время начала периода (бара) |\n",
    "|`open`        | float      | цена первой сделки периода   |    \n",
    "|`high`        | float      | максимальная цена сделки периода |\n",
    "|`low`         | float      | минимальная цена сделки периода   |    \n",
    "|`close`       | float      | цена последней сделки периода |\n",
    "|`avg`         | float      | средняя цена сделок периода |\n",
    "|`wavg`        | float      | средневзвешенная по объему цена сделок периода |\n",
    "|`median`      | float      | медиана цен сделок периода |\n",
    "|`sum_vol`     | float      | сумма объемов сделок периода |\n",
    "|`up_sum_vol`  | float      | сумма объемов сделок в промежутке цен от `high` до `max(open, close)`      |\n",
    "|`md_sum_vol`  | float      | сумма объемов сделок в промежутке цен от `open` до `close`         |\n",
    "|`lo_sum_vol`  | float      | сумма объемов сделок в промежутке цен от `low` до `min(open, close)` |\n",
    "|`net_vol`     | float      | нетто-объем сделок периода (сумма объемов покупок минус сумма объемов продаж) |\n",
    "|`up_net_vol`  | float      | нетто-объемо сделок в промежутке цен от `high` до `max(open, close)`        |\n",
    "|`md_net_vol`  | float      | нетто-объем сделок в промежутке цен от `open` до `close`     |\n",
    "|`lo_net_vol`  | float      | нетто-объемо сделок в промежутке цен от `low` до `min(open, close)`   |      \n",
    "|`cnt`         | int        | количество сделок за период|\n",
    "|`hbl`         | int        | 1, если цена `high` была достигнута раньше, чем цена `low`, иначе 0\n",
    "|`tod`         | int        | `time of day` - время дня в минутах\n",
    "|`dow`         | int        | `day of week` - день недели"
   ]
  },
  {
   "cell_type": "markdown",
   "metadata": {},
   "source": [
    "Важный нюанс - perpetual фьючерсы `XBTUSD` и `ETHUSD` на бирже `Bitmex` являются **инверсными**, т.е. единица лота в них не сама криптовалюта, а доллар, а PnL, наоборот, рассчитывается и начисляется в криптовалюте. Это стандартная практика для криптовалютных бирж, которые не могут рассчитывать и начислять PnL в фиате или аналогичных фиату стебл-коинах. В случае `ETHUSD` все еще сложнее, ведь его лот привязан к долларовому выражению `BTC`. Поэтому пока не будем трогать `ETHUSD`, но для `XBTUSD` лоты пересчитаем в единицы криптовалюты, чтобы было: \n",
    "* единообразно по всем биржам в данном проекте\n",
    "* проще для рассчетов PnL в моделях\n",
    "* проще для восприятия"
   ]
  },
  {
   "cell_type": "code",
   "execution_count": 5,
   "metadata": {},
   "outputs": [],
   "source": [
    "for col in df.columns:\n",
    "    if col[-4:] == '_vol':\n",
    "        df[col] = np.round(df[col] / df.close, SIZE_DEC)"
   ]
  },
  {
   "cell_type": "code",
   "execution_count": 6,
   "metadata": {},
   "outputs": [
    {
     "data": {
      "text/html": [
       "<div>\n",
       "<style scoped>\n",
       "    .dataframe tbody tr th:only-of-type {\n",
       "        vertical-align: middle;\n",
       "    }\n",
       "\n",
       "    .dataframe tbody tr th {\n",
       "        vertical-align: top;\n",
       "    }\n",
       "\n",
       "    .dataframe thead th {\n",
       "        text-align: right;\n",
       "    }\n",
       "</style>\n",
       "<table border=\"1\" class=\"dataframe\">\n",
       "  <thead>\n",
       "    <tr style=\"text-align: right;\">\n",
       "      <th></th>\n",
       "      <th>time</th>\n",
       "      <th>open</th>\n",
       "      <th>high</th>\n",
       "      <th>low</th>\n",
       "      <th>close</th>\n",
       "      <th>avg</th>\n",
       "      <th>wavg</th>\n",
       "      <th>median</th>\n",
       "      <th>sum_vol</th>\n",
       "      <th>up_sum_vol</th>\n",
       "      <th>...</th>\n",
       "      <th>lo_sum_vol</th>\n",
       "      <th>net_vol</th>\n",
       "      <th>up_net_vol</th>\n",
       "      <th>md_net_vol</th>\n",
       "      <th>lo_net_vol</th>\n",
       "      <th>oto</th>\n",
       "      <th>cnt</th>\n",
       "      <th>hbl</th>\n",
       "      <th>tod</th>\n",
       "      <th>dow</th>\n",
       "    </tr>\n",
       "  </thead>\n",
       "  <tbody>\n",
       "    <tr>\n",
       "      <th>308264</th>\n",
       "      <td>2021-08-03 07:30:00</td>\n",
       "      <td>38540.0</td>\n",
       "      <td>38562.0</td>\n",
       "      <td>38540.0</td>\n",
       "      <td>38562.0</td>\n",
       "      <td>38550.5</td>\n",
       "      <td>38548.2</td>\n",
       "      <td>38545.00</td>\n",
       "      <td>4.888</td>\n",
       "      <td>0.000</td>\n",
       "      <td>...</td>\n",
       "      <td>0.000</td>\n",
       "      <td>3.177</td>\n",
       "      <td>0.000</td>\n",
       "      <td>3.177</td>\n",
       "      <td>0.000</td>\n",
       "      <td>0.65</td>\n",
       "      <td>32</td>\n",
       "      <td>0</td>\n",
       "      <td>450</td>\n",
       "      <td>1</td>\n",
       "    </tr>\n",
       "    <tr>\n",
       "      <th>72051</th>\n",
       "      <td>2021-02-20 00:52:00</td>\n",
       "      <td>56343.0</td>\n",
       "      <td>56419.5</td>\n",
       "      <td>56232.0</td>\n",
       "      <td>56300.0</td>\n",
       "      <td>56315.3</td>\n",
       "      <td>56317.8</td>\n",
       "      <td>56313.75</td>\n",
       "      <td>174.140</td>\n",
       "      <td>58.366</td>\n",
       "      <td>...</td>\n",
       "      <td>61.597</td>\n",
       "      <td>13.063</td>\n",
       "      <td>25.728</td>\n",
       "      <td>-12.708</td>\n",
       "      <td>0.043</td>\n",
       "      <td>0.08</td>\n",
       "      <td>898</td>\n",
       "      <td>0</td>\n",
       "      <td>52</td>\n",
       "      <td>5</td>\n",
       "    </tr>\n",
       "    <tr>\n",
       "      <th>91145</th>\n",
       "      <td>2021-03-05 07:06:00</td>\n",
       "      <td>47451.5</td>\n",
       "      <td>47498.0</td>\n",
       "      <td>47448.0</td>\n",
       "      <td>47487.0</td>\n",
       "      <td>47475.4</td>\n",
       "      <td>47472.8</td>\n",
       "      <td>47475.50</td>\n",
       "      <td>65.196</td>\n",
       "      <td>12.488</td>\n",
       "      <td>...</td>\n",
       "      <td>8.178</td>\n",
       "      <td>40.952</td>\n",
       "      <td>-5.030</td>\n",
       "      <td>40.731</td>\n",
       "      <td>5.251</td>\n",
       "      <td>0.63</td>\n",
       "      <td>251</td>\n",
       "      <td>0</td>\n",
       "      <td>426</td>\n",
       "      <td>4</td>\n",
       "    </tr>\n",
       "    <tr>\n",
       "      <th>500230</th>\n",
       "      <td>2021-12-14 21:39:00</td>\n",
       "      <td>48500.5</td>\n",
       "      <td>48533.5</td>\n",
       "      <td>48478.5</td>\n",
       "      <td>48525.0</td>\n",
       "      <td>48503.7</td>\n",
       "      <td>48497.2</td>\n",
       "      <td>48500.50</td>\n",
       "      <td>28.635</td>\n",
       "      <td>0.806</td>\n",
       "      <td>...</td>\n",
       "      <td>14.574</td>\n",
       "      <td>3.563</td>\n",
       "      <td>-0.221</td>\n",
       "      <td>12.014</td>\n",
       "      <td>-8.231</td>\n",
       "      <td>0.12</td>\n",
       "      <td>184</td>\n",
       "      <td>0</td>\n",
       "      <td>1299</td>\n",
       "      <td>1</td>\n",
       "    </tr>\n",
       "    <tr>\n",
       "      <th>529477</th>\n",
       "      <td>2022-01-04 06:31:00</td>\n",
       "      <td>46265.0</td>\n",
       "      <td>46290.0</td>\n",
       "      <td>46265.0</td>\n",
       "      <td>46285.5</td>\n",
       "      <td>46287.8</td>\n",
       "      <td>46288.0</td>\n",
       "      <td>46289.50</td>\n",
       "      <td>6.121</td>\n",
       "      <td>4.775</td>\n",
       "      <td>...</td>\n",
       "      <td>0.000</td>\n",
       "      <td>-3.092</td>\n",
       "      <td>-4.433</td>\n",
       "      <td>1.342</td>\n",
       "      <td>0.000</td>\n",
       "      <td>-0.51</td>\n",
       "      <td>58</td>\n",
       "      <td>0</td>\n",
       "      <td>391</td>\n",
       "      <td>1</td>\n",
       "    </tr>\n",
       "  </tbody>\n",
       "</table>\n",
       "<p>5 rows × 21 columns</p>\n",
       "</div>"
      ],
      "text/plain": [
       "                      time     open     high      low    close      avg  \\\n",
       "308264 2021-08-03 07:30:00  38540.0  38562.0  38540.0  38562.0  38550.5   \n",
       "72051  2021-02-20 00:52:00  56343.0  56419.5  56232.0  56300.0  56315.3   \n",
       "91145  2021-03-05 07:06:00  47451.5  47498.0  47448.0  47487.0  47475.4   \n",
       "500230 2021-12-14 21:39:00  48500.5  48533.5  48478.5  48525.0  48503.7   \n",
       "529477 2022-01-04 06:31:00  46265.0  46290.0  46265.0  46285.5  46287.8   \n",
       "\n",
       "           wavg    median  sum_vol  up_sum_vol  ...  lo_sum_vol  net_vol  \\\n",
       "308264  38548.2  38545.00    4.888       0.000  ...       0.000    3.177   \n",
       "72051   56317.8  56313.75  174.140      58.366  ...      61.597   13.063   \n",
       "91145   47472.8  47475.50   65.196      12.488  ...       8.178   40.952   \n",
       "500230  48497.2  48500.50   28.635       0.806  ...      14.574    3.563   \n",
       "529477  46288.0  46289.50    6.121       4.775  ...       0.000   -3.092   \n",
       "\n",
       "        up_net_vol  md_net_vol  lo_net_vol   oto  cnt  hbl   tod  dow  \n",
       "308264       0.000       3.177       0.000  0.65   32    0   450    1  \n",
       "72051       25.728     -12.708       0.043  0.08  898    0    52    5  \n",
       "91145       -5.030      40.731       5.251  0.63  251    0   426    4  \n",
       "500230      -0.221      12.014      -8.231  0.12  184    0  1299    1  \n",
       "529477      -4.433       1.342       0.000 -0.51   58    0   391    1  \n",
       "\n",
       "[5 rows x 21 columns]"
      ]
     },
     "execution_count": 6,
     "metadata": {},
     "output_type": "execute_result"
    }
   ],
   "source": [
    "df.sample(5)"
   ]
  },
  {
   "cell_type": "code",
   "execution_count": 7,
   "metadata": {},
   "outputs": [],
   "source": [
    "cnt_up = 0\n",
    "cnt_down = 0\n",
    "\n",
    "def count_up_bars(x):\n",
    "    global cnt_up\n",
    "    cnt_up = (cnt_up + 1) if x > 0 else 0\n",
    "    return cnt_up\n",
    "\n",
    "\n",
    "def count_down_bars(x):\n",
    "    global cnt_down\n",
    "    cnt_down = (cnt_down + 1) if x < 0 else 0\n",
    "    return cnt_down"
   ]
  },
  {
   "cell_type": "code",
   "execution_count": 8,
   "metadata": {},
   "outputs": [],
   "source": [
    "prev_close = df.close.shift(1)\n",
    "change_close = (df.close / prev_close) - 1\n",
    "DEFAULT_EPS = 0.002 # 0.2%\n",
    "\n",
    "df['up'] = (change_close > DEFAULT_EPS).astype('int')\n",
    "df['down'] = (change_close < -DEFAULT_EPS).astype('int')\n",
    "df['move'] = df['up'] - df['down']\n",
    "df['up_in_row'] = df['up'].apply(count_up_bars)\n",
    "df['down_in_row'] = df['down'].apply(count_down_bars)\n",
    "df['TR'] = np.maximum(df.high, prev_close) - np.minimum(df.low, prev_close)\n",
    "df.dropna(inplace=True)"
   ]
  },
  {
   "cell_type": "markdown",
   "metadata": {},
   "source": [
    "Добавим еще столбцов:\n",
    "\n",
    "| наименование | тип | описание |\n",
    "|--------------|-------|--------|\n",
    "|`up`          | int      | 1, если цена выросла больше шума, иначе 0 |\n",
    "|`down`        | int      | 1, если цена упала больше шума, иначе 0   |    \n",
    "|`move`        | int      | выросла или упала (`up-down`) |\n",
    "|`up_in_row`   | int      | сколько периодов подряд цена росла   |    \n",
    "|`down_in_row` | int      | сколько периодов подряд цена падала |\n",
    "|`TR`          | int      | _True range_ |"
   ]
  },
  {
   "cell_type": "code",
   "execution_count": 9,
   "metadata": {},
   "outputs": [],
   "source": [
    "def add_moving(data, period, key):\n",
    "    roll = data.rolling(period, min_periods=1)\n",
    "    std = roll.close.std().fillna(0)\n",
    "    min_std = std.quantile(0.25)\n",
    "    data[f'ma_{key}'] = roll.close.mean()\n",
    "    data[f'std_{key}'] = np.maximum(std, min_std)\n",
    "    data[f'ATR_{key}'] = roll.TR.mean()\n",
    "    data[f'high_{key}'] = roll.high.max()\n",
    "    data[f'low_{key}'] = roll.low.min()\n",
    "    data[f'sum_vol_{key}'] = roll.sum_vol.mean()\n",
    "    data[f'net_vol_{key}'] = roll.net_vol.mean()"
   ]
  },
  {
   "cell_type": "markdown",
   "metadata": {},
   "source": [
    "При необходимости можно будет накидывать дополнительные признаки, вычисленные по скользящему окну:\n",
    "\n",
    "| наименование | тип | описание |\n",
    "|--------------|-------|--------|\n",
    "|`ma_***`         | float      | _SMA(close)_, скользящая средняя цен закрытия  |\n",
    "|`std_***`        | float      | стандартное отклоение цен закрытия  |    \n",
    "|`ATR_***`        | float      | _Average True Range_ |\n",
    "|`high_***`       | float      | максимальная цена внутри окна   |    \n",
    "|`low_***`        | float      | минимальная цена внутри окна  |\n",
    "|`sum_vol_***`    | float      | средний объем сделок внутри окна |\n",
    "|`net_vol_***`    | float      | средний нетто-объем сделок внутри окна |"
   ]
  },
  {
   "cell_type": "code",
   "execution_count": 10,
   "metadata": {},
   "outputs": [
    {
     "data": {
      "text/plain": [
       " 0    525809\n",
       " 1     21477\n",
       "-1     20578\n",
       "Name: move, dtype: int64"
      ]
     },
     "execution_count": 10,
     "metadata": {},
     "output_type": "execute_result"
    }
   ],
   "source": [
    "df.move.value_counts()"
   ]
  },
  {
   "cell_type": "code",
   "execution_count": 11,
   "metadata": {},
   "outputs": [
    {
     "data": {
      "text/html": [
       "<div>\n",
       "<style scoped>\n",
       "    .dataframe tbody tr th:only-of-type {\n",
       "        vertical-align: middle;\n",
       "    }\n",
       "\n",
       "    .dataframe tbody tr th {\n",
       "        vertical-align: top;\n",
       "    }\n",
       "\n",
       "    .dataframe thead th {\n",
       "        text-align: right;\n",
       "    }\n",
       "</style>\n",
       "<table border=\"1\" class=\"dataframe\">\n",
       "  <thead>\n",
       "    <tr style=\"text-align: right;\">\n",
       "      <th></th>\n",
       "      <th>time</th>\n",
       "      <th>open</th>\n",
       "      <th>high</th>\n",
       "      <th>low</th>\n",
       "      <th>close</th>\n",
       "      <th>avg</th>\n",
       "      <th>wavg</th>\n",
       "      <th>median</th>\n",
       "      <th>sum_vol</th>\n",
       "      <th>up_sum_vol</th>\n",
       "      <th>...</th>\n",
       "      <th>cnt</th>\n",
       "      <th>hbl</th>\n",
       "      <th>tod</th>\n",
       "      <th>dow</th>\n",
       "      <th>up</th>\n",
       "      <th>down</th>\n",
       "      <th>move</th>\n",
       "      <th>up_in_row</th>\n",
       "      <th>down_in_row</th>\n",
       "      <th>TR</th>\n",
       "    </tr>\n",
       "  </thead>\n",
       "  <tbody>\n",
       "    <tr>\n",
       "      <th>567860</th>\n",
       "      <td>2022-01-30 23:55:00</td>\n",
       "      <td>37930.5</td>\n",
       "      <td>37930.5</td>\n",
       "      <td>37918.5</td>\n",
       "      <td>37919.0</td>\n",
       "      <td>37927.2</td>\n",
       "      <td>37927.0</td>\n",
       "      <td>37930.0</td>\n",
       "      <td>5.746</td>\n",
       "      <td>0.000</td>\n",
       "      <td>...</td>\n",
       "      <td>34</td>\n",
       "      <td>1</td>\n",
       "      <td>1435</td>\n",
       "      <td>6</td>\n",
       "      <td>0</td>\n",
       "      <td>0</td>\n",
       "      <td>0</td>\n",
       "      <td>0</td>\n",
       "      <td>0</td>\n",
       "      <td>12.0</td>\n",
       "    </tr>\n",
       "    <tr>\n",
       "      <th>567861</th>\n",
       "      <td>2022-01-30 23:56:00</td>\n",
       "      <td>37918.5</td>\n",
       "      <td>37918.5</td>\n",
       "      <td>37898.0</td>\n",
       "      <td>37898.0</td>\n",
       "      <td>37906.4</td>\n",
       "      <td>37909.3</td>\n",
       "      <td>37903.5</td>\n",
       "      <td>0.617</td>\n",
       "      <td>0.000</td>\n",
       "      <td>...</td>\n",
       "      <td>10</td>\n",
       "      <td>1</td>\n",
       "      <td>1436</td>\n",
       "      <td>6</td>\n",
       "      <td>0</td>\n",
       "      <td>0</td>\n",
       "      <td>0</td>\n",
       "      <td>0</td>\n",
       "      <td>0</td>\n",
       "      <td>21.0</td>\n",
       "    </tr>\n",
       "    <tr>\n",
       "      <th>567862</th>\n",
       "      <td>2022-01-30 23:57:00</td>\n",
       "      <td>37897.5</td>\n",
       "      <td>37897.5</td>\n",
       "      <td>37893.0</td>\n",
       "      <td>37893.0</td>\n",
       "      <td>37895.1</td>\n",
       "      <td>37894.9</td>\n",
       "      <td>37893.5</td>\n",
       "      <td>0.699</td>\n",
       "      <td>0.000</td>\n",
       "      <td>...</td>\n",
       "      <td>17</td>\n",
       "      <td>1</td>\n",
       "      <td>1437</td>\n",
       "      <td>6</td>\n",
       "      <td>0</td>\n",
       "      <td>0</td>\n",
       "      <td>0</td>\n",
       "      <td>0</td>\n",
       "      <td>0</td>\n",
       "      <td>5.0</td>\n",
       "    </tr>\n",
       "    <tr>\n",
       "      <th>567863</th>\n",
       "      <td>2022-01-30 23:58:00</td>\n",
       "      <td>37893.5</td>\n",
       "      <td>37893.5</td>\n",
       "      <td>37893.0</td>\n",
       "      <td>37893.0</td>\n",
       "      <td>37893.3</td>\n",
       "      <td>37893.3</td>\n",
       "      <td>37893.5</td>\n",
       "      <td>1.093</td>\n",
       "      <td>0.000</td>\n",
       "      <td>...</td>\n",
       "      <td>7</td>\n",
       "      <td>1</td>\n",
       "      <td>1438</td>\n",
       "      <td>6</td>\n",
       "      <td>0</td>\n",
       "      <td>0</td>\n",
       "      <td>0</td>\n",
       "      <td>0</td>\n",
       "      <td>0</td>\n",
       "      <td>0.5</td>\n",
       "    </tr>\n",
       "    <tr>\n",
       "      <th>567864</th>\n",
       "      <td>2022-01-30 23:59:00</td>\n",
       "      <td>37893.5</td>\n",
       "      <td>37932.0</td>\n",
       "      <td>37893.5</td>\n",
       "      <td>37893.5</td>\n",
       "      <td>37904.5</td>\n",
       "      <td>37902.1</td>\n",
       "      <td>37893.5</td>\n",
       "      <td>7.455</td>\n",
       "      <td>3.296</td>\n",
       "      <td>...</td>\n",
       "      <td>73</td>\n",
       "      <td>0</td>\n",
       "      <td>1439</td>\n",
       "      <td>6</td>\n",
       "      <td>0</td>\n",
       "      <td>0</td>\n",
       "      <td>0</td>\n",
       "      <td>0</td>\n",
       "      <td>0</td>\n",
       "      <td>39.0</td>\n",
       "    </tr>\n",
       "  </tbody>\n",
       "</table>\n",
       "<p>5 rows × 27 columns</p>\n",
       "</div>"
      ],
      "text/plain": [
       "                      time     open     high      low    close      avg  \\\n",
       "567860 2022-01-30 23:55:00  37930.5  37930.5  37918.5  37919.0  37927.2   \n",
       "567861 2022-01-30 23:56:00  37918.5  37918.5  37898.0  37898.0  37906.4   \n",
       "567862 2022-01-30 23:57:00  37897.5  37897.5  37893.0  37893.0  37895.1   \n",
       "567863 2022-01-30 23:58:00  37893.5  37893.5  37893.0  37893.0  37893.3   \n",
       "567864 2022-01-30 23:59:00  37893.5  37932.0  37893.5  37893.5  37904.5   \n",
       "\n",
       "           wavg   median  sum_vol  up_sum_vol  ...  cnt  hbl   tod  dow  up  \\\n",
       "567860  37927.0  37930.0    5.746       0.000  ...   34    1  1435    6   0   \n",
       "567861  37909.3  37903.5    0.617       0.000  ...   10    1  1436    6   0   \n",
       "567862  37894.9  37893.5    0.699       0.000  ...   17    1  1437    6   0   \n",
       "567863  37893.3  37893.5    1.093       0.000  ...    7    1  1438    6   0   \n",
       "567864  37902.1  37893.5    7.455       3.296  ...   73    0  1439    6   0   \n",
       "\n",
       "        down  move  up_in_row  down_in_row    TR  \n",
       "567860     0     0          0            0  12.0  \n",
       "567861     0     0          0            0  21.0  \n",
       "567862     0     0          0            0   5.0  \n",
       "567863     0     0          0            0   0.5  \n",
       "567864     0     0          0            0  39.0  \n",
       "\n",
       "[5 rows x 27 columns]"
      ]
     },
     "execution_count": 11,
     "metadata": {},
     "output_type": "execute_result"
    }
   ],
   "source": [
    "df.tail(5)"
   ]
  },
  {
   "cell_type": "markdown",
   "metadata": {},
   "source": [
    "## ML models"
   ]
  },
  {
   "cell_type": "code",
   "execution_count": 12,
   "metadata": {},
   "outputs": [],
   "source": [
    "TRAIN_SIZE = int(len(df) * (1.0 - TEST_FRAC))"
   ]
  },
  {
   "cell_type": "code",
   "execution_count": 13,
   "metadata": {},
   "outputs": [],
   "source": [
    "class MACrossStrategy(Strategy):\n",
    "    def __init__(self, cross_type=1):\n",
    "        if cross_type != 1 and cross_type != -1:\n",
    "            raise Exception('`cross_type` should be either `1`(up) or `-1`(down)')\n",
    "        \n",
    "        self.cross_type = cross_type\n",
    "        self.op = self.buy if cross_type == 1 else self.sell\n",
    "        \n",
    "        \n",
    "    def prepare(self, data):\n",
    "        cols = data.columns\n",
    "        if not ('ma_long' in cols):\n",
    "            raise Exception('missing `ma_long` column')\n",
    "            \n",
    "        if not ('ma_short' in cols):\n",
    "            raise Exception('missing `ma_short` column')\n",
    "            \n",
    "        self.cross = (self.cross_type * (data.ma_short - data.ma_long)).shift(1)\n",
    "        # shift is necessary because we can only use it on the next bar\n",
    "\n",
    "        \n",
    "    def next(self, row):\n",
    "        # if prev's bar cross value satisfies out cross_type - make trade at current bar open\n",
    "        if (self.cross[row.name] > 0):\n",
    "            self.op(row, row.open)\n",
    "        else:\n",
    "            # otherwise - close position if present\n",
    "            self.close(row, row.open)"
   ]
  },
  {
   "cell_type": "code",
   "execution_count": 14,
   "metadata": {},
   "outputs": [
    {
     "name": "stdout",
     "output_type": "stream",
     "text": [
      "CPU times: user 5 µs, sys: 4 µs, total: 9 µs\n",
      "Wall time: 15.5 µs\n"
     ]
    }
   ],
   "source": [
    "%time\n",
    "MA_PERIOD_LONG = 13\n",
    "MA_PERIOD_SHORT = 5\n",
    "\n",
    "PERIODS = {\n",
    "    'long': MA_PERIOD_LONG,\n",
    "    'short': MA_PERIOD_SHORT\n",
    "}\n",
    "\n",
    "df_mac = df.copy(deep=False)\n",
    "add_moving(df_mac, MA_PERIOD_LONG, 'long')\n",
    "add_moving(df_mac, MA_PERIOD_SHORT, 'short')\n",
    "\n",
    "df_mac['macd'] = (df_mac['ma_short'] - df_mac['ma_long']) / df_mac['std_long']\n",
    "df_mac['macd_bin'] = (df_mac['macd'] > 0).astype('int')\n",
    "df_mac['macd_bin_1'] = df_mac['macd_bin'].shift(1).fillna(0)\n",
    "\n",
    "cols = []\n",
    "\n",
    "for col1 in ['open', 'high', 'low', 'close']:\n",
    "    for per in ['long', 'short']:\n",
    "        for col2 in ['ma', 'high', 'low']:\n",
    "            new_col = (df_mac[col1] - df_mac[f'{col2}_{per}']) / df_mac[f'std_{per}']\n",
    "            new_col.name = f'{col1}_by_{col2}_{per}'\n",
    "            cols.append(new_col)\n",
    "            \n",
    "for per in ['long', 'short']:\n",
    "    tper = PERIODS[per]\n",
    "    # ADX\n",
    "    adx_col = talib.ADX(df_mac.high, df_mac.low, df_mac.close, timeperiod=tper)\n",
    "    adx_col.name = f'ADX_{per}'\n",
    "    cols.append(adx_col)\n",
    "    # RSI\n",
    "    rsi_col = talib.RSI(df_mac.close, timeperiod=tper)\n",
    "    rsi_col.name = f'RSI_{per}'\n",
    "    cols.append(rsi_col)\n",
    "    # WILLR\n",
    "    wil_col = talib.WILLR(df_mac.high, df_mac.low, df_mac.close, timeperiod=tper)\n",
    "    wil_col.name = f'WILLR_{per}'\n",
    "    cols.append(wil_col)\n",
    "    \n",
    "for pattern in talib.get_function_groups()['Pattern Recognition']:\n",
    "    pat_col = getattr(talib, pattern)(df_mac.open, df_mac.high, df_mac.low, df_mac.close)\n",
    "    pat_col.name = pattern\n",
    "    cols.append(pat_col)\n",
    "      \n",
    "df_mac = pd.concat([df_mac, *cols], axis=1)\n",
    "data_train = df_mac.iloc[:TRAIN_SIZE]"
   ]
  },
  {
   "cell_type": "code",
   "execution_count": 15,
   "metadata": {},
   "outputs": [],
   "source": [
    "zz_pivots = zigzag.peak_valley_pivots(data_train.close.values, 0.05, -0.05)"
   ]
  },
  {
   "cell_type": "code",
   "execution_count": 16,
   "metadata": {},
   "outputs": [],
   "source": [
    "zz_pivots = pd.Series(data=zz_pivots, index=data_train.index)"
   ]
  },
  {
   "cell_type": "code",
   "execution_count": 17,
   "metadata": {},
   "outputs": [],
   "source": [
    "# zz_pivots.replace(0, np.nan, inplace=True)"
   ]
  },
  {
   "cell_type": "code",
   "execution_count": 18,
   "metadata": {},
   "outputs": [],
   "source": [
    "# zz_pivots.isna().sum(), len(zz_pivots)"
   ]
  },
  {
   "cell_type": "code",
   "execution_count": 19,
   "metadata": {},
   "outputs": [],
   "source": [
    "# zz_pivots.fillna(method='ffill', inplace=True)"
   ]
  },
  {
   "cell_type": "code",
   "execution_count": 20,
   "metadata": {},
   "outputs": [],
   "source": [
    "def plot_pivots(X, pivots):\n",
    "    plt.xlim(0, len(X))\n",
    "    plt.ylim(X.min()*0.99, X.max()*1.01)\n",
    "    plt.plot(np.arange(len(X)), X, 'k:', alpha=0.5)\n",
    "    plt.plot(np.arange(len(X))[pivots != 0], X[pivots != 0], 'k-')\n",
    "    plt.scatter(np.arange(len(X))[pivots == 1], X[pivots == 1], color='g')\n",
    "    plt.scatter(np.arange(len(X))[pivots == -1], X[pivots == -1], color='r')"
   ]
  },
  {
   "cell_type": "code",
   "execution_count": 21,
   "metadata": {},
   "outputs": [
    {
     "data": {
      "image/png": "[encoded data removed]",
      "text/plain": [
       "<Figure size 1080x360 with 1 Axes>"
      ]
     },
     "metadata": {
      "needs_background": "light"
     },
     "output_type": "display_data"
    }
   ],
   "source": [
    "plot_pivots(data_train.close, zz_pivots)"
   ]
  },
  {
   "cell_type": "code",
   "execution_count": 22,
   "metadata": {},
   "outputs": [],
   "source": [
    "zz_y = -zz_pivots.replace(0, np.nan).fillna(method='ffill')"
   ]
  },
  {
   "cell_type": "code",
   "execution_count": 23,
   "metadata": {},
   "outputs": [
    {
     "name": "stdout",
     "output_type": "stream",
     "text": [
      "Net profit:        1306505.00     Gross profit:      1306505.00\n",
      "Raw profit:        1306505.00     Gross loss:              0.00\n",
      "Fee paid:                0.00     Max drawdown:         2898.00\n",
      "Trades count:             307     Profit factor:            inf\n",
      "Profitable:           100.00%     Recovery factor:       450.83\n",
      "Losing:                 0.00%     Sharpe ratio:          603.62\n",
      "PPT %:                  9.80%     My ratio:                8.69\n"
     ]
    }
   ],
   "source": [
    "zz_res = SignalStrategy(zz_y, shift=1).run(data_train)\n",
    "zz_res.summary()"
   ]
  },
  {
   "cell_type": "code",
   "execution_count": 16,
   "metadata": {},
   "outputs": [
    {
     "name": "stdout",
     "output_type": "stream",
     "text": [
      "Net profit:         -13627.50     Gross profit:      1166661.00\n",
      "Raw profit:         -13627.50     Gross loss:       -1180288.50\n",
      "Fee paid:                0.00     Max drawdown:        57012.50\n",
      "Trades count:           21450     Profit factor:           0.99\n",
      "Profitable:            36.20%     Recovery factor:        -0.24\n",
      "Losing:                63.80%     Sharpe ratio:          -73.73\n",
      "PPT %:                 -0.00%     My ratio:               -0.09\n",
      "CPU times: user 14.2 s, sys: 578 ms, total: 14.8 s\n",
      "Wall time: 14.8 s\n"
     ]
    }
   ],
   "source": [
    "%%time\n",
    "ma_cross_res = MACrossStrategy().run(data_train)\n",
    "ma_cross_res.summary()"
   ]
  },
  {
   "cell_type": "code",
   "execution_count": 17,
   "metadata": {},
   "outputs": [
    {
     "data": {
      "text/plain": [
       "<AxesSubplot:xlabel='time', ylabel='pnl'>"
      ]
     },
     "execution_count": 17,
     "metadata": {},
     "output_type": "execute_result"
    },
    {
     "data": {
      "image/png": "[encoded data removed]",
      "text/plain": [
       "<Figure size 1080x360 with 1 Axes>"
      ]
     },
     "metadata": {
      "needs_background": "light"
     },
     "output_type": "display_data"
    }
   ],
   "source": [
    "sns.lineplot(y=ma_cross_res.equity.pnl, x=data_train.time)"
   ]
  },
  {
   "cell_type": "code",
   "execution_count": 18,
   "metadata": {},
   "outputs": [
    {
     "data": {
      "text/plain": [
       "<AxesSubplot:xlabel='time', ylabel='pnl_open'>"
      ]
     },
     "execution_count": 18,
     "metadata": {},
     "output_type": "execute_result"
    },
    {
     "data": {
      "image/png": "[encoded data removed]",
      "text/plain": [
       "<Figure size 1080x360 with 1 Axes>"
      ]
     },
     "metadata": {
      "needs_background": "light"
     },
     "output_type": "display_data"
    }
   ],
   "source": [
    "sns.lineplot(y=ma_cross_res.equity.pnl_open, x=data_train.time, color='r')\n",
    "sns.lineplot(y=ma_cross_res.equity.pnl_open_max, x=data_train.time, color='g', alpha=0.15)"
   ]
  },
  {
   "cell_type": "code",
   "execution_count": 19,
   "metadata": {},
   "outputs": [],
   "source": [
    "trades = ma_cross_res.trades\n",
    "equity = ma_cross_res.equity\n",
    "fix_pos = ma_cross_res.best_pos(min_bars_held=2)"
   ]
  },
  {
   "cell_type": "code",
   "execution_count": 20,
   "metadata": {},
   "outputs": [
    {
     "data": {
      "text/html": [
       "<div>\n",
       "<style scoped>\n",
       "    .dataframe tbody tr th:only-of-type {\n",
       "        vertical-align: middle;\n",
       "    }\n",
       "\n",
       "    .dataframe tbody tr th {\n",
       "        vertical-align: top;\n",
       "    }\n",
       "\n",
       "    .dataframe thead th {\n",
       "        text-align: right;\n",
       "    }\n",
       "</style>\n",
       "<table border=\"1\" class=\"dataframe\">\n",
       "  <thead>\n",
       "    <tr style=\"text-align: right;\">\n",
       "      <th></th>\n",
       "      <th>pos</th>\n",
       "      <th>price_enter</th>\n",
       "      <th>price_exit</th>\n",
       "      <th>index_enter</th>\n",
       "      <th>index_exit</th>\n",
       "      <th>index_max</th>\n",
       "      <th>index_min</th>\n",
       "      <th>fee</th>\n",
       "      <th>pnl</th>\n",
       "      <th>pnl_max</th>\n",
       "      <th>pnl_min</th>\n",
       "      <th>result</th>\n",
       "    </tr>\n",
       "  </thead>\n",
       "  <tbody>\n",
       "    <tr>\n",
       "      <th>0</th>\n",
       "      <td>1</td>\n",
       "      <td>28870.0</td>\n",
       "      <td>29359.0</td>\n",
       "      <td>24</td>\n",
       "      <td>84</td>\n",
       "      <td>74</td>\n",
       "      <td>29</td>\n",
       "      <td>0.0</td>\n",
       "      <td>489.0</td>\n",
       "      <td>585.0</td>\n",
       "      <td>-3.0</td>\n",
       "      <td>489.0</td>\n",
       "    </tr>\n",
       "    <tr>\n",
       "      <th>1</th>\n",
       "      <td>1</td>\n",
       "      <td>29425.0</td>\n",
       "      <td>29439.5</td>\n",
       "      <td>89</td>\n",
       "      <td>104</td>\n",
       "      <td>98</td>\n",
       "      <td>93</td>\n",
       "      <td>0.0</td>\n",
       "      <td>14.5</td>\n",
       "      <td>115.0</td>\n",
       "      <td>-25.0</td>\n",
       "      <td>14.5</td>\n",
       "    </tr>\n",
       "    <tr>\n",
       "      <th>2</th>\n",
       "      <td>1</td>\n",
       "      <td>29420.0</td>\n",
       "      <td>29420.0</td>\n",
       "      <td>114</td>\n",
       "      <td>115</td>\n",
       "      <td>114</td>\n",
       "      <td>114</td>\n",
       "      <td>0.0</td>\n",
       "      <td>0.0</td>\n",
       "      <td>0.0</td>\n",
       "      <td>0.0</td>\n",
       "      <td>0.0</td>\n",
       "    </tr>\n",
       "    <tr>\n",
       "      <th>3</th>\n",
       "      <td>1</td>\n",
       "      <td>29450.0</td>\n",
       "      <td>29421.5</td>\n",
       "      <td>118</td>\n",
       "      <td>127</td>\n",
       "      <td>120</td>\n",
       "      <td>126</td>\n",
       "      <td>0.0</td>\n",
       "      <td>-28.5</td>\n",
       "      <td>60.0</td>\n",
       "      <td>-28.0</td>\n",
       "      <td>-28.5</td>\n",
       "    </tr>\n",
       "    <tr>\n",
       "      <th>4</th>\n",
       "      <td>1</td>\n",
       "      <td>29390.0</td>\n",
       "      <td>29284.5</td>\n",
       "      <td>143</td>\n",
       "      <td>151</td>\n",
       "      <td>144</td>\n",
       "      <td>150</td>\n",
       "      <td>0.0</td>\n",
       "      <td>-105.5</td>\n",
       "      <td>26.5</td>\n",
       "      <td>-105.5</td>\n",
       "      <td>-105.5</td>\n",
       "    </tr>\n",
       "    <tr>\n",
       "      <th>...</th>\n",
       "      <td>...</td>\n",
       "      <td>...</td>\n",
       "      <td>...</td>\n",
       "      <td>...</td>\n",
       "      <td>...</td>\n",
       "      <td>...</td>\n",
       "      <td>...</td>\n",
       "      <td>...</td>\n",
       "      <td>...</td>\n",
       "      <td>...</td>\n",
       "      <td>...</td>\n",
       "      <td>...</td>\n",
       "    </tr>\n",
       "    <tr>\n",
       "      <th>21445</th>\n",
       "      <td>1</td>\n",
       "      <td>57230.0</td>\n",
       "      <td>57056.0</td>\n",
       "      <td>482557</td>\n",
       "      <td>482566</td>\n",
       "      <td>482558</td>\n",
       "      <td>482565</td>\n",
       "      <td>0.0</td>\n",
       "      <td>-174.0</td>\n",
       "      <td>117.0</td>\n",
       "      <td>-174.5</td>\n",
       "      <td>-174.0</td>\n",
       "    </tr>\n",
       "    <tr>\n",
       "      <th>21446</th>\n",
       "      <td>1</td>\n",
       "      <td>56644.0</td>\n",
       "      <td>56477.0</td>\n",
       "      <td>482585</td>\n",
       "      <td>482589</td>\n",
       "      <td>482585</td>\n",
       "      <td>482588</td>\n",
       "      <td>0.0</td>\n",
       "      <td>-167.0</td>\n",
       "      <td>58.5</td>\n",
       "      <td>-174.5</td>\n",
       "      <td>-167.0</td>\n",
       "    </tr>\n",
       "    <tr>\n",
       "      <th>21447</th>\n",
       "      <td>1</td>\n",
       "      <td>56389.5</td>\n",
       "      <td>56346.0</td>\n",
       "      <td>482604</td>\n",
       "      <td>482629</td>\n",
       "      <td>482623</td>\n",
       "      <td>482608</td>\n",
       "      <td>0.0</td>\n",
       "      <td>-43.5</td>\n",
       "      <td>356.5</td>\n",
       "      <td>-79.0</td>\n",
       "      <td>-43.5</td>\n",
       "    </tr>\n",
       "    <tr>\n",
       "      <th>21448</th>\n",
       "      <td>1</td>\n",
       "      <td>56245.0</td>\n",
       "      <td>56152.5</td>\n",
       "      <td>482657</td>\n",
       "      <td>482661</td>\n",
       "      <td>482657</td>\n",
       "      <td>482659</td>\n",
       "      <td>0.0</td>\n",
       "      <td>-92.5</td>\n",
       "      <td>45.5</td>\n",
       "      <td>-93.0</td>\n",
       "      <td>-92.5</td>\n",
       "    </tr>\n",
       "    <tr>\n",
       "      <th>21449</th>\n",
       "      <td>1</td>\n",
       "      <td>56174.0</td>\n",
       "      <td>56466.5</td>\n",
       "      <td>482668</td>\n",
       "      <td>482684</td>\n",
       "      <td>482677</td>\n",
       "      <td>482668</td>\n",
       "      <td>0.0</td>\n",
       "      <td>292.5</td>\n",
       "      <td>331.0</td>\n",
       "      <td>0.0</td>\n",
       "      <td>292.5</td>\n",
       "    </tr>\n",
       "  </tbody>\n",
       "</table>\n",
       "<p>21450 rows × 12 columns</p>\n",
       "</div>"
      ],
      "text/plain": [
       "       pos  price_enter  price_exit  index_enter  index_exit  index_max  \\\n",
       "0        1      28870.0     29359.0           24          84         74   \n",
       "1        1      29425.0     29439.5           89         104         98   \n",
       "2        1      29420.0     29420.0          114         115        114   \n",
       "3        1      29450.0     29421.5          118         127        120   \n",
       "4        1      29390.0     29284.5          143         151        144   \n",
       "...    ...          ...         ...          ...         ...        ...   \n",
       "21445    1      57230.0     57056.0       482557      482566     482558   \n",
       "21446    1      56644.0     56477.0       482585      482589     482585   \n",
       "21447    1      56389.5     56346.0       482604      482629     482623   \n",
       "21448    1      56245.0     56152.5       482657      482661     482657   \n",
       "21449    1      56174.0     56466.5       482668      482684     482677   \n",
       "\n",
       "       index_min  fee    pnl  pnl_max  pnl_min  result  \n",
       "0             29  0.0  489.0    585.0     -3.0   489.0  \n",
       "1             93  0.0   14.5    115.0    -25.0    14.5  \n",
       "2            114  0.0    0.0      0.0      0.0     0.0  \n",
       "3            126  0.0  -28.5     60.0    -28.0   -28.5  \n",
       "4            150  0.0 -105.5     26.5   -105.5  -105.5  \n",
       "...          ...  ...    ...      ...      ...     ...  \n",
       "21445     482565  0.0 -174.0    117.0   -174.5  -174.0  \n",
       "21446     482588  0.0 -167.0     58.5   -174.5  -167.0  \n",
       "21447     482608  0.0  -43.5    356.5    -79.0   -43.5  \n",
       "21448     482659  0.0  -92.5     45.5    -93.0   -92.5  \n",
       "21449     482668  0.0  292.5    331.0      0.0   292.5  \n",
       "\n",
       "[21450 rows x 12 columns]"
      ]
     },
     "execution_count": 20,
     "metadata": {},
     "output_type": "execute_result"
    }
   ],
   "source": [
    "trades"
   ]
  },
  {
   "cell_type": "code",
   "execution_count": 21,
   "metadata": {},
   "outputs": [
    {
     "name": "stdout",
     "output_type": "stream",
     "text": [
      "Net profit:        2272721.00     Gross profit:      2272854.50\n",
      "Raw profit:        2272721.00     Gross loss:           -133.50\n",
      "Fee paid:                0.00     Max drawdown:         1044.00\n",
      "Trades count:           11365     Profit factor:       17025.13\n",
      "Profitable:            99.67%     Recovery factor:      2176.94\n",
      "Losing:                 0.33%     Sharpe ratio:         9403.11\n",
      "PPT %:                  0.42%     My ratio:                8.29\n",
      "CPU times: user 12.5 s, sys: 553 ms, total: 13.1 s\n",
      "Wall time: 13.1 s\n"
     ]
    }
   ],
   "source": [
    "%%time\n",
    "mac_fix_res = SignalStrategy(fix_pos).run(data_train)\n",
    "mac_fix_res.summary()"
   ]
  },
  {
   "cell_type": "code",
   "execution_count": 22,
   "metadata": {},
   "outputs": [
    {
     "data": {
      "text/html": [
       "<div>\n",
       "<style scoped>\n",
       "    .dataframe tbody tr th:only-of-type {\n",
       "        vertical-align: middle;\n",
       "    }\n",
       "\n",
       "    .dataframe tbody tr th {\n",
       "        vertical-align: top;\n",
       "    }\n",
       "\n",
       "    .dataframe thead th {\n",
       "        text-align: right;\n",
       "    }\n",
       "</style>\n",
       "<table border=\"1\" class=\"dataframe\">\n",
       "  <thead>\n",
       "    <tr style=\"text-align: right;\">\n",
       "      <th></th>\n",
       "      <th>pos</th>\n",
       "      <th>price_enter</th>\n",
       "      <th>price_exit</th>\n",
       "      <th>index_enter</th>\n",
       "      <th>index_exit</th>\n",
       "      <th>index_max</th>\n",
       "      <th>index_min</th>\n",
       "      <th>fee</th>\n",
       "      <th>pnl</th>\n",
       "      <th>pnl_max</th>\n",
       "      <th>pnl_min</th>\n",
       "      <th>result</th>\n",
       "    </tr>\n",
       "  </thead>\n",
       "  <tbody>\n",
       "    <tr>\n",
       "      <th>0</th>\n",
       "      <td>1</td>\n",
       "      <td>28870.0</td>\n",
       "      <td>29454.5</td>\n",
       "      <td>24</td>\n",
       "      <td>75</td>\n",
       "      <td>74</td>\n",
       "      <td>29</td>\n",
       "      <td>0.0</td>\n",
       "      <td>584.5</td>\n",
       "      <td>585.0</td>\n",
       "      <td>-3.0</td>\n",
       "      <td>584.5</td>\n",
       "    </tr>\n",
       "    <tr>\n",
       "      <th>1</th>\n",
       "      <td>1</td>\n",
       "      <td>29425.0</td>\n",
       "      <td>29540.0</td>\n",
       "      <td>89</td>\n",
       "      <td>99</td>\n",
       "      <td>98</td>\n",
       "      <td>93</td>\n",
       "      <td>0.0</td>\n",
       "      <td>115.0</td>\n",
       "      <td>115.0</td>\n",
       "      <td>-25.0</td>\n",
       "      <td>115.0</td>\n",
       "    </tr>\n",
       "    <tr>\n",
       "      <th>2</th>\n",
       "      <td>1</td>\n",
       "      <td>29450.0</td>\n",
       "      <td>29511.0</td>\n",
       "      <td>118</td>\n",
       "      <td>121</td>\n",
       "      <td>120</td>\n",
       "      <td>118</td>\n",
       "      <td>0.0</td>\n",
       "      <td>61.0</td>\n",
       "      <td>60.0</td>\n",
       "      <td>0.0</td>\n",
       "      <td>61.0</td>\n",
       "    </tr>\n",
       "    <tr>\n",
       "      <th>3</th>\n",
       "      <td>1</td>\n",
       "      <td>29336.5</td>\n",
       "      <td>29400.0</td>\n",
       "      <td>165</td>\n",
       "      <td>170</td>\n",
       "      <td>169</td>\n",
       "      <td>165</td>\n",
       "      <td>0.0</td>\n",
       "      <td>63.5</td>\n",
       "      <td>63.0</td>\n",
       "      <td>0.0</td>\n",
       "      <td>63.5</td>\n",
       "    </tr>\n",
       "    <tr>\n",
       "      <th>4</th>\n",
       "      <td>1</td>\n",
       "      <td>29318.0</td>\n",
       "      <td>29359.5</td>\n",
       "      <td>185</td>\n",
       "      <td>196</td>\n",
       "      <td>195</td>\n",
       "      <td>188</td>\n",
       "      <td>0.0</td>\n",
       "      <td>41.5</td>\n",
       "      <td>41.5</td>\n",
       "      <td>-28.0</td>\n",
       "      <td>41.5</td>\n",
       "    </tr>\n",
       "    <tr>\n",
       "      <th>...</th>\n",
       "      <td>...</td>\n",
       "      <td>...</td>\n",
       "      <td>...</td>\n",
       "      <td>...</td>\n",
       "      <td>...</td>\n",
       "      <td>...</td>\n",
       "      <td>...</td>\n",
       "      <td>...</td>\n",
       "      <td>...</td>\n",
       "      <td>...</td>\n",
       "      <td>...</td>\n",
       "      <td>...</td>\n",
       "    </tr>\n",
       "    <tr>\n",
       "      <th>11360</th>\n",
       "      <td>1</td>\n",
       "      <td>56447.5</td>\n",
       "      <td>56513.5</td>\n",
       "      <td>482492</td>\n",
       "      <td>482496</td>\n",
       "      <td>482495</td>\n",
       "      <td>482492</td>\n",
       "      <td>0.0</td>\n",
       "      <td>66.0</td>\n",
       "      <td>63.5</td>\n",
       "      <td>0.0</td>\n",
       "      <td>66.0</td>\n",
       "    </tr>\n",
       "    <tr>\n",
       "      <th>11361</th>\n",
       "      <td>1</td>\n",
       "      <td>56631.5</td>\n",
       "      <td>56745.0</td>\n",
       "      <td>482507</td>\n",
       "      <td>482510</td>\n",
       "      <td>482509</td>\n",
       "      <td>482507</td>\n",
       "      <td>0.0</td>\n",
       "      <td>113.5</td>\n",
       "      <td>113.0</td>\n",
       "      <td>0.0</td>\n",
       "      <td>113.5</td>\n",
       "    </tr>\n",
       "    <tr>\n",
       "      <th>11362</th>\n",
       "      <td>1</td>\n",
       "      <td>56755.0</td>\n",
       "      <td>57181.5</td>\n",
       "      <td>482532</td>\n",
       "      <td>482548</td>\n",
       "      <td>482547</td>\n",
       "      <td>482532</td>\n",
       "      <td>0.0</td>\n",
       "      <td>426.5</td>\n",
       "      <td>439.5</td>\n",
       "      <td>-0.5</td>\n",
       "      <td>426.5</td>\n",
       "    </tr>\n",
       "    <tr>\n",
       "      <th>11363</th>\n",
       "      <td>1</td>\n",
       "      <td>56389.5</td>\n",
       "      <td>56746.5</td>\n",
       "      <td>482604</td>\n",
       "      <td>482624</td>\n",
       "      <td>482623</td>\n",
       "      <td>482608</td>\n",
       "      <td>0.0</td>\n",
       "      <td>357.0</td>\n",
       "      <td>356.5</td>\n",
       "      <td>-79.0</td>\n",
       "      <td>357.0</td>\n",
       "    </tr>\n",
       "    <tr>\n",
       "      <th>11364</th>\n",
       "      <td>1</td>\n",
       "      <td>56174.0</td>\n",
       "      <td>56490.5</td>\n",
       "      <td>482668</td>\n",
       "      <td>482678</td>\n",
       "      <td>482677</td>\n",
       "      <td>482668</td>\n",
       "      <td>0.0</td>\n",
       "      <td>316.5</td>\n",
       "      <td>331.0</td>\n",
       "      <td>0.0</td>\n",
       "      <td>316.5</td>\n",
       "    </tr>\n",
       "  </tbody>\n",
       "</table>\n",
       "<p>11365 rows × 12 columns</p>\n",
       "</div>"
      ],
      "text/plain": [
       "       pos  price_enter  price_exit  index_enter  index_exit  index_max  \\\n",
       "0        1      28870.0     29454.5           24          75         74   \n",
       "1        1      29425.0     29540.0           89          99         98   \n",
       "2        1      29450.0     29511.0          118         121        120   \n",
       "3        1      29336.5     29400.0          165         170        169   \n",
       "4        1      29318.0     29359.5          185         196        195   \n",
       "...    ...          ...         ...          ...         ...        ...   \n",
       "11360    1      56447.5     56513.5       482492      482496     482495   \n",
       "11361    1      56631.5     56745.0       482507      482510     482509   \n",
       "11362    1      56755.0     57181.5       482532      482548     482547   \n",
       "11363    1      56389.5     56746.5       482604      482624     482623   \n",
       "11364    1      56174.0     56490.5       482668      482678     482677   \n",
       "\n",
       "       index_min  fee    pnl  pnl_max  pnl_min  result  \n",
       "0             29  0.0  584.5    585.0     -3.0   584.5  \n",
       "1             93  0.0  115.0    115.0    -25.0   115.0  \n",
       "2            118  0.0   61.0     60.0      0.0    61.0  \n",
       "3            165  0.0   63.5     63.0      0.0    63.5  \n",
       "4            188  0.0   41.5     41.5    -28.0    41.5  \n",
       "...          ...  ...    ...      ...      ...     ...  \n",
       "11360     482492  0.0   66.0     63.5      0.0    66.0  \n",
       "11361     482507  0.0  113.5    113.0      0.0   113.5  \n",
       "11362     482532  0.0  426.5    439.5     -0.5   426.5  \n",
       "11363     482608  0.0  357.0    356.5    -79.0   357.0  \n",
       "11364     482668  0.0  316.5    331.0      0.0   316.5  \n",
       "\n",
       "[11365 rows x 12 columns]"
      ]
     },
     "execution_count": 22,
     "metadata": {},
     "output_type": "execute_result"
    }
   ],
   "source": [
    "mac_fix_res.trades"
   ]
  },
  {
   "cell_type": "markdown",
   "metadata": {},
   "source": [
    "### Подход №1\n",
    "пробуем обучить модель покупать-продавать в идеальных точках"
   ]
  },
  {
   "cell_type": "markdown",
   "metadata": {},
   "source": [
    "`MACrossStrategy` входит в позицию на баре, следующем после пересечения средних - это непременное условие отсутствия \"подглядывания в будущее\". Кроме того, метод `best_pos` делает выход из позиции на баре, следующим за баром с максимальным доходом по текущей позиции - по той же причине. Поэтому для обучения модели целесобразно сдвинуть ряд `fix_pos` на 1 в прошлое"
   ]
  },
  {
   "cell_type": "code",
   "execution_count": 23,
   "metadata": {},
   "outputs": [],
   "source": [
    "target = fix_pos.shift(-1).fillna(0).astype('int')\n",
    "target.name = 'target'"
   ]
  },
  {
   "cell_type": "code",
   "execution_count": 24,
   "metadata": {},
   "outputs": [
    {
     "data": {
      "text/plain": [
       "((482659, 1, 134), (482659,))"
      ]
     },
     "execution_count": 24,
     "metadata": {},
     "output_type": "execute_result"
    }
   ],
   "source": [
    "temp = pd.concat([data_train.drop(columns='time'), target], axis=1)\n",
    "X, y = df2xy(temp.dropna(), target_col='target', steps_in_rows=False)\n",
    "X.shape, y.shape"
   ]
  },
  {
   "cell_type": "code",
   "execution_count": 26,
   "metadata": {},
   "outputs": [
    {
     "data": {
      "image/png": "[encoded data removed]",
      "text/plain": [
       "<Figure size 1152x36 with 1 Axes>"
      ]
     },
     "metadata": {
      "needs_background": "light"
     },
     "output_type": "display_data"
    },
    {
     "data": {
      "text/plain": [
       "((#386128) [0,1,2,3,4,5,6,7,8,9...],\n",
       " (#96531) [386128,386129,386130,386131,386132,386133,386134,386135,386136,386137...])"
      ]
     },
     "execution_count": 26,
     "metadata": {},
     "output_type": "execute_result"
    }
   ],
   "source": [
    "splits = get_splits(y, valid_size=.2, stratify=True, random_state=RANDOM_SEED, shuffle=False)\n",
    "splits"
   ]
  },
  {
   "cell_type": "code",
   "execution_count": 27,
   "metadata": {},
   "outputs": [
    {
     "data": {
      "text/html": [
       "\n",
       "<style>\n",
       "    /* Turns off some styling */\n",
       "    progress {\n",
       "        /* gets rid of default border in Firefox and Opera. */\n",
       "        border: none;\n",
       "        /* Needs to be in here for Safari polyfill so background images work as expected. */\n",
       "        background-size: auto;\n",
       "    }\n",
       "    .progress-bar-interrupted, .progress-bar-interrupted::-webkit-progress-bar {\n",
       "        background: #F44336;\n",
       "    }\n",
       "</style>\n"
      ],
      "text/plain": [
       "<IPython.core.display.HTML object>"
      ]
     },
     "metadata": {},
     "output_type": "display_data"
    },
    {
     "data": {
      "text/html": [
       "<table border=\"1\" class=\"dataframe\">\n",
       "  <thead>\n",
       "    <tr style=\"text-align: left;\">\n",
       "      <th>epoch</th>\n",
       "      <th>train_loss</th>\n",
       "      <th>valid_loss</th>\n",
       "      <th>roc_auc_score</th>\n",
       "      <th>time</th>\n",
       "    </tr>\n",
       "  </thead>\n",
       "  <tbody>\n",
       "    <tr>\n",
       "      <td>0</td>\n",
       "      <td>0.571365</td>\n",
       "      <td>0.562128</td>\n",
       "      <td>0.757071</td>\n",
       "      <td>11:53</td>\n",
       "    </tr>\n",
       "    <tr>\n",
       "      <td>1</td>\n",
       "      <td>0.468074</td>\n",
       "      <td>0.444496</td>\n",
       "      <td>0.868984</td>\n",
       "      <td>12:12</td>\n",
       "    </tr>\n",
       "    <tr>\n",
       "      <td>2</td>\n",
       "      <td>0.377114</td>\n",
       "      <td>0.363018</td>\n",
       "      <td>0.886291</td>\n",
       "      <td>12:01</td>\n",
       "    </tr>\n",
       "    <tr>\n",
       "      <td>3</td>\n",
       "      <td>0.363389</td>\n",
       "      <td>0.349763</td>\n",
       "      <td>0.889938</td>\n",
       "      <td>11:59</td>\n",
       "    </tr>\n",
       "    <tr>\n",
       "      <td>4</td>\n",
       "      <td>0.378166</td>\n",
       "      <td>0.352578</td>\n",
       "      <td>0.889351</td>\n",
       "      <td>12:01</td>\n",
       "    </tr>\n",
       "    <tr>\n",
       "      <td>5</td>\n",
       "      <td>0.359882</td>\n",
       "      <td>0.353365</td>\n",
       "      <td>0.884640</td>\n",
       "      <td>12:02</td>\n",
       "    </tr>\n",
       "    <tr>\n",
       "      <td>6</td>\n",
       "      <td>0.343279</td>\n",
       "      <td>0.346956</td>\n",
       "      <td>0.890177</td>\n",
       "      <td>12:03</td>\n",
       "    </tr>\n",
       "    <tr>\n",
       "      <td>7</td>\n",
       "      <td>0.351576</td>\n",
       "      <td>0.343294</td>\n",
       "      <td>0.893624</td>\n",
       "      <td>12:07</td>\n",
       "    </tr>\n",
       "    <tr>\n",
       "      <td>8</td>\n",
       "      <td>0.343510</td>\n",
       "      <td>0.336792</td>\n",
       "      <td>0.896651</td>\n",
       "      <td>12:03</td>\n",
       "    </tr>\n",
       "    <tr>\n",
       "      <td>9</td>\n",
       "      <td>0.344031</td>\n",
       "      <td>0.336177</td>\n",
       "      <td>0.896954</td>\n",
       "      <td>12:06</td>\n",
       "    </tr>\n",
       "  </tbody>\n",
       "</table>"
      ],
      "text/plain": [
       "<IPython.core.display.HTML object>"
      ]
     },
     "metadata": {},
     "output_type": "display_data"
    },
    {
     "data": {
      "image/png": "[encoded data removed]",
      "text/plain": [
       "<Figure size 432x288 with 1 Axes>"
      ]
     },
     "metadata": {},
     "output_type": "display_data"
    },
    {
     "data": {
      "image/png": "[encoded data removed]",
      "text/plain": [
       "<Figure size 1440x288 with 3 Axes>"
      ]
     },
     "metadata": {
      "needs_background": "light"
     },
     "output_type": "display_data"
    },
    {
     "name": "stdout",
     "output_type": "stream",
     "text": [
      "CPU times: user 6h 23min 56s, sys: 21 s, total: 6h 24min 17s\n",
      "Wall time: 2h 48s\n"
     ]
    }
   ],
   "source": [
    "%%time\n",
    "batch_tfms = TSStandardize()\n",
    "clf = TSClassifier(X, y, splits=splits, arch=TST, batch_tfms=batch_tfms, metrics=RocAucBinary(), cbs=ShowGraph())\n",
    "clf.fit_one_cycle(10, 3e-4)\n",
    "clf.export(\"save/clf.pkl\") # make sure you set the path to a folder that already exists"
   ]
  },
  {
   "cell_type": "code",
   "execution_count": 41,
   "metadata": {},
   "outputs": [],
   "source": [
    "def validate_strategy(strategy, X_val, y_val, predictor, shift=1):\n",
    "    print('Original strategy on validation data:')\n",
    "    res_orig = strategy.run(X_val)\n",
    "    res_orig.summary()\n",
    "    print()\n",
    "    print('Ideal footprint (y_val):')\n",
    "    res_val = SignalStrategy(y_val, shift=shift).run(X_val)\n",
    "    res_val.summary()\n",
    "    print()\n",
    "    print('Prediction footprint:')\n",
    "    res_pred = SignalStrategy(predictor, shift=shift).run(X_val)\n",
    "    res_pred.summary()\n",
    "    \n",
    "    return (res_orig, res_val, res_pred)"
   ]
  },
  {
   "cell_type": "code",
   "execution_count": 28,
   "metadata": {},
   "outputs": [],
   "source": [
    "data_test = df_mac.drop(columns='time').iloc[TRAIN_SIZE:]"
   ]
  },
  {
   "cell_type": "code",
   "execution_count": 29,
   "metadata": {},
   "outputs": [
    {
     "data": {
      "text/plain": [
       "(85180, 1, 134)"
      ]
     },
     "execution_count": 29,
     "metadata": {},
     "output_type": "execute_result"
    }
   ],
   "source": [
    "X_test, _ = df2xy(data_test, steps_in_rows=False)\n",
    "X_test.shape"
   ]
  },
  {
   "cell_type": "code",
   "execution_count": 30,
   "metadata": {},
   "outputs": [
    {
     "data": {
      "text/html": [
       "\n",
       "<style>\n",
       "    /* Turns off some styling */\n",
       "    progress {\n",
       "        /* gets rid of default border in Firefox and Opera. */\n",
       "        border: none;\n",
       "        /* Needs to be in here for Safari polyfill so background images work as expected. */\n",
       "        background-size: auto;\n",
       "    }\n",
       "    .progress-bar-interrupted, .progress-bar-interrupted::-webkit-progress-bar {\n",
       "        background: #F44336;\n",
       "    }\n",
       "</style>\n"
      ],
      "text/plain": [
       "<IPython.core.display.HTML object>"
      ]
     },
     "metadata": {},
     "output_type": "display_data"
    },
    {
     "data": {
      "text/html": [],
      "text/plain": [
       "<IPython.core.display.HTML object>"
      ]
     },
     "metadata": {},
     "output_type": "display_data"
    }
   ],
   "source": [
    "test_probas, test_targets, test_preds = clf.get_X_preds(X_test, with_decoded=True)"
   ]
  },
  {
   "cell_type": "code",
   "execution_count": 31,
   "metadata": {},
   "outputs": [
    {
     "data": {
      "text/plain": [
       "TensorBase([0.5546, 0.2730, 0.5096, 0.4944, 0.4720, 0.5329, 0.0943, 0.6000, 0.6850,\n",
       "        0.3023])"
      ]
     },
     "execution_count": 31,
     "metadata": {},
     "output_type": "execute_result"
    }
   ],
   "source": [
    "test_probas.T[1][:10]"
   ]
  },
  {
   "cell_type": "code",
   "execution_count": 32,
   "metadata": {},
   "outputs": [
    {
     "data": {
      "text/plain": [
       "array(['1', '0', '1', '0', '0', '1', '0', '1', '1', '0'], dtype='<U1')"
      ]
     },
     "execution_count": 32,
     "metadata": {},
     "output_type": "execute_result"
    }
   ],
   "source": [
    "test_preds[:10]"
   ]
  },
  {
   "cell_type": "code",
   "execution_count": 33,
   "metadata": {},
   "outputs": [],
   "source": [
    "y_test_pred = pd.Series(data=test_preds, index=data_test.index).astype('int')"
   ]
  },
  {
   "cell_type": "code",
   "execution_count": 34,
   "metadata": {},
   "outputs": [
    {
     "data": {
      "text/plain": [
       "0    62936\n",
       "1    22244\n",
       "dtype: int64"
      ]
     },
     "execution_count": 34,
     "metadata": {},
     "output_type": "execute_result"
    }
   ],
   "source": [
    "y_test_pred.value_counts()"
   ]
  },
  {
   "cell_type": "code",
   "execution_count": 35,
   "metadata": {},
   "outputs": [
    {
     "name": "stdout",
     "output_type": "stream",
     "text": [
      "Net profit:           2371.50     Gross profit:       150447.50\n",
      "Raw profit:           2371.50     Gross loss:        -148076.00\n",
      "Fee paid:                0.00     Max drawdown:        11516.50\n",
      "Trades count:            3649     Profit factor:           1.02\n",
      "Profitable:            37.35%     Recovery factor:         0.21\n",
      "Losing:                62.65%     Sharpe ratio:           18.15\n",
      "PPT %:                  0.00%     My ratio:                0.03\n"
     ]
    }
   ],
   "source": [
    "mac_test_res = MACrossStrategy().run(data_test)\n",
    "mac_test_res.summary()"
   ]
  },
  {
   "cell_type": "code",
   "execution_count": 36,
   "metadata": {},
   "outputs": [],
   "source": [
    "y_test_dirty = mac_test_res.equity.pos.shift(-1).fillna(0)\n",
    "y_test = mac_test_res.best_pos().shift(-1).fillna(0).astype('int') # again shift"
   ]
  },
  {
   "cell_type": "code",
   "execution_count": 37,
   "metadata": {},
   "outputs": [],
   "source": [
    "def print_metrics(y0, y1):\n",
    "    acc = accuracy_score(y0, y1)\n",
    "    prc = precision_score(y0, y1)\n",
    "    f1s = f1_score(y0, y1)\n",
    "    roc = roc_auc_score(y0, y1)\n",
    "    print(f'Accuracy: {acc:.4f}; Precision: {prc:.4f}; F1: {f1s:.4f}; ROC AUC: {roc:.4f}')"
   ]
  },
  {
   "cell_type": "code",
   "execution_count": 38,
   "metadata": {},
   "outputs": [
    {
     "name": "stdout",
     "output_type": "stream",
     "text": [
      "Accuracy: 0.8270; Precision: 0.6972; F1: 0.6780; ROC AUC: 0.7753\n"
     ]
    }
   ],
   "source": [
    "print_metrics(y_test, y_test_pred)"
   ]
  },
  {
   "cell_type": "code",
   "execution_count": 39,
   "metadata": {},
   "outputs": [
    {
     "name": "stdout",
     "output_type": "stream",
     "text": [
      "Net profit:          13150.00     Gross profit:       144611.50\n",
      "Raw profit:          13150.00     Gross loss:        -131461.50\n",
      "Fee paid:                0.00     Max drawdown:         3797.00\n",
      "Trades count:            6141     Profit factor:           1.10\n",
      "Profitable:            33.85%     Recovery factor:         3.46\n",
      "Losing:                66.15%     Sharpe ratio:          167.70\n",
      "PPT %:                  0.00%     My ratio:                0.59\n"
     ]
    }
   ],
   "source": [
    "mac_test_sig_res2 = SignalStrategy(y_test_pred, shift=1).run(data_test)\n",
    "mac_test_sig_res2.summary()"
   ]
  },
  {
   "cell_type": "code",
   "execution_count": 40,
   "metadata": {},
   "outputs": [],
   "source": [
    "def confirm_pred(y0, y1=None, weights=None, threshold=0.5):\n",
    "    y1_ = y1 if not y1 is None else y0.shift(1).fillna(0)\n",
    "    w_ = weights if not weights is None else [0.5, 0.5]\n",
    "    res = (((y0 * w_[0]) + (y1_ * w_[1])) > threshold)\n",
    "    return res.astype('int') if isinstance(res, pd.Series) else int(res)"
   ]
  },
  {
   "cell_type": "code",
   "execution_count": 41,
   "metadata": {},
   "outputs": [],
   "source": [
    "# y_test_proba = pd.Series(data=test_probas.T[1], index=data_test.index)"
   ]
  },
  {
   "cell_type": "code",
   "execution_count": 42,
   "metadata": {},
   "outputs": [
    {
     "ename": "NameError",
     "evalue": "name 'y_test_proba' is not defined",
     "output_type": "error",
     "traceback": [
      "\u001b[0;31m---------------------------------------------------------------------------\u001b[0m",
      "\u001b[0;31mNameError\u001b[0m                                 Traceback (most recent call last)",
      "Input \u001b[0;32mIn [42]\u001b[0m, in \u001b[0;36m<module>\u001b[0;34m\u001b[0m\n\u001b[0;32m----> 1\u001b[0m y_test_conf \u001b[38;5;241m=\u001b[39m confirm_pred(\u001b[43my_test_proba\u001b[49m, y1\u001b[38;5;241m=\u001b[39my_test_dirty)\n",
      "\u001b[0;31mNameError\u001b[0m: name 'y_test_proba' is not defined"
     ]
    }
   ],
   "source": [
    "y_test_conf = confirm_pred(y_test_proba, y1=y_test_dirty)"
   ]
  },
  {
   "cell_type": "code",
   "execution_count": null,
   "metadata": {},
   "outputs": [],
   "source": [
    "print_metrics(y_test, y_test_conf)"
   ]
  },
  {
   "cell_type": "code",
   "execution_count": 43,
   "metadata": {},
   "outputs": [
    {
     "ename": "NameError",
     "evalue": "name 'y_test_conf' is not defined",
     "output_type": "error",
     "traceback": [
      "\u001b[0;31m---------------------------------------------------------------------------\u001b[0m",
      "\u001b[0;31mNameError\u001b[0m                                 Traceback (most recent call last)",
      "Input \u001b[0;32mIn [43]\u001b[0m, in \u001b[0;36m<module>\u001b[0;34m\u001b[0m\n\u001b[0;32m----> 1\u001b[0m mac_test_sig_res3 \u001b[38;5;241m=\u001b[39m SignalStrategy(\u001b[43my_test_conf\u001b[49m, shift\u001b[38;5;241m=\u001b[39m\u001b[38;5;241m1\u001b[39m)\u001b[38;5;241m.\u001b[39mrun(data_test)\n\u001b[1;32m      2\u001b[0m mac_test_sig_res3\u001b[38;5;241m.\u001b[39msummary()\n",
      "\u001b[0;31mNameError\u001b[0m: name 'y_test_conf' is not defined"
     ]
    }
   ],
   "source": [
    "mac_test_sig_res3 = SignalStrategy(y_test_conf, shift=1).run(data_test)\n",
    "mac_test_sig_res3.summary()"
   ]
  },
  {
   "cell_type": "code",
   "execution_count": null,
   "metadata": {},
   "outputs": [],
   "source": []
  }
 ],
 "metadata": {
  "interpreter": {
   "hash": "0cdbef4c81a582c199b9aebc51b939e4e7aa94804452b0c70e3059997ef74e01"
  },
  "kernelspec": {
   "display_name": "Python [conda env:.conda-tsai]",
   "language": "python",
   "name": "conda-env-.conda-tsai-py"
  },
  "language_info": {
   "codemirror_mode": {
    "name": "ipython",
    "version": 3
   },
   "file_extension": ".py",
   "mimetype": "text/x-python",
   "name": "python",
   "nbconvert_exporter": "python",
   "pygments_lexer": "ipython3",
   "version": "3.9.7"
  }
 },
 "nbformat": 4,
 "nbformat_minor": 4
}
