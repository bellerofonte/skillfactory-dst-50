{
 "cells": [
  {
   "cell_type": "code",
   "execution_count": 61,
   "metadata": {},
   "outputs": [],
   "source": [
    "import pandas as pd\n",
    "import numpy as np\n",
    "import matplotlib.pyplot as plt\n",
    "import seaborn as sns\n",
    "\n",
    "%matplotlib inline\n",
    "plt.rcParams['figure.figsize'] = (15, 5)"
   ]
  },
  {
   "cell_type": "code",
   "execution_count": 47,
   "metadata": {},
   "outputs": [],
   "source": [
    "df = pd.read_csv('../../bars/bitmex-XBTUSD-1min.csv', parse_dates=['time'])\n",
    "df.sort_values('time', ignore_index=True, inplace=True)\n",
    "df.drop_duplicates(subset='time', ignore_index=True, inplace=True)"
   ]
  },
  {
   "cell_type": "markdown",
   "metadata": {},
   "source": [
    "Для начала надо посмотреть, если ли разрывы в данных, для временных рядов это критично"
   ]
  },
  {
   "cell_type": "code",
   "execution_count": 48,
   "metadata": {},
   "outputs": [
    {
     "data": {
      "text/plain": [
       "60.0      567103\n",
       "120.0        730\n",
       "180.0         23\n",
       "240.0          2\n",
       "300.0          1\n",
       "1860.0         1\n",
       "1260.0         1\n",
       "780.0          1\n",
       "4860.0         1\n",
       "480.0          1\n",
       "Name: time, dtype: int64"
      ]
     },
     "execution_count": 48,
     "metadata": {},
     "output_type": "execute_result"
    }
   ],
   "source": [
    "time_diff = (df.time - df.time.shift(1)).dt.total_seconds()\n",
    "time_diff.value_counts()"
   ]
  },
  {
   "cell_type": "code",
   "execution_count": 49,
   "metadata": {},
   "outputs": [
    {
     "name": "stdout",
     "output_type": "stream",
     "text": [
      "96921 2021-03-09 07:21:00 missing 5 min\n",
      "139802 2021-04-08 02:14:00 missing 31 min\n",
      "190055 2021-05-13 00:23:00 missing 21 min\n",
      "190058 2021-05-13 00:46:00 missing 13 min\n",
      "320889 2021-08-12 02:14:00 missing 81 min\n",
      "437697 2021-11-01 09:20:00 missing 8 min\n",
      "566701 2022-01-30 04:20:00 missing 4 min\n",
      "566827 2022-01-30 06:31:00 missing 4 min\n"
     ]
    }
   ],
   "source": [
    "idx_warn = time_diff[time_diff >= 181].index\n",
    "for i in idx_warn:\n",
    "    row = df.iloc[i - 1]\n",
    "    print(i, row.time, 'missing', int(time_diff.iloc[i] / 60), 'min')"
   ]
  },
  {
   "cell_type": "markdown",
   "metadata": {},
   "source": [
    "Частично даты пропусков совпадает со сбоями, отмеченными на сайте [bitmex](https://status.bitmex.com/uptime), но часть нет. необходимо посомтреть, насколько критичными были отклонения цены после пропуска"
   ]
  },
  {
   "cell_type": "code",
   "execution_count": 50,
   "metadata": {},
   "outputs": [
    {
     "name": "stdout",
     "output_type": "stream",
     "text": [
      "276417 2021-07-12 02:03:00 missing 2 min -> price changed  0.0513 %\n"
     ]
    }
   ],
   "source": [
    "idx_warn = time_diff[time_diff >= 61].index\n",
    "for i in idx_warn:\n",
    "    row = df.iloc[i - 1]\n",
    "    price_change = np.round(100 * abs(row.close - df.open.iloc[i]) / row.close, 4)\n",
    "    if (price_change > 0.05):\n",
    "        print(i, row.time, 'missing', int(time_diff.iloc[i] / 60), 'min -> price changed ', price_change, '%')"
   ]
  },
  {
   "cell_type": "markdown",
   "metadata": {},
   "source": [
    "Как видно, несмотря на иногда значительные пропуски по времени, по цене значительных пропусков нет. Самый дольшой пропуск едва превышает 5 сотых процента, что для такого волатильного актива, как криптовалюта, пренебрежимо мало"
   ]
  },
  {
   "cell_type": "code",
   "execution_count": 51,
   "metadata": {},
   "outputs": [
    {
     "name": "stdout",
     "output_type": "stream",
     "text": [
      "<class 'pandas.core.frame.DataFrame'>\n",
      "RangeIndex: 567865 entries, 0 to 567864\n",
      "Data columns (total 14 columns):\n",
      " #   Column      Non-Null Count   Dtype         \n",
      "---  ------      --------------   -----         \n",
      " 0   time        567865 non-null  datetime64[ns]\n",
      " 1   open        567865 non-null  float64       \n",
      " 2   high        567865 non-null  float64       \n",
      " 3   low         567865 non-null  float64       \n",
      " 4   close       567865 non-null  float64       \n",
      " 5   sum_vol     567865 non-null  int64         \n",
      " 6   net_vol     567865 non-null  int64         \n",
      " 7   up_sum_vol  567865 non-null  int64         \n",
      " 8   up_net_vol  567865 non-null  int64         \n",
      " 9   md_sum_vol  567865 non-null  int64         \n",
      " 10  md_net_vol  567865 non-null  int64         \n",
      " 11  lo_sum_vol  567865 non-null  int64         \n",
      " 12  lo_net_vol  567865 non-null  int64         \n",
      " 13  cnt         567865 non-null  int64         \n",
      "dtypes: datetime64[ns](1), float64(4), int64(9)\n",
      "memory usage: 60.7 MB\n"
     ]
    }
   ],
   "source": [
    "df.info()"
   ]
  },
  {
   "cell_type": "markdown",
   "metadata": {},
   "source": [
    "Пропусков в самих данных также нет. \n",
    "Имеем дело со следующими столбцами:\n",
    "\n",
    "| наименование | описание |\n",
    "|--------------|-------|\n",
    "|`time`        | время начала периода (бара) |\n",
    "|`open`        | цена первой сделки периода   |    \n",
    "|`high`        | максимальная цена сделки периода |\n",
    "|`low`         | минимальная цена сделки периода   |    \n",
    "|`close`       | цена последней сделки периода |\n",
    "|`sum_vol`     | сумма объемов сделок периода |\n",
    "|`net_vol`     | нетто-объем сделок периода (сумма объемов покупок минус сумма объемов продаж) |\n",
    "|`up_sum_vol`  | сумма объемов сделок в промежутке цен от `high` до `max(open, close)`      |\n",
    "|`up_net_vol`  | нетто-объемо сделок в промежутке цен от `high` до `max(open, close)`        |\n",
    "|`md_sum_vol`  | сумма объемов сделок в промежутке цен от `open` до `close`         |\n",
    "|`md_net_vol`  | нетто-объем сделок в промежутке цен от `open` до `close`     |\n",
    "|`lo_sum_vol`  | сумма объемов сделок в промежутке цен от `low` до `min(open, close)` |\n",
    "|`lo_net_vol`  | нетто-объемо сделок в промежутке цен от `low` до `min(open, close)`   |      \n",
    "|`cnt`         | количество сделок за период|"
   ]
  },
  {
   "cell_type": "code",
   "execution_count": 72,
   "metadata": {},
   "outputs": [
    {
     "data": {
      "text/plain": [
       "<AxesSubplot:>"
      ]
     },
     "execution_count": 72,
     "metadata": {},
     "output_type": "execute_result"
    },
    {
     "data": {
      "image/png": "[encoded data removed]",
      "text/plain": [
       "<Figure size 1080x360 with 1 Axes>"
      ]
     },
     "metadata": {
      "needs_background": "light"
     },
     "output_type": "display_data"
    }
   ],
   "source": [
    "sns.boxplot(data=df[['open', 'high', 'low', 'close']])"
   ]
  },
  {
   "cell_type": "code",
   "execution_count": null,
   "metadata": {},
   "outputs": [],
   "source": []
  }
 ],
 "metadata": {
  "interpreter": {
   "hash": "0cdbef4c81a582c199b9aebc51b939e4e7aa94804452b0c70e3059997ef74e01"
  },
  "kernelspec": {
   "display_name": "Python 3.9.10 64-bit ('base': conda)",
   "language": "python",
   "name": "python3"
  },
  "language_info": {
   "codemirror_mode": {
    "name": "ipython",
    "version": 3
   },
   "file_extension": ".py",
   "mimetype": "text/x-python",
   "name": "python",
   "nbconvert_exporter": "python",
   "pygments_lexer": "ipython3",
   "version": "3.9.10"
  },
  "orig_nbformat": 4
 },
 "nbformat": 4,
 "nbformat_minor": 2
}
