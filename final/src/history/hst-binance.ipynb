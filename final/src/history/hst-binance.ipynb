{
 "cells": [
  {
   "cell_type": "code",
   "execution_count": 27,
   "metadata": {},
   "outputs": [],
   "source": [
    "import pandas as pd\n",
    "import requests as rq\n",
    "import time\n",
    "import zipfile\n",
    "import os\n",
    "from apikey_binance import API_KEY\n",
    "\n",
    "BASE_URL = 'https://fapi.binance.com'\n",
    "DATE_FROM = pd.Timestamp('2021-01-01')\n",
    "DATE_TILL = pd.Timestamp('2022-01-31')\n",
    "SYMBOLS = ['BTCUSDT', 'ETHUSDT']\n",
    "FROM_IDS = [352562763, 205368939]\n",
    "PATH = '../../ticks/binance/'\n",
    "DEFAULT_WAIT = 0.5"
   ]
  },
  {
   "cell_type": "code",
   "execution_count": 32,
   "metadata": {},
   "outputs": [],
   "source": [
    "def read_file(symbol, zip_name, missing):\n",
    "    filename = PATH + f'{symbol}/{zip_name}'\n",
    "    # print(f'reading \\'{filename}\\'... ')\n",
    "    extention = filename[-4:]\n",
    "    if extention == '.zip':\n",
    "        csv_name = zip_name.replace('.zip', '.csv')\n",
    "        zf = zipfile.ZipFile(filename) \n",
    "        df = pd.read_csv(zf.open(csv_name), header=None)\n",
    "    elif extention == '.csv':        \n",
    "        df = pd.read_csv(filename)\n",
    "    else:\n",
    "        print('Unsupported extention')\n",
    "        return None\n",
    "\n",
    "    no_idx = len(df.columns) == 6\n",
    "    if no_idx:\n",
    "        df.columns = ['id', 'price', 'size', 'quote_size', 'timestamp', 'is_sell']\n",
    "    else:\n",
    "        df.columns = ['idx', 'id', 'price', 'size', 'quote_size', 'timestamp', 'is_sell']\n",
    "\n",
    "    def count_missng(row):\n",
    "        id_till = row['id'] - 1\n",
    "        id_from = id_till - row['delta_id'] + 1\n",
    "        time_delta = (row['timestamp'] - row['prev_time']).total_seconds()\n",
    "        missing.append({'from': id_from, 'till': id_till, 'time_delta': time_delta})\n",
    "        if (time_delta > 3):\n",
    "            print(f'{zip_name}: missing from {id_from} till {id_till} total {id_till - id_from} rows with time delta {time_delta} seconds')\n",
    "\n",
    "    df.drop_duplicates(subset='id', ignore_index=True, inplace=True)\n",
    "    df.timestamp = pd.to_datetime(df.timestamp, unit='ms')\n",
    "    df['delta_id'] = df['id'].diff()\n",
    "    df['prev_time'] = df.timestamp.shift(1)\n",
    "    df.dropna(inplace=True)\n",
    "    df[df.delta_id > 1].apply(count_missng, axis=1)\n",
    "    del df"
   ]
  },
  {
   "cell_type": "code",
   "execution_count": 33,
   "metadata": {},
   "outputs": [],
   "source": [
    "missing = []\n",
    "# read_file('BTCUSDT', 'BTCUSDT-trades-2021-12-30.zip', missing)\n",
    "\n",
    "for symbol in SYMBOLS:\n",
    "    files = os.listdir(PATH + symbol)\n",
    "    files.sort()\n",
    "    for f in files:\n",
    "        read_file(symbol, f, missing)\n",
    "    # dfs = [read_file(symbol, f, missing) for f in os.listdir(PATH + symbol)]"
   ]
  },
  {
   "cell_type": "code",
   "execution_count": 2,
   "metadata": {},
   "outputs": [],
   "source": [
    "def get_chunk(symbol, start):\n",
    "    try:\n",
    "        query = f'/fapi/v1/historicalTrades?symbol={symbol}&limit=1000&fromId={start}'\n",
    "        headers= {\n",
    "            'X-MBX-APIKEY': API_KEY\n",
    "        }\n",
    "        res = rq.get(BASE_URL + query, headers=headers)\n",
    "        json = res.json()\n",
    "        if res.status_code == 200:\n",
    "            print(f'\\r{symbol}:{start} -> {len(json)} rows', end='')\n",
    "            return json\n",
    "        else:\n",
    "            msg = json['msg']\n",
    "            code = json['code']\n",
    "            print(f'\\r{symbol}:{start} -> {msg} ({code})', end='')\n",
    "            return None\n",
    "    except Exception as e:\n",
    "        print(f'\\r{symbol}:{start} -> error: {e}', end='')\n",
    "        return None\n",
    "\n",
    "# %%\n",
    "def get_range(symbol, fromId, tillId):\n",
    "    wait_time = DEFAULT_WAIT\n",
    "    err_cnt = 0\n",
    "    res = []\n",
    "    start = fromId\n",
    "    while True:\n",
    "        chunk = get_chunk(symbol, start)\n",
    "        if chunk == None:\n",
    "            err_cnt += 1\n",
    "            wait_time = min(wait_time + 20, wait_time * 10)\n",
    "        else:\n",
    "            err_cnt = 0\n",
    "            wait_time = DEFAULT_WAIT                \n",
    "            if len(chunk) == 0: # no more data \n",
    "                print(f'\\r{symbol}:{fromId} -> {len(res)} rows, no more data.')\n",
    "                return res\n",
    "            \n",
    "            res.extend(chunk)\n",
    "            # if len(res) > 99000:\n",
    "            #     print(f'\\r{symbol}:{fromId} -> {len(res)} rows, done 100k.')\n",
    "            #     return res\n",
    "            \n",
    "            print(f'\\r{symbol}:{fromId} -> {len(res)} rows.         ', end='')\n",
    "\n",
    "            last = chunk[-1]\n",
    "            if pd.Timestamp(last['time'], unit='ms') >= DATE_TILL:\n",
    "                print(f'\\r{symbol}:{fromId} -> {len(res)} rows, end date reached.')\n",
    "                return res\n",
    "\n",
    "            start = last['id'] + 1\n",
    "            if start > tillId:\n",
    "                print(f'\\r{symbol}:{fromId} -> {len(res)} rows, tillId reached')\n",
    "                return res\n",
    "\n",
    "        if err_cnt >= 10:\n",
    "            print(f'\\r{symbol}: -> too many errors.    ')\n",
    "            return None\n",
    "    \n",
    "        time.sleep(wait_time)\n"
   ]
  },
  {
   "cell_type": "code",
   "execution_count": 53,
   "metadata": {},
   "outputs": [
    {
     "name": "stdout",
     "output_type": "stream",
     "text": [
      "BTCUSDT:839279885 -> 3958471 rows, tillId reached\n"
     ]
    }
   ],
   "source": [
    "items = get_range('BTCUSDT', 839279885, 843238898)"
   ]
  },
  {
   "cell_type": "code",
   "execution_count": 60,
   "metadata": {},
   "outputs": [],
   "source": [
    "df = pd.DataFrame(items)"
   ]
  },
  {
   "cell_type": "code",
   "execution_count": 61,
   "metadata": {},
   "outputs": [
    {
     "data": {
      "text/html": [
       "<div>\n",
       "<style scoped>\n",
       "    .dataframe tbody tr th:only-of-type {\n",
       "        vertical-align: middle;\n",
       "    }\n",
       "\n",
       "    .dataframe tbody tr th {\n",
       "        vertical-align: top;\n",
       "    }\n",
       "\n",
       "    .dataframe thead th {\n",
       "        text-align: right;\n",
       "    }\n",
       "</style>\n",
       "<table border=\"1\" class=\"dataframe\">\n",
       "  <thead>\n",
       "    <tr style=\"text-align: right;\">\n",
       "      <th></th>\n",
       "      <th>id</th>\n",
       "      <th>price</th>\n",
       "      <th>qty</th>\n",
       "      <th>quoteQty</th>\n",
       "      <th>time</th>\n",
       "      <th>isBuyerMaker</th>\n",
       "    </tr>\n",
       "  </thead>\n",
       "  <tbody>\n",
       "    <tr>\n",
       "      <th>3958466</th>\n",
       "      <td>843239880</td>\n",
       "      <td>40490.08</td>\n",
       "      <td>0.002</td>\n",
       "      <td>80.98</td>\n",
       "      <td>1621555210216</td>\n",
       "      <td>True</td>\n",
       "    </tr>\n",
       "    <tr>\n",
       "      <th>3958467</th>\n",
       "      <td>843239881</td>\n",
       "      <td>40490.08</td>\n",
       "      <td>0.018</td>\n",
       "      <td>728.82</td>\n",
       "      <td>1621555210222</td>\n",
       "      <td>True</td>\n",
       "    </tr>\n",
       "    <tr>\n",
       "      <th>3958468</th>\n",
       "      <td>843239882</td>\n",
       "      <td>40490.08</td>\n",
       "      <td>0.035</td>\n",
       "      <td>1417.15</td>\n",
       "      <td>1621555210222</td>\n",
       "      <td>True</td>\n",
       "    </tr>\n",
       "    <tr>\n",
       "      <th>3958469</th>\n",
       "      <td>843239883</td>\n",
       "      <td>40490.08</td>\n",
       "      <td>0.033</td>\n",
       "      <td>1336.17</td>\n",
       "      <td>1621555210222</td>\n",
       "      <td>True</td>\n",
       "    </tr>\n",
       "    <tr>\n",
       "      <th>3958470</th>\n",
       "      <td>843239884</td>\n",
       "      <td>40490.08</td>\n",
       "      <td>0.335</td>\n",
       "      <td>13564.17</td>\n",
       "      <td>1621555210223</td>\n",
       "      <td>True</td>\n",
       "    </tr>\n",
       "  </tbody>\n",
       "</table>\n",
       "</div>"
      ],
      "text/plain": [
       "                id     price    qty  quoteQty           time  isBuyerMaker\n",
       "3958466  843239880  40490.08  0.002     80.98  1621555210216          True\n",
       "3958467  843239881  40490.08  0.018    728.82  1621555210222          True\n",
       "3958468  843239882  40490.08  0.035   1417.15  1621555210222          True\n",
       "3958469  843239883  40490.08  0.033   1336.17  1621555210222          True\n",
       "3958470  843239884  40490.08  0.335  13564.17  1621555210223          True"
      ]
     },
     "execution_count": 61,
     "metadata": {},
     "output_type": "execute_result"
    }
   ],
   "source": [
    "df.tail()"
   ]
  },
  {
   "cell_type": "code",
   "execution_count": 62,
   "metadata": {},
   "outputs": [],
   "source": [
    "df.to_csv('../../ticks/binance/BTCUSDT/BTCUSDT-839279885-843238898.csv')"
   ]
  },
  {
   "cell_type": "code",
   "execution_count": 54,
   "metadata": {},
   "outputs": [],
   "source": [
    "missing = [\n",
    "    (427085758, 427134169),\n",
    "    (469201388, 469234186),\n",
    "    (471331093, 471378543),\n",
    "    (477192555, 477325345),\n",
    "    (481148451, 481707884),\n",
    "    (485428888, 485665269),\n",
    "    (488251057, 488924797),\n",
    "    (517439800, 517446365),\n",
    "    (524621349, 524621349),\n",
    "    (532382597, 532642990),\n",
    "    (555823694, 555823695),\n",
    "    (637752062, 637883289)\n",
    "]"
   ]
  },
  {
   "cell_type": "code",
   "execution_count": 65,
   "metadata": {},
   "outputs": [
    {
     "name": "stdout",
     "output_type": "stream",
     "text": [
      "BTCUSDT:427085758 -> 48999 rows, tillId reached\n",
      "writing to '../../ticks/binance/BTCUSDT/BTCUSDT-427085758-427134169.csv'\n",
      "BTCUSDT:469201388 -> 33000 rows, tillId reached\n",
      "writing to '../../ticks/binance/BTCUSDT/BTCUSDT-469201388-469234186.csv'\n",
      "BTCUSDT:471331093 -> 47999 rows, tillId reached\n",
      "writing to '../../ticks/binance/BTCUSDT/BTCUSDT-471331093-471378543.csv'\n",
      "BTCUSDT:477192555 -> 132999 rows, tillId reached\n",
      "writing to '../../ticks/binance/BTCUSDT/BTCUSDT-477192555-477325345.csv'\n",
      "BTCUSDT:481148451 -> 559833 rows, tillId reached\n",
      "writing to '../../ticks/binance/BTCUSDT/BTCUSDT-481148451-481707884.csv'\n",
      "BTCUSDT:485428888 -> 236999 rows, tillId reached\n",
      "writing to '../../ticks/binance/BTCUSDT/BTCUSDT-485428888-485665269.csv'\n",
      "BTCUSDT:488251057 -> 673997 rows, tillId reached\n",
      "writing to '../../ticks/binance/BTCUSDT/BTCUSDT-488251057-488924797.csv'\n",
      "BTCUSDT:517439800 -> 7000 rows, tillId reached\n",
      "writing to '../../ticks/binance/BTCUSDT/BTCUSDT-517439800-517446365.csv'\n",
      "BTCUSDT:524621349 -> 1000 rows, tillId reached\n",
      "writing to '../../ticks/binance/BTCUSDT/BTCUSDT-524621349-524621349.csv'\n",
      "BTCUSDT:532382597 -> 261000 rows, tillId reached\n",
      "writing to '../../ticks/binance/BTCUSDT/BTCUSDT-532382597-532642990.csv'\n",
      "BTCUSDT:555823694 -> 1000 rows, tillId reached\n",
      "writing to '../../ticks/binance/BTCUSDT/BTCUSDT-555823694-555823695.csv'\n",
      "BTCUSDT:637752062 -> 132000 rows, tillId reached\n",
      "writing to '../../ticks/binance/BTCUSDT/BTCUSDT-637752062-637883289.csv'\n"
     ]
    }
   ],
   "source": [
    "for fromId, tillId in missing:\n",
    "    rows = get_range('BTCUSDT', fromId, tillId)\n",
    "    df = pd.DataFrame(rows)\n",
    "    filename = f'../../ticks/binance/BTCUSDT/BTCUSDT-{fromId}-{tillId}.csv'\n",
    "    print(f'writing to \\'{filename}\\'')\n",
    "    df.to_csv(filename)"
   ]
  },
  {
   "cell_type": "code",
   "execution_count": 66,
   "metadata": {},
   "outputs": [],
   "source": [
    "missing_eth = [\n",
    "    (275173034, 275226511),\n",
    "    (315571685, 315620383),\n",
    "    (318209933, 318248935),\n",
    "    (323290979, 323447694),\n",
    "    (325981522, 326200598),\n",
    "    (328435019, 328576174),\n",
    "    (330510159, 330980086),\n",
    "    (350130260, 350136088),\n",
    "    (355354661, 355362822),\n",
    "    (360542963, 360735987),\n",
    "    (375620960, 375620961),\n",
    "    (422257936, 422321321),\n",
    "    (603994798, 607076183)\n",
    "]"
   ]
  },
  {
   "cell_type": "code",
   "execution_count": 67,
   "metadata": {},
   "outputs": [
    {
     "name": "stdout",
     "output_type": "stream",
     "text": [
      "ETHUSDT:275173034 -> 54000 rows, tillId reached\n",
      "writing to '../../ticks/binance/ETHUSDT/ETHUSDT-275173034-275226511.csv'\n",
      "ETHUSDT:315571685 -> 48997 rows, tillId reached\n",
      "writing to '../../ticks/binance/ETHUSDT/ETHUSDT-315571685-315620383.csv'\n",
      "ETHUSDT:318209933 -> 40000 rows, tillId reached\n",
      "writing to '../../ticks/binance/ETHUSDT/ETHUSDT-318209933-318248935.csv'\n",
      "ETHUSDT:323290979 -> 156999 rows, tillId reached\n",
      "writing to '../../ticks/binance/ETHUSDT/ETHUSDT-323290979-323447694.csv'\n",
      "ETHUSDT:325981522 -> 219995 rows, tillId reached\n",
      "writing to '../../ticks/binance/ETHUSDT/ETHUSDT-325981522-326200598.csv'\n",
      "ETHUSDT:328435019 -> 142000 rows, tillId reached\n",
      "writing to '../../ticks/binance/ETHUSDT/ETHUSDT-328435019-328576174.csv'\n",
      "ETHUSDT:330510159 -> 470000 rows, tillId reached\n",
      "writing to '../../ticks/binance/ETHUSDT/ETHUSDT-330510159-330980086.csv'\n",
      "ETHUSDT:350130260 -> 6000 rows, tillId reached\n",
      "writing to '../../ticks/binance/ETHUSDT/ETHUSDT-350130260-350136088.csv'\n",
      "ETHUSDT:355354661 -> 9000 rows, tillId reached\n",
      "writing to '../../ticks/binance/ETHUSDT/ETHUSDT-355354661-355362822.csv'\n",
      "ETHUSDT:360542963 -> 194000 rows, tillId reached\n",
      "writing to '../../ticks/binance/ETHUSDT/ETHUSDT-360542963-360735987.csv'\n",
      "ETHUSDT:375620960 -> 1000 rows, tillId reached\n",
      "writing to '../../ticks/binance/ETHUSDT/ETHUSDT-375620960-375620961.csv'\n",
      "ETHUSDT:422257936 -> 64000 rows, tillId reached\n",
      "writing to '../../ticks/binance/ETHUSDT/ETHUSDT-422257936-422321321.csv'\n",
      "ETHUSDT:603994798 -> 3081306 rows, tillId reached\n",
      "writing to '../../ticks/binance/ETHUSDT/ETHUSDT-603994798-607076183.csv'\n"
     ]
    }
   ],
   "source": [
    "for fromId, tillId in missing_eth:\n",
    "    rows = get_range('ETHUSDT', fromId, tillId)\n",
    "    df = pd.DataFrame(rows)\n",
    "    filename = f'../../ticks/binance/ETHUSDT/ETHUSDT-{fromId}-{tillId}.csv'\n",
    "    print(f'writing to \\'{filename}\\'')\n",
    "    df.to_csv(filename)"
   ]
  },
  {
   "cell_type": "code",
   "execution_count": null,
   "metadata": {},
   "outputs": [],
   "source": []
  }
 ],
 "metadata": {
  "interpreter": {
   "hash": "0cdbef4c81a582c199b9aebc51b939e4e7aa94804452b0c70e3059997ef74e01"
  },
  "kernelspec": {
   "display_name": "Python 3.9.10 64-bit ('base': conda)",
   "language": "python",
   "name": "python3"
  },
  "language_info": {
   "codemirror_mode": {
    "name": "ipython",
    "version": 3
   },
   "file_extension": ".py",
   "mimetype": "text/x-python",
   "name": "python",
   "nbconvert_exporter": "python",
   "pygments_lexer": "ipython3",
   "version": "3.9.13"
  },
  "orig_nbformat": 4
 },
 "nbformat": 4,
 "nbformat_minor": 2
}
